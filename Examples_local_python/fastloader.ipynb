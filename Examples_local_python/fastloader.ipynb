{
 "cells": [
  {
   "cell_type": "markdown",
   "metadata": {},
   "source": [
    "## Generate and run fastload\n",
    "\n",
    "This notebook shows an example of using `fastloader_create.py` script.\n",
    "\n",
    "This script provide a simplified python api to generate fastload file and run it."
   ]
  },
  {
   "cell_type": "code",
   "execution_count": 1,
   "metadata": {},
   "outputs": [],
   "source": [
    "from fastloader_create import ready_write, run_bat_file\n",
    "%load_ext autoreload\n",
    "%autoreload 2"
   ]
  },
  {
   "cell_type": "markdown",
   "metadata": {},
   "source": [
    "Define parameters.\n",
    "\n",
    "Structure of the settings.ini file is the following:\n",
    "\n",
    "[MAIN]\n",
    "login = \n",
    "password = \n",
    "\n",
    "\n",
    "[TERADATA]\n",
    "host = \n",
    "teradata_login =\n",
    "teradata_password = \n",
    "teradata_prd_dm_login = \n",
    "teradata_prd_dm_password = \n",
    "dsn = \n",
    "dsn_prd_dm = "
   ]
  },
  {
   "cell_type": "code",
   "execution_count": 4,
   "metadata": {
    "scrolled": true
   },
   "outputs": [],
   "source": [
    "import configparser\n",
    "config = configparser.ConfigParser()\n",
    "config.read('settings.ini')\n",
    "login = config['MAIN']['login']\n",
    "password = config['MAIN']['password']\n",
    "teradata_login = config['TERADATA']['teradata_login']\n",
    "teradata_password = config['TERADATA']['teradata_password']\n",
    "host = config['TERADATA']['host']\n",
    "cols =  ['MSISDN']\n",
    "file_name = 'test.csv'\n",
    "table_name = 'UAT_DM.al_sber_msisdn'\n",
    "checkpoint = '100000'\n",
    "fastload_file_name = 'import.txt'\n",
    "separator = '\\\\t'\n",
    "ignore_quotes = True\n",
    "skip_header = True"
   ]
  },
  {
   "cell_type": "code",
   "execution_count": 5,
   "metadata": {},
   "outputs": [
    {
     "name": "stdout",
     "output_type": "stream",
     "text": [
      "Beginning...\n",
      "Done writing import file\n",
      "Done writing bat\n"
     ]
    }
   ],
   "source": [
    "# write import file and write bat file\n",
    "ready_write(host, teradata_login, teradata_password, cols, file_name, table_name,\n",
    "            checkpoint, fastload_file_name, separator, ignore_quotes, skip_header)"
   ]
  },
  {
   "cell_type": "code",
   "execution_count": 4,
   "metadata": {},
   "outputs": [],
   "source": [
    "# run bat file\n",
    "run_bat_file(fastload_file_name)"
   ]
  }
 ],
 "metadata": {
  "kernelspec": {
   "display_name": "Python 3",
   "language": "python",
   "name": "python3"
  },
  "language_info": {
   "codemirror_mode": {
    "name": "ipython",
    "version": 3
   },
   "file_extension": ".py",
   "mimetype": "text/x-python",
   "name": "python",
   "nbconvert_exporter": "python",
   "pygments_lexer": "ipython3",
   "version": "3.6.4"
  }
 },
 "nbformat": 4,
 "nbformat_minor": 2
}
