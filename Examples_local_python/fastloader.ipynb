{
 "cells": [
  {
   "cell_type": "code",
   "execution_count": 1,
   "metadata": {},
   "outputs": [],
   "source": [
    "from fastloader_create import ready_write, run_bat_file\n",
    "%load_ext autoreload\n",
    "%autoreload 2"
   ]
  },
  {
   "cell_type": "code",
   "execution_count": 4,
   "metadata": {
    "scrolled": true
   },
   "outputs": [],
   "source": [
    "import configparser\n",
    "config = configparser.ConfigParser()\n",
    "config.read('settings.ini')\n",
    "login = config['MAIN']['login']\n",
    "password = config['MAIN']['password']\n",
    "teradata_login = config['MAIN']['teradata_login']\n",
    "teradata_password = config['MAIN']['teradata_password']\n",
    "host = config['MAIN']['host']\n",
    "cols =  ['original_MSISDN', 'IMEI', 'derived_MSISDN', 'cnt_rate']\n",
    "file_name = 'barmalei_not_talking.txt'\n",
    "table_name = 'UAT_DM.al_barmalei_not_talking1'\n",
    "checkpoint = '100000'\n",
    "fastload_file_name = 'import.txt'\n",
    "separator = '\\\\t'"
   ]
  },
  {
   "cell_type": "code",
   "execution_count": 5,
   "metadata": {},
   "outputs": [
    {
     "name": "stdout",
     "output_type": "stream",
     "text": [
      "Beginning...\n",
      "Done writing import file\n",
      "Done writing bat\n"
     ]
    }
   ],
   "source": [
    "ready_write(host, teradata_login, teradata_password, cols, file_name, table_name, checkpoint, fastload_file_name, separator)"
   ]
  },
  {
   "cell_type": "code",
   "execution_count": 4,
   "metadata": {},
   "outputs": [],
   "source": [
    "run_bat_file(fastload_file_name)"
   ]
  }
 ],
 "metadata": {
  "kernelspec": {
   "display_name": "Python 3",
   "language": "python",
   "name": "python3"
  },
  "language_info": {
   "codemirror_mode": {
    "name": "ipython",
    "version": 3
   },
   "file_extension": ".py",
   "mimetype": "text/x-python",
   "name": "python",
   "nbconvert_exporter": "python",
   "pygments_lexer": "ipython3",
   "version": "3.6.4"
  }
 },
 "nbformat": 4,
 "nbformat_minor": 2
}
