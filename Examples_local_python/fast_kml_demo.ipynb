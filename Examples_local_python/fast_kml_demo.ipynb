{
 "cells": [
  {
   "cell_type": "markdown",
   "metadata": {},
   "source": [
    "### Примеры использования обёртки для simplekml - библиотеки для формирования KML-файлов (https://simplekml.readthedocs.io/en/latest/index.html)"
   ]
  },
  {
   "cell_type": "code",
   "execution_count": 1,
   "metadata": {},
   "outputs": [],
   "source": [
    "# Для доступа к пакету из любых ноутбуков/скриптов нужно скопировать папку Tele2_BDA в директорию:\n",
    "# PYTHON_INTERPRETER_FOLDER_PATH\\Lib\\site-packages\n",
    "# Например: C:\\Programs\\Miniconda3\\envs\\geoenv\\Lib\\site-packages\\Tele2_BDA\\wrappers\n",
    "from Tele2_BDA.wrappers import fast_tdsql as td\n",
    "from Tele2_BDA.wrappers import fast_kml\n",
    "import os\n",
    "import pandas as pd"
   ]
  },
  {
   "cell_type": "markdown",
   "metadata": {},
   "source": [
    "#### Папка для хранения демо файлов"
   ]
  },
  {
   "cell_type": "code",
   "execution_count": 2,
   "metadata": {},
   "outputs": [],
   "source": [
    "dir_name = 'fast_kml_demo_data'\n",
    "if not os.path.exists(dir_name):\n",
    "    os.makedirs(dir_name)\n",
    "os.chdir(dir_name)"
   ]
  },
  {
   "cell_type": "markdown",
   "metadata": {},
   "source": [
    "#### Установка соединения с Teradata"
   ]
  },
  {
   "cell_type": "code",
   "execution_count": 3,
   "metadata": {},
   "outputs": [],
   "source": [
    "con = td.set_connection('USER', 'PASSWORD')"
   ]
  },
  {
   "cell_type": "markdown",
   "metadata": {},
   "source": [
    "#### Отрисовка слоя с точками"
   ]
  },
  {
   "cell_type": "code",
   "execution_count": 4,
   "metadata": {},
   "outputs": [],
   "source": [
    "q = \\\n",
    "\"\"\"\n",
    "SELECT *\n",
    "FROM uat_dm.gi_geo_samples\n",
    "WHERE id IN (1, 4)\n",
    "ORDER BY id\n",
    "\"\"\""
   ]
  },
  {
   "cell_type": "code",
   "execution_count": 5,
   "metadata": {},
   "outputs": [
    {
     "name": "stdout",
     "output_type": "stream",
     "text": [
      "(2, 3)\n",
      "Wall time: 91.7 ms\n"
     ]
    }
   ],
   "source": [
    "%%time\n",
    "points_df = td.select(con, q)"
   ]
  },
  {
   "cell_type": "code",
   "execution_count": 6,
   "metadata": {},
   "outputs": [
    {
     "data": {
      "text/html": [
       "<div>\n",
       "<style scoped>\n",
       "    .dataframe tbody tr th:only-of-type {\n",
       "        vertical-align: middle;\n",
       "    }\n",
       "\n",
       "    .dataframe tbody tr th {\n",
       "        vertical-align: top;\n",
       "    }\n",
       "\n",
       "    .dataframe thead th {\n",
       "        text-align: right;\n",
       "    }\n",
       "</style>\n",
       "<table border=\"1\" class=\"dataframe\">\n",
       "  <thead>\n",
       "    <tr style=\"text-align: right;\">\n",
       "      <th></th>\n",
       "      <th>ID</th>\n",
       "      <th>DESCRIPTION</th>\n",
       "      <th>WKT</th>\n",
       "    </tr>\n",
       "  </thead>\n",
       "  <tbody>\n",
       "    <tr>\n",
       "      <th>0</th>\n",
       "      <td>1</td>\n",
       "      <td>sample_point</td>\n",
       "      <td>POINT (37.642179312454687 55.756365925177171)</td>\n",
       "    </tr>\n",
       "    <tr>\n",
       "      <th>1</th>\n",
       "      <td>4</td>\n",
       "      <td>sample_multipoint</td>\n",
       "      <td>MULTIPOINT (37.618575873123632 55.736462051322...</td>\n",
       "    </tr>\n",
       "  </tbody>\n",
       "</table>\n",
       "</div>"
      ],
      "text/plain": [
       "   ID        DESCRIPTION                                                WKT\n",
       "0   1       sample_point      POINT (37.642179312454687 55.756365925177171)\n",
       "1   4  sample_multipoint  MULTIPOINT (37.618575873123632 55.736462051322..."
      ]
     },
     "execution_count": 6,
     "metadata": {},
     "output_type": "execute_result"
    }
   ],
   "source": [
    "points_df.head()"
   ]
  },
  {
   "cell_type": "code",
   "execution_count": 7,
   "metadata": {},
   "outputs": [],
   "source": [
    "fast_kml.points_kml(points_df, 'points.kml', wkt_column='WKT', name_column='ID')"
   ]
  },
  {
   "cell_type": "markdown",
   "metadata": {},
   "source": [
    "#### Отрисовка слоя с линиями без описаний"
   ]
  },
  {
   "cell_type": "code",
   "execution_count": 8,
   "metadata": {},
   "outputs": [],
   "source": [
    "q = \\\n",
    "\"\"\"\n",
    "SELECT *\n",
    "FROM uat_dm.gi_geo_samples\n",
    "WHERE id IN (2, 5)\n",
    "ORDER BY id\n",
    "\"\"\""
   ]
  },
  {
   "cell_type": "code",
   "execution_count": 9,
   "metadata": {},
   "outputs": [
    {
     "name": "stdout",
     "output_type": "stream",
     "text": [
      "(2, 3)\n",
      "Wall time: 57.9 ms\n"
     ]
    }
   ],
   "source": [
    "%%time\n",
    "lines_df = td.select(con, q)"
   ]
  },
  {
   "cell_type": "code",
   "execution_count": 10,
   "metadata": {},
   "outputs": [
    {
     "data": {
      "text/html": [
       "<div>\n",
       "<style scoped>\n",
       "    .dataframe tbody tr th:only-of-type {\n",
       "        vertical-align: middle;\n",
       "    }\n",
       "\n",
       "    .dataframe tbody tr th {\n",
       "        vertical-align: top;\n",
       "    }\n",
       "\n",
       "    .dataframe thead th {\n",
       "        text-align: right;\n",
       "    }\n",
       "</style>\n",
       "<table border=\"1\" class=\"dataframe\">\n",
       "  <thead>\n",
       "    <tr style=\"text-align: right;\">\n",
       "      <th></th>\n",
       "      <th>ID</th>\n",
       "      <th>DESCRIPTION</th>\n",
       "      <th>WKT</th>\n",
       "    </tr>\n",
       "  </thead>\n",
       "  <tbody>\n",
       "    <tr>\n",
       "      <th>0</th>\n",
       "      <td>2</td>\n",
       "      <td>sample_linestring</td>\n",
       "      <td>LINESTRING (37.608791174637304 55.749168851564...</td>\n",
       "    </tr>\n",
       "    <tr>\n",
       "      <th>1</th>\n",
       "      <td>5</td>\n",
       "      <td>sample_multilinestring</td>\n",
       "      <td>MULTILINESTRING ((37.608791174637304 55.749168...</td>\n",
       "    </tr>\n",
       "  </tbody>\n",
       "</table>\n",
       "</div>"
      ],
      "text/plain": [
       "   ID             DESCRIPTION  \\\n",
       "0   2       sample_linestring   \n",
       "1   5  sample_multilinestring   \n",
       "\n",
       "                                                 WKT  \n",
       "0  LINESTRING (37.608791174637304 55.749168851564...  \n",
       "1  MULTILINESTRING ((37.608791174637304 55.749168...  "
      ]
     },
     "execution_count": 10,
     "metadata": {},
     "output_type": "execute_result"
    }
   ],
   "source": [
    "lines_df.head()"
   ]
  },
  {
   "cell_type": "code",
   "execution_count": 11,
   "metadata": {},
   "outputs": [],
   "source": [
    "fast_kml.lines_kml(lines_df, 'lines.kml', wkt_column='WKT', name_column='ID', description_columns=None)"
   ]
  },
  {
   "cell_type": "markdown",
   "metadata": {},
   "source": [
    "#### Отрисовка слоя с полигонами случайной расцветки "
   ]
  },
  {
   "cell_type": "code",
   "execution_count": 12,
   "metadata": {},
   "outputs": [],
   "source": [
    "q = \\\n",
    "\"\"\"\n",
    "SELECT *\n",
    "FROM uat_dm.gi_geo_samples\n",
    "WHERE id IN (3, 6, 7, 8)\n",
    "ORDER BY id\n",
    "\"\"\""
   ]
  },
  {
   "cell_type": "code",
   "execution_count": 13,
   "metadata": {},
   "outputs": [
    {
     "name": "stdout",
     "output_type": "stream",
     "text": [
      "(4, 3)\n",
      "Wall time: 116 ms\n"
     ]
    }
   ],
   "source": [
    "%%time\n",
    "polys_df = td.select(con, q)"
   ]
  },
  {
   "cell_type": "code",
   "execution_count": 14,
   "metadata": {},
   "outputs": [
    {
     "data": {
      "text/html": [
       "<div>\n",
       "<style scoped>\n",
       "    .dataframe tbody tr th:only-of-type {\n",
       "        vertical-align: middle;\n",
       "    }\n",
       "\n",
       "    .dataframe tbody tr th {\n",
       "        vertical-align: top;\n",
       "    }\n",
       "\n",
       "    .dataframe thead th {\n",
       "        text-align: right;\n",
       "    }\n",
       "</style>\n",
       "<table border=\"1\" class=\"dataframe\">\n",
       "  <thead>\n",
       "    <tr style=\"text-align: right;\">\n",
       "      <th></th>\n",
       "      <th>ID</th>\n",
       "      <th>DESCRIPTION</th>\n",
       "      <th>WKT</th>\n",
       "    </tr>\n",
       "  </thead>\n",
       "  <tbody>\n",
       "    <tr>\n",
       "      <th>0</th>\n",
       "      <td>3</td>\n",
       "      <td>sample_polygon</td>\n",
       "      <td>POLYGON ((37.608962836014257 55.74921715849851...</td>\n",
       "    </tr>\n",
       "    <tr>\n",
       "      <th>1</th>\n",
       "      <td>6</td>\n",
       "      <td>sample_multipolygon</td>\n",
       "      <td>MULTIPOLYGON (((37.608791174637304 55.73902307...</td>\n",
       "    </tr>\n",
       "    <tr>\n",
       "      <th>2</th>\n",
       "      <td>7</td>\n",
       "      <td>sample_polygon_with_inner_ring</td>\n",
       "      <td>POLYGON ((37.618575873123632 55.74501423149325...</td>\n",
       "    </tr>\n",
       "    <tr>\n",
       "      <th>3</th>\n",
       "      <td>8</td>\n",
       "      <td>sample_multipolygon_with_inner_ring</td>\n",
       "      <td>MULTIPOLYGON (((37.608791174637304 55.73902307...</td>\n",
       "    </tr>\n",
       "  </tbody>\n",
       "</table>\n",
       "</div>"
      ],
      "text/plain": [
       "   ID                          DESCRIPTION  \\\n",
       "0   3                       sample_polygon   \n",
       "1   6                  sample_multipolygon   \n",
       "2   7       sample_polygon_with_inner_ring   \n",
       "3   8  sample_multipolygon_with_inner_ring   \n",
       "\n",
       "                                                 WKT  \n",
       "0  POLYGON ((37.608962836014257 55.74921715849851...  \n",
       "1  MULTIPOLYGON (((37.608791174637304 55.73902307...  \n",
       "2  POLYGON ((37.618575873123632 55.74501423149325...  \n",
       "3  MULTIPOLYGON (((37.608791174637304 55.73902307...  "
      ]
     },
     "execution_count": 14,
     "metadata": {},
     "output_type": "execute_result"
    }
   ],
   "source": [
    "polys_df.head()"
   ]
  },
  {
   "cell_type": "code",
   "execution_count": 15,
   "metadata": {},
   "outputs": [],
   "source": [
    "fast_kml.polygons_kml(polys_df, 'polys.kml', wkt_column='WKT', name_column='ID', color_mode='random')"
   ]
  },
  {
   "cell_type": "markdown",
   "metadata": {},
   "source": [
    "#### Отрисовка слоя с полигонами из текста (для быстрого просмотра геометрий на карте аналогично https://arthur-e.github.io/Wicket/sandbox-gmaps3.html)"
   ]
  },
  {
   "cell_type": "code",
   "execution_count": 16,
   "metadata": {},
   "outputs": [],
   "source": [
    "# в отличие от Wicket, можно одновременно отрисовать несколько одинаковых геометрий\n",
    "geodata = [\n",
    "    'POLYGON((37.59797650788926 55.739627059610996,37.602997603165136 55.739627059610996,37.602997603165136 55.73667950285141,37.59797650788926 55.73667950285141,37.59797650788926 55.739627059610996))',\n",
    "    'POLYGON((37.59046632264756 55.73977201567571,37.5948866031041 55.74047262906507,37.590809645401464 55.737041919373446,37.58711892579697 55.74027935766223,37.59046632264756 55.73977201567571))'\n",
    "]\n",
    "text_polys_df = pd.DataFrame({'wkt': geodata})"
   ]
  },
  {
   "cell_type": "code",
   "execution_count": 17,
   "metadata": {},
   "outputs": [
    {
     "data": {
      "text/html": [
       "<div>\n",
       "<style scoped>\n",
       "    .dataframe tbody tr th:only-of-type {\n",
       "        vertical-align: middle;\n",
       "    }\n",
       "\n",
       "    .dataframe tbody tr th {\n",
       "        vertical-align: top;\n",
       "    }\n",
       "\n",
       "    .dataframe thead th {\n",
       "        text-align: right;\n",
       "    }\n",
       "</style>\n",
       "<table border=\"1\" class=\"dataframe\">\n",
       "  <thead>\n",
       "    <tr style=\"text-align: right;\">\n",
       "      <th></th>\n",
       "      <th>wkt</th>\n",
       "    </tr>\n",
       "  </thead>\n",
       "  <tbody>\n",
       "    <tr>\n",
       "      <th>0</th>\n",
       "      <td>POLYGON((37.59797650788926 55.739627059610996,...</td>\n",
       "    </tr>\n",
       "    <tr>\n",
       "      <th>1</th>\n",
       "      <td>POLYGON((37.59046632264756 55.73977201567571,3...</td>\n",
       "    </tr>\n",
       "  </tbody>\n",
       "</table>\n",
       "</div>"
      ],
      "text/plain": [
       "                                                 wkt\n",
       "0  POLYGON((37.59797650788926 55.739627059610996,...\n",
       "1  POLYGON((37.59046632264756 55.73977201567571,3..."
      ]
     },
     "execution_count": 17,
     "metadata": {},
     "output_type": "execute_result"
    }
   ],
   "source": [
    "text_polys_df.head()"
   ]
  },
  {
   "cell_type": "code",
   "execution_count": 18,
   "metadata": {},
   "outputs": [],
   "source": [
    "# можно не задавать явное название для колонок с геометриями и с названиями\n",
    "# в качетсве геометрий будет использована последняя колонка в датафрейме\n",
    "# в качестве названий - индекс датафрейма\n",
    "# также можно не указывать расширение для файла\n",
    "fast_kml.polygons_kml(text_polys_df, 'text_polys_df')"
   ]
  },
  {
   "cell_type": "markdown",
   "metadata": {},
   "source": [
    "#### Закрытие подключения к бд"
   ]
  },
  {
   "cell_type": "code",
   "execution_count": 19,
   "metadata": {},
   "outputs": [],
   "source": [
    "con.close()"
   ]
  }
 ],
 "metadata": {
  "kernelspec": {
   "display_name": "Python 3",
   "language": "python",
   "name": "python3"
  },
  "language_info": {
   "codemirror_mode": {
    "name": "ipython",
    "version": 3
   },
   "file_extension": ".py",
   "mimetype": "text/x-python",
   "name": "python",
   "nbconvert_exporter": "python",
   "pygments_lexer": "ipython3",
   "version": "3.6.3"
  }
 },
 "nbformat": 4,
 "nbformat_minor": 2
}
