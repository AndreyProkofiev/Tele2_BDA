{
 "cells": [
  {
   "cell_type": "markdown",
   "metadata": {},
   "source": [
    "### Примеры использования обёртки для teradatasql - библиотеки от Teradata для взаимодействия с базой данных из python-кода (https://pypi.org/project/teradatasql/)"
   ]
  },
  {
   "cell_type": "markdown",
   "metadata": {},
   "source": [
    "#### Преимущества библиотеки:\n",
    "- Умеет работать с LOB/CLOB объектами, поэтому можно работать с большими геоданными без кастов в строки, упрощений, обрезаний и прочих танцев;\n",
    "- В отличие от trubodbc не лочит таблицы"
   ]
  },
  {
   "cell_type": "markdown",
   "metadata": {},
   "source": [
    "#### Недостатки:\n",
    "Пока не обнаружены "
   ]
  },
  {
   "cell_type": "code",
   "execution_count": 1,
   "metadata": {},
   "outputs": [],
   "source": [
    "# Для доступа к пакету из любых ноутбуков/скриптов нужно скопировать папку Tele2_BDA в директорию:\n",
    "# PYTHON_INTERPRETER_FOLDER_PATH\\Lib\\site-packages\n",
    "# Например: C:\\Programs\\Miniconda3\\envs\\geoenv\\Lib\\site-packages\\Tele2_BDA\\wrappers\n",
    "from Tele2_BDA.wrappers import fast_tdsql as td"
   ]
  },
  {
   "cell_type": "markdown",
   "metadata": {},
   "source": [
    "#### Установка соединения"
   ]
  },
  {
   "cell_type": "code",
   "execution_count": 3,
   "metadata": {},
   "outputs": [],
   "source": [
    "con = td.set_connection('USER', 'PASSWORD')"
   ]
  },
  {
   "cell_type": "markdown",
   "metadata": {},
   "source": [
    "#### Базовый запрос"
   ]
  },
  {
   "cell_type": "code",
   "execution_count": 4,
   "metadata": {},
   "outputs": [],
   "source": [
    "q = \\\n",
    "\"\"\"\n",
    "SELECT *\n",
    "FROM uat_dm.gi_geo_samples\n",
    "ORDER BY id\n",
    "\"\"\""
   ]
  },
  {
   "cell_type": "code",
   "execution_count": 5,
   "metadata": {},
   "outputs": [
    {
     "name": "stdout",
     "output_type": "stream",
     "text": [
      "(8, 3)\n",
      "Wall time: 2.58 s\n"
     ]
    }
   ],
   "source": [
    "%%time\n",
    "df = td.select(con, q)"
   ]
  },
  {
   "cell_type": "code",
   "execution_count": 6,
   "metadata": {},
   "outputs": [
    {
     "data": {
      "text/html": [
       "<div>\n",
       "<style scoped>\n",
       "    .dataframe tbody tr th:only-of-type {\n",
       "        vertical-align: middle;\n",
       "    }\n",
       "\n",
       "    .dataframe tbody tr th {\n",
       "        vertical-align: top;\n",
       "    }\n",
       "\n",
       "    .dataframe thead th {\n",
       "        text-align: right;\n",
       "    }\n",
       "</style>\n",
       "<table border=\"1\" class=\"dataframe\">\n",
       "  <thead>\n",
       "    <tr style=\"text-align: right;\">\n",
       "      <th></th>\n",
       "      <th>ID</th>\n",
       "      <th>DESCRIPTION</th>\n",
       "      <th>WKT</th>\n",
       "    </tr>\n",
       "  </thead>\n",
       "  <tbody>\n",
       "    <tr>\n",
       "      <th>0</th>\n",
       "      <td>1</td>\n",
       "      <td>sample_point</td>\n",
       "      <td>POINT (37.642179312454687 55.756365925177171)</td>\n",
       "    </tr>\n",
       "    <tr>\n",
       "      <th>1</th>\n",
       "      <td>2</td>\n",
       "      <td>sample_linestring</td>\n",
       "      <td>LINESTRING (37.608791174637304 55.749168851564...</td>\n",
       "    </tr>\n",
       "  </tbody>\n",
       "</table>\n",
       "</div>"
      ],
      "text/plain": [
       "   ID        DESCRIPTION                                                WKT\n",
       "0   1       sample_point      POINT (37.642179312454687 55.756365925177171)\n",
       "1   2  sample_linestring  LINESTRING (37.608791174637304 55.749168851564..."
      ]
     },
     "execution_count": 6,
     "metadata": {},
     "output_type": "execute_result"
    }
   ],
   "source": [
    "df.head(2)"
   ]
  },
  {
   "cell_type": "code",
   "execution_count": 7,
   "metadata": {},
   "outputs": [
    {
     "data": {
      "text/plain": [
       "ID              int32\n",
       "DESCRIPTION    object\n",
       "WKT            object\n",
       "dtype: object"
      ]
     },
     "execution_count": 7,
     "metadata": {},
     "output_type": "execute_result"
    }
   ],
   "source": [
    "df.dtypes"
   ]
  },
  {
   "cell_type": "markdown",
   "metadata": {},
   "source": [
    "#### Запрос с '?' параметрами и дополнительными аргументами"
   ]
  },
  {
   "cell_type": "code",
   "execution_count": 8,
   "metadata": {},
   "outputs": [],
   "source": [
    "q = \\\n",
    "\"\"\"\n",
    "SELECT *\n",
    "FROM uat_dm.gi_geo_samples\n",
    "WHERE id in (?, ?, ?)\n",
    "ORDER BY id\n",
    "\"\"\"\n",
    "params=[1, 3, 5]"
   ]
  },
  {
   "cell_type": "code",
   "execution_count": 9,
   "metadata": {},
   "outputs": [
    {
     "name": "stdout",
     "output_type": "stream",
     "text": [
      "(3, 3)\n",
      "-----------\n",
      "id             object\n",
      "description    object\n",
      "wkt            object\n",
      "dtype: object\n",
      "-----------\n",
      "  id     description                                                wkt\n",
      "0  1    sample_point      POINT (37.642179312454687 55.756365925177171)\n",
      "1  3  sample_polygon  POLYGON ((37.608962836014257 55.74921715849851...\n",
      "Wall time: 59.4 ms\n"
     ]
    }
   ],
   "source": [
    "%%time\n",
    "df = td.select(con, q, params, col_case='lower', infer_types=False, head=2, dtypes=True)"
   ]
  },
  {
   "cell_type": "markdown",
   "metadata": {},
   "source": [
    "#### Закрытие подключения"
   ]
  },
  {
   "cell_type": "code",
   "execution_count": 10,
   "metadata": {},
   "outputs": [],
   "source": [
    "con.close()"
   ]
  }
 ],
 "metadata": {
  "kernelspec": {
   "display_name": "Python 3",
   "language": "python",
   "name": "python3"
  },
  "language_info": {
   "codemirror_mode": {
    "name": "ipython",
    "version": 3
   },
   "file_extension": ".py",
   "mimetype": "text/x-python",
   "name": "python",
   "nbconvert_exporter": "python",
   "pygments_lexer": "ipython3",
   "version": "3.6.3"
  }
 },
 "nbformat": 4,
 "nbformat_minor": 2
}
