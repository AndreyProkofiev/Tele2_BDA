{
 "cells": [
  {
   "cell_type": "markdown",
   "metadata": {},
   "source": [
    "# Важно - не забывайте закрывать сессию. Если у вас идёт запрос и из питона, и из терадаты к одной таблице это приведёт к зависанию и проблемам\n",
    "\n",
    "## Турбодбс может не работать, если у вас не в том порядке установлены библиотеки - чтобы исправить эту ошибку скопируйте environment с гитхаба (главная страница внизу)"
   ]
  },
  {
   "cell_type": "code",
   "execution_count": 1,
   "metadata": {},
   "outputs": [],
   "source": [
    "import turbodbc\n",
    "import numpy as np\n",
    "import pandas as pd"
   ]
  },
  {
   "cell_type": "code",
   "execution_count": 2,
   "metadata": {},
   "outputs": [],
   "source": [
    "sql = \"\"\"\n",
    "   sel  SEGMENT, MSISDN, report_date, SUBS_ID, \n",
    "        sd_day_voice_cnt,\n",
    "days_with_data_trafic,\n",
    "cpe_popularity,av_dev_use,\n",
    "avg_ses_mou,\n",
    "bal_avg_amt,\n",
    "bal_min_amt,\n",
    "sd_day_mbou,\n",
    "cpe_m_age,\n",
    "bal_max_amt,\n",
    "days_home_cnt,\n",
    "avg_day_mbou,\n",
    "avg_day_voice_cnt,\n",
    "sms_tot_cnt,\n",
    "out_data_ratio,\n",
    "sum_ses_mbou,\n",
    "cpe_p_age,\n",
    "avg_day_data_cnt,\n",
    "cl_opp_gender_share,\n",
    "dev_park_size,\n",
    "cl_core_opp_gender_share,\n",
    "lifetime,\n",
    "ret_dev_ind,\n",
    "max_dev_use,\n",
    "cl_avg_lifetime\n",
    " from UAT_DM.TE_MS_20180202_MRT\n",
    " where \n",
    "  cpe_type in ('C2','C3')\n",
    " and (sum_ses_mbou>0 or avg_day_mou>0)\n",
    " and lifetime>30\"\"\""
   ]
  },
  {
   "cell_type": "code",
   "execution_count": 3,
   "metadata": {},
   "outputs": [],
   "source": [
    "from turbodbc import connect\n",
    "connection = connect(dsn='Teradata')"
   ]
  },
  {
   "cell_type": "code",
   "execution_count": 4,
   "metadata": {},
   "outputs": [],
   "source": [
    "cursor = connection.cursor()"
   ]
  },
  {
   "cell_type": "code",
   "execution_count": 5,
   "metadata": {},
   "outputs": [
    {
     "data": {
      "text/plain": [
       "<turbodbc.cursor.Cursor at 0x82998d0>"
      ]
     },
     "execution_count": 5,
     "metadata": {},
     "output_type": "execute_result"
    }
   ],
   "source": [
    "cursor.execute(sql)"
   ]
  },
  {
   "cell_type": "code",
   "execution_count": 6,
   "metadata": {},
   "outputs": [
    {
     "name": "stdout",
     "output_type": "stream",
     "text": [
      "Wall time: 1.99 s\n"
     ]
    }
   ],
   "source": [
    "%%time\n",
    "data = pd.DataFrame(cursor.fetchallnumpy())"
   ]
  },
  {
   "cell_type": "code",
   "execution_count": 7,
   "metadata": {
    "scrolled": true
   },
   "outputs": [
    {
     "name": "stdout",
     "output_type": "stream",
     "text": [
      "(21088, 29)\n"
     ]
    },
    {
     "data": {
      "text/html": [
       "<div>\n",
       "<style scoped>\n",
       "    .dataframe tbody tr th:only-of-type {\n",
       "        vertical-align: middle;\n",
       "    }\n",
       "\n",
       "    .dataframe tbody tr th {\n",
       "        vertical-align: top;\n",
       "    }\n",
       "\n",
       "    .dataframe thead th {\n",
       "        text-align: right;\n",
       "    }\n",
       "</style>\n",
       "<table border=\"1\" class=\"dataframe\">\n",
       "  <thead>\n",
       "    <tr style=\"text-align: right;\">\n",
       "      <th></th>\n",
       "      <th>SEGMENT</th>\n",
       "      <th>MSISDN</th>\n",
       "      <th>report_date</th>\n",
       "      <th>SUBS_ID</th>\n",
       "      <th>sd_day_voice_cnt</th>\n",
       "      <th>days_with_data_trafic</th>\n",
       "      <th>cpe_popularity</th>\n",
       "      <th>av_dev_use</th>\n",
       "      <th>avg_ses_mou</th>\n",
       "      <th>bal_avg_amt</th>\n",
       "      <th>...</th>\n",
       "      <th>sum_ses_mbou</th>\n",
       "      <th>cpe_p_age</th>\n",
       "      <th>avg_day_data_cnt</th>\n",
       "      <th>cl_opp_gender_share</th>\n",
       "      <th>dev_park_size</th>\n",
       "      <th>cl_core_opp_gender_share</th>\n",
       "      <th>lifetime</th>\n",
       "      <th>ret_dev_ind</th>\n",
       "      <th>max_dev_use</th>\n",
       "      <th>cl_avg_lifetime</th>\n",
       "    </tr>\n",
       "  </thead>\n",
       "  <tbody>\n",
       "    <tr>\n",
       "      <th>0</th>\n",
       "      <td>3</td>\n",
       "      <td>79527509799</td>\n",
       "      <td>2017-03-01</td>\n",
       "      <td>100053038055</td>\n",
       "      <td>26.878244</td>\n",
       "      <td>30</td>\n",
       "      <td>4.805847</td>\n",
       "      <td>10.292683</td>\n",
       "      <td>31.757333</td>\n",
       "      <td>5.295455</td>\n",
       "      <td>...</td>\n",
       "      <td>1422</td>\n",
       "      <td>2</td>\n",
       "      <td>22.266667</td>\n",
       "      <td>0.36</td>\n",
       "      <td>6</td>\n",
       "      <td>0.93</td>\n",
       "      <td>33</td>\n",
       "      <td>1.00</td>\n",
       "      <td>363</td>\n",
       "      <td>101.357143</td>\n",
       "    </tr>\n",
       "    <tr>\n",
       "      <th>1</th>\n",
       "      <td>4</td>\n",
       "      <td>79511363663</td>\n",
       "      <td>2017-11-01</td>\n",
       "      <td>50118600</td>\n",
       "      <td>67.108072</td>\n",
       "      <td>30</td>\n",
       "      <td>4.551194</td>\n",
       "      <td>231.000000</td>\n",
       "      <td>58.498762</td>\n",
       "      <td>39.892308</td>\n",
       "      <td>...</td>\n",
       "      <td>7894</td>\n",
       "      <td>86</td>\n",
       "      <td>118.566667</td>\n",
       "      <td>0.00</td>\n",
       "      <td>4</td>\n",
       "      <td>0.00</td>\n",
       "      <td>114</td>\n",
       "      <td>0.94</td>\n",
       "      <td>989</td>\n",
       "      <td>1954.107143</td>\n",
       "    </tr>\n",
       "    <tr>\n",
       "      <th>2</th>\n",
       "      <td>5</td>\n",
       "      <td>79537089356</td>\n",
       "      <td>2017-12-01</td>\n",
       "      <td>26224371</td>\n",
       "      <td>7.838367</td>\n",
       "      <td>0</td>\n",
       "      <td>5.269861</td>\n",
       "      <td>1683.000000</td>\n",
       "      <td>657.012658</td>\n",
       "      <td>86.019167</td>\n",
       "      <td>...</td>\n",
       "      <td>0</td>\n",
       "      <td>1683</td>\n",
       "      <td>0.000000</td>\n",
       "      <td>0.00</td>\n",
       "      <td>1</td>\n",
       "      <td>0.00</td>\n",
       "      <td>2918</td>\n",
       "      <td>0.34</td>\n",
       "      <td>1683</td>\n",
       "      <td>1476.928571</td>\n",
       "    </tr>\n",
       "    <tr>\n",
       "      <th>3</th>\n",
       "      <td>5</td>\n",
       "      <td>79517010180</td>\n",
       "      <td>2017-11-01</td>\n",
       "      <td>200050099804</td>\n",
       "      <td>8.934328</td>\n",
       "      <td>1</td>\n",
       "      <td>5.424032</td>\n",
       "      <td>172.400000</td>\n",
       "      <td>186.805310</td>\n",
       "      <td>171.542308</td>\n",
       "      <td>...</td>\n",
       "      <td>9</td>\n",
       "      <td>6</td>\n",
       "      <td>1.000000</td>\n",
       "      <td>0.17</td>\n",
       "      <td>9</td>\n",
       "      <td>0.33</td>\n",
       "      <td>1073</td>\n",
       "      <td>0.99</td>\n",
       "      <td>921</td>\n",
       "      <td>1415.333333</td>\n",
       "    </tr>\n",
       "    <tr>\n",
       "      <th>4</th>\n",
       "      <td>3</td>\n",
       "      <td>79529198075</td>\n",
       "      <td>2017-02-01</td>\n",
       "      <td>100021553622</td>\n",
       "      <td>10.450359</td>\n",
       "      <td>2</td>\n",
       "      <td>4.209676</td>\n",
       "      <td>1775.000000</td>\n",
       "      <td>82.297170</td>\n",
       "      <td>93.835714</td>\n",
       "      <td>...</td>\n",
       "      <td>1</td>\n",
       "      <td>1775</td>\n",
       "      <td>1.500000</td>\n",
       "      <td>0.43</td>\n",
       "      <td>1</td>\n",
       "      <td>0.85</td>\n",
       "      <td>2631</td>\n",
       "      <td>0.06</td>\n",
       "      <td>1775</td>\n",
       "      <td>2188.571429</td>\n",
       "    </tr>\n",
       "  </tbody>\n",
       "</table>\n",
       "<p>5 rows × 29 columns</p>\n",
       "</div>"
      ],
      "text/plain": [
       "   SEGMENT       MSISDN report_date       SUBS_ID  sd_day_voice_cnt  \\\n",
       "0        3  79527509799  2017-03-01  100053038055         26.878244   \n",
       "1        4  79511363663  2017-11-01      50118600         67.108072   \n",
       "2        5  79537089356  2017-12-01      26224371          7.838367   \n",
       "3        5  79517010180  2017-11-01  200050099804          8.934328   \n",
       "4        3  79529198075  2017-02-01  100021553622         10.450359   \n",
       "\n",
       "   days_with_data_trafic  cpe_popularity   av_dev_use  avg_ses_mou  \\\n",
       "0                     30        4.805847    10.292683    31.757333   \n",
       "1                     30        4.551194   231.000000    58.498762   \n",
       "2                      0        5.269861  1683.000000   657.012658   \n",
       "3                      1        5.424032   172.400000   186.805310   \n",
       "4                      2        4.209676  1775.000000    82.297170   \n",
       "\n",
       "   bal_avg_amt       ...         sum_ses_mbou  cpe_p_age  avg_day_data_cnt  \\\n",
       "0     5.295455       ...                 1422          2         22.266667   \n",
       "1    39.892308       ...                 7894         86        118.566667   \n",
       "2    86.019167       ...                    0       1683          0.000000   \n",
       "3   171.542308       ...                    9          6          1.000000   \n",
       "4    93.835714       ...                    1       1775          1.500000   \n",
       "\n",
       "   cl_opp_gender_share  dev_park_size  cl_core_opp_gender_share  lifetime  \\\n",
       "0                 0.36              6                      0.93        33   \n",
       "1                 0.00              4                      0.00       114   \n",
       "2                 0.00              1                      0.00      2918   \n",
       "3                 0.17              9                      0.33      1073   \n",
       "4                 0.43              1                      0.85      2631   \n",
       "\n",
       "   ret_dev_ind  max_dev_use  cl_avg_lifetime  \n",
       "0         1.00          363       101.357143  \n",
       "1         0.94          989      1954.107143  \n",
       "2         0.34         1683      1476.928571  \n",
       "3         0.99          921      1415.333333  \n",
       "4         0.06         1775      2188.571429  \n",
       "\n",
       "[5 rows x 29 columns]"
      ]
     },
     "execution_count": 7,
     "metadata": {},
     "output_type": "execute_result"
    }
   ],
   "source": [
    "print(data.shape)\n",
    "data.head()"
   ]
  },
  {
   "cell_type": "markdown",
   "metadata": {},
   "source": [
    "## Ниже - пример как делать инсёрт. Обратите внимание, что он работает не со всеми типами данных (например, date напрямую не получится закинуть, нужно бить на интеджеры\n",
    "Здесь идёт инсёрт двух колонок (индекс и мсисдн), для большего числа логика ровно такая же\n",
    "## После инсёрта не забываем коммит (чтобы изменения сохранились) и закрываем сессию"
   ]
  },
  {
   "cell_type": "code",
   "execution_count": 7,
   "metadata": {},
   "outputs": [
    {
     "name": "stdout",
     "output_type": "stream",
     "text": [
      "done\n",
      "Wall time: 10min 26s\n"
     ]
    }
   ],
   "source": [
    "%%time\n",
    "cursor.executemanycolumns(\"INSERT INTO UAT_DM.AR_TURBODBC_TEST VALUES (?, ?)\",\n",
    "                          [data.index.values, data['MSISDN'].values])\n",
    "connection.commit()\n",
    "connection.close()\n",
    "print(\"done\")"
   ]
  }
 ],
 "metadata": {
  "kernelspec": {
   "display_name": "Python 3",
   "language": "python",
   "name": "python3"
  },
  "language_info": {
   "codemirror_mode": {
    "name": "ipython",
    "version": 3
   },
   "file_extension": ".py",
   "mimetype": "text/x-python",
   "name": "python",
   "nbconvert_exporter": "python",
   "pygments_lexer": "ipython3",
   "version": "3.5.5"
  }
 },
 "nbformat": 4,
 "nbformat_minor": 2
}
