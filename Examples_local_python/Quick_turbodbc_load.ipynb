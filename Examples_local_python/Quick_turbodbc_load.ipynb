{
 "cells": [
  {
   "cell_type": "code",
   "execution_count": 2,
   "metadata": {},
   "outputs": [],
   "source": [
    "import sys"
   ]
  },
  {
   "cell_type": "markdown",
   "metadata": {},
   "source": [
    "# Поменять юзера в следующей строчке ИЛИ добавить папку в PYTHONPATH (у меня пока не вышло)"
   ]
  },
  {
   "cell_type": "code",
   "execution_count": 4,
   "metadata": {
    "scrolled": true
   },
   "outputs": [],
   "source": [
    "sys.path.append(r'C:\\Users\\alexander.rass\\Documents\\Tele2_BDA')\n",
    "from Tele2_BDA.db_loaders.turbodbc_load import *"
   ]
  },
  {
   "cell_type": "code",
   "execution_count": 5,
   "metadata": {},
   "outputs": [
    {
     "name": "stdout",
     "output_type": "stream",
     "text": [
      "Loaded your dataframe successfully\n",
      "Wall time: 1min 36s\n"
     ]
    }
   ],
   "source": [
    "%%time\n",
    "test_frame = pd.DataFrame({'int_col':[7]*1000\n",
    "                 ,'float_col':[1.3]*1000\n",
    "                 ,'string_col':['test_string']*1000\n",
    "                    ,'cat_col':pd.Categorical([\"test\",\"train\"]*500)\n",
    "                              })\n",
    "td_load_df(test_frame, dsn='Teradata', table_name='ar_test_turbodbc')"
   ]
  },
  {
   "cell_type": "code",
   "execution_count": 4,
   "metadata": {},
   "outputs": [],
   "source": [
    "??td_load_df"
   ]
  }
 ],
 "metadata": {
  "kernelspec": {
   "display_name": "Python 3",
   "language": "python",
   "name": "python3"
  },
  "language_info": {
   "codemirror_mode": {
    "name": "ipython",
    "version": 3
   },
   "file_extension": ".py",
   "mimetype": "text/x-python",
   "name": "python",
   "nbconvert_exporter": "python",
   "pygments_lexer": "ipython3",
   "version": "3.5.5"
  }
 },
 "nbformat": 4,
 "nbformat_minor": 2
}
