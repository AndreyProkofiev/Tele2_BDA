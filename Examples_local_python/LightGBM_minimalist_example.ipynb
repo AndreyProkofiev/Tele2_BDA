{
 "cells": [
  {
   "cell_type": "markdown",
   "metadata": {},
   "source": [
    "## Минимальный пример использования lightgbm чтобы не переписывать каждый раз один и тот же код и вспоминать какие бывают параметры, этот пример не является инструкцией о том как правильно строить модели"
   ]
  },
  {
   "cell_type": "code",
   "execution_count": 3,
   "metadata": {},
   "outputs": [],
   "source": [
    "import numpy as np\n",
    "import pandas as pd\n",
    "import lightgbm as lgb"
   ]
  },
  {
   "cell_type": "code",
   "execution_count": 4,
   "metadata": {},
   "outputs": [],
   "source": [
    "from turbodbc import connect\n",
    "connection = connect(dsn='Teradata')"
   ]
  },
  {
   "cell_type": "code",
   "execution_count": 51,
   "metadata": {},
   "outputs": [],
   "source": [
    "query = \"SELECT TOP 100000 SUBS_ID, MSISDN, FLASH_CODE, EVENT_DATE, target_var, bal_avg_li_days,bal_avg_ld_days,lifetime,bc_lifetime,last_flash,bc_bal_avg_li_days,cpe_p_age,SMS_900_days,days_with_data_trafic,cl_avg_lifetime,sum_ses_mou,avg_day_mou,bc_bal_avg_ld_days,bal_min_amt,SMS_900_cnt,sk_day_mou,internet_ap_blocks_cnt,ret_dev_ind,bc_avg_day_voice_cnt,cl_tail_size FROM UAT_DM.AR_CREDIT_LIMIT_PROMISE_PAYMENT_v2_DMSC WHERE SUBS_ID IN (SELECT SUBS_ID FROM UAT_DM.AR_CREDIT_LIMIT_SAMPLE_SUBS_FOR_BALANCE)\""
   ]
  },
  {
   "cell_type": "code",
   "execution_count": 52,
   "metadata": {},
   "outputs": [],
   "source": [
    "cursor = connection.cursor()"
   ]
  },
  {
   "cell_type": "code",
   "execution_count": 53,
   "metadata": {},
   "outputs": [],
   "source": [
    "cursor.execute(query)\n",
    "dt = pd.DataFrame(cursor.fetchallnumpy())"
   ]
  },
  {
   "cell_type": "code",
   "execution_count": 54,
   "metadata": {},
   "outputs": [],
   "source": [
    "features = dt.columns[~dt.columns.isin(['SUBS_ID', 'MSISDN', 'FLASH_CODE', 'EVENT_DATE', 'target_var'])]\n",
    "#categorical_features = ['CPE_MANUFACTURER_NAME']"
   ]
  },
  {
   "cell_type": "code",
   "execution_count": 105,
   "metadata": {},
   "outputs": [],
   "source": [
    "train = lgb.Dataset(data = dt[features].values, label=dt['target_var'].values,\n",
    "                          feature_name='auto'\n",
    "                          )"
   ]
  },
  {
   "cell_type": "code",
   "execution_count": 100,
   "metadata": {},
   "outputs": [],
   "source": [
    "?lgb.Dataset"
   ]
  },
  {
   "cell_type": "code",
   "execution_count": 106,
   "metadata": {},
   "outputs": [
    {
     "data": {
      "text/plain": [
       "<lightgbm.basic.Dataset at 0x216ddcf8>"
      ]
     },
     "execution_count": 106,
     "metadata": {},
     "output_type": "execute_result"
    }
   ],
   "source": [
    "train.construct()"
   ]
  },
  {
   "cell_type": "code",
   "execution_count": 107,
   "metadata": {},
   "outputs": [],
   "source": [
    "params = {\n",
    "    'learning_rate': 0.15,\n",
    "    #'is_unbalance': 'true', # replaced with scale_pos_weight argument\n",
    "    'num_leaves': 7,  # 2^max_depth - 1\n",
    "    'max_depth': 3,  # -1 means no limit\n",
    "    'min_child_samples': 100,  # Minimum number of data need in a child(min_data_in_leaf)\n",
    "    'max_bin': 100,  # Number of bucketed bin for feature values\n",
    "    'subsample': 0.7,  # Subsample ratio of the training instance.\n",
    "    'subsample_freq': 1,  # frequence of subsample, <=0 means no enable\n",
    "    'colsample_bytree': 0.9,  # Subsample ratio of columns when constructing each tree.\n",
    "    'min_child_weight': 0,  # Minimum sum of instance weight(hessian) needed in a child(leaf)\n",
    "    'scale_pos_weight':0.01 # because training data is extremely unbalanced \n",
    "}"
   ]
  },
  {
   "cell_type": "code",
   "execution_count": 108,
   "metadata": {},
   "outputs": [],
   "source": [
    "# lgb_model = lgb.train(params, \n",
    "#                  dtrain, \n",
    "#                  valid_sets=[dtrain, dvalid], \n",
    "#                  valid_names=['train','valid'], \n",
    "#                  evals_result=evals_results, \n",
    "#                  num_boost_round=350,\n",
    "#                  early_stopping_rounds=30,\n",
    "#                  verbose_eval=True, \n",
    "#                  feval=None)\n",
    "\n",
    "evals_results = {}\n",
    "lgb_model = lgb.train(params, \n",
    "                 train,  \n",
    "                 evals_result=evals_results, \n",
    "                 num_boost_round=20)"
   ]
  },
  {
   "cell_type": "code",
   "execution_count": 109,
   "metadata": {},
   "outputs": [
    {
     "name": "stdout",
     "output_type": "stream",
     "text": [
      "Feature importances: [11, 14, 18, 2, 15, 7, 7, 2, 2, 11, 5, 0, 5, 7, 2, 4, 0, 0, 4, 4]\n"
     ]
    }
   ],
   "source": [
    "print('Feature importances:', list(lgb_model.feature_importance()))"
   ]
  },
  {
   "cell_type": "code",
   "execution_count": null,
   "metadata": {},
   "outputs": [],
   "source": [
    "nrounds = 20\n",
    "booster = xgb.train(params, dm, nrounds)"
   ]
  },
  {
   "cell_type": "code",
   "execution_count": null,
   "metadata": {},
   "outputs": [],
   "source": [
    "booster.save_model('xgb_example.xgb')"
   ]
  },
  {
   "cell_type": "code",
   "execution_count": null,
   "metadata": {},
   "outputs": [],
   "source": [
    "booster_2 = xgb.Booster()\n",
    "booster_2.load_model('xgb_example.xgb')"
   ]
  }
 ],
 "metadata": {
  "kernelspec": {
   "display_name": "Python 3",
   "language": "python",
   "name": "python3"
  },
  "language_info": {
   "codemirror_mode": {
    "name": "ipython",
    "version": 3
   },
   "file_extension": ".py",
   "mimetype": "text/x-python",
   "name": "python",
   "nbconvert_exporter": "python",
   "pygments_lexer": "ipython3",
   "version": "3.5.5"
  }
 },
 "nbformat": 4,
 "nbformat_minor": 2
}
