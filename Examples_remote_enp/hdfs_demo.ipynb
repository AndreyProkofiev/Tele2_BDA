{
 "cells": [
  {
   "cell_type": "markdown",
   "metadata": {},
   "source": [
    "## Этот пример показывает как скачать файлы из HDFS на локальный компьютер, находящийся на ENP-node Hadoop кластера. Там нет интернета и нет другого способа получить данные из хадупа (напр. через Pyhive)"
   ]
  },
  {
   "cell_type": "code",
   "execution_count": 2,
   "metadata": {
    "collapsed": true
   },
   "outputs": [],
   "source": [
    "from hdfs import InsecureClient"
   ]
  },
  {
   "cell_type": "code",
   "execution_count": 3,
   "metadata": {
    "collapsed": true
   },
   "outputs": [],
   "source": [
    "client = InsecureClient('http://t2ru-bda-mnp-003:PORT_HERE', user='USER_HERE')"
   ]
  },
  {
   "cell_type": "code",
   "execution_count": 6,
   "metadata": {},
   "outputs": [],
   "source": [
    "files = client.list('/user/hive/warehouse/gdirections_output', status=True)"
   ]
  },
  {
   "cell_type": "code",
   "execution_count": 9,
   "metadata": {},
   "outputs": [
    {
     "name": "stdout",
     "output_type": "stream",
     "text": [
      "{'pathSuffix': '', 'type': 'FILE', 'length': 1385264, 'owner': 'grigory.ilyashenko', 'group': 'hive', 'permission': '755', 'accessTime': 1522766413567, 'modificationTime': 1522766413607, 'blockSize': 134217728, 'replication': 3}\n",
      "{'pathSuffix': '', 'type': 'FILE', 'length': 3973, 'owner': 'grigory.ilyashenko', 'group': 'hive', 'permission': '755', 'accessTime': 1522761674048, 'modificationTime': 1522761674121, 'blockSize': 134217728, 'replication': 3}\n"
     ]
    }
   ],
   "source": [
    "for file_name, file_info in files:\n",
    "    if file_info['type'] == 'FILE':\n",
    "        path = '/user/hive/warehouse/gdirections_output/' + file_name\n",
    "        print(client.status(path))\n",
    "        client.download(path, '')"
   ]
  }
 ],
 "metadata": {
  "anaconda-cloud": {},
  "kernelspec": {
   "display_name": "Python 3",
   "language": "python",
   "name": "python3"
  },
  "language_info": {
   "codemirror_mode": {
    "name": "ipython",
    "version": 3
   },
   "file_extension": ".py",
   "mimetype": "text/x-python",
   "name": "python",
   "nbconvert_exporter": "python",
   "pygments_lexer": "ipython3",
   "version": "3.6.4"
  }
 },
 "nbformat": 4,
 "nbformat_minor": 2
}
