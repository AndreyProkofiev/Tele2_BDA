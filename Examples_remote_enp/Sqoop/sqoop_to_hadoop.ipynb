{
 "cells": [
  {
   "cell_type": "code",
   "execution_count": null,
   "metadata": {
    "collapsed": true,
    "deletable": true,
    "editable": true
   },
   "outputs": [],
   "source": [
    "# https://docs.hortonworks.com/HDPDocuments/HDP2/HDP-2.6.5/bk_data-access/content/using_sqoop_to_move_data_into_hive.html"
   ]
  },
  {
   "cell_type": "code",
   "execution_count": 3,
   "metadata": {
    "collapsed": false,
    "deletable": true,
    "editable": true,
    "scrolled": true
   },
   "outputs": [
    {
     "name": "stdout",
     "output_type": "stream",
     "text": [
      "Warning: /opt/cloudera/parcels/CDH-5.10.2-1.cdh5.10.2.p0.5/bin/../lib/sqoop/../accumulo does not exist! Accumulo imports will fail.\n",
      "Please set $ACCUMULO_HOME to the root of your Accumulo installation.\n",
      "18/09/06 11:03:47 INFO sqoop.Sqoop: Running Sqoop version: 1.4.6-cdh5.10.2\n",
      "18/09/06 11:03:47 WARN tool.BaseSqoopTool: Setting your password on the command-line is insecure. Consider using -P instead.\n",
      "18/09/06 11:03:47 INFO teradata.TeradataManagerFactory: Loaded connector factory for 'Cloudera Connector Powered by Teradata' on version 1.6c5\n",
      "18/09/06 11:03:47 INFO manager.SqlManager: Using default fetchSize of 1000\n",
      "18/09/06 11:03:48 INFO options.ExtraOptions: Parsing extra arguments\n",
      "18/09/06 11:03:48 INFO options.OptionsCompatibility: Checking options compatibility\n",
      "18/09/06 11:03:48 INFO teradata.SchemaInjector: Using connection string: jdbc:teradata://10.78.245.130/DATABASE=UAT_DM\n",
      "18/09/06 11:03:49 INFO tool.CodeGenTool: Beginning code generation\n",
      "18/09/06 11:03:49 INFO teradata.TeradataManager: Converting table import to query: SELECT * FROM \"gi_device_purchase_target\"\n",
      "18/09/06 11:03:50 INFO orm.CompilationManager: HADOOP_MAPRED_HOME is /opt/cloudera/parcels/CDH/lib/hadoop-mapreduce\n",
      "Note: /tmp/sqoop-grigory.ilyashenko/compile/d9b303d8ae543d59d6b15d7f97e29313/gi_device_purchase_target.java uses or overrides a deprecated API.\n",
      "Note: Recompile with -Xlint:deprecation for details.\n",
      "18/09/06 11:03:52 INFO orm.CompilationManager: Writing jar file: /tmp/sqoop-grigory.ilyashenko/compile/d9b303d8ae543d59d6b15d7f97e29313/gi_device_purchase_target.jar\n",
      "18/09/06 11:03:52 INFO teradata.TeradataManager: Beginning Teradata table based import\n",
      "18/09/06 11:03:52 INFO mapreduce.ImportJobBase: Beginning import of gi_device_purchase_target\n",
      "18/09/06 11:03:53 INFO Configuration.deprecation: mapred.jar is deprecated. Instead, use mapreduce.job.jar\n",
      "18/09/06 11:03:54 INFO common.ConnectorPlugin: load plugins in jar:file:/opt/cloudera/parcels/SQOOP_TERADATA_CONNECTOR-1.6c5/sqoop-connector-teradata-1.6c5.jar!/teradata.connector.plugins.xml\n",
      "18/09/06 11:03:56 INFO Configuration.deprecation: mapred.map.tasks is deprecated. Instead, use mapreduce.job.maps\n",
      "18/09/06 11:03:56 INFO processor.TeradataInputProcessor: input preprocessor com.teradata.connector.teradata.processor.TeradataSplitByValueProcessor starts at:  1536221036139\n",
      "18/09/06 11:03:56 INFO utils.TeradataUtils: the input database product is Teradata\n",
      "18/09/06 11:03:56 INFO utils.TeradataUtils: the input database version is 15.10\n",
      "18/09/06 11:03:56 INFO utils.TeradataUtils: the jdbc driver version is 15.10\n",
      "18/09/06 11:03:59 WARN utils.TeradataUtils: Failed to get the Teradata connector for hadoop version number.\n",
      "18/09/06 11:03:59 INFO processor.TeradataInputProcessor: the teradata connector for hadoop version is: \n",
      "18/09/06 11:03:59 INFO processor.TeradataInputProcessor: input jdbc properties are jdbc:teradata://10.78.245.130/DATABASE=UAT_DM\n",
      "18/09/06 11:04:00 INFO processor.TeradataInputProcessor: the number of mappers are 1\n",
      "18/09/06 11:04:00 INFO processor.TeradataInputProcessor: input preprocessor com.teradata.connector.teradata.processor.TeradataSplitByValueProcessor ends at:  1536221040813\n",
      "18/09/06 11:04:00 INFO processor.TeradataInputProcessor: the total elapsed time of input preprocessor com.teradata.connector.teradata.processor.TeradataSplitByValueProcessor is: 4s\n",
      "18/09/06 11:04:00 INFO Configuration.deprecation: mapred.output.dir is deprecated. Instead, use mapreduce.output.fileoutputformat.outputdir\n",
      "18/09/06 11:04:01 INFO client.ConfiguredRMFailoverProxyProvider: Failing over to rm659\n",
      "18/09/06 11:04:08 INFO client.ConfiguredRMFailoverProxyProvider: Failing over to rm659\n",
      "18/09/06 11:04:08 WARN mapred.ResourceMgrDelegate: getBlacklistedTrackers - Not implemented yet\n",
      "18/09/06 11:04:09 INFO mapreduce.JobSubmitter: number of splits:1\n",
      "18/09/06 11:04:09 INFO mapreduce.JobSubmitter: Submitting tokens for job: job_1533659478040_28761\n",
      "18/09/06 11:04:10 INFO impl.YarnClientImpl: Submitted application application_1533659478040_28761\n",
      "18/09/06 11:04:10 INFO mapreduce.Job: The url to track the job: http://t2ru-bda-mnp-003.corp.tele2.ru:8088/proxy/application_1533659478040_28761/\n",
      "18/09/06 11:04:10 INFO mapreduce.Job: Running job: job_1533659478040_28761\n",
      "18/09/06 11:04:29 INFO mapreduce.Job: Job job_1533659478040_28761 running in uber mode : false\n",
      "18/09/06 11:04:29 INFO mapreduce.Job:  map 0% reduce 0%\n"
     ]
    }
   ],
   "source": [
    "# target-dir must not exists\n",
    "sqoop import --connect jdbc:teradata://10.78.245.130/DATABASE=UAT_DM --username ILYASHENKO_GA --password PASS \\\n",
    "--table gi_device_purchase_target --num-mappers 1 --target-dir /user/grigory.ilyashenko/device_purchase_target --split-by subs_id "
   ]
  }
 ],
 "metadata": {
  "kernelspec": {
   "display_name": "Bash",
   "language": "bash",
   "name": "bash"
  },
  "language_info": {
   "codemirror_mode": "shell",
   "file_extension": ".sh",
   "mimetype": "text/x-sh",
   "name": "bash"
  }
 },
 "nbformat": 4,
 "nbformat_minor": 2
}
