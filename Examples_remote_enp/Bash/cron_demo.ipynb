{
 "cells": [
  {
   "cell_type": "markdown",
   "metadata": {},
   "source": [
    "### Постановка ноутбука на расписание"
   ]
  },
  {
   "cell_type": "code",
   "execution_count": 1,
   "metadata": {
    "collapsed": false
   },
   "outputs": [
    {
     "name": "stdout",
     "output_type": "stream",
     "text": [
      "[NbConvertApp] Converting notebook /home/grigory.ilyashenko/demo/demo.ipynb to html\n",
      "[NbConvertApp] Executing notebook with kernel: python3\n",
      "[NbConvertApp] Writing 248817 bytes to /home/grigory.ilyashenko/demo/demo.html\n"
     ]
    }
   ],
   "source": [
    "# check that nbconvert works\n",
    "# ~/folder/notebook\n",
    "/usr/local/bin/jupyter nbconvert --execute ~/demo/demo.ipynb"
   ]
  },
  {
   "cell_type": "code",
   "execution_count": 2,
   "metadata": {
    "collapsed": false
   },
   "outputs": [
    {
     "name": "stdout",
     "output_type": "stream",
     "text": [
      "50 14 * * * /usr/local/bin/jupyter nbconvert --execute ~/BigThreeNews/BigThreeNews_smtp_test.ipynb\n",
      "30 15 * * * /usr/local/bin/jupyter nbconvert --execute ~/BigThreeNews/BigThreeNews_smtp_prod.ipynb\n",
      "31 15 * * * /usr/local/bin/jupyter nbconvert --execute ~/BigThreeTariffsBundle/BigThreeTariffBundle_smtp_test.ipynb\n",
      "00 16 * * * /usr/local/bin/jupyter nbconvert --execute ~/BigThreeTariffsBundle/BigThreeTariffBundle_smtp_prod.ipynb\n"
     ]
    }
   ],
   "source": [
    "# get current cron file\n",
    "crontab -l"
   ]
  },
  {
   "cell_type": "code",
   "execution_count": null,
   "metadata": {
    "collapsed": true
   },
   "outputs": [],
   "source": [
    "# setup cron task\n",
    "crontab -l > mycron\n",
    "# echo new cron into cron file\n",
    "echo \"50 14 * * * /usr/local/bin/jupyter nbconvert --execute ~/demo/demo.ipynb\" >> mycron\n",
    "# install new cron file\n",
    "crontab mycron\n",
    "rm mycron"
   ]
  },
  {
   "cell_type": "code",
   "execution_count": null,
   "metadata": {
    "collapsed": true
   },
   "outputs": [],
   "source": [
    "# remove all cron jobs\n",
    "touch mycron\n",
    "crontab mycron\n",
    "rm mycron"
   ]
  }
 ],
 "metadata": {
  "kernelspec": {
   "display_name": "Bash",
   "language": "bash",
   "name": "bash"
  },
  "language_info": {
   "codemirror_mode": "shell",
   "file_extension": ".sh",
   "mimetype": "text/x-sh",
   "name": "bash"
  }
 },
 "nbformat": 4,
 "nbformat_minor": 2
}
