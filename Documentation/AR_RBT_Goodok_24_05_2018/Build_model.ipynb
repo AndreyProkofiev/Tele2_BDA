{
 "cells": [
  {
   "cell_type": "code",
   "execution_count": 2,
   "metadata": {
    "collapsed": false,
    "deletable": true,
    "editable": true
   },
   "outputs": [],
   "source": [
    "# from hdfs import InsecureClient\n",
    "# import dask.dataframe as dd\n",
    "# import pandas as pd\n",
    "# import numpy as np\n",
    "# import os\n",
    "# import posixpath as psp\n",
    "# import datetime\n",
    "# import xgboost as xgb\n",
    "# import csv\n",
    "# client = InsecureClient('http://t2ru-bda-mnp-003:14000', user='alexander.rass')\n",
    "# PATH = r'/user/hive/warehouse/uat_dm.db/ar_rbt_goodok_march_full_cl_active_p/'\n",
    "\n",
    "# # fpaths = [\n",
    "# #   psp.join(dpath, fname)\n",
    "# #   for dpath, _, fnames in client.walk(PATH)\n",
    "# #   for fname in fnames\n",
    "# # ]\n",
    "# # for i, path in enumerate(fpaths):\n",
    "# #     print(i)\n",
    "# #     client.download(path, 'data/'+ '_' + str(i)+'.parquet')\n",
    "\n",
    "# files = client.list(PATH, status=True)\n",
    "# for file_name, file_info in files:\n",
    "#     if file_info['type'] == 'FILE':\n",
    "#         path = PATH + file_name\n",
    "#         print(client.status(path))\n",
    "#         client.download(path, 'data/')"
   ]
  },
  {
   "cell_type": "markdown",
   "metadata": {
    "deletable": true,
    "editable": true
   },
   "source": [
    "# В следующей клетке нужно раскомментить вторую строчку чтобы читать все файлы, первая сделана для быстрого примера"
   ]
  },
  {
   "cell_type": "code",
   "execution_count": 1,
   "metadata": {
    "collapsed": true,
    "deletable": true,
    "editable": true
   },
   "outputs": [],
   "source": [
    "from hdfs import InsecureClient\n",
    "import dask.dataframe as dd\n",
    "import pandas as pd\n",
    "import numpy as np\n",
    "import os\n",
    "import posixpath as psp\n",
    "import datetime\n",
    "import xgboost as xgb\n",
    "import csv\n",
    "#filename = os.path.join('data', '*1.parquet')\n",
    "filename = os.path.join('data', '*.parq')"
   ]
  },
  {
   "cell_type": "code",
   "execution_count": 2,
   "metadata": {
    "collapsed": false,
    "deletable": true,
    "editable": true,
    "scrolled": false
   },
   "outputs": [
    {
     "data": {
      "text/html": [
       "<table style=\"border: 2px solid white;\">\n",
       "<tr>\n",
       "<td style=\"vertical-align: top; border: 0px solid white\">\n",
       "<h3>Client</h3>\n",
       "<ul>\n",
       "  <li><b>Scheduler: </b>tcp://127.0.0.1:35501\n",
       "  <li><b>Dashboard: </b><a href='http://127.0.0.1:8787' target='_blank'>http://127.0.0.1:8787</a>\n",
       "</ul>\n",
       "</td>\n",
       "<td style=\"vertical-align: top; border: 0px solid white\">\n",
       "<h3>Cluster</h3>\n",
       "<ul>\n",
       "  <li><b>Workers: </b>8</li>\n",
       "  <li><b>Cores: </b>56</li>\n",
       "  <li><b>Memory: </b>270.18 GB</li>\n",
       "</ul>\n",
       "</td>\n",
       "</tr>\n",
       "</table>"
      ],
      "text/plain": [
       "<Client: scheduler='tcp://127.0.0.1:35501' processes=8 cores=56>"
      ]
     },
     "execution_count": 2,
     "metadata": {},
     "output_type": "execute_result"
    }
   ],
   "source": [
    "from dask.distributed import Client\n",
    "c = Client(n_workers = 8)\n",
    "c"
   ]
  },
  {
   "cell_type": "code",
   "execution_count": 3,
   "metadata": {
    "collapsed": false,
    "deletable": true,
    "editable": true
   },
   "outputs": [],
   "source": [
    "df = dd.read_parquet(path=filename, columns = ['report_date', 'dest_number', 'first_seen', 'last_voice_out', 'last_voice_in'\n",
    ", 'last_msg_out', 'last_msg_in', 'cnt_voice_out', 'cnt_voice_in', 'cnt_msg_out', 'cnt_msg_in'], index = 'subs_id')\n",
    "#df.index = df.index.astype(np.int64)\n",
    "df['dest_number'] = df['dest_number'].astype('category')\n",
    "df['lifetime'] = (df['report_date'] - df['first_seen']).dt.days\n",
    "df['last_contact'] = df.loc[:, ['last_voice_in', 'last_voice_out'\n",
    "                                , 'last_msg_in', 'last_msg_out']].min(axis=1)\n",
    "df['freq_voice'] = (df['cnt_voice_out']+df['cnt_voice_in'])/(df['lifetime']+1)\n",
    "df['freq_msg'] = (df['cnt_msg_out']+df['cnt_msg_in'])/(df['lifetime']+1)\n",
    "df['voice_ratio'] = df['cnt_voice_out']/df['cnt_voice_in']\n",
    "df['msg_ratio'] = df['cnt_msg_out']/df['cnt_msg_in']\n",
    "df.drop(axis=1, labels = ['last_voice_in', 'last_voice_out', 'report_date'\n",
    "                                , 'last_msg_in', 'last_msg_out'])\n",
    "df = c.persist(df)"
   ]
  },
  {
   "cell_type": "code",
   "execution_count": 4,
   "metadata": {
    "collapsed": true,
    "deletable": true,
    "editable": true
   },
   "outputs": [],
   "source": [
    "af = {'cnt_voice_out':'sum'\n",
    "     ,'cnt_voice_in':'sum'\n",
    "     ,'cnt_msg_out':'sum'\n",
    "     ,'cnt_msg_in':'sum'\n",
    "     ,'dest_number':'count'\n",
    "      ,'freq_voice':'mean'\n",
    "      ,'freq_msg':'mean'\n",
    "      ,'voice_ratio':'mean'\n",
    "      ,'msg_ratio':'mean'\n",
    "     ,'lifetime':['max', 'min']\n",
    "     ,'last_contact':['min', 'mean']}\n",
    "cl_agg_all = df.groupby(['subs_id']).agg(af)\n",
    "cl_agg_all.columns = [' '.join(col).strip() for col in cl_agg_all.columns.values]\n",
    "cl_agg_all = c.persist(cl_agg_all)"
   ]
  },
  {
   "cell_type": "code",
   "execution_count": 5,
   "metadata": {
    "collapsed": false,
    "deletable": true,
    "editable": true
   },
   "outputs": [
    {
     "name": "stdout",
     "output_type": "stream",
     "text": [
      "CPU times: user 1min 59s, sys: 36.2 s, total: 2min 35s\n",
      "Wall time: 12min 51s\n"
     ]
    }
   ],
   "source": [
    "%%time\n",
    "features_base = ['dest_number count', 'voice_ratio mean', 'freq_msg mean',\n",
    "       'lifetime max', 'lifetime min', 'cnt_voice_out sum', 'cnt_msg_out sum',\n",
    "       'freq_voice mean', 'cnt_msg_in sum', 'cnt_voice_in sum',\n",
    "       'msg_ratio mean', 'last_contact min', 'last_contact mean']\n",
    "\n",
    "freq = [\n",
    "b'OKru',b'DpyrBokpyr',b'Google',b'4446',b'MMS',b'4449',b'5557',b'QIWIWallet',b'MailRu',b'WhatsApp',b'WEBBANKIR',\n",
    "b'Bistrodengi',b'Youla',b'OTTService',b'Access',b'159',b'Avito',b'SBERBANK',b'545',b'78007072279',b'ekapusta',\n",
    "b'SMSfinance',b'MSG',b'Yandex',b'sangistil',b'78005050400',b'mili.ru',b'597',b'15400',b'73422700006',b'LICARD',\n",
    "b'Zaymer.ru',b'CLUB-LUKOIL',b'78001000800',b'moneyman',b'tabor.ru',b'gogomusic.net',b'Denga',b'VashiDengi',\n",
    "b'VIVADENGI',b'centrofin',b'SMS',b'MigCredit',b'aptOtSklada',b'ICQ',b'Viber',b'Chitaensbit',b'74957923097',\n",
    "b'74957923096',b'Medlab.',b'OTKRITIE',b'pecom.ru',b'74992905223',b'r-ulybka.ru',b'Partner',b'RGS',b'Facebook',b'Aeroflot'\n",
    "]\n",
    "\n",
    "df_cast = df[df['dest_number'].isin(freq)]\n",
    "df_cast['dest_number'] = df_cast['dest_number'].cat.set_categories(freq)\n",
    "df_cast = df_cast.pivot_table(index='subs_id', columns='dest_number',values='last_contact')\n",
    "df_cast = cl_agg_all.merge(df_cast, left_index=True, right_index=True, how = 'left')\n",
    "dt = df_cast.compute()\n",
    "#c.cancel(df)"
   ]
  },
  {
   "cell_type": "code",
   "execution_count": 34,
   "metadata": {
    "collapsed": false
   },
   "outputs": [],
   "source": [
    "#dt.columns[dt.columns.isin(freq)] = dt.columns[dt.columns.isin(freq)].str.decode('utf-8')\n",
    "#t.columns\n",
    "dt.columns = features_base+[f.decode('utf-8') for f in freq]"
   ]
  },
  {
   "cell_type": "code",
   "execution_count": 42,
   "metadata": {
    "collapsed": true
   },
   "outputs": [],
   "source": [
    "label = dd.read_csv('label.csv').compute()\n",
    "label.sort_values(by= ['subs_id', 'label'], inplace=True)\n",
    "label.drop_duplicates(subset=['subs_id'], inplace =True)\n",
    "label = label.set_index('subs_id')\n",
    "train = dt.merge(label, how = 'left', left_index=True, right_index=True)\n",
    "train.to_parquet('train.parquet')"
   ]
  },
  {
   "cell_type": "code",
   "execution_count": 59,
   "metadata": {
    "collapsed": false,
    "deletable": true,
    "editable": true
   },
   "outputs": [],
   "source": [
    "booster = xgb.Booster()\n",
    "booster.load_model('rbt_xgb.xgb')"
   ]
  },
  {
   "cell_type": "code",
   "execution_count": 62,
   "metadata": {
    "collapsed": true
   },
   "outputs": [],
   "source": [
    "features = dt.columns\n",
    "dtest = xgb.DMatrix(data = dt[features].values, feature_names = features\n",
    "                    , missing = np.nan)\n"
   ]
  },
  {
   "cell_type": "code",
   "execution_count": 63,
   "metadata": {
    "collapsed": true
   },
   "outputs": [],
   "source": [
    "dt['pred'] = booster.predict(dtest)"
   ]
  }
 ],
 "metadata": {
  "kernelspec": {
   "display_name": "Conda Python 3.6",
   "language": "python",
   "name": "py36_conda"
  },
  "language_info": {
   "codemirror_mode": {
    "name": "ipython",
    "version": 3
   },
   "file_extension": ".py",
   "mimetype": "text/x-python",
   "name": "python",
   "nbconvert_exporter": "python",
   "pygments_lexer": "ipython3",
   "version": "3.6.4"
  }
 },
 "nbformat": 4,
 "nbformat_minor": 2
}
