{
 "cells": [
  {
   "cell_type": "code",
   "execution_count": 1,
   "metadata": {
    "collapsed": true
   },
   "outputs": [],
   "source": [
    "import numpy as np\n",
    "from sklearn import metrics\n",
    "import matplotlib.pyplot as plt\n",
    "true_class = np.random.choice([0, 1], size=3000)"
   ]
  },
  {
   "cell_type": "code",
   "execution_count": 2,
   "metadata": {
    "collapsed": false
   },
   "outputs": [],
   "source": [
    "predictions = np.random.uniform(low=0, high=1, size=3000)"
   ]
  },
  {
   "cell_type": "code",
   "execution_count": 3,
   "metadata": {
    "collapsed": false
   },
   "outputs": [],
   "source": [
    "thresholds = np.arange(1, 0, -0.01)"
   ]
  },
  {
   "cell_type": "code",
   "execution_count": 4,
   "metadata": {
    "collapsed": false,
    "scrolled": true
   },
   "outputs": [
    {
     "name": "stdout",
     "output_type": "stream",
     "text": [
      "[1 1 1 1 1 0 1 1 1 0] [ 0.73021212  0.21878345  0.02869216  0.31627144  0.31445762  0.55204834\n",
      "  0.50179393  0.15007752  0.71324632  0.87190116] [ 1.    0.99  0.98  0.97  0.96  0.95  0.94  0.93  0.92  0.91]\n"
     ]
    }
   ],
   "source": [
    "print(true_class[:10], predictions[:10], thresholds[:10])"
   ]
  },
  {
   "cell_type": "markdown",
   "metadata": {},
   "source": [
    "## Lets take a single threshold and calculate True Positive, True Negative, False Positive, False Negative"
   ]
  },
  {
   "cell_type": "code",
   "execution_count": 5,
   "metadata": {
    "collapsed": false
   },
   "outputs": [
    {
     "name": "stdout",
     "output_type": "stream",
     "text": [
      "14 1494 14 1478\n"
     ]
    }
   ],
   "source": [
    "threshold = 0.99\n",
    "TP = sum((predictions > threshold) & (true_class==1))\n",
    "TN = sum((predictions < threshold) & (true_class==0))\n",
    "FP = sum((predictions > threshold) & (true_class==1))\n",
    "FN = sum((predictions < threshold) & (true_class==1))\n",
    "print(TP, TN, FP, FN)"
   ]
  },
  {
   "cell_type": "markdown",
   "metadata": {},
   "source": [
    "## Since threshold is pretty low, we can see that  true negative and false negative are both also low. Now let's calculate False Positive Rate and True Positive Rate"
   ]
  },
  {
   "cell_type": "code",
   "execution_count": 6,
   "metadata": {
    "collapsed": false
   },
   "outputs": [
    {
     "name": "stdout",
     "output_type": "stream",
     "text": [
      "0.00928381962865 0.00938337801609\n"
     ]
    }
   ],
   "source": [
    "FPR = FP/(FP+TN)\n",
    "TPR = TP/(TP+FN)\n",
    "print(FPR, TPR)"
   ]
  },
  {
   "cell_type": "markdown",
   "metadata": {},
   "source": [
    "## We can see that FPR&TPR are pretty close to 0"
   ]
  },
  {
   "cell_type": "code",
   "execution_count": 7,
   "metadata": {
    "collapsed": false
   },
   "outputs": [],
   "source": [
    "FPR = []\n",
    "TPR = []\n",
    "for threshold in thresholds:\n",
    "    TP = sum((predictions > threshold) & (true_class==1))\n",
    "    TN = sum((predictions < threshold) & (true_class==0))\n",
    "    FP = sum((predictions > threshold) & (true_class==0))\n",
    "    FN = sum((predictions < threshold) & (true_class==1))\n",
    "    FPR.append(FP/(FP+TN))\n",
    "    TPR.append(TP/(TP+FN))"
   ]
  },
  {
   "cell_type": "code",
   "execution_count": 8,
   "metadata": {
    "collapsed": false,
    "scrolled": false
   },
   "outputs": [
    {
     "data": {
      "image/png": "[encoded data removed]",
      "text/plain": [
       "<matplotlib.figure.Figure at 0x8c29400>"
      ]
     },
     "metadata": {},
     "output_type": "display_data"
    }
   ],
   "source": [
    "import matplotlib.pyplot as plt\n",
    "\n",
    "plt.plot(FPR, TPR)\n",
    "plt.show()"
   ]
  },
  {
   "cell_type": "markdown",
   "metadata": {},
   "source": [
    "## We can see that the ROC is a straight line, and the area under the curve is about 0.5 (since it's a right triangle with two legs equal to 1)"
   ]
  },
  {
   "cell_type": "code",
   "execution_count": 9,
   "metadata": {
    "collapsed": false
   },
   "outputs": [],
   "source": [
    "better_predictions = (predictions + 0.1*true_class)/1.1"
   ]
  },
  {
   "cell_type": "code",
   "execution_count": 10,
   "metadata": {
    "collapsed": false
   },
   "outputs": [
    {
     "data": {
      "image/png": "[encoded data removed]",
      "text/plain": [
       "<matplotlib.figure.Figure at 0x90435c0>"
      ]
     },
     "metadata": {},
     "output_type": "display_data"
    }
   ],
   "source": [
    "FPR = []\n",
    "TPR = []\n",
    "for threshold in thresholds:\n",
    "    TP = sum((better_predictions > threshold) & (true_class==1))\n",
    "    TN = sum((better_predictions < threshold) & (true_class==0))\n",
    "    FP = sum((better_predictions > threshold) & (true_class==0))\n",
    "    FN = sum((better_predictions < threshold) & (true_class==1))\n",
    "    FPR.append(FP/(FP+TN))\n",
    "    TPR.append(TP/(TP+FN))\n",
    "plt.plot(FPR, TPR)\n",
    "plt.show()"
   ]
  },
  {
   "cell_type": "markdown",
   "metadata": {},
   "source": [
    "## We can see that the new ROC is slightly above a straight line, so the area under it would be > 0.5. Let's now see how ROC changes while we get progressively closer to true predictions"
   ]
  },
  {
   "cell_type": "code",
   "execution_count": 11,
   "metadata": {
    "collapsed": false
   },
   "outputs": [
    {
     "data": {
      "image/png": "[encoded data removed]",
      "text/plain": [
       "<matplotlib.figure.Figure at 0xa0537f0>"
      ]
     },
     "metadata": {},
     "output_type": "display_data"
    }
   ],
   "source": [
    "def ROC(trues, preds):\n",
    "    threshs = np.arange(1.0, 0, -0.001)\n",
    "    FPR = []\n",
    "    TPR = []\n",
    "    for threshold in threshs:\n",
    "        TP = sum((preds > threshold) & (trues==1))\n",
    "        TN = sum((preds < threshold) & (trues==0))\n",
    "        FP = sum((preds > threshold) & (trues==0))\n",
    "        FN = sum((preds < threshold) & (trues==1))\n",
    "        FPR.append(FP/(FP+TN))\n",
    "        TPR.append(TP/(TP+FN))\n",
    "    return FPR, TPR\n",
    "\n",
    "weights = np.arange(0.0, 1.0, 0.1)\n",
    "for weight in weights:\n",
    "    better_predictions = (predictions + weight*true_class)/(1+weight)\n",
    "    FPR, TPR = ROC(true_class, better_predictions)\n",
    "    plt.plot(FPR, TPR)\n",
    "plt.show()"
   ]
  },
  {
   "cell_type": "markdown",
   "metadata": {},
   "source": [
    "## We can see that as our predictions are becoming better the ROC gets higher and higher, until it gets close to almost 1 (a square with side = 1). Now let's calculate the *approximate* value of ROC AUC for our last set of predictions"
   ]
  },
  {
   "cell_type": "code",
   "execution_count": 12,
   "metadata": {
    "collapsed": false
   },
   "outputs": [
    {
     "name": "stdout",
     "output_type": "stream",
     "text": [
      "0.989973048122\n"
     ]
    }
   ],
   "source": [
    "inds = sorted([FPR.index(x) for x in set(FPR)])\n",
    "FPR_unique = [FPR[i] for i in inds]\n",
    "TPR_unique = [TPR[i] for i in inds]\n",
    "FPR_diff = [t - s for s, t in zip(FPR_unique, FPR_unique[1:])]\n",
    "auc = sum([x*y for (x, y) in zip(FPR_diff, TPR_unique)])\n",
    "print(auc)"
   ]
  },
  {
   "cell_type": "markdown",
   "metadata": {},
   "source": [
    "## Lets now check our calculations with sklearn and see that the results are close"
   ]
  },
  {
   "cell_type": "code",
   "execution_count": 224,
   "metadata": {
    "collapsed": false
   },
   "outputs": [
    {
     "name": "stdout",
     "output_type": "stream",
     "text": [
      "0.50375102911 0.505241571965\n",
      "0.598354935017 0.599933496806\n",
      "0.682541933465 0.684459234787\n",
      "0.75679968491 0.758877020657\n",
      "0.820042177962 0.822270657333\n",
      "0.87436675267 0.87678104979\n",
      "0.917680069846 0.92094521666\n",
      "0.95144733356 0.955347283593\n",
      "0.976659423627 0.979860556671\n",
      "0.991870251201 0.99517096122\n"
     ]
    }
   ],
   "source": [
    "weights = np.arange(0.0, 1.0, 0.1)\n",
    "for weight in weights:\n",
    "    better_predictions = (predictions + weight*true_class)/(1+weight)\n",
    "    FPR, TPR = ROC(true_class, better_predictions)\n",
    "    inds = sorted([FPR.index(x) for x in set(FPR)])\n",
    "    FPR_unique = [FPR[i] for i in inds]\n",
    "    TPR_unique = [TPR[i] for i in inds]\n",
    "    FPR_diff = [t - s for s, t in zip(FPR_unique, FPR_unique[1:])]\n",
    "    auc = sum([x*y for (x, y) in zip(FPR_diff, TPR_unique)])\n",
    "    fpr, tpr, thresholds = metrics.roc_curve(true_class, better_predictions, pos_label=1)\n",
    "    print(auc, metrics.auc(fpr, tpr))"
   ]
  },
  {
   "cell_type": "markdown",
   "metadata": {},
   "source": [
    "## Lastly, we will check out an easier way to interpret ROC AUC: the probability of correctly rating a pair of one and zero from true_class"
   ]
  },
  {
   "cell_type": "code",
   "execution_count": 37,
   "metadata": {
    "collapsed": false
   },
   "outputs": [],
   "source": [
    "pos_ones = np.where(true_class == 1)[0]\n",
    "pos_zeroes = np.where(true_class == 0)[0]"
   ]
  },
  {
   "cell_type": "code",
   "execution_count": 38,
   "metadata": {
    "collapsed": false
   },
   "outputs": [],
   "source": [
    "successes = 0\n",
    "for i in range(10000):\n",
    "    if (better_predictions[np.random.choice(pos_ones, 1)[0]] >\n",
    "        better_predictions[np.random.choice(pos_zeroes, 1)[0]]):\n",
    "        successes+=1\n",
    "auc = successes/10000"
   ]
  },
  {
   "cell_type": "markdown",
   "metadata": {},
   "source": [
    "## Compare it to sklearn:"
   ]
  },
  {
   "cell_type": "code",
   "execution_count": 39,
   "metadata": {
    "collapsed": false
   },
   "outputs": [
    {
     "name": "stdout",
     "output_type": "stream",
     "text": [
      "0.491554 0.492132665107\n",
      "0.588648 0.587810942178\n",
      "0.67322 0.672599131709\n",
      "0.747554 0.747266144459\n",
      "0.813307 0.812390663557\n",
      "0.869626 0.869163389536\n",
      "0.91654 0.916864301918\n",
      "0.953167 0.953392896509\n",
      "0.979254 0.979036737045\n",
      "0.994577 0.994647847761\n"
     ]
    }
   ],
   "source": [
    "weights = np.arange(0.0, 1.0, 0.1)\n",
    "num_experiments = 100000\n",
    "for weight in weights:\n",
    "    successes = 0\n",
    "    better_predictions = (predictions + weight*true_class)/(1+weight)\n",
    "    for i in range(num_experiments):\n",
    "        if (better_predictions[np.random.choice(pos_ones, 1)[0]] >\n",
    "            better_predictions[np.random.choice(pos_zeroes, 1)[0]]):\n",
    "            successes+=1\n",
    "    auc = successes/num_experiments\n",
    "    fpr, tpr, thresholds = metrics.roc_curve(true_class, better_predictions, pos_label=1)\n",
    "    print(auc, metrics.auc(fpr, tpr))"
   ]
  }
 ],
 "metadata": {
  "anaconda-cloud": {},
  "kernelspec": {
   "display_name": "Python [default]",
   "language": "python",
   "name": "python3"
  },
  "language_info": {
   "codemirror_mode": {
    "name": "ipython",
    "version": 3
   },
   "file_extension": ".py",
   "mimetype": "text/x-python",
   "name": "python",
   "nbconvert_exporter": "python",
   "pygments_lexer": "ipython3",
   "version": "3.5.2"
  }
 },
 "nbformat": 4,
 "nbformat_minor": 2
}
