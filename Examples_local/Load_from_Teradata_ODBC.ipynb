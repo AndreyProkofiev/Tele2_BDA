{
 "cells": [
  {
   "cell_type": "markdown",
   "metadata": {},
   "source": [
    "# Простой пример того, как читать данные из терадаты с помощью ODBC"
   ]
  },
  {
   "cell_type": "code",
   "execution_count": 1,
   "metadata": {},
   "outputs": [],
   "source": [
    "import pyodbc\n",
    "import pandas as pd\n",
    "DSN = 'Teradata' # This name may be different for you"
   ]
  },
  {
   "cell_type": "code",
   "execution_count": 2,
   "metadata": {},
   "outputs": [
    {
     "data": {
      "text/plain": [
       "'2.0'"
      ]
     },
     "execution_count": 2,
     "metadata": {},
     "output_type": "execute_result"
    }
   ],
   "source": [
    "pyodbc.apilevel"
   ]
  },
  {
   "cell_type": "code",
   "execution_count": 3,
   "metadata": {},
   "outputs": [],
   "source": [
    "pyodbc.pooling = False"
   ]
  },
  {
   "cell_type": "code",
   "execution_count": 4,
   "metadata": {},
   "outputs": [],
   "source": [
    "connection = pyodbc.connect('DSN=Teradata')"
   ]
  },
  {
   "cell_type": "code",
   "execution_count": 5,
   "metadata": {},
   "outputs": [],
   "source": [
    "connection.autocommit = True;"
   ]
  },
  {
   "cell_type": "code",
   "execution_count": 6,
   "metadata": {},
   "outputs": [
    {
     "name": "stdout",
     "output_type": "stream",
     "text": [
      "-ODBC version        = 03.80.0000\n",
      "-DBMS name           = Teradata\n",
      "-DBMS version        = 15.10.0705  15.10.07.05\n",
      "-Driver name         = TDATA32.DLL\n",
      "-Driver version      = 15.10.01.01\n",
      "-Driver ODBC version = 03.80\n"
     ]
    }
   ],
   "source": [
    "# print driver and database info\n",
    "print('-ODBC version        =',connection.getinfo(10))\n",
    "print('-DBMS name           =',connection.getinfo(17))\n",
    "print('-DBMS version        =',connection.getinfo(18))\n",
    "print('-Driver name         =',connection.getinfo(6))\n",
    "print('-Driver version      =',connection.getinfo(7))\n",
    "print('-Driver ODBC version =',connection.getinfo(77))"
   ]
  },
  {
   "cell_type": "code",
   "execution_count": 10,
   "metadata": {},
   "outputs": [
    {
     "name": "stdout",
     "output_type": "stream",
     "text": [
      "(122, 20)\n"
     ]
    },
    {
     "data": {
      "text/html": [
       "<div>\n",
       "<style>\n",
       "    .dataframe thead tr:only-child th {\n",
       "        text-align: right;\n",
       "    }\n",
       "\n",
       "    .dataframe thead th {\n",
       "        text-align: left;\n",
       "    }\n",
       "\n",
       "    .dataframe tbody tr th {\n",
       "        vertical-align: top;\n",
       "    }\n",
       "</style>\n",
       "<table border=\"1\" class=\"dataframe\">\n",
       "  <thead>\n",
       "    <tr style=\"text-align: right;\">\n",
       "      <th></th>\n",
       "      <th>ID</th>\n",
       "      <th>BRANCH_ID</th>\n",
       "      <th>DB_ID</th>\n",
       "      <th>BRANCH_NAME</th>\n",
       "      <th>CP_CODE2</th>\n",
       "      <th>CP_CODE3</th>\n",
       "      <th>CLUSTER_NAME</th>\n",
       "      <th>CC_NAME</th>\n",
       "      <th>MACRO_CC_NAME</th>\n",
       "      <th>REGION_CODE</th>\n",
       "      <th>REGION_ID</th>\n",
       "      <th>BRAND_LAUNCH_DATE</th>\n",
       "      <th>CREATION_DTTM</th>\n",
       "      <th>DELETION_DTTM</th>\n",
       "      <th>LAUNCH_COMMENT_3G</th>\n",
       "      <th>LAUNCH_DATE_3G</th>\n",
       "      <th>LAUNCH_DATE_4G</th>\n",
       "      <th>CDR_SWITCH_NAME</th>\n",
       "      <th>TIMESHIFT</th>\n",
       "      <th>WEBSITE</th>\n",
       "    </tr>\n",
       "  </thead>\n",
       "  <tbody>\n",
       "    <tr>\n",
       "      <th>0</th>\n",
       "      <td>109.0</td>\n",
       "      <td>25.0</td>\n",
       "      <td>3.0</td>\n",
       "      <td>Брянск</td>\n",
       "      <td>BR</td>\n",
       "      <td>BRY</td>\n",
       "      <td>Challenger Elite</td>\n",
       "      <td>H7_3_BRY</td>\n",
       "      <td>MR BS - Regions</td>\n",
       "      <td>BRY</td>\n",
       "      <td>8.0</td>\n",
       "      <td>NaT</td>\n",
       "      <td>None</td>\n",
       "      <td>NaT</td>\n",
       "      <td>None</td>\n",
       "      <td>2015-07-02</td>\n",
       "      <td>NaT</td>\n",
       "      <td>BRY</td>\n",
       "      <td>0.0</td>\n",
       "      <td>None</td>\n",
       "    </tr>\n",
       "    <tr>\n",
       "      <th>1</th>\n",
       "      <td>24.0</td>\n",
       "      <td>60.0</td>\n",
       "      <td>2.0</td>\n",
       "      <td>Норильск  NEW</td>\n",
       "      <td>NR</td>\n",
       "      <td>NR1</td>\n",
       "      <td>Challenger</td>\n",
       "      <td>H7_3_KRS</td>\n",
       "      <td>MR Siberia - Regions</td>\n",
       "      <td>KYA</td>\n",
       "      <td>33.0</td>\n",
       "      <td>2015-07-31</td>\n",
       "      <td>2015-02-01 00:00:00</td>\n",
       "      <td>NaT</td>\n",
       "      <td>3G запущен</td>\n",
       "      <td>NaT</td>\n",
       "      <td>NaT</td>\n",
       "      <td>NR3</td>\n",
       "      <td>4.0</td>\n",
       "      <td>None</td>\n",
       "    </tr>\n",
       "    <tr>\n",
       "      <th>2</th>\n",
       "      <td>89.0</td>\n",
       "      <td>195.0</td>\n",
       "      <td>5.0</td>\n",
       "      <td>Москва CDMA</td>\n",
       "      <td>None</td>\n",
       "      <td>None</td>\n",
       "      <td>Share hungry</td>\n",
       "      <td>H7_3_MSS</td>\n",
       "      <td>MR Moscow - Regions</td>\n",
       "      <td>None</td>\n",
       "      <td>40.0</td>\n",
       "      <td>NaT</td>\n",
       "      <td>2016-03-01 00:00:00</td>\n",
       "      <td>2016-11-30</td>\n",
       "      <td>не применимо</td>\n",
       "      <td>NaT</td>\n",
       "      <td>NaT</td>\n",
       "      <td>None</td>\n",
       "      <td>0.0</td>\n",
       "      <td>None</td>\n",
       "    </tr>\n",
       "    <tr>\n",
       "      <th>3</th>\n",
       "      <td>27.0</td>\n",
       "      <td>15.0</td>\n",
       "      <td>1.0</td>\n",
       "      <td>Липецк</td>\n",
       "      <td>LI</td>\n",
       "      <td>LIP</td>\n",
       "      <td>Challenger Elite</td>\n",
       "      <td>H7_3_LIP</td>\n",
       "      <td>MR BS - Regions</td>\n",
       "      <td>LIP</td>\n",
       "      <td>36.0</td>\n",
       "      <td>NaT</td>\n",
       "      <td>None</td>\n",
       "      <td>NaT</td>\n",
       "      <td>None</td>\n",
       "      <td>2015-04-29</td>\n",
       "      <td>NaT</td>\n",
       "      <td>LIP</td>\n",
       "      <td>0.0</td>\n",
       "      <td>None</td>\n",
       "    </tr>\n",
       "    <tr>\n",
       "      <th>4</th>\n",
       "      <td>126.0</td>\n",
       "      <td>NaN</td>\n",
       "      <td>NaN</td>\n",
       "      <td>Челябинск (APEKS)</td>\n",
       "      <td>None</td>\n",
       "      <td>None</td>\n",
       "      <td>Defender</td>\n",
       "      <td>H7_3_CHS</td>\n",
       "      <td>MR Ural - Regions</td>\n",
       "      <td>None</td>\n",
       "      <td>71.0</td>\n",
       "      <td>NaT</td>\n",
       "      <td>None</td>\n",
       "      <td>NaT</td>\n",
       "      <td>None</td>\n",
       "      <td>NaT</td>\n",
       "      <td>NaT</td>\n",
       "      <td>None</td>\n",
       "      <td>NaN</td>\n",
       "      <td>None</td>\n",
       "    </tr>\n",
       "  </tbody>\n",
       "</table>\n",
       "</div>"
      ],
      "text/plain": [
       "      ID  BRANCH_ID  DB_ID        BRANCH_NAME CP_CODE2 CP_CODE3  \\\n",
       "0  109.0       25.0    3.0             Брянск       BR      BRY   \n",
       "1   24.0       60.0    2.0      Норильск  NEW       NR      NR1   \n",
       "2   89.0      195.0    5.0        Москва CDMA     None     None   \n",
       "3   27.0       15.0    1.0             Липецк       LI      LIP   \n",
       "4  126.0        NaN    NaN  Челябинск (APEKS)     None     None   \n",
       "\n",
       "       CLUSTER_NAME   CC_NAME         MACRO_CC_NAME REGION_CODE  REGION_ID  \\\n",
       "0  Challenger Elite  H7_3_BRY       MR BS - Regions         BRY        8.0   \n",
       "1        Challenger  H7_3_KRS  MR Siberia - Regions         KYA       33.0   \n",
       "2      Share hungry  H7_3_MSS   MR Moscow - Regions        None       40.0   \n",
       "3  Challenger Elite  H7_3_LIP       MR BS - Regions         LIP       36.0   \n",
       "4          Defender  H7_3_CHS     MR Ural - Regions        None       71.0   \n",
       "\n",
       "  BRAND_LAUNCH_DATE        CREATION_DTTM DELETION_DTTM LAUNCH_COMMENT_3G  \\\n",
       "0               NaT                 None           NaT              None   \n",
       "1        2015-07-31  2015-02-01 00:00:00           NaT        3G запущен   \n",
       "2               NaT  2016-03-01 00:00:00    2016-11-30      не применимо   \n",
       "3               NaT                 None           NaT              None   \n",
       "4               NaT                 None           NaT              None   \n",
       "\n",
       "  LAUNCH_DATE_3G LAUNCH_DATE_4G CDR_SWITCH_NAME  TIMESHIFT WEBSITE  \n",
       "0     2015-07-02            NaT             BRY        0.0    None  \n",
       "1            NaT            NaT             NR3        4.0    None  \n",
       "2            NaT            NaT            None        0.0    None  \n",
       "3     2015-04-29            NaT             LIP        0.0    None  \n",
       "4            NaT            NaT            None        NaN    None  "
      ]
     },
     "execution_count": 10,
     "metadata": {},
     "output_type": "execute_result"
    }
   ],
   "source": [
    "sql = \"SELECT * FROM PRD2_DIC_V.BRANCH\"\n",
    "\n",
    "\n",
    "data = pd.read_sql(sql, connection)\n",
    "print(data.shape)\n",
    "data.head()"
   ]
  }
 ],
 "metadata": {
  "kernelspec": {
   "display_name": "Python [default]",
   "language": "python",
   "name": "python3"
  },
  "language_info": {
   "codemirror_mode": {
    "name": "ipython",
    "version": 3
   },
   "file_extension": ".py",
   "mimetype": "text/x-python",
   "name": "python",
   "nbconvert_exporter": "python",
   "pygments_lexer": "ipython3",
   "version": "3.5.2"
  }
 },
 "nbformat": 4,
 "nbformat_minor": 2
}
