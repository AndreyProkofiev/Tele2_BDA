{
 "cells": [
  {
   "cell_type": "code",
   "execution_count": null,
   "metadata": {
    "collapsed": false,
    "deletable": true,
    "editable": true
   },
   "outputs": [],
   "source": [
    "# launch standard version\n",
    "output_directory=h2o_`date +\"%Y-%m-%d_%H-%M-%S\"`_$RANDOM\n",
    "hadoop jar /opt/h2o/h2o-3.14.0.2-cdh5.10/h2odriver.jar -ldap_login -login_conf /etc/h2o/ldap.conf -nodes 16 -mapperXmx 16g -output h2o_output/$output_directory -notify info.txt"
   ]
  },
  {
   "cell_type": "code",
   "execution_count": null,
   "metadata": {
    "collapsed": false,
    "deletable": true,
    "editable": true,
    "scrolled": true
   },
   "outputs": [],
   "source": [
    "# launch custom version\n",
    "output_directory=h2o_`date +\"%Y-%m-%d_%H-%M-%S\"`_$RANDOM\n",
    "hadoop jar /home/andrey.lukyanenko/h2odriver_hadoop26.jar -ldap_login -login_conf /etc/h2o/ldap.conf -nodes 20 -mapperXmx 10g -output h2o_output/$output_directory -notify info.txt"
   ]
  },
  {
   "cell_type": "code",
   "execution_count": null,
   "metadata": {
    "collapsed": true,
    "deletable": true,
    "editable": true
   },
   "outputs": [],
   "source": []
  }
 ],
 "metadata": {
  "kernelspec": {
   "display_name": "Bash",
   "language": "bash",
   "name": "bash"
  },
  "language_info": {
   "codemirror_mode": "shell",
   "file_extension": ".sh",
   "mimetype": "text/x-sh",
   "name": "bash"
  },
  "toc": {
   "nav_menu": {},
   "number_sections": true,
   "sideBar": true,
   "skip_h1_title": false,
   "toc_cell": true,
   "toc_position": {},
   "toc_section_display": "block",
   "toc_window_display": true
  }
 },
 "nbformat": 4,
 "nbformat_minor": 2
}
