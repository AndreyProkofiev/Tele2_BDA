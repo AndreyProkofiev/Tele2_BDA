{
 "cells": [
  {
   "cell_type": "markdown",
   "metadata": {
    "deletable": true,
    "editable": true
   },
   "source": [
    "# H2O\n",
    "\n"
   ]
  },
  {
   "cell_type": "code",
   "execution_count": 5,
   "metadata": {
    "collapsed": false,
    "deletable": true,
    "editable": true
   },
   "outputs": [],
   "source": [
    "#import turbodbc\n",
    "import numpy as np\n",
    "import pandas as pd\n",
    "import datetime\n",
    "import sys\n",
    "sys.path.insert(0, \"/opt/h2o/h2o-3.14.0.2-python-bin-with-deps.zip\")\n",
    "\n",
    "import h2o\n",
    "import configparser"
   ]
  },
  {
   "cell_type": "code",
   "execution_count": 8,
   "metadata": {
    "collapsed": false
   },
   "outputs": [],
   "source": [
    "config = configparser.ConfigParser()\n",
    "config.read('settings.ini')\n",
    "login = config['MAIN']['login']\n",
    "password = config['MAIN']['password']"
   ]
  },
  {
   "cell_type": "markdown",
   "metadata": {
    "deletable": true,
    "editable": true
   },
   "source": [
    "## Launching"
   ]
  },
  {
   "cell_type": "code",
   "execution_count": 115,
   "metadata": {
    "collapsed": false,
    "deletable": true,
    "editable": true
   },
   "outputs": [
    {
     "name": "stdout",
     "output_type": "stream",
     "text": [
      "Connecting to H2O server at http://10.12.49.29:54321... successful.\n"
     ]
    },
    {
     "data": {
      "text/html": [
       "<div style=\"overflow:auto\"><table style=\"width:50%\"><tr><td>H2O cluster uptime:</td>\n",
       "<td>55 secs</td></tr>\n",
       "<tr><td>H2O cluster version:</td>\n",
       "<td>3.14.0.2</td></tr>\n",
       "<tr><td>H2O cluster version age:</td>\n",
       "<td>11 months and 22 days !!!</td></tr>\n",
       "<tr><td>H2O cluster name:</td>\n",
       "<td>H2O_91218</td></tr>\n",
       "<tr><td>H2O cluster total nodes:</td>\n",
       "<td>20</td></tr>\n",
       "<tr><td>H2O cluster free memory:</td>\n",
       "<td>191.7 Gb</td></tr>\n",
       "<tr><td>H2O cluster total cores:</td>\n",
       "<td>560</td></tr>\n",
       "<tr><td>H2O cluster allowed cores:</td>\n",
       "<td>560</td></tr>\n",
       "<tr><td>H2O cluster status:</td>\n",
       "<td>locked, healthy</td></tr>\n",
       "<tr><td>H2O connection url:</td>\n",
       "<td>http://10.12.49.29:54321</td></tr>\n",
       "<tr><td>H2O connection proxy:</td>\n",
       "<td>None</td></tr>\n",
       "<tr><td>H2O internal security:</td>\n",
       "<td>False</td></tr>\n",
       "<tr><td>H2O API Extensions:</td>\n",
       "<td>AutoML, Algos, Core V3, Core V4</td></tr>\n",
       "<tr><td>Python version:</td>\n",
       "<td>3.6.4 final</td></tr></table></div>"
      ],
      "text/plain": [
       "--------------------------  -------------------------------\n",
       "H2O cluster uptime:         55 secs\n",
       "H2O cluster version:        3.14.0.2\n",
       "H2O cluster version age:    11 months and 22 days !!!\n",
       "H2O cluster name:           H2O_91218\n",
       "H2O cluster total nodes:    20\n",
       "H2O cluster free memory:    191.7 Gb\n",
       "H2O cluster total cores:    560\n",
       "H2O cluster allowed cores:  560\n",
       "H2O cluster status:         locked, healthy\n",
       "H2O connection url:         http://10.12.49.29:54321\n",
       "H2O connection proxy:\n",
       "H2O internal security:      False\n",
       "H2O API Extensions:         AutoML, Algos, Core V3, Core V4\n",
       "Python version:             3.6.4 final\n",
       "--------------------------  -------------------------------"
      ]
     },
     "metadata": {},
     "output_type": "display_data"
    },
    {
     "data": {
      "text/plain": [
       "<H2OConnection to http://10.12.49.29:54321, session _sid_a7e8>"
      ]
     },
     "execution_count": 115,
     "metadata": {},
     "output_type": "execute_result"
    }
   ],
   "source": [
    "with open('info.txt') as f:\n",
    "    first_line = f.readline().strip()\n",
    "ip = first_line.split(':')[0]\n",
    "host = first_line.split(':')[1]\n",
    "\n",
    "h2o.connect(ip=ip, port=host, auth = (login, password))"
   ]
  },
  {
   "cell_type": "code",
   "execution_count": 17,
   "metadata": {
    "collapsed": false,
    "deletable": true,
    "editable": true,
    "scrolled": false
   },
   "outputs": [
    {
     "data": {
      "text/html": [
       "<div style=\"overflow:auto\"><table style=\"width:50%\"><tr><td>H2O cluster uptime:</td>\n",
       "<td>46 secs</td></tr>\n",
       "<tr><td>H2O cluster version:</td>\n",
       "<td>3.14.0.2</td></tr>\n",
       "<tr><td>H2O cluster version age:</td>\n",
       "<td>11 months and 22 days !!!</td></tr>\n",
       "<tr><td>H2O cluster name:</td>\n",
       "<td>H2O_47018</td></tr>\n",
       "<tr><td>H2O cluster total nodes:</td>\n",
       "<td>20</td></tr>\n",
       "<tr><td>H2O cluster free memory:</td>\n",
       "<td>191.7 Gb</td></tr>\n",
       "<tr><td>H2O cluster total cores:</td>\n",
       "<td>560</td></tr>\n",
       "<tr><td>H2O cluster allowed cores:</td>\n",
       "<td>560</td></tr>\n",
       "<tr><td>H2O cluster status:</td>\n",
       "<td>locked, healthy</td></tr>\n",
       "<tr><td>H2O connection url:</td>\n",
       "<td>http://10.12.49.63:54327</td></tr>\n",
       "<tr><td>H2O connection proxy:</td>\n",
       "<td>None</td></tr>\n",
       "<tr><td>H2O internal security:</td>\n",
       "<td>False</td></tr>\n",
       "<tr><td>H2O API Extensions:</td>\n",
       "<td>AutoML, Algos, Core V3, Core V4</td></tr>\n",
       "<tr><td>Python version:</td>\n",
       "<td>3.6.4 final</td></tr></table></div>"
      ],
      "text/plain": [
       "--------------------------  -------------------------------\n",
       "H2O cluster uptime:         46 secs\n",
       "H2O cluster version:        3.14.0.2\n",
       "H2O cluster version age:    11 months and 22 days !!!\n",
       "H2O cluster name:           H2O_47018\n",
       "H2O cluster total nodes:    20\n",
       "H2O cluster free memory:    191.7 Gb\n",
       "H2O cluster total cores:    560\n",
       "H2O cluster allowed cores:  560\n",
       "H2O cluster status:         locked, healthy\n",
       "H2O connection url:         http://10.12.49.63:54327\n",
       "H2O connection proxy:\n",
       "H2O internal security:      False\n",
       "H2O API Extensions:         AutoML, Algos, Core V3, Core V4\n",
       "Python version:             3.6.4 final\n",
       "--------------------------  -------------------------------"
      ]
     },
     "metadata": {},
     "output_type": "display_data"
    }
   ],
   "source": [
    "h2o.cluster().show_status()"
   ]
  },
  {
   "cell_type": "markdown",
   "metadata": {
    "deletable": true,
    "editable": true
   },
   "source": [
    "## Loading data into H2O"
   ]
  },
  {
   "cell_type": "code",
   "execution_count": 18,
   "metadata": {
    "collapsed": true,
    "deletable": true,
    "editable": true
   },
   "outputs": [],
   "source": [
    "sql = \"\"\"\n",
    "      select top 100 *\n",
    "        from UAT_DM.AR_income_subs_prices_proto  \n",
    "      \"\"\""
   ]
  },
  {
   "cell_type": "code",
   "execution_count": 19,
   "metadata": {
    "collapsed": false,
    "deletable": true,
    "editable": true,
    "scrolled": true
   },
   "outputs": [
    {
     "name": "stdout",
     "output_type": "stream",
     "text": [
      "Wall time: 1min 55s\n"
     ]
    }
   ],
   "source": [
    "%%time\n",
    "connection = turbodbc.connect(dsn='Teradata')\n",
    "cursor = connection.cursor()\n",
    "cursor.execute(sql)\n",
    "data = pd.DataFrame(cursor.fetchallnumpy())"
   ]
  },
  {
   "cell_type": "code",
   "execution_count": 20,
   "metadata": {
    "collapsed": false,
    "deletable": true,
    "editable": true
   },
   "outputs": [
    {
     "data": {
      "text/html": [
       "<div>\n",
       "<style scoped>\n",
       "    .dataframe tbody tr th:only-of-type {\n",
       "        vertical-align: middle;\n",
       "    }\n",
       "\n",
       "    .dataframe tbody tr th {\n",
       "        vertical-align: top;\n",
       "    }\n",
       "\n",
       "    .dataframe thead th {\n",
       "        text-align: right;\n",
       "    }\n",
       "</style>\n",
       "<table border=\"1\" class=\"dataframe\">\n",
       "  <thead>\n",
       "    <tr style=\"text-align: right;\">\n",
       "      <th></th>\n",
       "      <th>log_income</th>\n",
       "      <th>bin_income</th>\n",
       "      <th>report_month</th>\n",
       "      <th>SUBS_ID</th>\n",
       "      <th>current_imei</th>\n",
       "      <th>model_user_count</th>\n",
       "      <th>tac_user_count</th>\n",
       "      <th>buy_price</th>\n",
       "      <th>current_price</th>\n",
       "      <th>months_between_buy_min</th>\n",
       "      <th>...</th>\n",
       "      <th>avg_months_since_min</th>\n",
       "      <th>min_months_since_buy</th>\n",
       "      <th>max_months_since_buy</th>\n",
       "      <th>avg_months_since_buy</th>\n",
       "      <th>min_buy_price_to_discount_division</th>\n",
       "      <th>max_buy_price_to_discount_division</th>\n",
       "      <th>avg_buy_price_to_discount_division</th>\n",
       "      <th>min_buy_price_to_discount_subtraction</th>\n",
       "      <th>max_buy_price_to_discount_subtraction</th>\n",
       "      <th>avg_buy_price_to_discount_subtraction</th>\n",
       "    </tr>\n",
       "  </thead>\n",
       "  <tbody>\n",
       "    <tr>\n",
       "      <th>0</th>\n",
       "      <td>10.488466</td>\n",
       "      <td>1.0</td>\n",
       "      <td>2018-03-01</td>\n",
       "      <td>18333019</td>\n",
       "      <td>86730001825621</td>\n",
       "      <td>985.0</td>\n",
       "      <td>818</td>\n",
       "      <td>13332</td>\n",
       "      <td>9192</td>\n",
       "      <td>48</td>\n",
       "      <td>...</td>\n",
       "      <td>64.0</td>\n",
       "      <td>16</td>\n",
       "      <td>16</td>\n",
       "      <td>16.0</td>\n",
       "      <td>0.872742</td>\n",
       "      <td>0.872742</td>\n",
       "      <td>0.872742</td>\n",
       "      <td>-1944</td>\n",
       "      <td>-1944</td>\n",
       "      <td>-1944.0</td>\n",
       "    </tr>\n",
       "    <tr>\n",
       "      <th>1</th>\n",
       "      <td>NaN</td>\n",
       "      <td>NaN</td>\n",
       "      <td>2018-03-01</td>\n",
       "      <td>100028789231</td>\n",
       "      <td>86654203080636</td>\n",
       "      <td>4097.0</td>\n",
       "      <td>3967</td>\n",
       "      <td>13334</td>\n",
       "      <td>13334</td>\n",
       "      <td>16</td>\n",
       "      <td>...</td>\n",
       "      <td>22.5</td>\n",
       "      <td>0</td>\n",
       "      <td>16</td>\n",
       "      <td>8.0</td>\n",
       "      <td>1.000000</td>\n",
       "      <td>1.181778</td>\n",
       "      <td>1.090889</td>\n",
       "      <td>0</td>\n",
       "      <td>2051</td>\n",
       "      <td>1025.5</td>\n",
       "    </tr>\n",
       "    <tr>\n",
       "      <th>2</th>\n",
       "      <td>12.451415</td>\n",
       "      <td>3.0</td>\n",
       "      <td>2018-03-01</td>\n",
       "      <td>200034716639</td>\n",
       "      <td>35709105324344</td>\n",
       "      <td>72745.0</td>\n",
       "      <td>205</td>\n",
       "      <td>6334</td>\n",
       "      <td>3548</td>\n",
       "      <td>39</td>\n",
       "      <td>...</td>\n",
       "      <td>55.0</td>\n",
       "      <td>16</td>\n",
       "      <td>16</td>\n",
       "      <td>16.0</td>\n",
       "      <td>0.982930</td>\n",
       "      <td>0.982930</td>\n",
       "      <td>0.982930</td>\n",
       "      <td>-110</td>\n",
       "      <td>-110</td>\n",
       "      <td>-110.0</td>\n",
       "    </tr>\n",
       "    <tr>\n",
       "      <th>3</th>\n",
       "      <td>11.896240</td>\n",
       "      <td>2.0</td>\n",
       "      <td>2018-03-01</td>\n",
       "      <td>100040993294</td>\n",
       "      <td>35812807019662</td>\n",
       "      <td>35331.0</td>\n",
       "      <td>32296</td>\n",
       "      <td>21800</td>\n",
       "      <td>13155</td>\n",
       "      <td>5</td>\n",
       "      <td>...</td>\n",
       "      <td>21.0</td>\n",
       "      <td>16</td>\n",
       "      <td>16</td>\n",
       "      <td>16.0</td>\n",
       "      <td>1.505525</td>\n",
       "      <td>1.505525</td>\n",
       "      <td>1.505525</td>\n",
       "      <td>7320</td>\n",
       "      <td>7320</td>\n",
       "      <td>7320.0</td>\n",
       "    </tr>\n",
       "    <tr>\n",
       "      <th>4</th>\n",
       "      <td>12.270267</td>\n",
       "      <td>3.0</td>\n",
       "      <td>2018-03-01</td>\n",
       "      <td>39254634</td>\n",
       "      <td>86093503140055</td>\n",
       "      <td>10278.0</td>\n",
       "      <td>9534</td>\n",
       "      <td>19481</td>\n",
       "      <td>13554</td>\n",
       "      <td>10</td>\n",
       "      <td>...</td>\n",
       "      <td>17.0</td>\n",
       "      <td>7</td>\n",
       "      <td>7</td>\n",
       "      <td>7.0</td>\n",
       "      <td>1.000000</td>\n",
       "      <td>1.000000</td>\n",
       "      <td>1.000000</td>\n",
       "      <td>0</td>\n",
       "      <td>0</td>\n",
       "      <td>0.0</td>\n",
       "    </tr>\n",
       "  </tbody>\n",
       "</table>\n",
       "<p>5 rows × 48 columns</p>\n",
       "</div>"
      ],
      "text/plain": [
       "   log_income  bin_income report_month       SUBS_ID    current_imei  \\\n",
       "0   10.488466         1.0   2018-03-01      18333019  86730001825621   \n",
       "1         NaN         NaN   2018-03-01  100028789231  86654203080636   \n",
       "2   12.451415         3.0   2018-03-01  200034716639  35709105324344   \n",
       "3   11.896240         2.0   2018-03-01  100040993294  35812807019662   \n",
       "4   12.270267         3.0   2018-03-01      39254634  86093503140055   \n",
       "\n",
       "   model_user_count  tac_user_count  buy_price  current_price  \\\n",
       "0             985.0             818      13332           9192   \n",
       "1            4097.0            3967      13334          13334   \n",
       "2           72745.0             205       6334           3548   \n",
       "3           35331.0           32296      21800          13155   \n",
       "4           10278.0            9534      19481          13554   \n",
       "\n",
       "   months_between_buy_min                  ...                    \\\n",
       "0                      48                  ...                     \n",
       "1                      16                  ...                     \n",
       "2                      39                  ...                     \n",
       "3                       5                  ...                     \n",
       "4                      10                  ...                     \n",
       "\n",
       "   avg_months_since_min  min_months_since_buy  max_months_since_buy  \\\n",
       "0                  64.0                    16                    16   \n",
       "1                  22.5                     0                    16   \n",
       "2                  55.0                    16                    16   \n",
       "3                  21.0                    16                    16   \n",
       "4                  17.0                     7                     7   \n",
       "\n",
       "   avg_months_since_buy  min_buy_price_to_discount_division  \\\n",
       "0                  16.0                            0.872742   \n",
       "1                   8.0                            1.000000   \n",
       "2                  16.0                            0.982930   \n",
       "3                  16.0                            1.505525   \n",
       "4                   7.0                            1.000000   \n",
       "\n",
       "   max_buy_price_to_discount_division  avg_buy_price_to_discount_division  \\\n",
       "0                            0.872742                            0.872742   \n",
       "1                            1.181778                            1.090889   \n",
       "2                            0.982930                            0.982930   \n",
       "3                            1.505525                            1.505525   \n",
       "4                            1.000000                            1.000000   \n",
       "\n",
       "   min_buy_price_to_discount_subtraction  \\\n",
       "0                                  -1944   \n",
       "1                                      0   \n",
       "2                                   -110   \n",
       "3                                   7320   \n",
       "4                                      0   \n",
       "\n",
       "   max_buy_price_to_discount_subtraction  \\\n",
       "0                                  -1944   \n",
       "1                                   2051   \n",
       "2                                   -110   \n",
       "3                                   7320   \n",
       "4                                      0   \n",
       "\n",
       "   avg_buy_price_to_discount_subtraction  \n",
       "0                                -1944.0  \n",
       "1                                 1025.5  \n",
       "2                                 -110.0  \n",
       "3                                 7320.0  \n",
       "4                                    0.0  \n",
       "\n",
       "[5 rows x 48 columns]"
      ]
     },
     "execution_count": 20,
     "metadata": {},
     "output_type": "execute_result"
    }
   ],
   "source": [
    "data.head()"
   ]
  },
  {
   "cell_type": "markdown",
   "metadata": {
    "deletable": true,
    "editable": true
   },
   "source": [
    "### 1.From python object"
   ]
  },
  {
   "cell_type": "code",
   "execution_count": 24,
   "metadata": {
    "collapsed": false,
    "deletable": true,
    "editable": true
   },
   "outputs": [
    {
     "name": "stdout",
     "output_type": "stream",
     "text": [
      "Parse progress: |█████████████████████████████████████████████████████████| 100%\n",
      "Wall time: 1min\n"
     ]
    }
   ],
   "source": [
    "%%time\n",
    "h2o_df = h2o.H2OFrame(data)"
   ]
  },
  {
   "cell_type": "markdown",
   "metadata": {
    "deletable": true,
    "editable": true
   },
   "source": [
    "### 2. Upload"
   ]
  },
  {
   "cell_type": "code",
   "execution_count": 21,
   "metadata": {
    "collapsed": false,
    "deletable": true,
    "editable": true
   },
   "outputs": [
    {
     "name": "stdout",
     "output_type": "stream",
     "text": [
      "Parse progress: |█████████████████████████████████████████████████████████| 100%\n"
     ]
    }
   ],
   "source": [
    "data1 = h2o.upload_file('1.csv', destination_frame='data')"
   ]
  },
  {
   "cell_type": "code",
   "execution_count": 23,
   "metadata": {
    "collapsed": false,
    "deletable": true,
    "editable": true,
    "scrolled": true
   },
   "outputs": [
    {
     "data": {
      "text/html": [
       "<table>\n",
       "<thead>\n",
       "<tr><th style=\"text-align: right;\">  flg1</th><th style=\"text-align: right;\">  flg2</th><th style=\"text-align: right;\">  sample</th><th style=\"text-align: right;\">     msisdn</th><th>report_date        </th><th style=\"text-align: right;\">  depth</th><th style=\"text-align: right;\">    subs_id</th><th style=\"text-align: right;\">  batch_id</th><th style=\"text-align: right;\">  sc_version</th><th>branch  </th><th>status  </th><th>subs_type  </th><th style=\"text-align: right;\">  lifetime</th><th style=\"text-align: right;\">  firstcall_delay</th><th>tp_id    </th><th>sim_lte_flg  </th><th>segm_id  </th><th>sms_out  </th><th>cpe_type  </th><th>phone_type  </th><th>tp_group  </th><th>sales_channel  </th><th>flash_code  </th><th>calc_platform  </th><th style=\"text-align: right;\">  last_flash</th><th>imei8    </th><th style=\"text-align: right;\">  start_lag</th><th style=\"text-align: right;\">  cpe_m_age</th><th style=\"text-align: right;\">  cpe_p_age</th><th style=\"text-align: right;\">  ret_dev_ind</th><th style=\"text-align: right;\">  cpe_popularity</th><th style=\"text-align: right;\">  dev_park_size</th><th style=\"text-align: right;\">  av_dev_use</th><th style=\"text-align: right;\">  max_dev_use</th><th>gender  </th><th style=\"text-align: right;\">  age</th><th style=\"text-align: right;\">     rc</th><th style=\"text-align: right;\">  rc_avg_day</th><th style=\"text-align: right;\">  rc_sk_day</th><th style=\"text-align: right;\">  rc_kurt_day</th><th style=\"text-align: right;\">  mou</th><th style=\"text-align: right;\">  tp_changes_cnt</th><th style=\"text-align: right;\">  io_voice_traf_ratio</th><th style=\"text-align: right;\">  avg_day_mou</th><th style=\"text-align: right;\">  sd_day_mou</th><th style=\"text-align: right;\">  sk_day_mou</th><th style=\"text-align: right;\">  kurt_day_mou</th><th style=\"text-align: right;\">  sum_day_voice_cnt</th><th style=\"text-align: right;\">  avg_day_voice_cnt</th><th style=\"text-align: right;\">  sd_day_voice_cnt</th><th style=\"text-align: right;\">  sk_day_voice_cnt</th><th style=\"text-align: right;\">  kurt_day_voice_cnt</th><th style=\"text-align: right;\">      m1s</th><th style=\"text-align: right;\">     d1s</th><th style=\"text-align: right;\">      e1s</th><th style=\"text-align: right;\">     m4s</th><th style=\"text-align: right;\">     d4s</th><th style=\"text-align: right;\">      e4s</th><th style=\"text-align: right;\">  m2s</th><th style=\"text-align: right;\">  d2s</th><th style=\"text-align: right;\">  e2s</th><th style=\"text-align: right;\">  m3s</th><th style=\"text-align: right;\">  d3s</th><th style=\"text-align: right;\">  e3s</th><th style=\"text-align: right;\">  sms_tot_cnt</th><th style=\"text-align: right;\">  mes_voice_ratio</th><th style=\"text-align: right;\">  sum_ses_mou</th><th style=\"text-align: right;\">  avg_ses_mou</th><th style=\"text-align: right;\">  sd_ses_mou</th><th style=\"text-align: right;\">  sk_ses_mou</th><th style=\"text-align: right;\">  kurt_ses_mou</th><th style=\"text-align: right;\">  r1vs</th><th style=\"text-align: right;\">  r2vs</th><th style=\"text-align: right;\">  r3vs</th><th style=\"text-align: right;\">  r4vs</th><th style=\"text-align: right;\">  r5vs</th><th style=\"text-align: right;\">  sgc_2g_vs</th><th style=\"text-align: right;\">  sgc_3g_vs</th><th style=\"text-align: right;\">  out_data_ratio</th><th style=\"text-align: right;\">  sum_ses_mbou</th><th style=\"text-align: right;\">  avg_ses_mbou</th><th style=\"text-align: right;\">  sd_ses_mbou</th><th style=\"text-align: right;\">  sk_ses_mbou</th><th style=\"text-align: right;\">  kurt_ses_mbou</th><th style=\"text-align: right;\">  r1ds</th><th style=\"text-align: right;\">  r2ds</th><th style=\"text-align: right;\">  r3ds</th><th style=\"text-align: right;\">  r4ds</th><th style=\"text-align: right;\">  r5ds</th><th style=\"text-align: right;\">  sgc_2g_ds</th><th style=\"text-align: right;\">  sgc_3g_ds</th><th style=\"text-align: right;\">  sgc_4g_ds</th><th style=\"text-align: right;\">  days_with_data_trafic</th><th style=\"text-align: right;\">  avg_day_mbou</th><th style=\"text-align: right;\">  sd_day_mbou</th><th style=\"text-align: right;\">  sk_day_mbou</th><th style=\"text-align: right;\">  kurt_day_mbou</th><th style=\"text-align: right;\">  avg_day_data_cnt</th><th style=\"text-align: right;\">  sd_day_data_cnt</th><th style=\"text-align: right;\">  sk_day_data_cnt</th><th style=\"text-align: right;\">  kurt_day_data_cnt</th><th>display_id  </th><th>dual_sim  </th><th>os_version  </th><th>second_g  </th><th>third_g  </th><th>fourth_g  </th><th>form_factor  </th><th>camera  </th><th>os_id  </th><th>cpe_manufacturer_name  </th><th>still_first_tp  </th><th style=\"text-align: right;\">  tp_age</th><th>archetype  </th><th style=\"text-align: right;\">  popularity</th><th style=\"text-align: right;\">  popalive</th><th>arch_tp  </th><th style=\"text-align: right;\">  tp_abandonement_index</th><th>is_best_device  </th><th style=\"text-align: right;\">  b_hrs_total</th><th style=\"text-align: right;\">  b_hrs_data</th><th style=\"text-align: right;\">  blocks_total_cnt</th><th style=\"text-align: right;\">  blocks_data_cnt</th><th>ss_serv_used  </th><th>ussd_serv_used  </th><th>sms_serv_used  </th><th>ivr_serv_used  </th><th>rbt_used_ever  </th><th>rbt_using_now  </th><th>internet_speed_cut_flg  </th><th>periodic_fee_srv_ever  </th><th style=\"text-align: right;\">  internet_ap_blocks_cnt</th><th>periodic_fee_srv_now  </th><th>confcalls_srv_ever  </th><th>confcalls_using_now  </th><th>antiaon_using_now  </th><th>anti_antiaon_using_now  </th><th style=\"text-align: right;\">  ussd_cnt</th><th style=\"text-align: right;\">  cl_size</th><th style=\"text-align: right;\">  cl_onnet_cnt</th><th style=\"text-align: right;\">  cl_size_onnet_share</th><th style=\"text-align: right;\">  cl_traf_onnet_voice_share</th><th style=\"text-align: right;\">  cl_core_size</th><th style=\"text-align: right;\">  cl_tail_size</th><th style=\"text-align: right;\">  cl_core_out_voice_share</th><th style=\"text-align: right;\">  cl_tail_out_voice_share</th><th style=\"text-align: right;\">  cl_core_out_msg_share</th><th style=\"text-align: right;\">  cl_tail_out_msg_share</th><th style=\"text-align: right;\">  cl_women_share</th><th style=\"text-align: right;\">  cl_core_women_share</th><th style=\"text-align: right;\">  cl_tail_women_share</th><th style=\"text-align: right;\">  cl_opp_gender_share</th><th style=\"text-align: right;\">  cl_core_opp_gender_share</th><th style=\"text-align: right;\">  cl_tail_opp_gender_share</th><th style=\"text-align: right;\">  cl_core_avg_age</th><th style=\"text-align: right;\">  cl_tail_avg_age</th><th style=\"text-align: right;\">  cl_avg_age</th><th style=\"text-align: right;\">  cl_sd_age</th><th style=\"text-align: right;\">  cl_sk_age</th><th style=\"text-align: right;\">  cl_avg_lifetime</th><th style=\"text-align: right;\">  cl_branches_count</th><th style=\"text-align: right;\">  cl_smartphones_share</th><th>plc_type  </th><th style=\"text-align: right;\">  pop</th><th style=\"text-align: right;\">  days_home_cnt</th><th style=\"text-align: right;\">  locs_cnt</th><th style=\"text-align: right;\">  bal_avg_amt</th><th style=\"text-align: right;\">  bal_sd_amt</th><th style=\"text-align: right;\">  bal_sk_amt</th><th style=\"text-align: right;\">  bal_kurt_amt</th><th style=\"text-align: right;\">  bal_min_amt</th><th style=\"text-align: right;\">  bal_max_amt</th><th style=\"text-align: right;\">  bal_avg_ld_days</th><th style=\"text-align: right;\">  bal_avg_li_days</th><th>bal_cont_exist  </th><th style=\"text-align: right;\">  be_bf_cnt</th><th style=\"text-align: right;\">  be_ok_cnt</th><th style=\"text-align: right;\">  be_vk_cnt</th><th style=\"text-align: right;\">  be_t2_cnt</th><th style=\"text-align: right;\">  be_to_cnt</th><th style=\"text-align: right;\">  be_bf_amt</th><th style=\"text-align: right;\">  be_ok_amt</th><th style=\"text-align: right;\">  be_vk_amt</th><th style=\"text-align: right;\">  be_t2_amt</th><th style=\"text-align: right;\">  be_to_amt</th><th style=\"text-align: right;\">  be7_total_cnt</th><th style=\"text-align: right;\">  be7_tot_amt</th><th style=\"text-align: right;\">  be3_tot_cnt</th><th style=\"text-align: right;\">  be3_tot_amt</th><th style=\"text-align: right;\">  be3_avg_amt</th><th style=\"text-align: right;\">  be6_tot_cnt</th><th style=\"text-align: right;\">  be6_tot_amt</th><th style=\"text-align: right;\">  be6_avg_amt</th><th style=\"text-align: right;\">  be11_tot_cnt</th><th style=\"text-align: right;\">  be11_tot_amt</th><th style=\"text-align: right;\">  be11_avg_amt</th><th style=\"text-align: right;\">  content_total_cnt</th><th style=\"text-align: right;\">  content_total_amt</th><th style=\"text-align: right;\">  content_days_cnt</th><th style=\"text-align: right;\">  sms_900_cnt</th><th style=\"text-align: right;\">  sms_900_days</th><th style=\"text-align: right;\">  sms_109_cnt</th><th style=\"text-align: right;\">  sms_109_days</th><th style=\"text-align: right;\">  sms_3116_cnt</th><th style=\"text-align: right;\">  sms_3116_days</th><th style=\"text-align: right;\">  sms_1946_cnt</th><th style=\"text-align: right;\">  sms_1946_days</th><th style=\"text-align: right;\">  sms_okru_cnt</th><th style=\"text-align: right;\">  sms_okru_days</th><th style=\"text-align: right;\">  sms_vkcom_cnt</th><th style=\"text-align: right;\">  sms_vkcom_days</th><th style=\"text-align: right;\">  sms_312_cnt</th><th style=\"text-align: right;\">  sms_312_days</th><th style=\"text-align: right;\">  sms_396_cnt</th><th style=\"text-align: right;\">  sms_396_days</th><th style=\"text-align: right;\">  sms_679_cnt</th><th style=\"text-align: right;\">  sms_679_days</th><th style=\"text-align: right;\">  sms_1595_cnt</th><th style=\"text-align: right;\">  sms_1595_days</th><th style=\"text-align: right;\">  sms_681_cnt</th><th style=\"text-align: right;\">  sms_681_days</th><th style=\"text-align: right;\">  sms_2317_cnt</th><th style=\"text-align: right;\">  sms_2317_days</th><th style=\"text-align: right;\">  sms_145_cnt</th><th style=\"text-align: right;\">  sms_145_days</th><th style=\"text-align: right;\">  sms_32665_cnt</th><th style=\"text-align: right;\">  sms_32665_days</th><th style=\"text-align: right;\">  sms_1023_cnt</th><th style=\"text-align: right;\">  sms_1023_days</th><th style=\"text-align: right;\">  sms_4040_cnt</th><th style=\"text-align: right;\">  sms_4040_days</th><th style=\"text-align: right;\">  sms_2420_cnt</th><th style=\"text-align: right;\">  sms_2420_days</th><th style=\"text-align: right;\">  sms_9000_cnt</th><th style=\"text-align: right;\">  sms_9000_days</th><th>tdoc  </th><th>blanc_same_branch  </th><th style=\"text-align: right;\">  doc_age</th><th>doc_change_rf  </th><th>doc_invalid  </th><th>valid_mail  </th><th>email_domain  </th><th>cust_type  </th><th>macroregion  </th><th style=\"text-align: right;\">  add_sim_cnt</th><th style=\"text-align: right;\">  add_sim_lt</th><th style=\"text-align: right;\">  add_sim_alive_cnt</th><th style=\"text-align: right;\">  add_sim_dead_cnt</th><th style=\"text-align: right;\">  add_sim_alive_avg_lt</th><th style=\"text-align: right;\">  add_sim_dead_avg_lt</th><th style=\"text-align: right;\">  add_sim_branch_cnt</th><th style=\"text-align: right;\">  add_sim_alive_branch_cnt</th><th style=\"text-align: right;\">  add_sim_dead_branch_cnt</th><th style=\"text-align: right;\">  calls_611_cnt</th><th style=\"text-align: right;\">  day_of_week</th><th style=\"text-align: right;\">  day_of_month</th><th style=\"text-align: right;\">  week_of_month</th><th style=\"text-align: right;\">  week_of_year</th><th style=\"text-align: right;\">  month_of_year</th><th style=\"text-align: right;\">  mph</th><th style=\"text-align: right;\">  bc_bal_avg_amt</th><th style=\"text-align: right;\">  bc_bal_sd_amt</th><th style=\"text-align: right;\">  bc_bal_sk_amt</th><th style=\"text-align: right;\">  bc_bal_kurt_amt</th><th style=\"text-align: right;\">  bc_bal_avg_ld_days</th><th style=\"text-align: right;\">  bc_bal_avg_li_days</th><th style=\"text-align: right;\">  bc_rc_avg_day</th><th style=\"text-align: right;\">  bc_rc_sd_day</th><th style=\"text-align: right;\">  bc_rc_sk_day</th><th style=\"text-align: right;\">  bc_rc_kurt_day</th><th style=\"text-align: right;\">  bc_avg_day_mou</th><th style=\"text-align: right;\">  bc_sd_day_mou</th><th style=\"text-align: right;\">  bc_sk_day_mou</th><th style=\"text-align: right;\">  bc_kurt_day_mou</th><th style=\"text-align: right;\">  bc_avg_day_voice_cnt</th><th style=\"text-align: right;\">  bc_sd_day_voice_cnt</th><th style=\"text-align: right;\">  bc_sk_day_voice_cnt</th><th style=\"text-align: right;\">  bc_kurt_day_voice_cnt</th><th style=\"text-align: right;\">  bc_lifetime</th><th style=\"text-align: right;\">  blanc_docdate_diff</th><th style=\"text-align: right;\">  report_date_year</th><th style=\"text-align: right;\">  report_date_month</th><th style=\"text-align: right;\">  report_date_day</th></tr>\n",
       "</thead>\n",
       "<tbody>\n",
       "<tr><td style=\"text-align: right;\">     1</td><td style=\"text-align: right;\">     0</td><td style=\"text-align: right;\">       1</td><td style=\"text-align: right;\">7.99992e+10</td><td>2017-12-31 21:00:00</td><td style=\"text-align: right;\">     29</td><td style=\"text-align: right;\">3.00005e+11</td><td style=\"text-align: right;\">        12</td><td style=\"text-align: right;\">         2.5</td><td>B95     </td><td>S1      </td><td>S1         </td><td style=\"text-align: right;\">       738</td><td style=\"text-align: right;\">                0</td><td>T30001335</td><td>L1           </td><td>S0       </td><td>S0       </td><td>C3        </td><td>P1          </td><td>NULL      </td><td>S32            </td><td>Active      </td><td>C1             </td><td style=\"text-align: right;\">           1</td><td>I35900405</td><td style=\"text-align: right;\">       1527</td><td style=\"text-align: right;\">       1531</td><td style=\"text-align: right;\">          4</td><td style=\"text-align: right;\">         1   </td><td style=\"text-align: right;\">         4.77918</td><td style=\"text-align: right;\">              6</td><td style=\"text-align: right;\">    21.2    </td><td style=\"text-align: right;\">           76</td><td>G0      </td><td style=\"text-align: right;\">   34</td><td style=\"text-align: right;\">  62.5 </td><td style=\"text-align: right;\">     2.08333</td><td style=\"text-align: right;\">  3.68399  </td><td style=\"text-align: right;\">    12.5879  </td><td style=\"text-align: right;\">   77</td><td style=\"text-align: right;\">               0</td><td style=\"text-align: right;\">                 0.79</td><td style=\"text-align: right;\">      154.6  </td><td style=\"text-align: right;\">     300.22 </td><td style=\"text-align: right;\">    2.10732 </td><td style=\"text-align: right;\">      3.60565 </td><td style=\"text-align: right;\">                141</td><td style=\"text-align: right;\">             4.7   </td><td style=\"text-align: right;\">           6.79289</td><td style=\"text-align: right;\">          2.28954 </td><td style=\"text-align: right;\">           6.44286  </td><td style=\"text-align: right;\">0        </td><td style=\"text-align: right;\">0.887236</td><td style=\"text-align: right;\">0.112764 </td><td style=\"text-align: right;\">0       </td><td style=\"text-align: right;\">0       </td><td style=\"text-align: right;\">0        </td><td style=\"text-align: right;\"> 0.17</td><td style=\"text-align: right;\"> 0.56</td><td style=\"text-align: right;\"> 0.27</td><td style=\"text-align: right;\">    0</td><td style=\"text-align: right;\">    0</td><td style=\"text-align: right;\">    0</td><td style=\"text-align: right;\">           88</td><td style=\"text-align: right;\">             0.17</td><td style=\"text-align: right;\">         4638</td><td style=\"text-align: right;\">      87.5094</td><td style=\"text-align: right;\">    183.327 </td><td style=\"text-align: right;\">     2.65613</td><td style=\"text-align: right;\">       6.35823</td><td style=\"text-align: right;\">     0</td><td style=\"text-align: right;\">     0</td><td style=\"text-align: right;\">  0   </td><td style=\"text-align: right;\">     0</td><td style=\"text-align: right;\">  0.21</td><td style=\"text-align: right;\">       0.21</td><td style=\"text-align: right;\">       0.79</td><td style=\"text-align: right;\">           0    </td><td style=\"text-align: right;\">             0</td><td style=\"text-align: right;\">      0       </td><td style=\"text-align: right;\">      0      </td><td style=\"text-align: right;\">      0      </td><td style=\"text-align: right;\">         0     </td><td style=\"text-align: right;\">     0</td><td style=\"text-align: right;\">     0</td><td style=\"text-align: right;\">     0</td><td style=\"text-align: right;\">     0</td><td style=\"text-align: right;\">     0</td><td style=\"text-align: right;\">       0   </td><td style=\"text-align: right;\">       0   </td><td style=\"text-align: right;\">       0   </td><td style=\"text-align: right;\">                      0</td><td style=\"text-align: right;\">        0     </td><td style=\"text-align: right;\">       0     </td><td style=\"text-align: right;\">    0        </td><td style=\"text-align: right;\">       0       </td><td style=\"text-align: right;\">           0      </td><td style=\"text-align: right;\">         0       </td><td style=\"text-align: right;\">         0       </td><td style=\"text-align: right;\">           0       </td><td>NULL        </td><td>Y         </td><td>Android_4.1 </td><td>Y         </td><td>Y        </td><td>N         </td><td>Bar          </td><td>Y       </td><td>2      </td><td>LG                     </td><td>F0              </td><td style=\"text-align: right;\">     638</td><td>Flat       </td><td style=\"text-align: right;\">      828209</td><td style=\"text-align: right;\">    224880</td><td>A0       </td><td style=\"text-align: right;\">                   0.27</td><td>B0              </td><td style=\"text-align: right;\">            0</td><td style=\"text-align: right;\">           0</td><td style=\"text-align: right;\">                 0</td><td style=\"text-align: right;\">                0</td><td>S0            </td><td>U1              </td><td>M0             </td><td>I0             </td><td>R1             </td><td>R0             </td><td>I0                      </td><td>P0                     </td><td style=\"text-align: right;\">                       4</td><td>P0                    </td><td>C0                  </td><td>C0                   </td><td>A0                 </td><td>A0                      </td><td style=\"text-align: right;\">         0</td><td style=\"text-align: right;\">       15</td><td style=\"text-align: right;\">             6</td><td style=\"text-align: right;\">                 0.4 </td><td style=\"text-align: right;\">                       0.16</td><td style=\"text-align: right;\">             6</td><td style=\"text-align: right;\">             9</td><td style=\"text-align: right;\">                     0.21</td><td style=\"text-align: right;\">                     0   </td><td style=\"text-align: right;\">                   0.2 </td><td style=\"text-align: right;\">                   0   </td><td style=\"text-align: right;\">            0   </td><td style=\"text-align: right;\">                 0   </td><td style=\"text-align: right;\">                 0   </td><td style=\"text-align: right;\">                 0   </td><td style=\"text-align: right;\">                      0   </td><td style=\"text-align: right;\">                      0   </td><td style=\"text-align: right;\">                0</td><td style=\"text-align: right;\">               36</td><td style=\"text-align: right;\">          36</td><td style=\"text-align: right;\">          3</td><td style=\"text-align: right;\">         -1</td><td style=\"text-align: right;\">          395.333</td><td style=\"text-align: right;\">                  4</td><td style=\"text-align: right;\">                  0   </td><td>NULL      </td><td style=\"text-align: right;\">    0</td><td style=\"text-align: right;\">              0</td><td style=\"text-align: right;\">         0</td><td style=\"text-align: right;\">      13.9621</td><td style=\"text-align: right;\">     21.8682</td><td style=\"text-align: right;\">    3.21199 </td><td style=\"text-align: right;\">     10.8254  </td><td style=\"text-align: right;\">       0.8712</td><td style=\"text-align: right;\">      99.3712</td><td style=\"text-align: right;\">          2.45455</td><td style=\"text-align: right;\">         11.5455 </td><td>B0              </td><td style=\"text-align: right;\">          0</td><td style=\"text-align: right;\">          0</td><td style=\"text-align: right;\">          0</td><td style=\"text-align: right;\">          0</td><td style=\"text-align: right;\">          0</td><td style=\"text-align: right;\">          0</td><td style=\"text-align: right;\">          0</td><td style=\"text-align: right;\">          0</td><td style=\"text-align: right;\">          0</td><td style=\"text-align: right;\">          0</td><td style=\"text-align: right;\">              0</td><td style=\"text-align: right;\">            0</td><td style=\"text-align: right;\">            0</td><td style=\"text-align: right;\">            0</td><td style=\"text-align: right;\">            0</td><td style=\"text-align: right;\">            2</td><td style=\"text-align: right;\">       150   </td><td style=\"text-align: right;\">      75     </td><td style=\"text-align: right;\">             0</td><td style=\"text-align: right;\">             0</td><td style=\"text-align: right;\">             0</td><td style=\"text-align: right;\">                  0</td><td style=\"text-align: right;\">                  0</td><td style=\"text-align: right;\">                 0</td><td style=\"text-align: right;\">            8</td><td style=\"text-align: right;\">             1</td><td style=\"text-align: right;\">            0</td><td style=\"text-align: right;\">             0</td><td style=\"text-align: right;\">             0</td><td style=\"text-align: right;\">              0</td><td style=\"text-align: right;\">             0</td><td style=\"text-align: right;\">              0</td><td style=\"text-align: right;\">             0</td><td style=\"text-align: right;\">              0</td><td style=\"text-align: right;\">              0</td><td style=\"text-align: right;\">               0</td><td style=\"text-align: right;\">            0</td><td style=\"text-align: right;\">             0</td><td style=\"text-align: right;\">            3</td><td style=\"text-align: right;\">             1</td><td style=\"text-align: right;\">           35</td><td style=\"text-align: right;\">             3</td><td style=\"text-align: right;\">             0</td><td style=\"text-align: right;\">              0</td><td style=\"text-align: right;\">            0</td><td style=\"text-align: right;\">             0</td><td style=\"text-align: right;\">             0</td><td style=\"text-align: right;\">              0</td><td style=\"text-align: right;\">            0</td><td style=\"text-align: right;\">             0</td><td style=\"text-align: right;\">              1</td><td style=\"text-align: right;\">               1</td><td style=\"text-align: right;\">             0</td><td style=\"text-align: right;\">              0</td><td style=\"text-align: right;\">             0</td><td style=\"text-align: right;\">              0</td><td style=\"text-align: right;\">             0</td><td style=\"text-align: right;\">              0</td><td style=\"text-align: right;\">             0</td><td style=\"text-align: right;\">              0</td><td>D1    </td><td>P0                 </td><td style=\"text-align: right;\">        5</td><td>RF0            </td><td>SF0          </td><td>E0          </td><td>              </td><td>T1         </td><td>M3           </td><td style=\"text-align: right;\">            0</td><td style=\"text-align: right;\">         0  </td><td style=\"text-align: right;\">                  0</td><td style=\"text-align: right;\">                 0</td><td style=\"text-align: right;\">                   0  </td><td style=\"text-align: right;\">                    0</td><td style=\"text-align: right;\">                   0</td><td style=\"text-align: right;\">                         0</td><td style=\"text-align: right;\">                        0</td><td style=\"text-align: right;\">              0</td><td style=\"text-align: right;\">            2</td><td style=\"text-align: right;\">             1</td><td style=\"text-align: right;\">              0</td><td style=\"text-align: right;\">             0</td><td style=\"text-align: right;\">              1</td><td style=\"text-align: right;\">    5</td><td style=\"text-align: right;\">        0.11858 </td><td style=\"text-align: right;\">       0.058012</td><td style=\"text-align: right;\">     0.0554361 </td><td style=\"text-align: right;\">      0.00131437 </td><td style=\"text-align: right;\">            0.483331</td><td style=\"text-align: right;\">            1.42133 </td><td style=\"text-align: right;\">       0.168546</td><td style=\"text-align: right;\">   0.00114504 </td><td style=\"text-align: right;\">   0.000456276</td><td style=\"text-align: right;\">     1.92975e-07</td><td style=\"text-align: right;\">        0.227026</td><td style=\"text-align: right;\">       0.200411</td><td style=\"text-align: right;\">     0.0345908 </td><td style=\"text-align: right;\">      0.000110479</td><td style=\"text-align: right;\">              0.052517</td><td style=\"text-align: right;\">            0.0361717</td><td style=\"text-align: right;\">            0.347649 </td><td style=\"text-align: right;\">             0.0446046 </td><td style=\"text-align: right;\">     1.71916 </td><td style=\"text-align: right;\">                   0</td><td style=\"text-align: right;\">              2018</td><td style=\"text-align: right;\">                  1</td><td style=\"text-align: right;\">                1</td></tr>\n",
       "<tr><td style=\"text-align: right;\">     1</td><td style=\"text-align: right;\">     0</td><td style=\"text-align: right;\">       1</td><td style=\"text-align: right;\">7.90827e+10</td><td>2017-12-31 21:00:00</td><td style=\"text-align: right;\">     29</td><td style=\"text-align: right;\">3.00013e+11</td><td style=\"text-align: right;\">        12</td><td style=\"text-align: right;\">         2.5</td><td>B102    </td><td>S1      </td><td>S1         </td><td style=\"text-align: right;\">       428</td><td style=\"text-align: right;\">                0</td><td>T30001354</td><td>L1           </td><td>S-2      </td><td>S0       </td><td>C3        </td><td>P1          </td><td>NULL      </td><td>S20            </td><td>Active      </td><td>C1             </td><td style=\"text-align: right;\">           0</td><td>I91146310</td><td style=\"text-align: right;\">        689</td><td style=\"text-align: right;\">        787</td><td style=\"text-align: right;\">         98</td><td style=\"text-align: right;\">         0.88</td><td style=\"text-align: right;\">         4.53389</td><td style=\"text-align: right;\">              8</td><td style=\"text-align: right;\">     5.78378</td><td style=\"text-align: right;\">          132</td><td>G1      </td><td style=\"text-align: right;\">   42</td><td style=\"text-align: right;\"> 419.5 </td><td style=\"text-align: right;\">    13.9833 </td><td style=\"text-align: right;\">  4.84481  </td><td style=\"text-align: right;\">    24.9051  </td><td style=\"text-align: right;\">  606</td><td style=\"text-align: right;\">               0</td><td style=\"text-align: right;\">                 0.43</td><td style=\"text-align: right;\">     1211.73 </td><td style=\"text-align: right;\">     774.26 </td><td style=\"text-align: right;\">    0.564477</td><td style=\"text-align: right;\">      0.114592</td><td style=\"text-align: right;\">               1449</td><td style=\"text-align: right;\">            48.3   </td><td style=\"text-align: right;\">          28.5682 </td><td style=\"text-align: right;\">          0.298036</td><td style=\"text-align: right;\">          -1.00998  </td><td style=\"text-align: right;\">0.0955931</td><td style=\"text-align: right;\">0.527839</td><td style=\"text-align: right;\">0.376568 </td><td style=\"text-align: right;\">0.199942</td><td style=\"text-align: right;\">0.606395</td><td style=\"text-align: right;\">0.193663 </td><td style=\"text-align: right;\"> 0.22</td><td style=\"text-align: right;\"> 0.56</td><td style=\"text-align: right;\"> 0.22</td><td style=\"text-align: right;\">    0</td><td style=\"text-align: right;\">    0</td><td style=\"text-align: right;\">    0</td><td style=\"text-align: right;\">          339</td><td style=\"text-align: right;\">             0.06</td><td style=\"text-align: right;\">        36352</td><td style=\"text-align: right;\">      54.1759</td><td style=\"text-align: right;\">    113.353 </td><td style=\"text-align: right;\">     9.33191</td><td style=\"text-align: right;\">     143.162  </td><td style=\"text-align: right;\">     0</td><td style=\"text-align: right;\">     0</td><td style=\"text-align: right;\">  0   </td><td style=\"text-align: right;\">     0</td><td style=\"text-align: right;\">  0.57</td><td style=\"text-align: right;\">       0.76</td><td style=\"text-align: right;\">       0.24</td><td style=\"text-align: right;\">           0.886</td><td style=\"text-align: right;\">           645</td><td style=\"text-align: right;\">      1.46994 </td><td style=\"text-align: right;\">      4.89744</td><td style=\"text-align: right;\">      8.2765 </td><td style=\"text-align: right;\">        90.911 </td><td style=\"text-align: right;\">     0</td><td style=\"text-align: right;\">     0</td><td style=\"text-align: right;\">     0</td><td style=\"text-align: right;\">     0</td><td style=\"text-align: right;\">     0</td><td style=\"text-align: right;\">       0.33</td><td style=\"text-align: right;\">       0.17</td><td style=\"text-align: right;\">       0.5 </td><td style=\"text-align: right;\">                     28</td><td style=\"text-align: right;\">       23.0466</td><td style=\"text-align: right;\">      37.32  </td><td style=\"text-align: right;\">    2.07478  </td><td style=\"text-align: right;\">       4.09573 </td><td style=\"text-align: right;\">          15.6786 </td><td style=\"text-align: right;\">        16.5423  </td><td style=\"text-align: right;\">         2.1075  </td><td style=\"text-align: right;\">           5.14997 </td><td>NULL        </td><td>NULL      </td><td>            </td><td>NULL      </td><td>NULL     </td><td>NULL      </td><td>NULL         </td><td>NULL    </td><td>NULL   </td><td>NULL                   </td><td>F1              </td><td style=\"text-align: right;\">     627</td><td>Bundle     </td><td style=\"text-align: right;\">       70828</td><td style=\"text-align: right;\">     44782</td><td>A0       </td><td style=\"text-align: right;\">                   0.63</td><td>B0              </td><td style=\"text-align: right;\">            0</td><td style=\"text-align: right;\">           0</td><td style=\"text-align: right;\">                 0</td><td style=\"text-align: right;\">                0</td><td>S1            </td><td>U0              </td><td>M0             </td><td>I0             </td><td>R0             </td><td>R0             </td><td>I0                      </td><td>P0                     </td><td style=\"text-align: right;\">                      18</td><td>P0                    </td><td>C0                  </td><td>C0                   </td><td>A0                 </td><td>A0                      </td><td style=\"text-align: right;\">         0</td><td style=\"text-align: right;\">       65</td><td style=\"text-align: right;\">             8</td><td style=\"text-align: right;\">                 0.12</td><td style=\"text-align: right;\">                       0.08</td><td style=\"text-align: right;\">            16</td><td style=\"text-align: right;\">            49</td><td style=\"text-align: right;\">                     0.42</td><td style=\"text-align: right;\">                     0.12</td><td style=\"text-align: right;\">                   0.07</td><td style=\"text-align: right;\">                   0   </td><td style=\"text-align: right;\">            0.38</td><td style=\"text-align: right;\">                 0.06</td><td style=\"text-align: right;\">                 0.04</td><td style=\"text-align: right;\">                 0.62</td><td style=\"text-align: right;\">                      0.94</td><td style=\"text-align: right;\">                      0.96</td><td style=\"text-align: right;\">               44</td><td style=\"text-align: right;\">               34</td><td style=\"text-align: right;\">          36</td><td style=\"text-align: right;\">         13</td><td style=\"text-align: right;\">          2</td><td style=\"text-align: right;\">          965.875</td><td style=\"text-align: right;\">                  1</td><td style=\"text-align: right;\">                  0.38</td><td>town      </td><td style=\"text-align: right;\">    0</td><td style=\"text-align: right;\">             30</td><td style=\"text-align: right;\">         1</td><td style=\"text-align: right;\">      10.4827</td><td style=\"text-align: right;\">     57.0557</td><td style=\"text-align: right;\">    2.75726 </td><td style=\"text-align: right;\">     12.8104  </td><td style=\"text-align: right;\">    -109.54  </td><td style=\"text-align: right;\">     239.96  </td><td style=\"text-align: right;\">          8.09091</td><td style=\"text-align: right;\">          9.22727</td><td>B0              </td><td style=\"text-align: right;\">          0</td><td style=\"text-align: right;\">          0</td><td style=\"text-align: right;\">          0</td><td style=\"text-align: right;\">          0</td><td style=\"text-align: right;\">          0</td><td style=\"text-align: right;\">          0</td><td style=\"text-align: right;\">          0</td><td style=\"text-align: right;\">          0</td><td style=\"text-align: right;\">          0</td><td style=\"text-align: right;\">          0</td><td style=\"text-align: right;\">              0</td><td style=\"text-align: right;\">            0</td><td style=\"text-align: right;\">            0</td><td style=\"text-align: right;\">            0</td><td style=\"text-align: right;\">            0</td><td style=\"text-align: right;\">            2</td><td style=\"text-align: right;\">       710   </td><td style=\"text-align: right;\">     355     </td><td style=\"text-align: right;\">             0</td><td style=\"text-align: right;\">             0</td><td style=\"text-align: right;\">             0</td><td style=\"text-align: right;\">                  9</td><td style=\"text-align: right;\">                 27</td><td style=\"text-align: right;\">                 6</td><td style=\"text-align: right;\">            0</td><td style=\"text-align: right;\">             0</td><td style=\"text-align: right;\">            0</td><td style=\"text-align: right;\">             0</td><td style=\"text-align: right;\">             0</td><td style=\"text-align: right;\">              0</td><td style=\"text-align: right;\">             0</td><td style=\"text-align: right;\">              0</td><td style=\"text-align: right;\">             0</td><td style=\"text-align: right;\">              0</td><td style=\"text-align: right;\">              0</td><td style=\"text-align: right;\">               0</td><td style=\"text-align: right;\">            0</td><td style=\"text-align: right;\">             0</td><td style=\"text-align: right;\">           15</td><td style=\"text-align: right;\">             5</td><td style=\"text-align: right;\">            0</td><td style=\"text-align: right;\">             0</td><td style=\"text-align: right;\">             0</td><td style=\"text-align: right;\">              0</td><td style=\"text-align: right;\">            0</td><td style=\"text-align: right;\">             0</td><td style=\"text-align: right;\">             0</td><td style=\"text-align: right;\">              0</td><td style=\"text-align: right;\">            0</td><td style=\"text-align: right;\">             0</td><td style=\"text-align: right;\">              0</td><td style=\"text-align: right;\">               0</td><td style=\"text-align: right;\">             0</td><td style=\"text-align: right;\">              0</td><td style=\"text-align: right;\">             0</td><td style=\"text-align: right;\">              0</td><td style=\"text-align: right;\">             0</td><td style=\"text-align: right;\">              0</td><td style=\"text-align: right;\">             0</td><td style=\"text-align: right;\">              0</td><td>D1    </td><td>P1                 </td><td style=\"text-align: right;\">        5</td><td>RF0            </td><td>SF0          </td><td>E0          </td><td>              </td><td>T1         </td><td>M6           </td><td style=\"text-align: right;\">            0</td><td style=\"text-align: right;\">         0  </td><td style=\"text-align: right;\">                  0</td><td style=\"text-align: right;\">                 0</td><td style=\"text-align: right;\">                   0  </td><td style=\"text-align: right;\">                    0</td><td style=\"text-align: right;\">                   0</td><td style=\"text-align: right;\">                         0</td><td style=\"text-align: right;\">                        0</td><td style=\"text-align: right;\">              0</td><td style=\"text-align: right;\">            2</td><td style=\"text-align: right;\">             1</td><td style=\"text-align: right;\">              0</td><td style=\"text-align: right;\">             0</td><td style=\"text-align: right;\">              1</td><td style=\"text-align: right;\">    5</td><td style=\"text-align: right;\">        0.117469</td><td style=\"text-align: right;\">       0.180648</td><td style=\"text-align: right;\">     0.0341378 </td><td style=\"text-align: right;\">      0.000838608</td><td style=\"text-align: right;\">            2.92316 </td><td style=\"text-align: right;\">            1.33278 </td><td style=\"text-align: right;\">       1.8831  </td><td style=\"text-align: right;\">   0.206945   </td><td style=\"text-align: right;\">   0.00114968 </td><td style=\"text-align: right;\">     1.30922e-06</td><td style=\"text-align: right;\">        1.44096 </td><td style=\"text-align: right;\">       0.498468</td><td style=\"text-align: right;\">     0.0755028 </td><td style=\"text-align: right;\">      0.000564084</td><td style=\"text-align: right;\">              1.41094 </td><td style=\"text-align: right;\">            0.303685 </td><td style=\"text-align: right;\">            0.0248257</td><td style=\"text-align: right;\">            -0.00203789</td><td style=\"text-align: right;\">     0.191888</td><td style=\"text-align: right;\">                   1</td><td style=\"text-align: right;\">              2018</td><td style=\"text-align: right;\">                  1</td><td style=\"text-align: right;\">                1</td></tr>\n",
       "<tr><td style=\"text-align: right;\">     1</td><td style=\"text-align: right;\">     0</td><td style=\"text-align: right;\">       1</td><td style=\"text-align: right;\">7.97745e+10</td><td>2017-12-31 21:00:00</td><td style=\"text-align: right;\">     29</td><td style=\"text-align: right;\">3.00006e+11</td><td style=\"text-align: right;\">        12</td><td style=\"text-align: right;\">         2.5</td><td>B95     </td><td>S1      </td><td>S1         </td><td style=\"text-align: right;\">       700</td><td style=\"text-align: right;\">                0</td><td>T30001936</td><td>L1           </td><td>S-3      </td><td>S0       </td><td>C5        </td><td>P2          </td><td>NULL      </td><td>S2             </td><td>Active      </td><td>C1             </td><td style=\"text-align: right;\">           0</td><td>I86562702</td><td style=\"text-align: right;\">       1166</td><td style=\"text-align: right;\">       1180</td><td style=\"text-align: right;\">         14</td><td style=\"text-align: right;\">         0.99</td><td style=\"text-align: right;\">         5.01972</td><td style=\"text-align: right;\">              5</td><td style=\"text-align: right;\">    26.9231 </td><td style=\"text-align: right;\">          168</td><td>G0      </td><td style=\"text-align: right;\">   35</td><td style=\"text-align: right;\"> 592.25</td><td style=\"text-align: right;\">    19.7417 </td><td style=\"text-align: right;\">  4.80525  </td><td style=\"text-align: right;\">    24.195   </td><td style=\"text-align: right;\"> 1551</td><td style=\"text-align: right;\">               1</td><td style=\"text-align: right;\">                 0.4 </td><td style=\"text-align: right;\">     3101.3  </td><td style=\"text-align: right;\">    1710.4  </td><td style=\"text-align: right;\">    0.185022</td><td style=\"text-align: right;\">     -1.00609 </td><td style=\"text-align: right;\">               3289</td><td style=\"text-align: right;\">           109.633 </td><td style=\"text-align: right;\">          79.4475 </td><td style=\"text-align: right;\">          0.472214</td><td style=\"text-align: right;\">          -0.851574 </td><td style=\"text-align: right;\">0.101775 </td><td style=\"text-align: right;\">0.64531 </td><td style=\"text-align: right;\">0.252915 </td><td style=\"text-align: right;\">0.38342 </td><td style=\"text-align: right;\">0.455015</td><td style=\"text-align: right;\">0.161564 </td><td style=\"text-align: right;\"> 0.26</td><td style=\"text-align: right;\"> 0.6 </td><td style=\"text-align: right;\"> 0.13</td><td style=\"text-align: right;\">    0</td><td style=\"text-align: right;\">    0</td><td style=\"text-align: right;\">    0</td><td style=\"text-align: right;\">          425</td><td style=\"text-align: right;\">             0.12</td><td style=\"text-align: right;\">        93039</td><td style=\"text-align: right;\">      98.3499</td><td style=\"text-align: right;\">    224.471 </td><td style=\"text-align: right;\">     5.04215</td><td style=\"text-align: right;\">      31.2851 </td><td style=\"text-align: right;\">     0</td><td style=\"text-align: right;\">     0</td><td style=\"text-align: right;\">  0.06</td><td style=\"text-align: right;\">     0</td><td style=\"text-align: right;\">  0.56</td><td style=\"text-align: right;\">       0.62</td><td style=\"text-align: right;\">       0.38</td><td style=\"text-align: right;\">           0.902</td><td style=\"text-align: right;\">          1693</td><td style=\"text-align: right;\">      0.882903</td><td style=\"text-align: right;\">      4.58473</td><td style=\"text-align: right;\">     12.025  </td><td style=\"text-align: right;\">       176.49  </td><td style=\"text-align: right;\">     0</td><td style=\"text-align: right;\">     0</td><td style=\"text-align: right;\">     0</td><td style=\"text-align: right;\">     0</td><td style=\"text-align: right;\">     0</td><td style=\"text-align: right;\">       0   </td><td style=\"text-align: right;\">       1   </td><td style=\"text-align: right;\">       0   </td><td style=\"text-align: right;\">                     24</td><td style=\"text-align: right;\">       70.5587</td><td style=\"text-align: right;\">      52.0143</td><td style=\"text-align: right;\">    0.625277 </td><td style=\"text-align: right;\">      -0.242871</td><td style=\"text-align: right;\">          79.9167 </td><td style=\"text-align: right;\">        55.7613  </td><td style=\"text-align: right;\">         0.279455</td><td style=\"text-align: right;\">          -0.849734</td><td>NULL        </td><td>Y         </td><td>Android_4.2 </td><td>Y         </td><td>Y        </td><td>N         </td><td>Bar          </td><td>Y       </td><td>2      </td><td>Lenovo                 </td><td>NULL            </td><td style=\"text-align: right;\">       0</td><td>NULL       </td><td style=\"text-align: right;\">         nan</td><td style=\"text-align: right;\">       nan</td><td>NULL     </td><td style=\"text-align: right;\">                   0   </td><td>B0              </td><td style=\"text-align: right;\">            0</td><td style=\"text-align: right;\">           0</td><td style=\"text-align: right;\">                 0</td><td style=\"text-align: right;\">                0</td><td>S0            </td><td>U1              </td><td>M0             </td><td>I0             </td><td>R0             </td><td>R0             </td><td>I0                      </td><td>P0                     </td><td style=\"text-align: right;\">                       8</td><td>P0                    </td><td>C0                  </td><td>C0                   </td><td>A0                 </td><td>A0                      </td><td style=\"text-align: right;\">         0</td><td style=\"text-align: right;\">       82</td><td style=\"text-align: right;\">            12</td><td style=\"text-align: right;\">                 0.15</td><td style=\"text-align: right;\">                       0.43</td><td style=\"text-align: right;\">            18</td><td style=\"text-align: right;\">            64</td><td style=\"text-align: right;\">                     0.54</td><td style=\"text-align: right;\">                     0.05</td><td style=\"text-align: right;\">                   0.17</td><td style=\"text-align: right;\">                   0.01</td><td style=\"text-align: right;\">            0.17</td><td style=\"text-align: right;\">                 0.11</td><td style=\"text-align: right;\">                 0   </td><td style=\"text-align: right;\">                 0   </td><td style=\"text-align: right;\">                      0   </td><td style=\"text-align: right;\">                      0   </td><td style=\"text-align: right;\">               36</td><td style=\"text-align: right;\">               36</td><td style=\"text-align: right;\">          36</td><td style=\"text-align: right;\">          6</td><td style=\"text-align: right;\">          1</td><td style=\"text-align: right;\">         1005.33 </td><td style=\"text-align: right;\">                  2</td><td style=\"text-align: right;\">                  0.08</td><td>city      </td><td style=\"text-align: right;\">    0</td><td style=\"text-align: right;\">             30</td><td style=\"text-align: right;\">         1</td><td style=\"text-align: right;\">     -18.0977</td><td style=\"text-align: right;\">     69.5918</td><td style=\"text-align: right;\">   -0.588153</td><td style=\"text-align: right;\">     -1.79731 </td><td style=\"text-align: right;\">    -109.86  </td><td style=\"text-align: right;\">      41.1401</td><td style=\"text-align: right;\">          2.22727</td><td style=\"text-align: right;\">          6.45455</td><td>B0              </td><td style=\"text-align: right;\">          0</td><td style=\"text-align: right;\">          0</td><td style=\"text-align: right;\">          0</td><td style=\"text-align: right;\">          0</td><td style=\"text-align: right;\">          0</td><td style=\"text-align: right;\">          0</td><td style=\"text-align: right;\">          0</td><td style=\"text-align: right;\">          0</td><td style=\"text-align: right;\">          0</td><td style=\"text-align: right;\">          0</td><td style=\"text-align: right;\">              0</td><td style=\"text-align: right;\">            0</td><td style=\"text-align: right;\">            0</td><td style=\"text-align: right;\">            0</td><td style=\"text-align: right;\">            0</td><td style=\"text-align: right;\">            3</td><td style=\"text-align: right;\">       726.02</td><td style=\"text-align: right;\">     242.007 </td><td style=\"text-align: right;\">             0</td><td style=\"text-align: right;\">             0</td><td style=\"text-align: right;\">             0</td><td style=\"text-align: right;\">                  0</td><td style=\"text-align: right;\">                  0</td><td style=\"text-align: right;\">                 0</td><td style=\"text-align: right;\">            4</td><td style=\"text-align: right;\">             1</td><td style=\"text-align: right;\">            0</td><td style=\"text-align: right;\">             0</td><td style=\"text-align: right;\">             0</td><td style=\"text-align: right;\">              0</td><td style=\"text-align: right;\">             0</td><td style=\"text-align: right;\">              0</td><td style=\"text-align: right;\">             0</td><td style=\"text-align: right;\">              0</td><td style=\"text-align: right;\">              0</td><td style=\"text-align: right;\">               0</td><td style=\"text-align: right;\">            0</td><td style=\"text-align: right;\">             0</td><td style=\"text-align: right;\">            7</td><td style=\"text-align: right;\">             2</td><td style=\"text-align: right;\">           22</td><td style=\"text-align: right;\">             1</td><td style=\"text-align: right;\">             0</td><td style=\"text-align: right;\">              0</td><td style=\"text-align: right;\">            0</td><td style=\"text-align: right;\">             0</td><td style=\"text-align: right;\">             0</td><td style=\"text-align: right;\">              0</td><td style=\"text-align: right;\">            0</td><td style=\"text-align: right;\">             0</td><td style=\"text-align: right;\">              1</td><td style=\"text-align: right;\">               1</td><td style=\"text-align: right;\">             0</td><td style=\"text-align: right;\">              0</td><td style=\"text-align: right;\">             0</td><td style=\"text-align: right;\">              0</td><td style=\"text-align: right;\">             0</td><td style=\"text-align: right;\">              0</td><td style=\"text-align: right;\">             0</td><td style=\"text-align: right;\">              0</td><td>D1    </td><td>P0                 </td><td style=\"text-align: right;\">       12</td><td>RF0            </td><td>SF0          </td><td>E0          </td><td>              </td><td>T1         </td><td>M3           </td><td style=\"text-align: right;\">            2</td><td style=\"text-align: right;\">       462.5</td><td style=\"text-align: right;\">                  2</td><td style=\"text-align: right;\">                 0</td><td style=\"text-align: right;\">                 462.5</td><td style=\"text-align: right;\">                    0</td><td style=\"text-align: right;\">                   1</td><td style=\"text-align: right;\">                         1</td><td style=\"text-align: right;\">                        0</td><td style=\"text-align: right;\">              0</td><td style=\"text-align: right;\">            2</td><td style=\"text-align: right;\">             1</td><td style=\"text-align: right;\">              0</td><td style=\"text-align: right;\">             0</td><td style=\"text-align: right;\">              1</td><td style=\"text-align: right;\">    5</td><td style=\"text-align: right;\">       -0.153704</td><td style=\"text-align: right;\">       0.184613</td><td style=\"text-align: right;\">    -0.010151  </td><td style=\"text-align: right;\">     -0.00021822 </td><td style=\"text-align: right;\">            0.438578</td><td style=\"text-align: right;\">            0.7946  </td><td style=\"text-align: right;\">       1.59714 </td><td style=\"text-align: right;\">   0.0122826  </td><td style=\"text-align: right;\">   0.000595147</td><td style=\"text-align: right;\">     3.70912e-07</td><td style=\"text-align: right;\">        4.55418 </td><td style=\"text-align: right;\">       1.14177 </td><td style=\"text-align: right;\">     0.00303706</td><td style=\"text-align: right;\">     -3.08273e-05</td><td style=\"text-align: right;\">              1.22502 </td><td style=\"text-align: right;\">            0.423052 </td><td style=\"text-align: right;\">            0.071702 </td><td style=\"text-align: right;\">            -0.00589554</td><td style=\"text-align: right;\">     1.63064 </td><td style=\"text-align: right;\">                   1</td><td style=\"text-align: right;\">              2018</td><td style=\"text-align: right;\">                  1</td><td style=\"text-align: right;\">                1</td></tr>\n",
       "<tr><td style=\"text-align: right;\">     1</td><td style=\"text-align: right;\">     1</td><td style=\"text-align: right;\">       1</td><td style=\"text-align: right;\">7.9774e+10 </td><td>2017-12-31 21:00:00</td><td style=\"text-align: right;\">     29</td><td style=\"text-align: right;\">3.00006e+11</td><td style=\"text-align: right;\">        12</td><td style=\"text-align: right;\">         2.5</td><td>B95     </td><td>S1      </td><td>S1         </td><td style=\"text-align: right;\">       483</td><td style=\"text-align: right;\">                0</td><td>T30001935</td><td>L1           </td><td>S-2      </td><td>S0       </td><td>C2        </td><td>P1          </td><td>NULL      </td><td>S6             </td><td>Active      </td><td>C1             </td><td style=\"text-align: right;\">           0</td><td>I35788805</td><td style=\"text-align: right;\">       1547</td><td style=\"text-align: right;\">       1547</td><td style=\"text-align: right;\">          0</td><td style=\"text-align: right;\">         1   </td><td style=\"text-align: right;\">         4.29688</td><td style=\"text-align: right;\">             13</td><td style=\"text-align: right;\">     5.08421</td><td style=\"text-align: right;\">           59</td><td>G0      </td><td style=\"text-align: right;\">   43</td><td style=\"text-align: right;\"> 173.45</td><td style=\"text-align: right;\">     5.78167</td><td style=\"text-align: right;\">  0.155817 </td><td style=\"text-align: right;\">    -1.35605 </td><td style=\"text-align: right;\">  139</td><td style=\"text-align: right;\">               1</td><td style=\"text-align: right;\">                 0.59</td><td style=\"text-align: right;\">      278.433</td><td style=\"text-align: right;\">     309.009</td><td style=\"text-align: right;\">    1.82393 </td><td style=\"text-align: right;\">      3.35861 </td><td style=\"text-align: right;\">               6582</td><td style=\"text-align: right;\">           219.4   </td><td style=\"text-align: right;\">         244.623  </td><td style=\"text-align: right;\">          1.0013  </td><td style=\"text-align: right;\">           0.0361991</td><td style=\"text-align: right;\">0.0992458</td><td style=\"text-align: right;\">0.820544</td><td style=\"text-align: right;\">0.0802107</td><td style=\"text-align: right;\">0.414936</td><td style=\"text-align: right;\">0.396165</td><td style=\"text-align: right;\">0.188899 </td><td style=\"text-align: right;\"> 0.29</td><td style=\"text-align: right;\"> 0.6 </td><td style=\"text-align: right;\"> 0.11</td><td style=\"text-align: right;\">    0</td><td style=\"text-align: right;\">    0</td><td style=\"text-align: right;\">    0</td><td style=\"text-align: right;\">          161</td><td style=\"text-align: right;\">             0.18</td><td style=\"text-align: right;\">         8353</td><td style=\"text-align: right;\">      52.8671</td><td style=\"text-align: right;\">     71.6163</td><td style=\"text-align: right;\">     2.20842</td><td style=\"text-align: right;\">       5.26627</td><td style=\"text-align: right;\">     0</td><td style=\"text-align: right;\">     0</td><td style=\"text-align: right;\">  0.04</td><td style=\"text-align: right;\">     0</td><td style=\"text-align: right;\">  0.37</td><td style=\"text-align: right;\">       0.42</td><td style=\"text-align: right;\">       0.32</td><td style=\"text-align: right;\">           0.921</td><td style=\"text-align: right;\">         10583</td><td style=\"text-align: right;\">      1.68976 </td><td style=\"text-align: right;\">      5.64956</td><td style=\"text-align: right;\">     13.9304 </td><td style=\"text-align: right;\">       339.412 </td><td style=\"text-align: right;\">     0</td><td style=\"text-align: right;\">     0</td><td style=\"text-align: right;\">     0</td><td style=\"text-align: right;\">     0</td><td style=\"text-align: right;\">     0</td><td style=\"text-align: right;\">       0   </td><td style=\"text-align: right;\">       0.05</td><td style=\"text-align: right;\">       0.95</td><td style=\"text-align: right;\">                     21</td><td style=\"text-align: right;\">      503.951 </td><td style=\"text-align: right;\">     479.019 </td><td style=\"text-align: right;\">    1.36168  </td><td style=\"text-align: right;\">       1.63165 </td><td style=\"text-align: right;\">         298.238  </td><td style=\"text-align: right;\">       242.857   </td><td style=\"text-align: right;\">         0.586436</td><td style=\"text-align: right;\">          -0.390686</td><td>NULL        </td><td>Y         </td><td>            </td><td>Y         </td><td>Y        </td><td>N         </td><td>Bar          </td><td>Y       </td><td>1      </td><td>Nokia                  </td><td>NULL            </td><td style=\"text-align: right;\">       0</td><td>NULL       </td><td style=\"text-align: right;\">         nan</td><td style=\"text-align: right;\">       nan</td><td>NULL     </td><td style=\"text-align: right;\">                   0   </td><td>B1              </td><td style=\"text-align: right;\">            0</td><td style=\"text-align: right;\">           0</td><td style=\"text-align: right;\">                 0</td><td style=\"text-align: right;\">                0</td><td>S1            </td><td>U1              </td><td>M0             </td><td>I0             </td><td>R0             </td><td>R0             </td><td>I0                      </td><td>P0                     </td><td style=\"text-align: right;\">                       7</td><td>P0                    </td><td>C0                  </td><td>C0                   </td><td>A0                 </td><td>A0                      </td><td style=\"text-align: right;\">         0</td><td style=\"text-align: right;\">       39</td><td style=\"text-align: right;\">             9</td><td style=\"text-align: right;\">                 0.23</td><td style=\"text-align: right;\">                       0.35</td><td style=\"text-align: right;\">             8</td><td style=\"text-align: right;\">            31</td><td style=\"text-align: right;\">                     0.23</td><td style=\"text-align: right;\">                     0.18</td><td style=\"text-align: right;\">                   0.15</td><td style=\"text-align: right;\">                   0   </td><td style=\"text-align: right;\">            0.44</td><td style=\"text-align: right;\">                 0.12</td><td style=\"text-align: right;\">                 0.1 </td><td style=\"text-align: right;\">                 0   </td><td style=\"text-align: right;\">                      0   </td><td style=\"text-align: right;\">                      0   </td><td style=\"text-align: right;\">               32</td><td style=\"text-align: right;\">               43</td><td style=\"text-align: right;\">          39</td><td style=\"text-align: right;\">         12</td><td style=\"text-align: right;\">          1</td><td style=\"text-align: right;\">         1183.22 </td><td style=\"text-align: right;\">                  3</td><td style=\"text-align: right;\">                  0.56</td><td>village   </td><td style=\"text-align: right;\">    0</td><td style=\"text-align: right;\">             30</td><td style=\"text-align: right;\">         1</td><td style=\"text-align: right;\">      70.8971</td><td style=\"text-align: right;\">     76.3961</td><td style=\"text-align: right;\">    0.422753</td><td style=\"text-align: right;\">     -1.72272 </td><td style=\"text-align: right;\">       0.9912</td><td style=\"text-align: right;\">     202.171 </td><td style=\"text-align: right;\">          6.40909</td><td style=\"text-align: right;\">         10.3182 </td><td>B0              </td><td style=\"text-align: right;\">          0</td><td style=\"text-align: right;\">          0</td><td style=\"text-align: right;\">          0</td><td style=\"text-align: right;\">          0</td><td style=\"text-align: right;\">          0</td><td style=\"text-align: right;\">          0</td><td style=\"text-align: right;\">          0</td><td style=\"text-align: right;\">          0</td><td style=\"text-align: right;\">          0</td><td style=\"text-align: right;\">          0</td><td style=\"text-align: right;\">              0</td><td style=\"text-align: right;\">            0</td><td style=\"text-align: right;\">            0</td><td style=\"text-align: right;\">            0</td><td style=\"text-align: right;\">            0</td><td style=\"text-align: right;\">            8</td><td style=\"text-align: right;\">       257.91</td><td style=\"text-align: right;\">      32.2388</td><td style=\"text-align: right;\">             0</td><td style=\"text-align: right;\">             0</td><td style=\"text-align: right;\">             0</td><td style=\"text-align: right;\">                  0</td><td style=\"text-align: right;\">                  0</td><td style=\"text-align: right;\">                 0</td><td style=\"text-align: right;\">            0</td><td style=\"text-align: right;\">             0</td><td style=\"text-align: right;\">            0</td><td style=\"text-align: right;\">             0</td><td style=\"text-align: right;\">             0</td><td style=\"text-align: right;\">              0</td><td style=\"text-align: right;\">             0</td><td style=\"text-align: right;\">              0</td><td style=\"text-align: right;\">             1</td><td style=\"text-align: right;\">              1</td><td style=\"text-align: right;\">              0</td><td style=\"text-align: right;\">               0</td><td style=\"text-align: right;\">            0</td><td style=\"text-align: right;\">             0</td><td style=\"text-align: right;\">            0</td><td style=\"text-align: right;\">             0</td><td style=\"text-align: right;\">           11</td><td style=\"text-align: right;\">             1</td><td style=\"text-align: right;\">             0</td><td style=\"text-align: right;\">              0</td><td style=\"text-align: right;\">            0</td><td style=\"text-align: right;\">             0</td><td style=\"text-align: right;\">             0</td><td style=\"text-align: right;\">              0</td><td style=\"text-align: right;\">            0</td><td style=\"text-align: right;\">             0</td><td style=\"text-align: right;\">              0</td><td style=\"text-align: right;\">               0</td><td style=\"text-align: right;\">             0</td><td style=\"text-align: right;\">              0</td><td style=\"text-align: right;\">             0</td><td style=\"text-align: right;\">              0</td><td style=\"text-align: right;\">             0</td><td style=\"text-align: right;\">              0</td><td style=\"text-align: right;\">             0</td><td style=\"text-align: right;\">              0</td><td>D1    </td><td>P1                 </td><td style=\"text-align: right;\">       18</td><td>RF0            </td><td>SF0          </td><td>E1          </td><td>.RU           </td><td>T1         </td><td>M3           </td><td style=\"text-align: right;\">            0</td><td style=\"text-align: right;\">         0  </td><td style=\"text-align: right;\">                  0</td><td style=\"text-align: right;\">                 0</td><td style=\"text-align: right;\">                   0  </td><td style=\"text-align: right;\">                    0</td><td style=\"text-align: right;\">                   0</td><td style=\"text-align: right;\">                         0</td><td style=\"text-align: right;\">                        0</td><td style=\"text-align: right;\">              0</td><td style=\"text-align: right;\">            2</td><td style=\"text-align: right;\">             1</td><td style=\"text-align: right;\">              0</td><td style=\"text-align: right;\">             0</td><td style=\"text-align: right;\">              1</td><td style=\"text-align: right;\">    5</td><td style=\"text-align: right;\">        0.60213 </td><td style=\"text-align: right;\">       0.202664</td><td style=\"text-align: right;\">     0.00729633</td><td style=\"text-align: right;\">     -0.000209163</td><td style=\"text-align: right;\">            1.26203 </td><td style=\"text-align: right;\">            1.27024 </td><td style=\"text-align: right;\">       0.467749</td><td style=\"text-align: right;\">   0.000805653</td><td style=\"text-align: right;\">   1.92985e-05</td><td style=\"text-align: right;\">    -2.07885e-08</td><td style=\"text-align: right;\">        0.408872</td><td style=\"text-align: right;\">       0.206278</td><td style=\"text-align: right;\">     0.029939  </td><td style=\"text-align: right;\">      0.00010291 </td><td style=\"text-align: right;\">              2.45154 </td><td style=\"text-align: right;\">            1.3026   </td><td style=\"text-align: right;\">            0.15204  </td><td style=\"text-align: right;\">             0.00025061</td><td style=\"text-align: right;\">     1.12514 </td><td style=\"text-align: right;\">                   0</td><td style=\"text-align: right;\">              2018</td><td style=\"text-align: right;\">                  1</td><td style=\"text-align: right;\">                1</td></tr>\n",
       "<tr><td style=\"text-align: right;\">     1</td><td style=\"text-align: right;\">     0</td><td style=\"text-align: right;\">       1</td><td style=\"text-align: right;\">7.97742e+10</td><td>2017-12-31 21:00:00</td><td style=\"text-align: right;\">     29</td><td style=\"text-align: right;\">3.00016e+11</td><td style=\"text-align: right;\">        12</td><td style=\"text-align: right;\">         2.5</td><td>B95     </td><td>S1      </td><td>S1         </td><td style=\"text-align: right;\">       226</td><td style=\"text-align: right;\">                0</td><td>T30001937</td><td>L1           </td><td>S-1      </td><td>S0       </td><td>C3        </td><td>P1          </td><td>NULL      </td><td>S37            </td><td>Active      </td><td>C1             </td><td style=\"text-align: right;\">           1</td><td>I35747407</td><td style=\"text-align: right;\">        408</td><td style=\"text-align: right;\">        634</td><td style=\"text-align: right;\">        226</td><td style=\"text-align: right;\">         0.64</td><td style=\"text-align: right;\">         4.37541</td><td style=\"text-align: right;\">              3</td><td style=\"text-align: right;\">   245      </td><td style=\"text-align: right;\">          509</td><td>G0      </td><td style=\"text-align: right;\">   36</td><td style=\"text-align: right;\">1298.7 </td><td style=\"text-align: right;\">    43.29   </td><td style=\"text-align: right;\">  4.95965  </td><td style=\"text-align: right;\">    25.7982  </td><td style=\"text-align: right;\"> 3180</td><td style=\"text-align: right;\">               1</td><td style=\"text-align: right;\">                 0.54</td><td style=\"text-align: right;\">     6359.37 </td><td style=\"text-align: right;\">    3735.28 </td><td style=\"text-align: right;\">    0.143694</td><td style=\"text-align: right;\">     -0.557468</td><td style=\"text-align: right;\">              20360</td><td style=\"text-align: right;\">           678.667 </td><td style=\"text-align: right;\">         210.01   </td><td style=\"text-align: right;\">         -1.16262 </td><td style=\"text-align: right;\">           2.61472  </td><td style=\"text-align: right;\">0.0944905</td><td style=\"text-align: right;\">0.70126 </td><td style=\"text-align: right;\">0.20425  </td><td style=\"text-align: right;\">0.400203</td><td style=\"text-align: right;\">0.434509</td><td style=\"text-align: right;\">0.165289 </td><td style=\"text-align: right;\"> 0.06</td><td style=\"text-align: right;\"> 0.68</td><td style=\"text-align: right;\"> 0.27</td><td style=\"text-align: right;\">    0</td><td style=\"text-align: right;\">    0</td><td style=\"text-align: right;\">    0</td><td style=\"text-align: right;\">          271</td><td style=\"text-align: right;\">             0.07</td><td style=\"text-align: right;\">       190781</td><td style=\"text-align: right;\">     130.941 </td><td style=\"text-align: right;\">    168.263 </td><td style=\"text-align: right;\">     2.08074</td><td style=\"text-align: right;\">       5.01116</td><td style=\"text-align: right;\">     0</td><td style=\"text-align: right;\">     0</td><td style=\"text-align: right;\">  0   </td><td style=\"text-align: right;\">     0</td><td style=\"text-align: right;\">  0.46</td><td style=\"text-align: right;\">       0.46</td><td style=\"text-align: right;\">       0.54</td><td style=\"text-align: right;\">           0.922</td><td style=\"text-align: right;\">          7242</td><td style=\"text-align: right;\">      0.388678</td><td style=\"text-align: right;\">      1.74434</td><td style=\"text-align: right;\">     15.6994 </td><td style=\"text-align: right;\">       499.389 </td><td style=\"text-align: right;\">     0</td><td style=\"text-align: right;\">     0</td><td style=\"text-align: right;\">     0</td><td style=\"text-align: right;\">     0</td><td style=\"text-align: right;\">     0</td><td style=\"text-align: right;\">       0   </td><td style=\"text-align: right;\">       0.41</td><td style=\"text-align: right;\">       0.59</td><td style=\"text-align: right;\">                     29</td><td style=\"text-align: right;\">      249.719 </td><td style=\"text-align: right;\">     224.893 </td><td style=\"text-align: right;\">    2.31552  </td><td style=\"text-align: right;\">       6.06342 </td><td style=\"text-align: right;\">         642.483  </td><td style=\"text-align: right;\">       145.993   </td><td style=\"text-align: right;\">        -0.440733</td><td style=\"text-align: right;\">           0.500482</td><td>NULL        </td><td>NULL      </td><td>            </td><td>NULL      </td><td>NULL     </td><td>NULL      </td><td>NULL         </td><td>NULL    </td><td>NULL   </td><td>NULL                   </td><td>NULL            </td><td style=\"text-align: right;\">       0</td><td>NULL       </td><td style=\"text-align: right;\">         nan</td><td style=\"text-align: right;\">       nan</td><td>NULL     </td><td style=\"text-align: right;\">                   0   </td><td>B1              </td><td style=\"text-align: right;\">            0</td><td style=\"text-align: right;\">           0</td><td style=\"text-align: right;\">                 0</td><td style=\"text-align: right;\">                0</td><td>S0            </td><td>U0              </td><td>M0             </td><td>I0             </td><td>R0             </td><td>R0             </td><td>I0                      </td><td>P0                     </td><td style=\"text-align: right;\">                       0</td><td>P0                    </td><td>C0                  </td><td>C0                   </td><td>A0                 </td><td>A0                      </td><td style=\"text-align: right;\">         0</td><td style=\"text-align: right;\">       66</td><td style=\"text-align: right;\">            11</td><td style=\"text-align: right;\">                 0.17</td><td style=\"text-align: right;\">                       0.31</td><td style=\"text-align: right;\">             9</td><td style=\"text-align: right;\">            57</td><td style=\"text-align: right;\">                     0.36</td><td style=\"text-align: right;\">                     0.1 </td><td style=\"text-align: right;\">                   0.16</td><td style=\"text-align: right;\">                   0.06</td><td style=\"text-align: right;\">            0.55</td><td style=\"text-align: right;\">                 0.11</td><td style=\"text-align: right;\">                 0.09</td><td style=\"text-align: right;\">                 0   </td><td style=\"text-align: right;\">                      0   </td><td style=\"text-align: right;\">                      0   </td><td style=\"text-align: right;\">               36</td><td style=\"text-align: right;\">               42</td><td style=\"text-align: right;\">          41</td><td style=\"text-align: right;\">         10</td><td style=\"text-align: right;\">          2</td><td style=\"text-align: right;\">          273.727</td><td style=\"text-align: right;\">                  1</td><td style=\"text-align: right;\">                  0   </td><td>NULL      </td><td style=\"text-align: right;\">    0</td><td style=\"text-align: right;\">              0</td><td style=\"text-align: right;\">         0</td><td style=\"text-align: right;\">      87.3258</td><td style=\"text-align: right;\">     25.9462</td><td style=\"text-align: right;\">   -2.79478 </td><td style=\"text-align: right;\">      6.94833 </td><td style=\"text-align: right;\">       1.5007</td><td style=\"text-align: right;\">     102.551 </td><td style=\"text-align: right;\">          6.81818</td><td style=\"text-align: right;\">          8.81818</td><td>B0              </td><td style=\"text-align: right;\">          0</td><td style=\"text-align: right;\">          0</td><td style=\"text-align: right;\">          0</td><td style=\"text-align: right;\">          0</td><td style=\"text-align: right;\">          0</td><td style=\"text-align: right;\">          0</td><td style=\"text-align: right;\">          0</td><td style=\"text-align: right;\">          0</td><td style=\"text-align: right;\">          0</td><td style=\"text-align: right;\">          0</td><td style=\"text-align: right;\">              0</td><td style=\"text-align: right;\">            0</td><td style=\"text-align: right;\">            0</td><td style=\"text-align: right;\">            0</td><td style=\"text-align: right;\">            0</td><td style=\"text-align: right;\">            3</td><td style=\"text-align: right;\">      1300   </td><td style=\"text-align: right;\">     433.333 </td><td style=\"text-align: right;\">             0</td><td style=\"text-align: right;\">             0</td><td style=\"text-align: right;\">             0</td><td style=\"text-align: right;\">                  0</td><td style=\"text-align: right;\">                  0</td><td style=\"text-align: right;\">                 0</td><td style=\"text-align: right;\">            0</td><td style=\"text-align: right;\">             0</td><td style=\"text-align: right;\">            0</td><td style=\"text-align: right;\">             0</td><td style=\"text-align: right;\">             0</td><td style=\"text-align: right;\">              0</td><td style=\"text-align: right;\">             0</td><td style=\"text-align: right;\">              0</td><td style=\"text-align: right;\">             0</td><td style=\"text-align: right;\">              0</td><td style=\"text-align: right;\">              0</td><td style=\"text-align: right;\">               0</td><td style=\"text-align: right;\">            0</td><td style=\"text-align: right;\">             0</td><td style=\"text-align: right;\">           12</td><td style=\"text-align: right;\">             4</td><td style=\"text-align: right;\">            0</td><td style=\"text-align: right;\">             0</td><td style=\"text-align: right;\">             0</td><td style=\"text-align: right;\">              0</td><td style=\"text-align: right;\">            0</td><td style=\"text-align: right;\">             0</td><td style=\"text-align: right;\">             0</td><td style=\"text-align: right;\">              0</td><td style=\"text-align: right;\">            0</td><td style=\"text-align: right;\">             0</td><td style=\"text-align: right;\">              0</td><td style=\"text-align: right;\">               0</td><td style=\"text-align: right;\">             0</td><td style=\"text-align: right;\">              0</td><td style=\"text-align: right;\">             0</td><td style=\"text-align: right;\">              0</td><td style=\"text-align: right;\">             0</td><td style=\"text-align: right;\">              0</td><td style=\"text-align: right;\">             0</td><td style=\"text-align: right;\">              0</td><td>D1    </td><td>P2                 </td><td style=\"text-align: right;\">       18</td><td>RF1            </td><td>SF0          </td><td>E0          </td><td>              </td><td>T1         </td><td>M3           </td><td style=\"text-align: right;\">            0</td><td style=\"text-align: right;\">         0  </td><td style=\"text-align: right;\">                  0</td><td style=\"text-align: right;\">                 0</td><td style=\"text-align: right;\">                   0  </td><td style=\"text-align: right;\">                    0</td><td style=\"text-align: right;\">                   0</td><td style=\"text-align: right;\">                         0</td><td style=\"text-align: right;\">                        0</td><td style=\"text-align: right;\">              0</td><td style=\"text-align: right;\">            2</td><td style=\"text-align: right;\">             1</td><td style=\"text-align: right;\">              0</td><td style=\"text-align: right;\">             0</td><td style=\"text-align: right;\">              1</td><td style=\"text-align: right;\">    5</td><td style=\"text-align: right;\">        0.741658</td><td style=\"text-align: right;\">       0.06883 </td><td style=\"text-align: right;\">    -0.0482354 </td><td style=\"text-align: right;\">      0.00084363 </td><td style=\"text-align: right;\">            1.34259 </td><td style=\"text-align: right;\">            1.08558 </td><td style=\"text-align: right;\">       3.50225 </td><td style=\"text-align: right;\">   0.0261573  </td><td style=\"text-align: right;\">   0.000614271</td><td style=\"text-align: right;\">     3.9549e-07 </td><td style=\"text-align: right;\">        9.33857 </td><td style=\"text-align: right;\">       2.49347 </td><td style=\"text-align: right;\">     0.00235868</td><td style=\"text-align: right;\">     -1.70812e-05</td><td style=\"text-align: right;\">              7.58331 </td><td style=\"text-align: right;\">            1.11829  </td><td style=\"text-align: right;\">           -0.176534 </td><td style=\"text-align: right;\">             0.018102  </td><td style=\"text-align: right;\">     0.526463</td><td style=\"text-align: right;\">                 -91</td><td style=\"text-align: right;\">              2018</td><td style=\"text-align: right;\">                  1</td><td style=\"text-align: right;\">                1</td></tr>\n",
       "<tr><td style=\"text-align: right;\">     1</td><td style=\"text-align: right;\">     0</td><td style=\"text-align: right;\">       1</td><td style=\"text-align: right;\">7.97771e+10</td><td>2017-12-31 21:00:00</td><td style=\"text-align: right;\">     29</td><td style=\"text-align: right;\">3.00012e+11</td><td style=\"text-align: right;\">        12</td><td style=\"text-align: right;\">         2.5</td><td>B95     </td><td>S1      </td><td>S1         </td><td style=\"text-align: right;\">       440</td><td style=\"text-align: right;\">                0</td><td>T30001936</td><td>L1           </td><td>S-3      </td><td>S0       </td><td>C3        </td><td>P1          </td><td>NULL      </td><td>S37            </td><td>Active      </td><td>C1             </td><td style=\"text-align: right;\">           0</td><td>I35198706</td><td style=\"text-align: right;\">        956</td><td style=\"text-align: right;\">       1396</td><td style=\"text-align: right;\">        440</td><td style=\"text-align: right;\">         0.68</td><td style=\"text-align: right;\">         4.27547</td><td style=\"text-align: right;\">              1</td><td style=\"text-align: right;\">   440      </td><td style=\"text-align: right;\">          440</td><td>G0      </td><td style=\"text-align: right;\">   40</td><td style=\"text-align: right;\">1769.75</td><td style=\"text-align: right;\">    58.9916 </td><td style=\"text-align: right;\">  2.2116   </td><td style=\"text-align: right;\">     4.45874 </td><td style=\"text-align: right;\"> 1416</td><td style=\"text-align: right;\">               0</td><td style=\"text-align: right;\">                 0.28</td><td style=\"text-align: right;\">     2832.13 </td><td style=\"text-align: right;\">    2306.97 </td><td style=\"text-align: right;\">    1.8876  </td><td style=\"text-align: right;\">      3.85761 </td><td style=\"text-align: right;\">               1655</td><td style=\"text-align: right;\">            55.1667</td><td style=\"text-align: right;\">          30.8341 </td><td style=\"text-align: right;\">          1.6113  </td><td style=\"text-align: right;\">           1.95947  </td><td style=\"text-align: right;\">0.0645803</td><td style=\"text-align: right;\">0.45757 </td><td style=\"text-align: right;\">0.477849 </td><td style=\"text-align: right;\">0.617158</td><td style=\"text-align: right;\">0.247143</td><td style=\"text-align: right;\">0.135699 </td><td style=\"text-align: right;\"> 0.2 </td><td style=\"text-align: right;\"> 0.5 </td><td style=\"text-align: right;\"> 0.3 </td><td style=\"text-align: right;\">    0</td><td style=\"text-align: right;\">    0</td><td style=\"text-align: right;\">    0</td><td style=\"text-align: right;\">          373</td><td style=\"text-align: right;\">             0.16</td><td style=\"text-align: right;\">        84964</td><td style=\"text-align: right;\">     156.184 </td><td style=\"text-align: right;\">    270.161 </td><td style=\"text-align: right;\">     3.49421</td><td style=\"text-align: right;\">      15.5978 </td><td style=\"text-align: right;\">     0</td><td style=\"text-align: right;\">     0</td><td style=\"text-align: right;\">  0   </td><td style=\"text-align: right;\">     0</td><td style=\"text-align: right;\">  0.72</td><td style=\"text-align: right;\">       0.72</td><td style=\"text-align: right;\">       0.28</td><td style=\"text-align: right;\">           0.986</td><td style=\"text-align: right;\">         24718</td><td style=\"text-align: right;\">     33.7217  </td><td style=\"text-align: right;\">    141.158  </td><td style=\"text-align: right;\">      5.76555</td><td style=\"text-align: right;\">        37.7437</td><td style=\"text-align: right;\">     0</td><td style=\"text-align: right;\">     0</td><td style=\"text-align: right;\">     0</td><td style=\"text-align: right;\">     0</td><td style=\"text-align: right;\">     0</td><td style=\"text-align: right;\">       0   </td><td style=\"text-align: right;\">       0.96</td><td style=\"text-align: right;\">       0.04</td><td style=\"text-align: right;\">                     30</td><td style=\"text-align: right;\">      823.932 </td><td style=\"text-align: right;\">     520.149 </td><td style=\"text-align: right;\">    0.0673746</td><td style=\"text-align: right;\">      -0.865618</td><td style=\"text-align: right;\">          24.4333 </td><td style=\"text-align: right;\">        17.1069  </td><td style=\"text-align: right;\">         1.92891 </td><td style=\"text-align: right;\">           5.2073  </td><td>NULL        </td><td>N         </td><td>Apple_iOS_7 </td><td>Y         </td><td>Y        </td><td>Y         </td><td>Bar          </td><td>Y       </td><td>4      </td><td>Apple                  </td><td>NULL            </td><td style=\"text-align: right;\">       0</td><td>NULL       </td><td style=\"text-align: right;\">         nan</td><td style=\"text-align: right;\">       nan</td><td>NULL     </td><td style=\"text-align: right;\">                   0   </td><td>B1              </td><td style=\"text-align: right;\">            0</td><td style=\"text-align: right;\">           0</td><td style=\"text-align: right;\">                 0</td><td style=\"text-align: right;\">                0</td><td>S0            </td><td>U1              </td><td>M1             </td><td>I0             </td><td>R0             </td><td>R0             </td><td>I0                      </td><td>P0                     </td><td style=\"text-align: right;\">                      12</td><td>P0                    </td><td>C0                  </td><td>C0                   </td><td>A0                 </td><td>A0                      </td><td style=\"text-align: right;\">         0</td><td style=\"text-align: right;\">       33</td><td style=\"text-align: right;\">             6</td><td style=\"text-align: right;\">                 0.18</td><td style=\"text-align: right;\">                       0.25</td><td style=\"text-align: right;\">             6</td><td style=\"text-align: right;\">            27</td><td style=\"text-align: right;\">                     0.53</td><td style=\"text-align: right;\">                     0.19</td><td style=\"text-align: right;\">                   0.47</td><td style=\"text-align: right;\">                   0.14</td><td style=\"text-align: right;\">            0.5 </td><td style=\"text-align: right;\">                 0.17</td><td style=\"text-align: right;\">                 0.07</td><td style=\"text-align: right;\">                 0   </td><td style=\"text-align: right;\">                      0   </td><td style=\"text-align: right;\">                      0   </td><td style=\"text-align: right;\">               30</td><td style=\"text-align: right;\">               38</td><td style=\"text-align: right;\">          36</td><td style=\"text-align: right;\">          6</td><td style=\"text-align: right;\">         -2</td><td style=\"text-align: right;\">          496.5  </td><td style=\"text-align: right;\">                  1</td><td style=\"text-align: right;\">                  0   </td><td>city      </td><td style=\"text-align: right;\">    0</td><td style=\"text-align: right;\">             30</td><td style=\"text-align: right;\">         1</td><td style=\"text-align: right;\">     231.657 </td><td style=\"text-align: right;\">    208.196 </td><td style=\"text-align: right;\">   -0.199196</td><td style=\"text-align: right;\">     -1.66846 </td><td style=\"text-align: right;\">    -109.648 </td><td style=\"text-align: right;\">     451.612 </td><td style=\"text-align: right;\">          3.45455</td><td style=\"text-align: right;\">          6.90909</td><td>B0              </td><td style=\"text-align: right;\">          0</td><td style=\"text-align: right;\">          0</td><td style=\"text-align: right;\">          0</td><td style=\"text-align: right;\">          0</td><td style=\"text-align: right;\">          0</td><td style=\"text-align: right;\">          0</td><td style=\"text-align: right;\">          0</td><td style=\"text-align: right;\">          0</td><td style=\"text-align: right;\">          0</td><td style=\"text-align: right;\">          0</td><td style=\"text-align: right;\">              0</td><td style=\"text-align: right;\">            0</td><td style=\"text-align: right;\">            0</td><td style=\"text-align: right;\">            0</td><td style=\"text-align: right;\">            0</td><td style=\"text-align: right;\">            5</td><td style=\"text-align: right;\">      1629.54</td><td style=\"text-align: right;\">     325.908 </td><td style=\"text-align: right;\">             0</td><td style=\"text-align: right;\">             0</td><td style=\"text-align: right;\">             0</td><td style=\"text-align: right;\">                  0</td><td style=\"text-align: right;\">                  0</td><td style=\"text-align: right;\">                 0</td><td style=\"text-align: right;\">            0</td><td style=\"text-align: right;\">             0</td><td style=\"text-align: right;\">            0</td><td style=\"text-align: right;\">             0</td><td style=\"text-align: right;\">             0</td><td style=\"text-align: right;\">              0</td><td style=\"text-align: right;\">             0</td><td style=\"text-align: right;\">              0</td><td style=\"text-align: right;\">             0</td><td style=\"text-align: right;\">              0</td><td style=\"text-align: right;\">              0</td><td style=\"text-align: right;\">               0</td><td style=\"text-align: right;\">            0</td><td style=\"text-align: right;\">             0</td><td style=\"text-align: right;\">           16</td><td style=\"text-align: right;\">             5</td><td style=\"text-align: right;\">            0</td><td style=\"text-align: right;\">             0</td><td style=\"text-align: right;\">             0</td><td style=\"text-align: right;\">              0</td><td style=\"text-align: right;\">            0</td><td style=\"text-align: right;\">             0</td><td style=\"text-align: right;\">             0</td><td style=\"text-align: right;\">              0</td><td style=\"text-align: right;\">            0</td><td style=\"text-align: right;\">             0</td><td style=\"text-align: right;\">              0</td><td style=\"text-align: right;\">               0</td><td style=\"text-align: right;\">             0</td><td style=\"text-align: right;\">              0</td><td style=\"text-align: right;\">             0</td><td style=\"text-align: right;\">              0</td><td style=\"text-align: right;\">             0</td><td style=\"text-align: right;\">              0</td><td style=\"text-align: right;\">             0</td><td style=\"text-align: right;\">              0</td><td>D1    </td><td>P1                 </td><td style=\"text-align: right;\">       14</td><td>RF0            </td><td>SF0          </td><td>E0          </td><td>              </td><td>T1         </td><td>M3           </td><td style=\"text-align: right;\">            0</td><td style=\"text-align: right;\">         0  </td><td style=\"text-align: right;\">                  0</td><td style=\"text-align: right;\">                 0</td><td style=\"text-align: right;\">                   0  </td><td style=\"text-align: right;\">                    0</td><td style=\"text-align: right;\">                   0</td><td style=\"text-align: right;\">                         0</td><td style=\"text-align: right;\">                        0</td><td style=\"text-align: right;\">              0</td><td style=\"text-align: right;\">            2</td><td style=\"text-align: right;\">             1</td><td style=\"text-align: right;\">              0</td><td style=\"text-align: right;\">             0</td><td style=\"text-align: right;\">              1</td><td style=\"text-align: right;\">    5</td><td style=\"text-align: right;\">        1.96746 </td><td style=\"text-align: right;\">       0.552302</td><td style=\"text-align: right;\">    -0.00343793</td><td style=\"text-align: right;\">     -0.000202575</td><td style=\"text-align: right;\">            0.680243</td><td style=\"text-align: right;\">            0.850558</td><td style=\"text-align: right;\">       4.77255 </td><td style=\"text-align: right;\">   0.0184015  </td><td style=\"text-align: right;\">   0.000273914</td><td style=\"text-align: right;\">     6.83531e-08</td><td style=\"text-align: right;\">        4.15892 </td><td style=\"text-align: right;\">       1.54001 </td><td style=\"text-align: right;\">     0.0309841 </td><td style=\"text-align: right;\">      0.0001182  </td><td style=\"text-align: right;\">              0.616423</td><td style=\"text-align: right;\">            0.164189 </td><td style=\"text-align: right;\">            0.244663 </td><td style=\"text-align: right;\">             0.0135657 </td><td style=\"text-align: right;\">     1.02497 </td><td style=\"text-align: right;\">                  -2</td><td style=\"text-align: right;\">              2018</td><td style=\"text-align: right;\">                  1</td><td style=\"text-align: right;\">                1</td></tr>\n",
       "<tr><td style=\"text-align: right;\">     1</td><td style=\"text-align: right;\">     1</td><td style=\"text-align: right;\">       1</td><td style=\"text-align: right;\">7.97761e+10</td><td>2017-12-31 21:00:00</td><td style=\"text-align: right;\">     29</td><td style=\"text-align: right;\">3.00005e+11</td><td style=\"text-align: right;\">        12</td><td style=\"text-align: right;\">         2.5</td><td>B95     </td><td>S1      </td><td>S1         </td><td style=\"text-align: right;\">       759</td><td style=\"text-align: right;\">                0</td><td>T30001936</td><td>L1           </td><td>S-2      </td><td>S0       </td><td>NULL      </td><td>P1          </td><td>NULL      </td><td>S36            </td><td>Active      </td><td>C1             </td><td style=\"text-align: right;\">           0</td><td>I35660508</td><td style=\"text-align: right;\">        562</td><td style=\"text-align: right;\">        611</td><td style=\"text-align: right;\">         49</td><td style=\"text-align: right;\">         0.92</td><td style=\"text-align: right;\">         3.23426</td><td style=\"text-align: right;\">              4</td><td style=\"text-align: right;\">   151.8    </td><td style=\"text-align: right;\">          503</td><td>G0      </td><td style=\"text-align: right;\">   35</td><td style=\"text-align: right;\"> 555   </td><td style=\"text-align: right;\">    18.5    </td><td style=\"text-align: right;\">  4.73676  </td><td style=\"text-align: right;\">    23.3482  </td><td style=\"text-align: right;\">  168</td><td style=\"text-align: right;\">               0</td><td style=\"text-align: right;\">                 0.2 </td><td style=\"text-align: right;\">      336    </td><td style=\"text-align: right;\">     883.426</td><td style=\"text-align: right;\">    3.51711 </td><td style=\"text-align: right;\">     12.711   </td><td style=\"text-align: right;\">               1325</td><td style=\"text-align: right;\">            44.1667</td><td style=\"text-align: right;\">          47.4497 </td><td style=\"text-align: right;\">          1.32479 </td><td style=\"text-align: right;\">           0.858457 </td><td style=\"text-align: right;\">0.0303571</td><td style=\"text-align: right;\">0.208333</td><td style=\"text-align: right;\">0.76131  </td><td style=\"text-align: right;\">0.311836</td><td style=\"text-align: right;\">0.520081</td><td style=\"text-align: right;\">0.168083 </td><td style=\"text-align: right;\"> 0.27</td><td style=\"text-align: right;\"> 0.64</td><td style=\"text-align: right;\"> 0.09</td><td style=\"text-align: right;\">    0</td><td style=\"text-align: right;\">    0</td><td style=\"text-align: right;\">    0</td><td style=\"text-align: right;\">           85</td><td style=\"text-align: right;\">             0.39</td><td style=\"text-align: right;\">        10080</td><td style=\"text-align: right;\">     214.468 </td><td style=\"text-align: right;\">    581.839 </td><td style=\"text-align: right;\">     4.78001</td><td style=\"text-align: right;\">      25.2843 </td><td style=\"text-align: right;\">     0</td><td style=\"text-align: right;\">     0</td><td style=\"text-align: right;\">  0   </td><td style=\"text-align: right;\">     0</td><td style=\"text-align: right;\">  0.8 </td><td style=\"text-align: right;\">       0.8 </td><td style=\"text-align: right;\">       0.18</td><td style=\"text-align: right;\">           0.934</td><td style=\"text-align: right;\">          2069</td><td style=\"text-align: right;\">      1.73461 </td><td style=\"text-align: right;\">      7.28213</td><td style=\"text-align: right;\">      9.86962</td><td style=\"text-align: right;\">       134.404 </td><td style=\"text-align: right;\">     0</td><td style=\"text-align: right;\">     0</td><td style=\"text-align: right;\">     0</td><td style=\"text-align: right;\">     0</td><td style=\"text-align: right;\">     0</td><td style=\"text-align: right;\">       0   </td><td style=\"text-align: right;\">       0.27</td><td style=\"text-align: right;\">       0.73</td><td style=\"text-align: right;\">                     19</td><td style=\"text-align: right;\">      108.916 </td><td style=\"text-align: right;\">     206.224 </td><td style=\"text-align: right;\">    2.88891  </td><td style=\"text-align: right;\">       9.11043 </td><td style=\"text-align: right;\">          62.7895 </td><td style=\"text-align: right;\">        46.4515  </td><td style=\"text-align: right;\">         0.922446</td><td style=\"text-align: right;\">          -0.176085</td><td>NULL        </td><td>NULL      </td><td>            </td><td>NULL      </td><td>NULL     </td><td>NULL      </td><td>NULL         </td><td>NULL    </td><td>NULL   </td><td>NULL                   </td><td>NULL            </td><td style=\"text-align: right;\">       0</td><td>NULL       </td><td style=\"text-align: right;\">         nan</td><td style=\"text-align: right;\">       nan</td><td>NULL     </td><td style=\"text-align: right;\">                   0   </td><td>B0              </td><td style=\"text-align: right;\">            0</td><td style=\"text-align: right;\">           0</td><td style=\"text-align: right;\">                 1</td><td style=\"text-align: right;\">                0</td><td>S1            </td><td>U1              </td><td>M0             </td><td>I0             </td><td>R1             </td><td>R0             </td><td>I1                      </td><td>P0                     </td><td style=\"text-align: right;\">                       4</td><td>P0                    </td><td>C0                  </td><td>C0                   </td><td>A0                 </td><td>A0                      </td><td style=\"text-align: right;\">         0</td><td style=\"text-align: right;\">       19</td><td style=\"text-align: right;\">             4</td><td style=\"text-align: right;\">                 0.21</td><td style=\"text-align: right;\">                       0.48</td><td style=\"text-align: right;\">             3</td><td style=\"text-align: right;\">            16</td><td style=\"text-align: right;\">                     0.68</td><td style=\"text-align: right;\">                     0.12</td><td style=\"text-align: right;\">                   0.27</td><td style=\"text-align: right;\">                   0   </td><td style=\"text-align: right;\">            0.25</td><td style=\"text-align: right;\">                 0.33</td><td style=\"text-align: right;\">                 0   </td><td style=\"text-align: right;\">                 0   </td><td style=\"text-align: right;\">                      0   </td><td style=\"text-align: right;\">                      0   </td><td style=\"text-align: right;\">               49</td><td style=\"text-align: right;\">               37</td><td style=\"text-align: right;\">          40</td><td style=\"text-align: right;\">          6</td><td style=\"text-align: right;\">          1</td><td style=\"text-align: right;\">          960.75 </td><td style=\"text-align: right;\">                  2</td><td style=\"text-align: right;\">                  0.5 </td><td>town      </td><td style=\"text-align: right;\">    0</td><td style=\"text-align: right;\">             30</td><td style=\"text-align: right;\">         1</td><td style=\"text-align: right;\">      84.3955</td><td style=\"text-align: right;\">    121.244 </td><td style=\"text-align: right;\">    1.25547 </td><td style=\"text-align: right;\">      0.227533</td><td style=\"text-align: right;\">      -3.7295</td><td style=\"text-align: right;\">     396.271 </td><td style=\"text-align: right;\">         13      </td><td style=\"text-align: right;\">         13.2273 </td><td>B0              </td><td style=\"text-align: right;\">          0</td><td style=\"text-align: right;\">          0</td><td style=\"text-align: right;\">          0</td><td style=\"text-align: right;\">          0</td><td style=\"text-align: right;\">          0</td><td style=\"text-align: right;\">          0</td><td style=\"text-align: right;\">          0</td><td style=\"text-align: right;\">          0</td><td style=\"text-align: right;\">          0</td><td style=\"text-align: right;\">          0</td><td style=\"text-align: right;\">              0</td><td style=\"text-align: right;\">            0</td><td style=\"text-align: right;\">            0</td><td style=\"text-align: right;\">            0</td><td style=\"text-align: right;\">            0</td><td style=\"text-align: right;\">            3</td><td style=\"text-align: right;\">       600   </td><td style=\"text-align: right;\">     200     </td><td style=\"text-align: right;\">             0</td><td style=\"text-align: right;\">             0</td><td style=\"text-align: right;\">             0</td><td style=\"text-align: right;\">                  0</td><td style=\"text-align: right;\">                  0</td><td style=\"text-align: right;\">                 0</td><td style=\"text-align: right;\">            0</td><td style=\"text-align: right;\">             0</td><td style=\"text-align: right;\">            0</td><td style=\"text-align: right;\">             0</td><td style=\"text-align: right;\">             0</td><td style=\"text-align: right;\">              0</td><td style=\"text-align: right;\">             0</td><td style=\"text-align: right;\">              0</td><td style=\"text-align: right;\">             0</td><td style=\"text-align: right;\">              0</td><td style=\"text-align: right;\">              0</td><td style=\"text-align: right;\">               0</td><td style=\"text-align: right;\">            0</td><td style=\"text-align: right;\">             0</td><td style=\"text-align: right;\">           12</td><td style=\"text-align: right;\">             4</td><td style=\"text-align: right;\">            0</td><td style=\"text-align: right;\">             0</td><td style=\"text-align: right;\">             0</td><td style=\"text-align: right;\">              0</td><td style=\"text-align: right;\">            0</td><td style=\"text-align: right;\">             0</td><td style=\"text-align: right;\">             0</td><td style=\"text-align: right;\">              0</td><td style=\"text-align: right;\">            0</td><td style=\"text-align: right;\">             0</td><td style=\"text-align: right;\">              0</td><td style=\"text-align: right;\">               0</td><td style=\"text-align: right;\">             0</td><td style=\"text-align: right;\">              0</td><td style=\"text-align: right;\">             0</td><td style=\"text-align: right;\">              0</td><td style=\"text-align: right;\">             0</td><td style=\"text-align: right;\">              0</td><td style=\"text-align: right;\">             0</td><td style=\"text-align: right;\">              0</td><td>NULL  </td><td>NULL               </td><td style=\"text-align: right;\">      nan</td><td>NULL           </td><td>NULL         </td><td>E1          </td><td>.RU           </td><td>T1         </td><td>M3           </td><td style=\"text-align: right;\">            0</td><td style=\"text-align: right;\">         0  </td><td style=\"text-align: right;\">                  0</td><td style=\"text-align: right;\">                 0</td><td style=\"text-align: right;\">                   0  </td><td style=\"text-align: right;\">                    0</td><td style=\"text-align: right;\">                   0</td><td style=\"text-align: right;\">                         0</td><td style=\"text-align: right;\">                        0</td><td style=\"text-align: right;\">              0</td><td style=\"text-align: right;\">            2</td><td style=\"text-align: right;\">             1</td><td style=\"text-align: right;\">              0</td><td style=\"text-align: right;\">             0</td><td style=\"text-align: right;\">              1</td><td style=\"text-align: right;\">    5</td><td style=\"text-align: right;\">        0.716772</td><td style=\"text-align: right;\">       0.321636</td><td style=\"text-align: right;\">     0.0216682 </td><td style=\"text-align: right;\">      2.76259e-05</td><td style=\"text-align: right;\">            2.55986 </td><td style=\"text-align: right;\">            1.62837 </td><td style=\"text-align: right;\">       1.49669 </td><td style=\"text-align: right;\">   0.0124347  </td><td style=\"text-align: right;\">   0.000586665</td><td style=\"text-align: right;\">     3.57931e-07</td><td style=\"text-align: right;\">        0.493407</td><td style=\"text-align: right;\">       0.589729</td><td style=\"text-align: right;\">     0.0577318 </td><td style=\"text-align: right;\">      0.000389474</td><td style=\"text-align: right;\">              0.493511</td><td style=\"text-align: right;\">            0.252666 </td><td style=\"text-align: right;\">            0.201159 </td><td style=\"text-align: right;\">             0.00594319</td><td style=\"text-align: right;\">     1.76808 </td><td style=\"text-align: right;\">               -1000</td><td style=\"text-align: right;\">              2018</td><td style=\"text-align: right;\">                  1</td><td style=\"text-align: right;\">                1</td></tr>\n",
       "<tr><td style=\"text-align: right;\">     1</td><td style=\"text-align: right;\">     1</td><td style=\"text-align: right;\">       1</td><td style=\"text-align: right;\">7.97728e+10</td><td>2017-12-31 21:00:00</td><td style=\"text-align: right;\">     29</td><td style=\"text-align: right;\">3.00018e+11</td><td style=\"text-align: right;\">        12</td><td style=\"text-align: right;\">         2.5</td><td>B95     </td><td>S1      </td><td>S1         </td><td style=\"text-align: right;\">        98</td><td style=\"text-align: right;\">                0</td><td>T30001936</td><td>L1           </td><td>S-1      </td><td>S1       </td><td>NULL      </td><td>P1          </td><td>NULL      </td><td>S2             </td><td>Active      </td><td>C1             </td><td style=\"text-align: right;\">           0</td><td>I35894908</td><td style=\"text-align: right;\">         97</td><td style=\"text-align: right;\">        195</td><td style=\"text-align: right;\">         98</td><td style=\"text-align: right;\">         0.5 </td><td style=\"text-align: right;\">         1.95904</td><td style=\"text-align: right;\">              4</td><td style=\"text-align: right;\">   177.5    </td><td style=\"text-align: right;\">          587</td><td>G1      </td><td style=\"text-align: right;\">   46</td><td style=\"text-align: right;\"> 512.8 </td><td style=\"text-align: right;\">    17.0933 </td><td style=\"text-align: right;\">  5.34139  </td><td style=\"text-align: right;\">    28.9116  </td><td style=\"text-align: right;\"> 1146</td><td style=\"text-align: right;\">               0</td><td style=\"text-align: right;\">                 0.3 </td><td style=\"text-align: right;\">     2291.13 </td><td style=\"text-align: right;\">    1890.59 </td><td style=\"text-align: right;\">    1.85713 </td><td style=\"text-align: right;\">      4.97492 </td><td style=\"text-align: right;\">               3024</td><td style=\"text-align: right;\">           100.8   </td><td style=\"text-align: right;\">          64.6748 </td><td style=\"text-align: right;\">          2.46218 </td><td style=\"text-align: right;\">           7.99874  </td><td style=\"text-align: right;\">0.209925 </td><td style=\"text-align: right;\">0.532953</td><td style=\"text-align: right;\">0.257122 </td><td style=\"text-align: right;\">0.12734 </td><td style=\"text-align: right;\">0.833203</td><td style=\"text-align: right;\">0.0394566</td><td style=\"text-align: right;\"> 0.19</td><td style=\"text-align: right;\"> 0.76</td><td style=\"text-align: right;\"> 0.06</td><td style=\"text-align: right;\">    0</td><td style=\"text-align: right;\">    0</td><td style=\"text-align: right;\">    0</td><td style=\"text-align: right;\">          274</td><td style=\"text-align: right;\">             0.18</td><td style=\"text-align: right;\">        68734</td><td style=\"text-align: right;\">     305.484 </td><td style=\"text-align: right;\">    569.228 </td><td style=\"text-align: right;\">     3.12966</td><td style=\"text-align: right;\">      11.4909 </td><td style=\"text-align: right;\">     0</td><td style=\"text-align: right;\">     0</td><td style=\"text-align: right;\">  0   </td><td style=\"text-align: right;\">     0</td><td style=\"text-align: right;\">  0.7 </td><td style=\"text-align: right;\">       0.7 </td><td style=\"text-align: right;\">       0.3 </td><td style=\"text-align: right;\">           0.778</td><td style=\"text-align: right;\">           522</td><td style=\"text-align: right;\">      0.207307</td><td style=\"text-align: right;\">      1.04762</td><td style=\"text-align: right;\">     11.5554 </td><td style=\"text-align: right;\">       194.837 </td><td style=\"text-align: right;\">     0</td><td style=\"text-align: right;\">     0</td><td style=\"text-align: right;\">     0</td><td style=\"text-align: right;\">     0</td><td style=\"text-align: right;\">     0</td><td style=\"text-align: right;\">       0   </td><td style=\"text-align: right;\">       0.43</td><td style=\"text-align: right;\">       0.57</td><td style=\"text-align: right;\">                     30</td><td style=\"text-align: right;\">       17.3931</td><td style=\"text-align: right;\">      18.4929</td><td style=\"text-align: right;\">    1.77365  </td><td style=\"text-align: right;\">       2.87442 </td><td style=\"text-align: right;\">          83.9    </td><td style=\"text-align: right;\">        63.7262  </td><td style=\"text-align: right;\">         2.55608 </td><td style=\"text-align: right;\">           8.56563 </td><td>NULL        </td><td>NULL      </td><td>            </td><td>NULL      </td><td>NULL     </td><td>NULL      </td><td>NULL         </td><td>NULL    </td><td>NULL   </td><td>NULL                   </td><td>NULL            </td><td style=\"text-align: right;\">       0</td><td>NULL       </td><td style=\"text-align: right;\">         nan</td><td style=\"text-align: right;\">       nan</td><td>NULL     </td><td style=\"text-align: right;\">                   0   </td><td>B0              </td><td style=\"text-align: right;\">            0</td><td style=\"text-align: right;\">           0</td><td style=\"text-align: right;\">                 0</td><td style=\"text-align: right;\">                0</td><td>S0            </td><td>U0              </td><td>M0             </td><td>I0             </td><td>R0             </td><td>R0             </td><td>I0                      </td><td>P0                     </td><td style=\"text-align: right;\">                       0</td><td>P0                    </td><td>C0                  </td><td>C0                   </td><td>A0                 </td><td>A0                      </td><td style=\"text-align: right;\">         0</td><td style=\"text-align: right;\">       41</td><td style=\"text-align: right;\">            18</td><td style=\"text-align: right;\">                 0.44</td><td style=\"text-align: right;\">                       0.75</td><td style=\"text-align: right;\">             6</td><td style=\"text-align: right;\">            35</td><td style=\"text-align: right;\">                     0.64</td><td style=\"text-align: right;\">                     0.06</td><td style=\"text-align: right;\">                   0.01</td><td style=\"text-align: right;\">                   0   </td><td style=\"text-align: right;\">            0.5 </td><td style=\"text-align: right;\">                 0.5 </td><td style=\"text-align: right;\">                 0.17</td><td style=\"text-align: right;\">                 0.5 </td><td style=\"text-align: right;\">                      0.5 </td><td style=\"text-align: right;\">                      0.83</td><td style=\"text-align: right;\">               25</td><td style=\"text-align: right;\">               33</td><td style=\"text-align: right;\">          32</td><td style=\"text-align: right;\">          9</td><td style=\"text-align: right;\">          1</td><td style=\"text-align: right;\">          303.5  </td><td style=\"text-align: right;\">                  7</td><td style=\"text-align: right;\">                  0.06</td><td>city      </td><td style=\"text-align: right;\">    0</td><td style=\"text-align: right;\">             30</td><td style=\"text-align: right;\">         1</td><td style=\"text-align: right;\">      73.4367</td><td style=\"text-align: right;\">    112.038 </td><td style=\"text-align: right;\">    2.73799 </td><td style=\"text-align: right;\">      6.78821 </td><td style=\"text-align: right;\">      12.4004</td><td style=\"text-align: right;\">     422.4   </td><td style=\"text-align: right;\">          2.13636</td><td style=\"text-align: right;\">          6.95455</td><td>B0              </td><td style=\"text-align: right;\">          0</td><td style=\"text-align: right;\">          0</td><td style=\"text-align: right;\">          0</td><td style=\"text-align: right;\">          0</td><td style=\"text-align: right;\">          0</td><td style=\"text-align: right;\">          0</td><td style=\"text-align: right;\">          0</td><td style=\"text-align: right;\">          0</td><td style=\"text-align: right;\">          0</td><td style=\"text-align: right;\">          0</td><td style=\"text-align: right;\">              0</td><td style=\"text-align: right;\">            0</td><td style=\"text-align: right;\">            0</td><td style=\"text-align: right;\">            0</td><td style=\"text-align: right;\">            0</td><td style=\"text-align: right;\">            2</td><td style=\"text-align: right;\">       500.5 </td><td style=\"text-align: right;\">     250.25  </td><td style=\"text-align: right;\">             0</td><td style=\"text-align: right;\">             0</td><td style=\"text-align: right;\">             0</td><td style=\"text-align: right;\">                  2</td><td style=\"text-align: right;\">                  7</td><td style=\"text-align: right;\">                 1</td><td style=\"text-align: right;\">            0</td><td style=\"text-align: right;\">             0</td><td style=\"text-align: right;\">            0</td><td style=\"text-align: right;\">             0</td><td style=\"text-align: right;\">             0</td><td style=\"text-align: right;\">              0</td><td style=\"text-align: right;\">             0</td><td style=\"text-align: right;\">              0</td><td style=\"text-align: right;\">             0</td><td style=\"text-align: right;\">              0</td><td style=\"text-align: right;\">              0</td><td style=\"text-align: right;\">               0</td><td style=\"text-align: right;\">            0</td><td style=\"text-align: right;\">             0</td><td style=\"text-align: right;\">            2</td><td style=\"text-align: right;\">             1</td><td style=\"text-align: right;\">            0</td><td style=\"text-align: right;\">             0</td><td style=\"text-align: right;\">             0</td><td style=\"text-align: right;\">              0</td><td style=\"text-align: right;\">            0</td><td style=\"text-align: right;\">             0</td><td style=\"text-align: right;\">             0</td><td style=\"text-align: right;\">              0</td><td style=\"text-align: right;\">            0</td><td style=\"text-align: right;\">             0</td><td style=\"text-align: right;\">              0</td><td style=\"text-align: right;\">               0</td><td style=\"text-align: right;\">             0</td><td style=\"text-align: right;\">              0</td><td style=\"text-align: right;\">             0</td><td style=\"text-align: right;\">              0</td><td style=\"text-align: right;\">             0</td><td style=\"text-align: right;\">              0</td><td style=\"text-align: right;\">             0</td><td style=\"text-align: right;\">              0</td><td>NULL  </td><td>NULL               </td><td style=\"text-align: right;\">      nan</td><td>NULL           </td><td>NULL         </td><td>E0          </td><td>              </td><td>T1         </td><td>M3           </td><td style=\"text-align: right;\">            0</td><td style=\"text-align: right;\">         0  </td><td style=\"text-align: right;\">                  0</td><td style=\"text-align: right;\">                 0</td><td style=\"text-align: right;\">                   0  </td><td style=\"text-align: right;\">                    0</td><td style=\"text-align: right;\">                   0</td><td style=\"text-align: right;\">                         0</td><td style=\"text-align: right;\">                        0</td><td style=\"text-align: right;\">              0</td><td style=\"text-align: right;\">            2</td><td style=\"text-align: right;\">             1</td><td style=\"text-align: right;\">              0</td><td style=\"text-align: right;\">             0</td><td style=\"text-align: right;\">              1</td><td style=\"text-align: right;\">    5</td><td style=\"text-align: right;\">        0.623698</td><td style=\"text-align: right;\">       0.297215</td><td style=\"text-align: right;\">     0.0472553 </td><td style=\"text-align: right;\">      0.000824188</td><td style=\"text-align: right;\">            0.420677</td><td style=\"text-align: right;\">            0.856154</td><td style=\"text-align: right;\">       1.38289 </td><td style=\"text-align: right;\">   0.0118743  </td><td style=\"text-align: right;\">   0.00066155 </td><td style=\"text-align: right;\">     4.43219e-07</td><td style=\"text-align: right;\">        3.36447 </td><td style=\"text-align: right;\">       1.26206 </td><td style=\"text-align: right;\">     0.030484  </td><td style=\"text-align: right;\">      0.000152435</td><td style=\"text-align: right;\">              1.12632 </td><td style=\"text-align: right;\">            0.344389 </td><td style=\"text-align: right;\">            0.373863 </td><td style=\"text-align: right;\">             0.0553761 </td><td style=\"text-align: right;\">     0.228289</td><td style=\"text-align: right;\">               -1000</td><td style=\"text-align: right;\">              2018</td><td style=\"text-align: right;\">                  1</td><td style=\"text-align: right;\">                1</td></tr>\n",
       "<tr><td style=\"text-align: right;\">     1</td><td style=\"text-align: right;\">     0</td><td style=\"text-align: right;\">       1</td><td style=\"text-align: right;\">7.99202e+10</td><td>2017-12-31 21:00:00</td><td style=\"text-align: right;\">     29</td><td style=\"text-align: right;\">3.00006e+11</td><td style=\"text-align: right;\">        12</td><td style=\"text-align: right;\">         2.5</td><td>B99     </td><td>S1      </td><td>S1         </td><td style=\"text-align: right;\">       720</td><td style=\"text-align: right;\">                0</td><td>T30001234</td><td>L1           </td><td>S-2      </td><td>S0       </td><td>C3        </td><td>P1          </td><td>NULL      </td><td>S7             </td><td>Active      </td><td>C1             </td><td style=\"text-align: right;\">           0</td><td>I35932507</td><td style=\"text-align: right;\">        509</td><td style=\"text-align: right;\">        600</td><td style=\"text-align: right;\">         91</td><td style=\"text-align: right;\">         0.85</td><td style=\"text-align: right;\">         5.07947</td><td style=\"text-align: right;\">             11</td><td style=\"text-align: right;\">    30      </td><td style=\"text-align: right;\">          280</td><td>G1      </td><td style=\"text-align: right;\">   23</td><td style=\"text-align: right;\"> 475.25</td><td style=\"text-align: right;\">    15.8417 </td><td style=\"text-align: right;\"> -0.0574064</td><td style=\"text-align: right;\">    -0.119411</td><td style=\"text-align: right;\">  405</td><td style=\"text-align: right;\">               0</td><td style=\"text-align: right;\">                 0.58</td><td style=\"text-align: right;\">      809.867</td><td style=\"text-align: right;\">     701.88 </td><td style=\"text-align: right;\">    1.00968 </td><td style=\"text-align: right;\">      0.669449</td><td style=\"text-align: right;\">                297</td><td style=\"text-align: right;\">             9.9   </td><td style=\"text-align: right;\">           7.54696</td><td style=\"text-align: right;\">          0.508239</td><td style=\"text-align: right;\">          -0.42338  </td><td style=\"text-align: right;\">0.0577873</td><td style=\"text-align: right;\">0.804124</td><td style=\"text-align: right;\">0.138089 </td><td style=\"text-align: right;\">0       </td><td style=\"text-align: right;\">0       </td><td style=\"text-align: right;\">0        </td><td style=\"text-align: right;\"> 0   </td><td style=\"text-align: right;\"> 0   </td><td style=\"text-align: right;\"> 0   </td><td style=\"text-align: right;\">    0</td><td style=\"text-align: right;\">    0</td><td style=\"text-align: right;\">    0</td><td style=\"text-align: right;\">            0</td><td style=\"text-align: right;\">             0.34</td><td style=\"text-align: right;\">        24296</td><td style=\"text-align: right;\">     153.772 </td><td style=\"text-align: right;\">    170.995 </td><td style=\"text-align: right;\">     2.25942</td><td style=\"text-align: right;\">       7.44857</td><td style=\"text-align: right;\">     0</td><td style=\"text-align: right;\">     0</td><td style=\"text-align: right;\">  0   </td><td style=\"text-align: right;\">     0</td><td style=\"text-align: right;\">  0.42</td><td style=\"text-align: right;\">       1   </td><td style=\"text-align: right;\">       0   </td><td style=\"text-align: right;\">           0    </td><td style=\"text-align: right;\">             0</td><td style=\"text-align: right;\">      0       </td><td style=\"text-align: right;\">      0      </td><td style=\"text-align: right;\">      0      </td><td style=\"text-align: right;\">         0     </td><td style=\"text-align: right;\">     0</td><td style=\"text-align: right;\">     0</td><td style=\"text-align: right;\">     0</td><td style=\"text-align: right;\">     0</td><td style=\"text-align: right;\">     0</td><td style=\"text-align: right;\">       0   </td><td style=\"text-align: right;\">       0   </td><td style=\"text-align: right;\">       0   </td><td style=\"text-align: right;\">                      0</td><td style=\"text-align: right;\">        0     </td><td style=\"text-align: right;\">       0     </td><td style=\"text-align: right;\">    0        </td><td style=\"text-align: right;\">       0       </td><td style=\"text-align: right;\">           1.72727</td><td style=\"text-align: right;\">         0.445362</td><td style=\"text-align: right;\">        -1.09687 </td><td style=\"text-align: right;\">          -0.886513</td><td>NULL        </td><td>NULL      </td><td>            </td><td>NULL      </td><td>NULL     </td><td>NULL      </td><td>NULL         </td><td>NULL    </td><td>NULL   </td><td>NULL                   </td><td>F0              </td><td style=\"text-align: right;\">     684</td><td>Flat       </td><td style=\"text-align: right;\">       89470</td><td style=\"text-align: right;\">     43784</td><td>A0       </td><td style=\"text-align: right;\">                   0.49</td><td>B0              </td><td style=\"text-align: right;\">            0</td><td style=\"text-align: right;\">           0</td><td style=\"text-align: right;\">                 0</td><td style=\"text-align: right;\">                0</td><td>S0            </td><td>U1              </td><td>M0             </td><td>I0             </td><td>R0             </td><td>R0             </td><td>I1                      </td><td>P0                     </td><td style=\"text-align: right;\">                       2</td><td>P0                    </td><td>C0                  </td><td>C0                   </td><td>A0                 </td><td>A0                      </td><td style=\"text-align: right;\">         0</td><td style=\"text-align: right;\">        9</td><td style=\"text-align: right;\">             2</td><td style=\"text-align: right;\">                 0.22</td><td style=\"text-align: right;\">                       0.66</td><td style=\"text-align: right;\">             2</td><td style=\"text-align: right;\">             7</td><td style=\"text-align: right;\">                     0.22</td><td style=\"text-align: right;\">                     0.2 </td><td style=\"text-align: right;\">                   0   </td><td style=\"text-align: right;\">                   0   </td><td style=\"text-align: right;\">            0.5 </td><td style=\"text-align: right;\">                 0.5 </td><td style=\"text-align: right;\">                 0   </td><td style=\"text-align: right;\">                 0.5 </td><td style=\"text-align: right;\">                      0.5 </td><td style=\"text-align: right;\">                      1   </td><td style=\"text-align: right;\">               64</td><td style=\"text-align: right;\">               43</td><td style=\"text-align: right;\">          54</td><td style=\"text-align: right;\">         10</td><td style=\"text-align: right;\">          0</td><td style=\"text-align: right;\">         1221    </td><td style=\"text-align: right;\">                  1</td><td style=\"text-align: right;\">                  1   </td><td>city      </td><td style=\"text-align: right;\">    0</td><td style=\"text-align: right;\">             30</td><td style=\"text-align: right;\">         1</td><td style=\"text-align: right;\">      24.3505</td><td style=\"text-align: right;\">     49.0593</td><td style=\"text-align: right;\">   -0.377663</td><td style=\"text-align: right;\">     -1.01828 </td><td style=\"text-align: right;\">     -51.45  </td><td style=\"text-align: right;\">     104.95  </td><td style=\"text-align: right;\">          8.95455</td><td style=\"text-align: right;\">         11.8636 </td><td>B0              </td><td style=\"text-align: right;\">          0</td><td style=\"text-align: right;\">          0</td><td style=\"text-align: right;\">          0</td><td style=\"text-align: right;\">          0</td><td style=\"text-align: right;\">          0</td><td style=\"text-align: right;\">          0</td><td style=\"text-align: right;\">          0</td><td style=\"text-align: right;\">          0</td><td style=\"text-align: right;\">          0</td><td style=\"text-align: right;\">          0</td><td style=\"text-align: right;\">              0</td><td style=\"text-align: right;\">            0</td><td style=\"text-align: right;\">            0</td><td style=\"text-align: right;\">            0</td><td style=\"text-align: right;\">            0</td><td style=\"text-align: right;\">            7</td><td style=\"text-align: right;\">       530.5 </td><td style=\"text-align: right;\">      75.7857</td><td style=\"text-align: right;\">             0</td><td style=\"text-align: right;\">             0</td><td style=\"text-align: right;\">             0</td><td style=\"text-align: right;\">                 38</td><td style=\"text-align: right;\">                136</td><td style=\"text-align: right;\">                22</td><td style=\"text-align: right;\">            0</td><td style=\"text-align: right;\">             0</td><td style=\"text-align: right;\">            0</td><td style=\"text-align: right;\">             0</td><td style=\"text-align: right;\">             0</td><td style=\"text-align: right;\">              0</td><td style=\"text-align: right;\">             0</td><td style=\"text-align: right;\">              0</td><td style=\"text-align: right;\">             0</td><td style=\"text-align: right;\">              0</td><td style=\"text-align: right;\">              0</td><td style=\"text-align: right;\">               0</td><td style=\"text-align: right;\">            0</td><td style=\"text-align: right;\">             0</td><td style=\"text-align: right;\">           12</td><td style=\"text-align: right;\">             4</td><td style=\"text-align: right;\">            0</td><td style=\"text-align: right;\">             0</td><td style=\"text-align: right;\">             0</td><td style=\"text-align: right;\">              0</td><td style=\"text-align: right;\">            0</td><td style=\"text-align: right;\">             0</td><td style=\"text-align: right;\">             0</td><td style=\"text-align: right;\">              0</td><td style=\"text-align: right;\">            0</td><td style=\"text-align: right;\">             0</td><td style=\"text-align: right;\">              0</td><td style=\"text-align: right;\">               0</td><td style=\"text-align: right;\">             0</td><td style=\"text-align: right;\">              0</td><td style=\"text-align: right;\">             0</td><td style=\"text-align: right;\">              0</td><td style=\"text-align: right;\">             0</td><td style=\"text-align: right;\">              0</td><td style=\"text-align: right;\">             0</td><td style=\"text-align: right;\">              0</td><td>D1    </td><td>P1                 </td><td style=\"text-align: right;\">        3</td><td>RF0            </td><td>SF0          </td><td>E0          </td><td>              </td><td>T1         </td><td>M6           </td><td style=\"text-align: right;\">            2</td><td style=\"text-align: right;\">       500  </td><td style=\"text-align: right;\">                  2</td><td style=\"text-align: right;\">                 0</td><td style=\"text-align: right;\">                 500  </td><td style=\"text-align: right;\">                    0</td><td style=\"text-align: right;\">                   1</td><td style=\"text-align: right;\">                         1</td><td style=\"text-align: right;\">                        0</td><td style=\"text-align: right;\">              0</td><td style=\"text-align: right;\">            2</td><td style=\"text-align: right;\">             1</td><td style=\"text-align: right;\">              0</td><td style=\"text-align: right;\">             0</td><td style=\"text-align: right;\">              1</td><td style=\"text-align: right;\">    5</td><td style=\"text-align: right;\">        0.354192</td><td style=\"text-align: right;\">       0.211368</td><td style=\"text-align: right;\">    -0.0065495 </td><td style=\"text-align: right;\">     -0.000134656</td><td style=\"text-align: right;\">            1.87239 </td><td style=\"text-align: right;\">            1.51893 </td><td style=\"text-align: right;\">       2.52351 </td><td style=\"text-align: right;\">   0.292194   </td><td style=\"text-align: right;\">  -0.00291023 </td><td style=\"text-align: right;\">    -4.67939e-05</td><td style=\"text-align: right;\">        1.27948 </td><td style=\"text-align: right;\">       0.549811</td><td style=\"text-align: right;\">     0.190625  </td><td style=\"text-align: right;\">      0.00902901 </td><td style=\"text-align: right;\">              0.166908</td><td style=\"text-align: right;\">            0.0524872</td><td style=\"text-align: right;\">            0.0604573</td><td style=\"text-align: right;\">            -0.00149787</td><td style=\"text-align: right;\">     0.709427</td><td style=\"text-align: right;\">                   0</td><td style=\"text-align: right;\">              2018</td><td style=\"text-align: right;\">                  1</td><td style=\"text-align: right;\">                1</td></tr>\n",
       "<tr><td style=\"text-align: right;\">     1</td><td style=\"text-align: right;\">     0</td><td style=\"text-align: right;\">       1</td><td style=\"text-align: right;\">7.99203e+10</td><td>2017-12-31 21:00:00</td><td style=\"text-align: right;\">     29</td><td style=\"text-align: right;\">3.00011e+11</td><td style=\"text-align: right;\">        12</td><td style=\"text-align: right;\">         2.5</td><td>B99     </td><td>S1      </td><td>S1         </td><td style=\"text-align: right;\">       526</td><td style=\"text-align: right;\">                0</td><td>T30001173</td><td>L1           </td><td>S0       </td><td>S0       </td><td>C3        </td><td>P1          </td><td>NULL      </td><td>S6             </td><td>Active      </td><td>C1             </td><td style=\"text-align: right;\">           0</td><td>I86604802</td><td style=\"text-align: right;\">       1057</td><td style=\"text-align: right;\">       1065</td><td style=\"text-align: right;\">          8</td><td style=\"text-align: right;\">         0.99</td><td style=\"text-align: right;\">         3.6583 </td><td style=\"text-align: right;\">             13</td><td style=\"text-align: right;\">    18.1379 </td><td style=\"text-align: right;\">          194</td><td>G1      </td><td style=\"text-align: right;\">   37</td><td style=\"text-align: right;\"> 285   </td><td style=\"text-align: right;\">     9.5    </td><td style=\"text-align: right;\">  4.21688  </td><td style=\"text-align: right;\">    18.7594  </td><td style=\"text-align: right;\"> 1101</td><td style=\"text-align: right;\">               0</td><td style=\"text-align: right;\">                 0.71</td><td style=\"text-align: right;\">     2201.03 </td><td style=\"text-align: right;\">    1568.11 </td><td style=\"text-align: right;\">    0.995771</td><td style=\"text-align: right;\">      0.725731</td><td style=\"text-align: right;\">                838</td><td style=\"text-align: right;\">            27.9333</td><td style=\"text-align: right;\">          23.1861 </td><td style=\"text-align: right;\">          2.11517 </td><td style=\"text-align: right;\">           6.03256  </td><td style=\"text-align: right;\">0.145023 </td><td style=\"text-align: right;\">0.662613</td><td style=\"text-align: right;\">0.192364 </td><td style=\"text-align: right;\">0.429589</td><td style=\"text-align: right;\">0.501733</td><td style=\"text-align: right;\">0.0686788</td><td style=\"text-align: right;\"> 0.39</td><td style=\"text-align: right;\"> 0.42</td><td style=\"text-align: right;\"> 0.19</td><td style=\"text-align: right;\">    0</td><td style=\"text-align: right;\">    0</td><td style=\"text-align: right;\">    0</td><td style=\"text-align: right;\">          176</td><td style=\"text-align: right;\">             0.02</td><td style=\"text-align: right;\">        66031</td><td style=\"text-align: right;\">     112.874 </td><td style=\"text-align: right;\">    178.584 </td><td style=\"text-align: right;\">     3.66047</td><td style=\"text-align: right;\">      18.6405 </td><td style=\"text-align: right;\">     0</td><td style=\"text-align: right;\">     0</td><td style=\"text-align: right;\">  0   </td><td style=\"text-align: right;\">     0</td><td style=\"text-align: right;\">  0.29</td><td style=\"text-align: right;\">       0.9 </td><td style=\"text-align: right;\">       0.06</td><td style=\"text-align: right;\">           0.964</td><td style=\"text-align: right;\">          2591</td><td style=\"text-align: right;\">     33.6526  </td><td style=\"text-align: right;\">    135.938  </td><td style=\"text-align: right;\">      5.04264</td><td style=\"text-align: right;\">        26.0192</td><td style=\"text-align: right;\">     0</td><td style=\"text-align: right;\">     0</td><td style=\"text-align: right;\">     0</td><td style=\"text-align: right;\">     0</td><td style=\"text-align: right;\">     0</td><td style=\"text-align: right;\">       0   </td><td style=\"text-align: right;\">       1   </td><td style=\"text-align: right;\">       0   </td><td style=\"text-align: right;\">                      4</td><td style=\"text-align: right;\">      647.814 </td><td style=\"text-align: right;\">     724.263 </td><td style=\"text-align: right;\">    0.966957 </td><td style=\"text-align: right;\">      -0.706892</td><td style=\"text-align: right;\">          19.25   </td><td style=\"text-align: right;\">        11.5839  </td><td style=\"text-align: right;\">        -0.101852</td><td style=\"text-align: right;\">           0.200771</td><td>NULL        </td><td>NULL      </td><td>            </td><td>NULL      </td><td>NULL     </td><td>NULL      </td><td>NULL         </td><td>NULL    </td><td>NULL   </td><td>NULL                   </td><td>F1              </td><td style=\"text-align: right;\">     792</td><td>Bundle     </td><td style=\"text-align: right;\">      160832</td><td style=\"text-align: right;\">    118300</td><td>A0       </td><td style=\"text-align: right;\">                   0.74</td><td>B0              </td><td style=\"text-align: right;\">            0</td><td style=\"text-align: right;\">           0</td><td style=\"text-align: right;\">                 0</td><td style=\"text-align: right;\">                0</td><td>S1            </td><td>U1              </td><td>M1             </td><td>I0             </td><td>R0             </td><td>R0             </td><td>I0                      </td><td>P0                     </td><td style=\"text-align: right;\">                      18</td><td>P0                    </td><td>C0                  </td><td>C0                   </td><td>A0                 </td><td>A0                      </td><td style=\"text-align: right;\">         0</td><td style=\"text-align: right;\">       35</td><td style=\"text-align: right;\">             9</td><td style=\"text-align: right;\">                 0.26</td><td style=\"text-align: right;\">                       0.56</td><td style=\"text-align: right;\">             5</td><td style=\"text-align: right;\">            30</td><td style=\"text-align: right;\">                     0.2 </td><td style=\"text-align: right;\">                     0.09</td><td style=\"text-align: right;\">                   0.02</td><td style=\"text-align: right;\">                   0.03</td><td style=\"text-align: right;\">            0.22</td><td style=\"text-align: right;\">                 0   </td><td style=\"text-align: right;\">                 0.07</td><td style=\"text-align: right;\">                 0.78</td><td style=\"text-align: right;\">                      1   </td><td style=\"text-align: right;\">                      0.93</td><td style=\"text-align: right;\">               34</td><td style=\"text-align: right;\">               39</td><td style=\"text-align: right;\">          38</td><td style=\"text-align: right;\">          6</td><td style=\"text-align: right;\">          0</td><td style=\"text-align: right;\">          468    </td><td style=\"text-align: right;\">                  1</td><td style=\"text-align: right;\">                  0.11</td><td>village   </td><td style=\"text-align: right;\">    0</td><td style=\"text-align: right;\">             30</td><td style=\"text-align: right;\">         1</td><td style=\"text-align: right;\">     -45.6945</td><td style=\"text-align: right;\">     56.0479</td><td style=\"text-align: right;\">   -0.371094</td><td style=\"text-align: right;\">     -2.01243 </td><td style=\"text-align: right;\">    -112.799 </td><td style=\"text-align: right;\">      16.301 </td><td style=\"text-align: right;\">          7.04545</td><td style=\"text-align: right;\">         12.5455 </td><td>B0              </td><td style=\"text-align: right;\">          0</td><td style=\"text-align: right;\">          0</td><td style=\"text-align: right;\">          0</td><td style=\"text-align: right;\">          0</td><td style=\"text-align: right;\">          0</td><td style=\"text-align: right;\">          0</td><td style=\"text-align: right;\">          0</td><td style=\"text-align: right;\">          0</td><td style=\"text-align: right;\">          0</td><td style=\"text-align: right;\">          0</td><td style=\"text-align: right;\">              0</td><td style=\"text-align: right;\">            0</td><td style=\"text-align: right;\">            0</td><td style=\"text-align: right;\">            0</td><td style=\"text-align: right;\">            0</td><td style=\"text-align: right;\">            2</td><td style=\"text-align: right;\">       292.1 </td><td style=\"text-align: right;\">     146.05  </td><td style=\"text-align: right;\">             0</td><td style=\"text-align: right;\">             0</td><td style=\"text-align: right;\">             0</td><td style=\"text-align: right;\">                  0</td><td style=\"text-align: right;\">                  0</td><td style=\"text-align: right;\">                 0</td><td style=\"text-align: right;\">            0</td><td style=\"text-align: right;\">             0</td><td style=\"text-align: right;\">            0</td><td style=\"text-align: right;\">             0</td><td style=\"text-align: right;\">             0</td><td style=\"text-align: right;\">              0</td><td style=\"text-align: right;\">             0</td><td style=\"text-align: right;\">              0</td><td style=\"text-align: right;\">             0</td><td style=\"text-align: right;\">              0</td><td style=\"text-align: right;\">              0</td><td style=\"text-align: right;\">               0</td><td style=\"text-align: right;\">            0</td><td style=\"text-align: right;\">             0</td><td style=\"text-align: right;\">           17</td><td style=\"text-align: right;\">             5</td><td style=\"text-align: right;\">            3</td><td style=\"text-align: right;\">             1</td><td style=\"text-align: right;\">             0</td><td style=\"text-align: right;\">              0</td><td style=\"text-align: right;\">            0</td><td style=\"text-align: right;\">             0</td><td style=\"text-align: right;\">             0</td><td style=\"text-align: right;\">              0</td><td style=\"text-align: right;\">            0</td><td style=\"text-align: right;\">             0</td><td style=\"text-align: right;\">              0</td><td style=\"text-align: right;\">               0</td><td style=\"text-align: right;\">             0</td><td style=\"text-align: right;\">              0</td><td style=\"text-align: right;\">             0</td><td style=\"text-align: right;\">              0</td><td style=\"text-align: right;\">             0</td><td style=\"text-align: right;\">              0</td><td style=\"text-align: right;\">             0</td><td style=\"text-align: right;\">              0</td><td>D1    </td><td>P1                 </td><td style=\"text-align: right;\">       16</td><td>RF0            </td><td>SF1          </td><td>E0          </td><td>              </td><td>T1         </td><td>M6           </td><td style=\"text-align: right;\">            0</td><td style=\"text-align: right;\">         0  </td><td style=\"text-align: right;\">                  0</td><td style=\"text-align: right;\">                 0</td><td style=\"text-align: right;\">                   0  </td><td style=\"text-align: right;\">                    0</td><td style=\"text-align: right;\">                   0</td><td style=\"text-align: right;\">                         0</td><td style=\"text-align: right;\">                        0</td><td style=\"text-align: right;\">              0</td><td style=\"text-align: right;\">            2</td><td style=\"text-align: right;\">             1</td><td style=\"text-align: right;\">              0</td><td style=\"text-align: right;\">             0</td><td style=\"text-align: right;\">              1</td><td style=\"text-align: right;\">    5</td><td style=\"text-align: right;\">       -0.664654</td><td style=\"text-align: right;\">       0.241478</td><td style=\"text-align: right;\">    -0.00643557</td><td style=\"text-align: right;\">     -0.000266122</td><td style=\"text-align: right;\">            1.4732  </td><td style=\"text-align: right;\">            1.60623 </td><td style=\"text-align: right;\">       1.51331 </td><td style=\"text-align: right;\">   0.892435   </td><td style=\"text-align: right;\">   0.213776   </td><td style=\"text-align: right;\">     0.00735134 </td><td style=\"text-align: right;\">        3.47733 </td><td style=\"text-align: right;\">       1.22836 </td><td style=\"text-align: right;\">     0.187998  </td><td style=\"text-align: right;\">      0.00978809 </td><td style=\"text-align: right;\">              0.47094 </td><td style=\"text-align: right;\">            0.161253 </td><td style=\"text-align: right;\">            0.251608 </td><td style=\"text-align: right;\">             0.0213425 </td><td style=\"text-align: right;\">     0.518276</td><td style=\"text-align: right;\">                   0</td><td style=\"text-align: right;\">              2018</td><td style=\"text-align: right;\">                  1</td><td style=\"text-align: right;\">                1</td></tr>\n",
       "</tbody>\n",
       "</table>"
      ]
     },
     "metadata": {},
     "output_type": "display_data"
    },
    {
     "data": {
      "text/plain": []
     },
     "execution_count": 23,
     "metadata": {},
     "output_type": "execute_result"
    }
   ],
   "source": [
    "data1"
   ]
  },
  {
   "cell_type": "markdown",
   "metadata": {
    "deletable": true,
    "editable": true
   },
   "source": [
    "### 3. From Hive"
   ]
  },
  {
   "cell_type": "code",
   "execution_count": 116,
   "metadata": {
    "collapsed": false,
    "deletable": true,
    "editable": true,
    "scrolled": true
   },
   "outputs": [
    {
     "ename": "H2OServerError",
     "evalue": "HTTP 500 Server Error:\nServer error water.util.DistributedException:\n  Error: DistributedException from t2ru-bda-dnp-009.corp.tele2.ru/10.12.49.29:54321: 'This H2O node couldn't find the file(s) to parse. Please check files and/or working directories.'\n  Request: None\n",
     "output_type": "error",
     "traceback": [
      "\u001b[0;31m---------------------------------------------------------------------------\u001b[0m",
      "\u001b[0;31mH2OServerError\u001b[0m                            Traceback (most recent call last)",
      "\u001b[0;32m<ipython-input-116-b970c63e0ad7>\u001b[0m in \u001b[0;36m<module>\u001b[0;34m()\u001b[0m\n\u001b[1;32m      2\u001b[0m                col_names=['subs_id', 'changed', 'branch', 'lifetime', 'phone_type', 'cpe_m_age', 'cpe_p_age', 'cpe_popularity',\n\u001b[1;32m      3\u001b[0m                           \u001b[0;34m'dev_park_size'\u001b[0m\u001b[0;34m,\u001b[0m \u001b[0;34m'av_dev_use'\u001b[0m\u001b[0;34m,\u001b[0m \u001b[0;34m'max_dev_use'\u001b[0m\u001b[0;34m,\u001b[0m \u001b[0;34m'gender'\u001b[0m\u001b[0;34m,\u001b[0m \u001b[0;34m'age'\u001b[0m\u001b[0;34m,\u001b[0m \u001b[0;34m'days_with_data_trafic'\u001b[0m\u001b[0;34m,\u001b[0m\u001b[0;34m\u001b[0m\u001b[0m\n\u001b[0;32m----> 4\u001b[0;31m                           'cpe_manufacturer_name'])\n\u001b[0m",
      "\u001b[0;32m/opt/h2o/h2o-3.14.0.2-python-bin-with-deps.zip/h2o/h2o.py\u001b[0m in \u001b[0;36mimport_file\u001b[0;34m(path, destination_frame, parse, header, sep, col_names, col_types, na_strings, pattern)\u001b[0m\n\u001b[1;32m    412\u001b[0m         \u001b[0;32mreturn\u001b[0m \u001b[0mlazy_import\u001b[0m\u001b[0;34m(\u001b[0m\u001b[0mpath\u001b[0m\u001b[0;34m,\u001b[0m \u001b[0mpattern\u001b[0m\u001b[0;34m)\u001b[0m\u001b[0;34m\u001b[0m\u001b[0m\n\u001b[1;32m    413\u001b[0m     \u001b[0;32melse\u001b[0m\u001b[0;34m:\u001b[0m\u001b[0;34m\u001b[0m\u001b[0m\n\u001b[0;32m--> 414\u001b[0;31m         \u001b[0;32mreturn\u001b[0m \u001b[0mH2OFrame\u001b[0m\u001b[0;34m(\u001b[0m\u001b[0;34m)\u001b[0m\u001b[0;34m.\u001b[0m\u001b[0m_import_parse\u001b[0m\u001b[0;34m(\u001b[0m\u001b[0mpath\u001b[0m\u001b[0;34m,\u001b[0m \u001b[0mpattern\u001b[0m\u001b[0;34m,\u001b[0m \u001b[0mdestination_frame\u001b[0m\u001b[0;34m,\u001b[0m \u001b[0mheader\u001b[0m\u001b[0;34m,\u001b[0m \u001b[0msep\u001b[0m\u001b[0;34m,\u001b[0m \u001b[0mcol_names\u001b[0m\u001b[0;34m,\u001b[0m \u001b[0mcol_types\u001b[0m\u001b[0;34m,\u001b[0m \u001b[0mna_strings\u001b[0m\u001b[0;34m)\u001b[0m\u001b[0;34m\u001b[0m\u001b[0m\n\u001b[0m\u001b[1;32m    415\u001b[0m \u001b[0;34m\u001b[0m\u001b[0m\n\u001b[1;32m    416\u001b[0m \u001b[0;34m\u001b[0m\u001b[0m\n",
      "\u001b[0;32m/opt/h2o/h2o-3.14.0.2-python-bin-with-deps.zip/h2o/frame.py\u001b[0m in \u001b[0;36m_import_parse\u001b[0;34m(self, path, pattern, destination_frame, header, separator, column_names, column_types, na_strings)\u001b[0m\n\u001b[1;32m    306\u001b[0m             \u001b[0mpath\u001b[0m \u001b[0;34m=\u001b[0m \u001b[0mos\u001b[0m\u001b[0;34m.\u001b[0m\u001b[0mpath\u001b[0m\u001b[0;34m.\u001b[0m\u001b[0mabspath\u001b[0m\u001b[0;34m(\u001b[0m\u001b[0mpath\u001b[0m\u001b[0;34m)\u001b[0m\u001b[0;34m\u001b[0m\u001b[0m\n\u001b[1;32m    307\u001b[0m         \u001b[0mrawkey\u001b[0m \u001b[0;34m=\u001b[0m \u001b[0mh2o\u001b[0m\u001b[0;34m.\u001b[0m\u001b[0mlazy_import\u001b[0m\u001b[0;34m(\u001b[0m\u001b[0mpath\u001b[0m\u001b[0;34m,\u001b[0m \u001b[0mpattern\u001b[0m\u001b[0;34m)\u001b[0m\u001b[0;34m\u001b[0m\u001b[0m\n\u001b[0;32m--> 308\u001b[0;31m         \u001b[0mself\u001b[0m\u001b[0;34m.\u001b[0m\u001b[0m_parse\u001b[0m\u001b[0;34m(\u001b[0m\u001b[0mrawkey\u001b[0m\u001b[0;34m,\u001b[0m \u001b[0mdestination_frame\u001b[0m\u001b[0;34m,\u001b[0m \u001b[0mheader\u001b[0m\u001b[0;34m,\u001b[0m \u001b[0mseparator\u001b[0m\u001b[0;34m,\u001b[0m \u001b[0mcolumn_names\u001b[0m\u001b[0;34m,\u001b[0m \u001b[0mcolumn_types\u001b[0m\u001b[0;34m,\u001b[0m \u001b[0mna_strings\u001b[0m\u001b[0;34m)\u001b[0m\u001b[0;34m\u001b[0m\u001b[0m\n\u001b[0m\u001b[1;32m    309\u001b[0m         \u001b[0;32mreturn\u001b[0m \u001b[0mself\u001b[0m\u001b[0;34m\u001b[0m\u001b[0m\n\u001b[1;32m    310\u001b[0m \u001b[0;34m\u001b[0m\u001b[0m\n",
      "\u001b[0;32m/opt/h2o/h2o-3.14.0.2-python-bin-with-deps.zip/h2o/frame.py\u001b[0m in \u001b[0;36m_parse\u001b[0;34m(self, rawkey, destination_frame, header, separator, column_names, column_types, na_strings)\u001b[0m\n\u001b[1;32m    319\u001b[0m     def _parse(self, rawkey, destination_frame=\"\", header=None, separator=None, column_names=None, column_types=None,\n\u001b[1;32m    320\u001b[0m                na_strings=None):\n\u001b[0;32m--> 321\u001b[0;31m         \u001b[0msetup\u001b[0m \u001b[0;34m=\u001b[0m \u001b[0mh2o\u001b[0m\u001b[0;34m.\u001b[0m\u001b[0mparse_setup\u001b[0m\u001b[0;34m(\u001b[0m\u001b[0mrawkey\u001b[0m\u001b[0;34m,\u001b[0m \u001b[0mdestination_frame\u001b[0m\u001b[0;34m,\u001b[0m \u001b[0mheader\u001b[0m\u001b[0;34m,\u001b[0m \u001b[0mseparator\u001b[0m\u001b[0;34m,\u001b[0m \u001b[0mcolumn_names\u001b[0m\u001b[0;34m,\u001b[0m \u001b[0mcolumn_types\u001b[0m\u001b[0;34m,\u001b[0m \u001b[0mna_strings\u001b[0m\u001b[0;34m)\u001b[0m\u001b[0;34m\u001b[0m\u001b[0m\n\u001b[0m\u001b[1;32m    322\u001b[0m         \u001b[0;32mreturn\u001b[0m \u001b[0mself\u001b[0m\u001b[0;34m.\u001b[0m\u001b[0m_parse_raw\u001b[0m\u001b[0;34m(\u001b[0m\u001b[0msetup\u001b[0m\u001b[0;34m)\u001b[0m\u001b[0;34m\u001b[0m\u001b[0m\n\u001b[1;32m    323\u001b[0m \u001b[0;34m\u001b[0m\u001b[0m\n",
      "\u001b[0;32m/opt/h2o/h2o-3.14.0.2-python-bin-with-deps.zip/h2o/h2o.py\u001b[0m in \u001b[0;36mparse_setup\u001b[0;34m(raw_frames, destination_frame, header, separator, column_names, column_types, na_strings)\u001b[0m\n\u001b[1;32m    557\u001b[0m         \u001b[0mkwargs\u001b[0m\u001b[0;34m[\u001b[0m\u001b[0;34m\"separator\"\u001b[0m\u001b[0;34m]\u001b[0m \u001b[0;34m=\u001b[0m \u001b[0mord\u001b[0m\u001b[0;34m(\u001b[0m\u001b[0mseparator\u001b[0m\u001b[0;34m)\u001b[0m\u001b[0;34m\u001b[0m\u001b[0m\n\u001b[1;32m    558\u001b[0m \u001b[0;34m\u001b[0m\u001b[0m\n\u001b[0;32m--> 559\u001b[0;31m     \u001b[0mj\u001b[0m \u001b[0;34m=\u001b[0m \u001b[0mapi\u001b[0m\u001b[0;34m(\u001b[0m\u001b[0;34m\"POST /3/ParseSetup\"\u001b[0m\u001b[0;34m,\u001b[0m \u001b[0mdata\u001b[0m\u001b[0;34m=\u001b[0m\u001b[0mkwargs\u001b[0m\u001b[0;34m)\u001b[0m\u001b[0;34m\u001b[0m\u001b[0m\n\u001b[0m\u001b[1;32m    560\u001b[0m     \u001b[0;32mif\u001b[0m \u001b[0;34m\"warnings\"\u001b[0m \u001b[0;32min\u001b[0m \u001b[0mj\u001b[0m \u001b[0;32mand\u001b[0m \u001b[0mj\u001b[0m\u001b[0;34m[\u001b[0m\u001b[0;34m\"warnings\"\u001b[0m\u001b[0;34m]\u001b[0m\u001b[0;34m:\u001b[0m\u001b[0;34m\u001b[0m\u001b[0m\n\u001b[1;32m    561\u001b[0m         \u001b[0;32mfor\u001b[0m \u001b[0mw\u001b[0m \u001b[0;32min\u001b[0m \u001b[0mj\u001b[0m\u001b[0;34m[\u001b[0m\u001b[0;34m\"warnings\"\u001b[0m\u001b[0;34m]\u001b[0m\u001b[0;34m:\u001b[0m\u001b[0;34m\u001b[0m\u001b[0m\n",
      "\u001b[0;32m/opt/h2o/h2o-3.14.0.2-python-bin-with-deps.zip/h2o/h2o.py\u001b[0m in \u001b[0;36mapi\u001b[0;34m(endpoint, data, json, filename, save_to)\u001b[0m\n\u001b[1;32m    101\u001b[0m     \u001b[0;31m# type checks are performed in H2OConnection class\u001b[0m\u001b[0;34m\u001b[0m\u001b[0;34m\u001b[0m\u001b[0m\n\u001b[1;32m    102\u001b[0m     \u001b[0m_check_connection\u001b[0m\u001b[0;34m(\u001b[0m\u001b[0;34m)\u001b[0m\u001b[0;34m\u001b[0m\u001b[0m\n\u001b[0;32m--> 103\u001b[0;31m     \u001b[0;32mreturn\u001b[0m \u001b[0mh2oconn\u001b[0m\u001b[0;34m.\u001b[0m\u001b[0mrequest\u001b[0m\u001b[0;34m(\u001b[0m\u001b[0mendpoint\u001b[0m\u001b[0;34m,\u001b[0m \u001b[0mdata\u001b[0m\u001b[0;34m=\u001b[0m\u001b[0mdata\u001b[0m\u001b[0;34m,\u001b[0m \u001b[0mjson\u001b[0m\u001b[0;34m=\u001b[0m\u001b[0mjson\u001b[0m\u001b[0;34m,\u001b[0m \u001b[0mfilename\u001b[0m\u001b[0;34m=\u001b[0m\u001b[0mfilename\u001b[0m\u001b[0;34m,\u001b[0m \u001b[0msave_to\u001b[0m\u001b[0;34m=\u001b[0m\u001b[0msave_to\u001b[0m\u001b[0;34m)\u001b[0m\u001b[0;34m\u001b[0m\u001b[0m\n\u001b[0m\u001b[1;32m    104\u001b[0m \u001b[0;34m\u001b[0m\u001b[0m\n\u001b[1;32m    105\u001b[0m \u001b[0;34m\u001b[0m\u001b[0m\n",
      "\u001b[0;32m/opt/h2o/h2o-3.14.0.2-python-bin-with-deps.zip/h2o/backend/connection.py\u001b[0m in \u001b[0;36mrequest\u001b[0;34m(self, endpoint, data, json, filename, save_to)\u001b[0m\n\u001b[1;32m    400\u001b[0m                                     auth=self._auth, verify=self._verify_ssl_cert, proxies=self._proxies)\n\u001b[1;32m    401\u001b[0m             \u001b[0mself\u001b[0m\u001b[0;34m.\u001b[0m\u001b[0m_log_end_transaction\u001b[0m\u001b[0;34m(\u001b[0m\u001b[0mstart_time\u001b[0m\u001b[0;34m,\u001b[0m \u001b[0mresp\u001b[0m\u001b[0;34m)\u001b[0m\u001b[0;34m\u001b[0m\u001b[0m\n\u001b[0;32m--> 402\u001b[0;31m             \u001b[0;32mreturn\u001b[0m \u001b[0mself\u001b[0m\u001b[0;34m.\u001b[0m\u001b[0m_process_response\u001b[0m\u001b[0;34m(\u001b[0m\u001b[0mresp\u001b[0m\u001b[0;34m,\u001b[0m \u001b[0msave_to\u001b[0m\u001b[0;34m)\u001b[0m\u001b[0;34m\u001b[0m\u001b[0m\n\u001b[0m\u001b[1;32m    403\u001b[0m \u001b[0;34m\u001b[0m\u001b[0m\n\u001b[1;32m    404\u001b[0m         \u001b[0;32mexcept\u001b[0m \u001b[0;34m(\u001b[0m\u001b[0mrequests\u001b[0m\u001b[0;34m.\u001b[0m\u001b[0mexceptions\u001b[0m\u001b[0;34m.\u001b[0m\u001b[0mConnectionError\u001b[0m\u001b[0;34m,\u001b[0m \u001b[0mrequests\u001b[0m\u001b[0;34m.\u001b[0m\u001b[0mexceptions\u001b[0m\u001b[0;34m.\u001b[0m\u001b[0mHTTPError\u001b[0m\u001b[0;34m)\u001b[0m \u001b[0;32mas\u001b[0m \u001b[0me\u001b[0m\u001b[0;34m:\u001b[0m\u001b[0;34m\u001b[0m\u001b[0m\n",
      "\u001b[0;32m/opt/h2o/h2o-3.14.0.2-python-bin-with-deps.zip/h2o/backend/connection.py\u001b[0m in \u001b[0;36m_process_response\u001b[0;34m(response, save_to)\u001b[0m\n\u001b[1;32m    728\u001b[0m         \u001b[0;31m# Note that it is possible to receive valid H2OErrorV3 object in this case, however it merely means the server\u001b[0m\u001b[0;34m\u001b[0m\u001b[0;34m\u001b[0m\u001b[0m\n\u001b[1;32m    729\u001b[0m         \u001b[0;31m# did not provide the correct status code.\u001b[0m\u001b[0;34m\u001b[0m\u001b[0;34m\u001b[0m\u001b[0m\n\u001b[0;32m--> 730\u001b[0;31m         \u001b[0;32mraise\u001b[0m \u001b[0mH2OServerError\u001b[0m\u001b[0;34m(\u001b[0m\u001b[0;34m\"HTTP %d %s:\\n%r\"\u001b[0m \u001b[0;34m%\u001b[0m \u001b[0;34m(\u001b[0m\u001b[0mstatus_code\u001b[0m\u001b[0;34m,\u001b[0m \u001b[0mresponse\u001b[0m\u001b[0;34m.\u001b[0m\u001b[0mreason\u001b[0m\u001b[0;34m,\u001b[0m \u001b[0mdata\u001b[0m\u001b[0;34m)\u001b[0m\u001b[0;34m)\u001b[0m\u001b[0;34m\u001b[0m\u001b[0m\n\u001b[0m\u001b[1;32m    731\u001b[0m \u001b[0;34m\u001b[0m\u001b[0m\n\u001b[1;32m    732\u001b[0m \u001b[0;34m\u001b[0m\u001b[0m\n",
      "\u001b[0;31mH2OServerError\u001b[0m: HTTP 500 Server Error:\nServer error water.util.DistributedException:\n  Error: DistributedException from t2ru-bda-dnp-009.corp.tele2.ru/10.12.49.29:54321: 'This H2O node couldn't find the file(s) to parse. Please check files and/or working directories.'\n  Request: None\n"
     ]
    }
   ],
   "source": [
    "h2o.import_file('hdfs://T2-HDFS-HA-PROD/user/hive/warehouse/developers.db/al_new_device_purchase', destination_frame='data2',\n",
    "               col_names=['subs_id', 'changed', 'branch', 'lifetime', 'phone_type', 'cpe_m_age', 'cpe_p_age', 'cpe_popularity',\n",
    "                          'dev_park_size', 'av_dev_use', 'max_dev_use', 'gender', 'age', 'days_with_data_trafic',\n",
    "                          'cpe_manufacturer_name'])"
   ]
  },
  {
   "cell_type": "code",
   "execution_count": 86,
   "metadata": {
    "collapsed": true,
    "deletable": true,
    "editable": true
   },
   "outputs": [],
   "source": [
    "data2 = h2o.get_frame('data2')"
   ]
  },
  {
   "cell_type": "code",
   "execution_count": 87,
   "metadata": {
    "collapsed": false,
    "deletable": true,
    "editable": true,
    "scrolled": true
   },
   "outputs": [
    {
     "data": {
      "text/html": [
       "<table>\n",
       "<thead>\n",
       "<tr><th style=\"text-align: right;\">    subs_id</th><th>changed  </th><th>branch  </th><th style=\"text-align: right;\">  lifetime</th><th>phone_type  </th><th style=\"text-align: right;\">  cpe_m_age</th><th style=\"text-align: right;\">  cpe_p_age</th><th style=\"text-align: right;\">  cpe_popularity</th><th style=\"text-align: right;\">  dev_park_size</th><th style=\"text-align: right;\">  av_dev_use</th><th style=\"text-align: right;\">  max_dev_use</th><th>gender  </th><th style=\"text-align: right;\">  age</th><th style=\"text-align: right;\">  days_with_data_trafic</th><th>cpe_manufacturer_name  </th></tr>\n",
       "</thead>\n",
       "<tbody>\n",
       "<tr><td style=\"text-align: right;\">3.09407e+07</td><td>\\N       </td><td>B39     </td><td style=\"text-align: right;\">      2376</td><td>P1          </td><td style=\"text-align: right;\">        558</td><td style=\"text-align: right;\">        243</td><td style=\"text-align: right;\">         4.68878</td><td style=\"text-align: right;\">              6</td><td style=\"text-align: right;\">    187.125 </td><td style=\"text-align: right;\">          596</td><td>G0      </td><td style=\"text-align: right;\">   38</td><td style=\"text-align: right;\">                     30</td><td>\\N                     </td></tr>\n",
       "<tr><td style=\"text-align: right;\">5.06364e+06</td><td>\\N       </td><td>B2      </td><td style=\"text-align: right;\">      4450</td><td>P1          </td><td style=\"text-align: right;\">        562</td><td style=\"text-align: right;\">        361</td><td style=\"text-align: right;\">         3.67108</td><td style=\"text-align: right;\">              4</td><td style=\"text-align: right;\">    175.444 </td><td style=\"text-align: right;\">          613</td><td>G0      </td><td style=\"text-align: right;\">   52</td><td style=\"text-align: right;\">                      0</td><td>\\N                     </td></tr>\n",
       "<tr><td style=\"text-align: right;\">3.26094e+07</td><td>\\N       </td><td>B54     </td><td style=\"text-align: right;\">      2049</td><td>P1          </td><td style=\"text-align: right;\">        823</td><td style=\"text-align: right;\">        251</td><td style=\"text-align: right;\">         4.47056</td><td style=\"text-align: right;\">              5</td><td style=\"text-align: right;\">     30.8667</td><td style=\"text-align: right;\">          402</td><td>G0      </td><td style=\"text-align: right;\">   37</td><td style=\"text-align: right;\">                      0</td><td>\\N                     </td></tr>\n",
       "<tr><td style=\"text-align: right;\">2.35935e+07</td><td>\\N       </td><td>B54     </td><td style=\"text-align: right;\">      3311</td><td>P2          </td><td style=\"text-align: right;\">       2436</td><td style=\"text-align: right;\">       2073</td><td style=\"text-align: right;\">         5.02572</td><td style=\"text-align: right;\">              1</td><td style=\"text-align: right;\">   2073     </td><td style=\"text-align: right;\">         2073</td><td>G1      </td><td style=\"text-align: right;\">   30</td><td style=\"text-align: right;\">                      0</td><td>Philips                </td></tr>\n",
       "<tr><td style=\"text-align: right;\">5.11392e+07</td><td>\\N       </td><td>B35     </td><td style=\"text-align: right;\">       171</td><td>P1          </td><td style=\"text-align: right;\">        559</td><td style=\"text-align: right;\">        171</td><td style=\"text-align: right;\">         4.85658</td><td style=\"text-align: right;\">              9</td><td style=\"text-align: right;\">    108.357 </td><td style=\"text-align: right;\">          842</td><td>G0      </td><td style=\"text-align: right;\">   44</td><td style=\"text-align: right;\">                     29</td><td>\\N                     </td></tr>\n",
       "<tr><td style=\"text-align: right;\">4.66313e+07</td><td>\\N       </td><td>B34     </td><td style=\"text-align: right;\">       625</td><td>P1          </td><td style=\"text-align: right;\">        485</td><td style=\"text-align: right;\">        296</td><td style=\"text-align: right;\">         4.4255 </td><td style=\"text-align: right;\">              5</td><td style=\"text-align: right;\">    173.125 </td><td style=\"text-align: right;\">          760</td><td>G1      </td><td style=\"text-align: right;\">   45</td><td style=\"text-align: right;\">                     28</td><td>\\N                     </td></tr>\n",
       "<tr><td style=\"text-align: right;\">3.59467e+07</td><td>\\N       </td><td>B15     </td><td style=\"text-align: right;\">      1438</td><td>P3          </td><td style=\"text-align: right;\">       2791</td><td style=\"text-align: right;\">       1261</td><td style=\"text-align: right;\">         4.36765</td><td style=\"text-align: right;\">              2</td><td style=\"text-align: right;\">    709     </td><td style=\"text-align: right;\">         1261</td><td>G0      </td><td style=\"text-align: right;\">   44</td><td style=\"text-align: right;\">                      0</td><td>Nokia                  </td></tr>\n",
       "<tr><td style=\"text-align: right;\">5.28079e+07</td><td>\\N       </td><td>B64     </td><td style=\"text-align: right;\">        33</td><td>P1          </td><td style=\"text-align: right;\">        559</td><td style=\"text-align: right;\">          2</td><td style=\"text-align: right;\">         4.85658</td><td style=\"text-align: right;\">              6</td><td style=\"text-align: right;\">     56.0952</td><td style=\"text-align: right;\">         1040</td><td>G1      </td><td style=\"text-align: right;\">   34</td><td style=\"text-align: right;\">                     30</td><td>\\N                     </td></tr>\n",
       "<tr><td style=\"text-align: right;\">3.32313e+07</td><td>\\N       </td><td>B35     </td><td style=\"text-align: right;\">      2033</td><td>P1          </td><td style=\"text-align: right;\">        211</td><td style=\"text-align: right;\">         66</td><td style=\"text-align: right;\">         0.30103</td><td style=\"text-align: right;\">              8</td><td style=\"text-align: right;\">    139.7   </td><td style=\"text-align: right;\">          723</td><td>G1      </td><td style=\"text-align: right;\">   55</td><td style=\"text-align: right;\">                      0</td><td>\\N                     </td></tr>\n",
       "<tr><td style=\"text-align: right;\">5.00925e+07</td><td>\\N       </td><td>B20     </td><td style=\"text-align: right;\">       343</td><td>P1          </td><td style=\"text-align: right;\">        840</td><td style=\"text-align: right;\">          3</td><td style=\"text-align: right;\">         4.51469</td><td style=\"text-align: right;\">              7</td><td style=\"text-align: right;\">    299.667 </td><td style=\"text-align: right;\">         1923</td><td>G0      </td><td style=\"text-align: right;\">   29</td><td style=\"text-align: right;\">                     18</td><td>\\N                     </td></tr>\n",
       "</tbody>\n",
       "</table>"
      ]
     },
     "metadata": {},
     "output_type": "display_data"
    },
    {
     "data": {
      "text/plain": []
     },
     "execution_count": 87,
     "metadata": {},
     "output_type": "execute_result"
    }
   ],
   "source": [
    "data2"
   ]
  },
  {
   "cell_type": "markdown",
   "metadata": {
    "deletable": true,
    "editable": true
   },
   "source": [
    "### 4. Sparse"
   ]
  },
  {
   "cell_type": "code",
   "execution_count": 17,
   "metadata": {
    "collapsed": false,
    "deletable": true,
    "editable": true
   },
   "outputs": [
    {
     "name": "stdout",
     "output_type": "stream",
     "text": [
      "Parse progress: |█████████████████████████████████████████████████████████| 100%\n"
     ]
    },
    {
     "data": {
      "text/html": [
       "<table>\n",
       "<thead>\n",
       "<tr><th style=\"text-align: right;\">    subs_id</th><th style=\"text-align: right;\">  dest_number</th></tr>\n",
       "</thead>\n",
       "<tbody>\n",
       "<tr><td style=\"text-align: right;\">1.00036e+11</td><td style=\"text-align: right;\">  7.90412e+10</td></tr>\n",
       "<tr><td style=\"text-align: right;\">1.00036e+11</td><td style=\"text-align: right;\">  7.95014e+10</td></tr>\n",
       "<tr><td style=\"text-align: right;\">1.00036e+11</td><td style=\"text-align: right;\">  7.8125e+10 </td></tr>\n",
       "<tr><td style=\"text-align: right;\">1.00036e+11</td><td style=\"text-align: right;\">  7.90252e+10</td></tr>\n",
       "<tr><td style=\"text-align: right;\">1.00036e+11</td><td style=\"text-align: right;\">  7.4997e+10 </td></tr>\n",
       "<tr><td style=\"text-align: right;\">5.88477e+06</td><td style=\"text-align: right;\">  7.90142e+10</td></tr>\n",
       "<tr><td style=\"text-align: right;\">5.90104e+06</td><td style=\"text-align: right;\">  7.38423e+10</td></tr>\n",
       "<tr><td style=\"text-align: right;\">5.98106e+06</td><td style=\"text-align: right;\">  6.84865e+08</td></tr>\n",
       "<tr><td style=\"text-align: right;\">6.08409e+06</td><td style=\"text-align: right;\">  7.92516e+10</td></tr>\n",
       "<tr><td style=\"text-align: right;\">6.44601e+06</td><td style=\"text-align: right;\">  7.90377e+10</td></tr>\n",
       "</tbody>\n",
       "</table>"
      ]
     },
     "metadata": {},
     "output_type": "display_data"
    },
    {
     "data": {
      "text/plain": []
     },
     "execution_count": 17,
     "metadata": {},
     "output_type": "execute_result"
    }
   ],
   "source": [
    "h2o.import_file('hdfs://T2-HDFS-HA-PROD/user/hive/warehouse/developers.db/al_for_sparse_test', destination_frame='to_sparse',\n",
    "               col_names=['subs_id', 'dest_number'])\n"
   ]
  },
  {
   "cell_type": "code",
   "execution_count": 18,
   "metadata": {
    "collapsed": true,
    "deletable": true,
    "editable": true
   },
   "outputs": [],
   "source": [
    "df_sp = h2o.get_frame('to_sparse')"
   ]
  },
  {
   "cell_type": "code",
   "execution_count": 19,
   "metadata": {
    "collapsed": true,
    "deletable": true,
    "editable": true,
    "scrolled": true
   },
   "outputs": [],
   "source": [
    "df = df_sp.as_data_frame()"
   ]
  },
  {
   "cell_type": "code",
   "execution_count": 80,
   "metadata": {
    "collapsed": false,
    "deletable": true,
    "editable": true
   },
   "outputs": [
    {
     "data": {
      "text/plain": [
       "(243562, 3)"
      ]
     },
     "execution_count": 80,
     "metadata": {},
     "output_type": "execute_result"
    }
   ],
   "source": [
    "print(df.shape)\n",
    "df.head()"
   ]
  },
  {
   "cell_type": "code",
   "execution_count": 66,
   "metadata": {
    "collapsed": true,
    "deletable": true,
    "editable": true
   },
   "outputs": [],
   "source": [
    "df = df.dropna()"
   ]
  },
  {
   "cell_type": "code",
   "execution_count": 67,
   "metadata": {
    "collapsed": true,
    "deletable": true,
    "editable": true
   },
   "outputs": [],
   "source": [
    "subs_dict = {i: e for i, e in enumerate(df.subs_id.unique())}\n",
    "subs_dict_inv = {e: i for i, e in enumerate(df.subs_id.unique())}\n",
    "dest_dict = {i: int(e) for i, e in enumerate(df.dest_number.unique())}\n",
    "dest_dict_inv = {int(e): i for i, e in enumerate(df.dest_number.unique())}\n",
    "df['subs_id'] = df['subs_id'].apply(lambda x: subs_dict_inv[x])\n",
    "df['dest_number'] = df['dest_number'].apply(lambda x: dest_dict_inv[x])"
   ]
  },
  {
   "cell_type": "code",
   "execution_count": 74,
   "metadata": {
    "collapsed": true,
    "deletable": true,
    "editable": true
   },
   "outputs": [],
   "source": [
    "df['v'] = 1"
   ]
  },
  {
   "cell_type": "code",
   "execution_count": 76,
   "metadata": {
    "collapsed": true,
    "deletable": true,
    "editable": true,
    "scrolled": true
   },
   "outputs": [],
   "source": [
    "import scipy.sparse as sps\n",
    "df_sp = sps.csr_matrix((df['v'], (df['subs_id'], df['dest_number'])))"
   ]
  },
  {
   "cell_type": "code",
   "execution_count": 77,
   "metadata": {
    "collapsed": false,
    "deletable": true,
    "editable": true
   },
   "outputs": [
    {
     "name": "stdout",
     "output_type": "stream",
     "text": [
      "Parse progress: |█████████████████████████████████████████████████████████| 100%\n"
     ]
    }
   ],
   "source": [
    "h2o_sparse = h2o.H2OFrame(df_sp)"
   ]
  },
  {
   "cell_type": "code",
   "execution_count": 82,
   "metadata": {
    "collapsed": false,
    "deletable": true,
    "editable": true,
    "scrolled": true
   },
   "outputs": [
    {
     "data": {
      "text/html": [
       "<table>\n",
       "<thead>\n",
       "<tr><th style=\"text-align: right;\">  C1</th><th style=\"text-align: right;\">  C2</th><th style=\"text-align: right;\">  C3</th><th style=\"text-align: right;\">  C4</th><th style=\"text-align: right;\">  C5</th><th style=\"text-align: right;\">  C6</th><th style=\"text-align: right;\">  C7</th><th style=\"text-align: right;\">  C8</th><th style=\"text-align: right;\">  C9</th><th style=\"text-align: right;\">  C10</th><th style=\"text-align: right;\">  C11</th><th style=\"text-align: right;\">  C12</th><th style=\"text-align: right;\">  C13</th><th style=\"text-align: right;\">  C14</th><th style=\"text-align: right;\">  C15</th><th style=\"text-align: right;\">  C16</th><th style=\"text-align: right;\">  C17</th><th style=\"text-align: right;\">  C18</th><th style=\"text-align: right;\">  C19</th><th style=\"text-align: right;\">  C20</th></tr>\n",
       "</thead>\n",
       "<tbody>\n",
       "<tr><td style=\"text-align: right;\">   1</td><td style=\"text-align: right;\">   0</td><td style=\"text-align: right;\">   0</td><td style=\"text-align: right;\">   0</td><td style=\"text-align: right;\">   0</td><td style=\"text-align: right;\">   0</td><td style=\"text-align: right;\">   0</td><td style=\"text-align: right;\">   0</td><td style=\"text-align: right;\">   0</td><td style=\"text-align: right;\">    0</td><td style=\"text-align: right;\">    0</td><td style=\"text-align: right;\">    0</td><td style=\"text-align: right;\">    0</td><td style=\"text-align: right;\">    0</td><td style=\"text-align: right;\">    0</td><td style=\"text-align: right;\">    0</td><td style=\"text-align: right;\">    0</td><td style=\"text-align: right;\">    0</td><td style=\"text-align: right;\">    0</td><td style=\"text-align: right;\">    0</td></tr>\n",
       "<tr><td style=\"text-align: right;\">   0</td><td style=\"text-align: right;\">   1</td><td style=\"text-align: right;\">   0</td><td style=\"text-align: right;\">   0</td><td style=\"text-align: right;\">   0</td><td style=\"text-align: right;\">   0</td><td style=\"text-align: right;\">   0</td><td style=\"text-align: right;\">   0</td><td style=\"text-align: right;\">   0</td><td style=\"text-align: right;\">    0</td><td style=\"text-align: right;\">    0</td><td style=\"text-align: right;\">    0</td><td style=\"text-align: right;\">    0</td><td style=\"text-align: right;\">    0</td><td style=\"text-align: right;\">    0</td><td style=\"text-align: right;\">    0</td><td style=\"text-align: right;\">    0</td><td style=\"text-align: right;\">    0</td><td style=\"text-align: right;\">    0</td><td style=\"text-align: right;\">    0</td></tr>\n",
       "<tr><td style=\"text-align: right;\">   0</td><td style=\"text-align: right;\">   0</td><td style=\"text-align: right;\">   1</td><td style=\"text-align: right;\">   0</td><td style=\"text-align: right;\">   0</td><td style=\"text-align: right;\">   0</td><td style=\"text-align: right;\">   0</td><td style=\"text-align: right;\">   0</td><td style=\"text-align: right;\">   0</td><td style=\"text-align: right;\">    0</td><td style=\"text-align: right;\">    0</td><td style=\"text-align: right;\">    0</td><td style=\"text-align: right;\">    0</td><td style=\"text-align: right;\">    0</td><td style=\"text-align: right;\">    0</td><td style=\"text-align: right;\">    0</td><td style=\"text-align: right;\">    0</td><td style=\"text-align: right;\">    0</td><td style=\"text-align: right;\">    0</td><td style=\"text-align: right;\">    0</td></tr>\n",
       "<tr><td style=\"text-align: right;\">   0</td><td style=\"text-align: right;\">   0</td><td style=\"text-align: right;\">   0</td><td style=\"text-align: right;\">   1</td><td style=\"text-align: right;\">   0</td><td style=\"text-align: right;\">   0</td><td style=\"text-align: right;\">   0</td><td style=\"text-align: right;\">   0</td><td style=\"text-align: right;\">   0</td><td style=\"text-align: right;\">    0</td><td style=\"text-align: right;\">    0</td><td style=\"text-align: right;\">    0</td><td style=\"text-align: right;\">    0</td><td style=\"text-align: right;\">    0</td><td style=\"text-align: right;\">    0</td><td style=\"text-align: right;\">    0</td><td style=\"text-align: right;\">    0</td><td style=\"text-align: right;\">    0</td><td style=\"text-align: right;\">    0</td><td style=\"text-align: right;\">    0</td></tr>\n",
       "<tr><td style=\"text-align: right;\">   0</td><td style=\"text-align: right;\">   0</td><td style=\"text-align: right;\">   0</td><td style=\"text-align: right;\">   0</td><td style=\"text-align: right;\">   1</td><td style=\"text-align: right;\">   0</td><td style=\"text-align: right;\">   0</td><td style=\"text-align: right;\">   0</td><td style=\"text-align: right;\">   0</td><td style=\"text-align: right;\">    0</td><td style=\"text-align: right;\">    0</td><td style=\"text-align: right;\">    0</td><td style=\"text-align: right;\">    0</td><td style=\"text-align: right;\">    0</td><td style=\"text-align: right;\">    0</td><td style=\"text-align: right;\">    0</td><td style=\"text-align: right;\">    0</td><td style=\"text-align: right;\">    0</td><td style=\"text-align: right;\">    0</td><td style=\"text-align: right;\">    0</td></tr>\n",
       "<tr><td style=\"text-align: right;\">   0</td><td style=\"text-align: right;\">   0</td><td style=\"text-align: right;\">   0</td><td style=\"text-align: right;\">   0</td><td style=\"text-align: right;\">   0</td><td style=\"text-align: right;\">   1</td><td style=\"text-align: right;\">   0</td><td style=\"text-align: right;\">   0</td><td style=\"text-align: right;\">   0</td><td style=\"text-align: right;\">    0</td><td style=\"text-align: right;\">    0</td><td style=\"text-align: right;\">    0</td><td style=\"text-align: right;\">    0</td><td style=\"text-align: right;\">    0</td><td style=\"text-align: right;\">    0</td><td style=\"text-align: right;\">    0</td><td style=\"text-align: right;\">    0</td><td style=\"text-align: right;\">    0</td><td style=\"text-align: right;\">    0</td><td style=\"text-align: right;\">    0</td></tr>\n",
       "<tr><td style=\"text-align: right;\">   0</td><td style=\"text-align: right;\">   0</td><td style=\"text-align: right;\">   0</td><td style=\"text-align: right;\">   0</td><td style=\"text-align: right;\">   0</td><td style=\"text-align: right;\">   0</td><td style=\"text-align: right;\">   1</td><td style=\"text-align: right;\">   0</td><td style=\"text-align: right;\">   0</td><td style=\"text-align: right;\">    0</td><td style=\"text-align: right;\">    0</td><td style=\"text-align: right;\">    0</td><td style=\"text-align: right;\">    0</td><td style=\"text-align: right;\">    0</td><td style=\"text-align: right;\">    0</td><td style=\"text-align: right;\">    0</td><td style=\"text-align: right;\">    0</td><td style=\"text-align: right;\">    0</td><td style=\"text-align: right;\">    0</td><td style=\"text-align: right;\">    0</td></tr>\n",
       "<tr><td style=\"text-align: right;\">   0</td><td style=\"text-align: right;\">   0</td><td style=\"text-align: right;\">   0</td><td style=\"text-align: right;\">   0</td><td style=\"text-align: right;\">   0</td><td style=\"text-align: right;\">   0</td><td style=\"text-align: right;\">   0</td><td style=\"text-align: right;\">   1</td><td style=\"text-align: right;\">   0</td><td style=\"text-align: right;\">    0</td><td style=\"text-align: right;\">    0</td><td style=\"text-align: right;\">    0</td><td style=\"text-align: right;\">    0</td><td style=\"text-align: right;\">    0</td><td style=\"text-align: right;\">    0</td><td style=\"text-align: right;\">    0</td><td style=\"text-align: right;\">    0</td><td style=\"text-align: right;\">    0</td><td style=\"text-align: right;\">    0</td><td style=\"text-align: right;\">    0</td></tr>\n",
       "<tr><td style=\"text-align: right;\">   0</td><td style=\"text-align: right;\">   0</td><td style=\"text-align: right;\">   0</td><td style=\"text-align: right;\">   0</td><td style=\"text-align: right;\">   0</td><td style=\"text-align: right;\">   0</td><td style=\"text-align: right;\">   0</td><td style=\"text-align: right;\">   0</td><td style=\"text-align: right;\">   1</td><td style=\"text-align: right;\">    0</td><td style=\"text-align: right;\">    0</td><td style=\"text-align: right;\">    0</td><td style=\"text-align: right;\">    0</td><td style=\"text-align: right;\">    0</td><td style=\"text-align: right;\">    0</td><td style=\"text-align: right;\">    0</td><td style=\"text-align: right;\">    0</td><td style=\"text-align: right;\">    0</td><td style=\"text-align: right;\">    0</td><td style=\"text-align: right;\">    0</td></tr>\n",
       "<tr><td style=\"text-align: right;\">   0</td><td style=\"text-align: right;\">   0</td><td style=\"text-align: right;\">   0</td><td style=\"text-align: right;\">   0</td><td style=\"text-align: right;\">   0</td><td style=\"text-align: right;\">   0</td><td style=\"text-align: right;\">   0</td><td style=\"text-align: right;\">   0</td><td style=\"text-align: right;\">   0</td><td style=\"text-align: right;\">    1</td><td style=\"text-align: right;\">    0</td><td style=\"text-align: right;\">    0</td><td style=\"text-align: right;\">    0</td><td style=\"text-align: right;\">    0</td><td style=\"text-align: right;\">    0</td><td style=\"text-align: right;\">    0</td><td style=\"text-align: right;\">    0</td><td style=\"text-align: right;\">    0</td><td style=\"text-align: right;\">    0</td><td style=\"text-align: right;\">    0</td></tr>\n",
       "<tr><td style=\"text-align: right;\">   0</td><td style=\"text-align: right;\">   0</td><td style=\"text-align: right;\">   0</td><td style=\"text-align: right;\">   0</td><td style=\"text-align: right;\">   0</td><td style=\"text-align: right;\">   0</td><td style=\"text-align: right;\">   0</td><td style=\"text-align: right;\">   0</td><td style=\"text-align: right;\">   0</td><td style=\"text-align: right;\">    0</td><td style=\"text-align: right;\">    1</td><td style=\"text-align: right;\">    0</td><td style=\"text-align: right;\">    0</td><td style=\"text-align: right;\">    0</td><td style=\"text-align: right;\">    0</td><td style=\"text-align: right;\">    0</td><td style=\"text-align: right;\">    0</td><td style=\"text-align: right;\">    0</td><td style=\"text-align: right;\">    0</td><td style=\"text-align: right;\">    0</td></tr>\n",
       "<tr><td style=\"text-align: right;\">   0</td><td style=\"text-align: right;\">   0</td><td style=\"text-align: right;\">   0</td><td style=\"text-align: right;\">   0</td><td style=\"text-align: right;\">   0</td><td style=\"text-align: right;\">   0</td><td style=\"text-align: right;\">   0</td><td style=\"text-align: right;\">   0</td><td style=\"text-align: right;\">   0</td><td style=\"text-align: right;\">    0</td><td style=\"text-align: right;\">    0</td><td style=\"text-align: right;\">    1</td><td style=\"text-align: right;\">    0</td><td style=\"text-align: right;\">    0</td><td style=\"text-align: right;\">    0</td><td style=\"text-align: right;\">    0</td><td style=\"text-align: right;\">    0</td><td style=\"text-align: right;\">    0</td><td style=\"text-align: right;\">    0</td><td style=\"text-align: right;\">    0</td></tr>\n",
       "<tr><td style=\"text-align: right;\">   0</td><td style=\"text-align: right;\">   0</td><td style=\"text-align: right;\">   0</td><td style=\"text-align: right;\">   0</td><td style=\"text-align: right;\">   0</td><td style=\"text-align: right;\">   0</td><td style=\"text-align: right;\">   0</td><td style=\"text-align: right;\">   0</td><td style=\"text-align: right;\">   0</td><td style=\"text-align: right;\">    0</td><td style=\"text-align: right;\">    0</td><td style=\"text-align: right;\">    0</td><td style=\"text-align: right;\">    1</td><td style=\"text-align: right;\">    0</td><td style=\"text-align: right;\">    0</td><td style=\"text-align: right;\">    0</td><td style=\"text-align: right;\">    0</td><td style=\"text-align: right;\">    0</td><td style=\"text-align: right;\">    0</td><td style=\"text-align: right;\">    0</td></tr>\n",
       "<tr><td style=\"text-align: right;\">   0</td><td style=\"text-align: right;\">   0</td><td style=\"text-align: right;\">   0</td><td style=\"text-align: right;\">   0</td><td style=\"text-align: right;\">   0</td><td style=\"text-align: right;\">   0</td><td style=\"text-align: right;\">   0</td><td style=\"text-align: right;\">   0</td><td style=\"text-align: right;\">   0</td><td style=\"text-align: right;\">    0</td><td style=\"text-align: right;\">    0</td><td style=\"text-align: right;\">    0</td><td style=\"text-align: right;\">    0</td><td style=\"text-align: right;\">    1</td><td style=\"text-align: right;\">    0</td><td style=\"text-align: right;\">    0</td><td style=\"text-align: right;\">    0</td><td style=\"text-align: right;\">    0</td><td style=\"text-align: right;\">    0</td><td style=\"text-align: right;\">    0</td></tr>\n",
       "<tr><td style=\"text-align: right;\">   0</td><td style=\"text-align: right;\">   0</td><td style=\"text-align: right;\">   0</td><td style=\"text-align: right;\">   0</td><td style=\"text-align: right;\">   0</td><td style=\"text-align: right;\">   0</td><td style=\"text-align: right;\">   0</td><td style=\"text-align: right;\">   0</td><td style=\"text-align: right;\">   0</td><td style=\"text-align: right;\">    0</td><td style=\"text-align: right;\">    0</td><td style=\"text-align: right;\">    0</td><td style=\"text-align: right;\">    0</td><td style=\"text-align: right;\">    0</td><td style=\"text-align: right;\">    1</td><td style=\"text-align: right;\">    0</td><td style=\"text-align: right;\">    0</td><td style=\"text-align: right;\">    0</td><td style=\"text-align: right;\">    0</td><td style=\"text-align: right;\">    0</td></tr>\n",
       "<tr><td style=\"text-align: right;\">   0</td><td style=\"text-align: right;\">   0</td><td style=\"text-align: right;\">   0</td><td style=\"text-align: right;\">   0</td><td style=\"text-align: right;\">   0</td><td style=\"text-align: right;\">   0</td><td style=\"text-align: right;\">   0</td><td style=\"text-align: right;\">   0</td><td style=\"text-align: right;\">   0</td><td style=\"text-align: right;\">    0</td><td style=\"text-align: right;\">    0</td><td style=\"text-align: right;\">    0</td><td style=\"text-align: right;\">    0</td><td style=\"text-align: right;\">    0</td><td style=\"text-align: right;\">    0</td><td style=\"text-align: right;\">    1</td><td style=\"text-align: right;\">    0</td><td style=\"text-align: right;\">    0</td><td style=\"text-align: right;\">    0</td><td style=\"text-align: right;\">    0</td></tr>\n",
       "<tr><td style=\"text-align: right;\">   0</td><td style=\"text-align: right;\">   0</td><td style=\"text-align: right;\">   0</td><td style=\"text-align: right;\">   0</td><td style=\"text-align: right;\">   0</td><td style=\"text-align: right;\">   1</td><td style=\"text-align: right;\">   0</td><td style=\"text-align: right;\">   0</td><td style=\"text-align: right;\">   0</td><td style=\"text-align: right;\">    0</td><td style=\"text-align: right;\">    0</td><td style=\"text-align: right;\">    0</td><td style=\"text-align: right;\">    0</td><td style=\"text-align: right;\">    0</td><td style=\"text-align: right;\">    0</td><td style=\"text-align: right;\">    0</td><td style=\"text-align: right;\">    0</td><td style=\"text-align: right;\">    0</td><td style=\"text-align: right;\">    0</td><td style=\"text-align: right;\">    0</td></tr>\n",
       "<tr><td style=\"text-align: right;\">   0</td><td style=\"text-align: right;\">   0</td><td style=\"text-align: right;\">   0</td><td style=\"text-align: right;\">   0</td><td style=\"text-align: right;\">   0</td><td style=\"text-align: right;\">   0</td><td style=\"text-align: right;\">   0</td><td style=\"text-align: right;\">   0</td><td style=\"text-align: right;\">   0</td><td style=\"text-align: right;\">    0</td><td style=\"text-align: right;\">    0</td><td style=\"text-align: right;\">    0</td><td style=\"text-align: right;\">    0</td><td style=\"text-align: right;\">    0</td><td style=\"text-align: right;\">    0</td><td style=\"text-align: right;\">    0</td><td style=\"text-align: right;\">    1</td><td style=\"text-align: right;\">    0</td><td style=\"text-align: right;\">    0</td><td style=\"text-align: right;\">    0</td></tr>\n",
       "<tr><td style=\"text-align: right;\">   0</td><td style=\"text-align: right;\">   0</td><td style=\"text-align: right;\">   0</td><td style=\"text-align: right;\">   0</td><td style=\"text-align: right;\">   0</td><td style=\"text-align: right;\">   0</td><td style=\"text-align: right;\">   0</td><td style=\"text-align: right;\">   0</td><td style=\"text-align: right;\">   0</td><td style=\"text-align: right;\">    0</td><td style=\"text-align: right;\">    0</td><td style=\"text-align: right;\">    0</td><td style=\"text-align: right;\">    0</td><td style=\"text-align: right;\">    0</td><td style=\"text-align: right;\">    0</td><td style=\"text-align: right;\">    0</td><td style=\"text-align: right;\">    0</td><td style=\"text-align: right;\">    1</td><td style=\"text-align: right;\">    0</td><td style=\"text-align: right;\">    0</td></tr>\n",
       "<tr><td style=\"text-align: right;\">   0</td><td style=\"text-align: right;\">   0</td><td style=\"text-align: right;\">   0</td><td style=\"text-align: right;\">   0</td><td style=\"text-align: right;\">   0</td><td style=\"text-align: right;\">   0</td><td style=\"text-align: right;\">   0</td><td style=\"text-align: right;\">   0</td><td style=\"text-align: right;\">   0</td><td style=\"text-align: right;\">    0</td><td style=\"text-align: right;\">    0</td><td style=\"text-align: right;\">    0</td><td style=\"text-align: right;\">    0</td><td style=\"text-align: right;\">    0</td><td style=\"text-align: right;\">    0</td><td style=\"text-align: right;\">    0</td><td style=\"text-align: right;\">    0</td><td style=\"text-align: right;\">    0</td><td style=\"text-align: right;\">    1</td><td style=\"text-align: right;\">    0</td></tr>\n",
       "</tbody>\n",
       "</table>"
      ]
     },
     "metadata": {},
     "output_type": "display_data"
    },
    {
     "data": {
      "text/plain": []
     },
     "execution_count": 82,
     "metadata": {},
     "output_type": "execute_result"
    }
   ],
   "source": [
    "h2o_sparse.head(rows=20, cols=20)"
   ]
  },
  {
   "cell_type": "markdown",
   "metadata": {},
   "source": [
    "### 4. JDBC"
   ]
  },
  {
   "cell_type": "code",
   "execution_count": null,
   "metadata": {
    "collapsed": true
   },
   "outputs": [],
   "source": [
    "connection_url = \"jdbc:mysql://172.16.2.178:3306/ingestSQL?&useSSL=false\"\n",
    "table = \"citibike20k\"\n",
    "username = \"root\"\n",
    "password = \"abc123\"\n",
    "my_citibike_data = h2o.import_sql_table(connection_url, table, username, password)"
   ]
  },
  {
   "cell_type": "code",
   "execution_count": null,
   "metadata": {
    "collapsed": true
   },
   "outputs": [],
   "source": [
    "connection_url = \"jdbc:mysql://172.16.2.178:3306/ingestSQL?&useSSL=false\"\n",
    "select_query = \"SELECT bikeid from citibike20k\"\n",
    "username = \"root\"\n",
    "password = \"abc123\"\n",
    "my_citibike_data = h2o.import_sql_select(connection_url, select_query, username, password)"
   ]
  },
  {
   "cell_type": "markdown",
   "metadata": {
    "deletable": true,
    "editable": true
   },
   "source": [
    "## Processing data"
   ]
  },
  {
   "cell_type": "code",
   "execution_count": 35,
   "metadata": {
    "collapsed": false,
    "deletable": true,
    "editable": true
   },
   "outputs": [
    {
     "data": {
      "text/html": [
       "<table>\n",
       "<thead>\n",
       "<tr><th style=\"text-align: right;\">    subs_id</th><th>changed  </th><th>branch  </th><th style=\"text-align: right;\">  lifetime</th><th>phone_type  </th><th style=\"text-align: right;\">  cpe_m_age</th><th style=\"text-align: right;\">  cpe_p_age</th><th style=\"text-align: right;\">  cpe_popularity</th><th style=\"text-align: right;\">  dev_park_size</th><th style=\"text-align: right;\">  av_dev_use</th><th style=\"text-align: right;\">  max_dev_use</th><th>gender  </th><th style=\"text-align: right;\">  age</th><th style=\"text-align: right;\">  days_with_data_trafic</th><th>cpe_manufacturer_name  </th></tr>\n",
       "</thead>\n",
       "<tbody>\n",
       "<tr><td style=\"text-align: right;\">3.09407e+07</td><td>\\N       </td><td>B39     </td><td style=\"text-align: right;\">      2376</td><td>P1          </td><td style=\"text-align: right;\">        558</td><td style=\"text-align: right;\">        243</td><td style=\"text-align: right;\">         4.68878</td><td style=\"text-align: right;\">              6</td><td style=\"text-align: right;\">    187.125 </td><td style=\"text-align: right;\">          596</td><td>G0      </td><td style=\"text-align: right;\">   38</td><td style=\"text-align: right;\">                     30</td><td>\\N                     </td></tr>\n",
       "<tr><td style=\"text-align: right;\">5.06364e+06</td><td>\\N       </td><td>B2      </td><td style=\"text-align: right;\">      4450</td><td>P1          </td><td style=\"text-align: right;\">        562</td><td style=\"text-align: right;\">        361</td><td style=\"text-align: right;\">         3.67108</td><td style=\"text-align: right;\">              4</td><td style=\"text-align: right;\">    175.444 </td><td style=\"text-align: right;\">          613</td><td>G0      </td><td style=\"text-align: right;\">   52</td><td style=\"text-align: right;\">                      0</td><td>\\N                     </td></tr>\n",
       "<tr><td style=\"text-align: right;\">3.26094e+07</td><td>\\N       </td><td>B54     </td><td style=\"text-align: right;\">      2049</td><td>P1          </td><td style=\"text-align: right;\">        823</td><td style=\"text-align: right;\">        251</td><td style=\"text-align: right;\">         4.47056</td><td style=\"text-align: right;\">              5</td><td style=\"text-align: right;\">     30.8667</td><td style=\"text-align: right;\">          402</td><td>G0      </td><td style=\"text-align: right;\">   37</td><td style=\"text-align: right;\">                      0</td><td>\\N                     </td></tr>\n",
       "<tr><td style=\"text-align: right;\">2.35935e+07</td><td>\\N       </td><td>B54     </td><td style=\"text-align: right;\">      3311</td><td>P2          </td><td style=\"text-align: right;\">       2436</td><td style=\"text-align: right;\">       2073</td><td style=\"text-align: right;\">         5.02572</td><td style=\"text-align: right;\">              1</td><td style=\"text-align: right;\">   2073     </td><td style=\"text-align: right;\">         2073</td><td>G1      </td><td style=\"text-align: right;\">   30</td><td style=\"text-align: right;\">                      0</td><td>Philips                </td></tr>\n",
       "<tr><td style=\"text-align: right;\">5.11392e+07</td><td>\\N       </td><td>B35     </td><td style=\"text-align: right;\">       171</td><td>P1          </td><td style=\"text-align: right;\">        559</td><td style=\"text-align: right;\">        171</td><td style=\"text-align: right;\">         4.85658</td><td style=\"text-align: right;\">              9</td><td style=\"text-align: right;\">    108.357 </td><td style=\"text-align: right;\">          842</td><td>G0      </td><td style=\"text-align: right;\">   44</td><td style=\"text-align: right;\">                     29</td><td>\\N                     </td></tr>\n",
       "</tbody>\n",
       "</table>"
      ]
     },
     "metadata": {},
     "output_type": "display_data"
    },
    {
     "data": {
      "text/plain": []
     },
     "execution_count": 35,
     "metadata": {},
     "output_type": "execute_result"
    }
   ],
   "source": [
    "data2.head(5)"
   ]
  },
  {
   "cell_type": "code",
   "execution_count": 117,
   "metadata": {
    "collapsed": false
   },
   "outputs": [
    {
     "name": "stdout",
     "output_type": "stream",
     "text": [
      "Parse progress: |█████████████████████████████████████████████████████████| 100%\n",
      "CPU times: user 205 ms, sys: 16.1 ms, total: 221 ms\n",
      "Wall time: 8.23 s\n"
     ]
    },
    {
     "data": {
      "text/html": [
       "<table>\n",
       "<thead>\n",
       "<tr><th>label  </th><th style=\"text-align: right;\">    subs_id</th></tr>\n",
       "</thead>\n",
       "<tbody>\n",
       "<tr><td>true   </td><td style=\"text-align: right;\">2.00029e+11</td></tr>\n",
       "<tr><td>true   </td><td style=\"text-align: right;\">2.00029e+11</td></tr>\n",
       "<tr><td>true   </td><td style=\"text-align: right;\">2.00029e+11</td></tr>\n",
       "<tr><td>true   </td><td style=\"text-align: right;\">2.00029e+11</td></tr>\n",
       "<tr><td>true   </td><td style=\"text-align: right;\">2.00029e+11</td></tr>\n",
       "<tr><td>true   </td><td style=\"text-align: right;\">2.0003e+11 </td></tr>\n",
       "<tr><td>true   </td><td style=\"text-align: right;\">2.0003e+11 </td></tr>\n",
       "<tr><td>true   </td><td style=\"text-align: right;\">2.0003e+11 </td></tr>\n",
       "<tr><td>true   </td><td style=\"text-align: right;\">2.0003e+11 </td></tr>\n",
       "<tr><td>true   </td><td style=\"text-align: right;\">2.0003e+11 </td></tr>\n",
       "</tbody>\n",
       "</table>"
      ]
     },
     "metadata": {},
     "output_type": "display_data"
    },
    {
     "data": {
      "text/plain": []
     },
     "execution_count": 117,
     "metadata": {},
     "output_type": "execute_result"
    }
   ],
   "source": [
    "%%time\n",
    "h2o.import_file('hdfs://T2-HDFS-HA-PROD/user/hive/warehouse/uat_dm.db/ar_churn_subs_labels', 'churn_labels',\n",
    "               col_names=['label', 'subs_id'])"
   ]
  },
  {
   "cell_type": "code",
   "execution_count": 57,
   "metadata": {
    "collapsed": true
   },
   "outputs": [],
   "source": [
    "f = h2o.get_frame('churn_labels')"
   ]
  },
  {
   "cell_type": "code",
   "execution_count": 58,
   "metadata": {
    "collapsed": false
   },
   "outputs": [
    {
     "data": {
      "text/plain": [
       "[['true']]"
      ]
     },
     "execution_count": 58,
     "metadata": {},
     "output_type": "execute_result"
    }
   ],
   "source": [
    "f['label'].levels()"
   ]
  },
  {
   "cell_type": "code",
   "execution_count": 118,
   "metadata": {
    "collapsed": false,
    "scrolled": true
   },
   "outputs": [
    {
     "name": "stdout",
     "output_type": "stream",
     "text": [
      "Parse progress: |█████████████████████████████████████████████████████████| 100%\n",
      "CPU times: user 526 ms, sys: 42.2 ms, total: 568 ms\n",
      "Wall time: 45.7 s\n"
     ]
    }
   ],
   "source": [
    "%%time\n",
    "col_names1 = pd.read_csv('3.csv')\n",
    "col_names1 = list(col_names1.col_name)\n",
    "h2o.import_file('hdfs://T2-HDFS-HA-PROD/user/hive/warehouse/developers.db/al_churn_dataset_new_dmsc', 'churn_df',\n",
    "               col_names=col_names1)"
   ]
  },
  {
   "cell_type": "code",
   "execution_count": 60,
   "metadata": {
    "collapsed": true,
    "deletable": true,
    "editable": true
   },
   "outputs": [],
   "source": [
    "data = h2o.get_frame('churn_df')"
   ]
  },
  {
   "cell_type": "code",
   "execution_count": 61,
   "metadata": {
    "collapsed": false,
    "deletable": true,
    "editable": true,
    "scrolled": false
   },
   "outputs": [
    {
     "name": "stdout",
     "output_type": "stream",
     "text": [
      "Rows:24269546\n",
      "Cols:273\n",
      "\n",
      "\n"
     ]
    },
    {
     "data": {
      "text/html": [
       "<table>\n",
       "<thead>\n",
       "<tr><th>       </th><th>subs_id           </th><th>label  </th><th>branch  </th><th>status  </th><th>subs_type  </th><th>lifetime          </th><th>firstcall_delay   </th><th>tp_id    </th><th>sim_lte_flg  </th><th>segm_id  </th><th>sms_out  </th><th>cpe_type  </th><th>phone_type  </th><th>tp_group  </th><th>sales_channel  </th><th>flash_code  </th><th>calc_platform  </th><th>last_flash        </th><th>imei8    </th><th>start_lag        </th><th>cpe_m_age        </th><th>cpe_p_age        </th><th>ret_dev_ind       </th><th>cpe_popularity    </th><th>dev_park_size     </th><th>av_dev_use        </th><th>max_dev_use       </th><th>gender  </th><th>age              </th><th>rc                </th><th>rc_avg_day         </th><th>rc_sk_day         </th><th>rc_kurt_day          </th><th>mou              </th><th>tp_changes_cnt      </th><th>io_voice_traf_ratio  </th><th>avg_day_mou       </th><th>sd_day_mou        </th><th>sk_day_mou        </th><th>kurt_day_mou       </th><th>sum_day_voice_cnt  </th><th>avg_day_voice_cnt  </th><th>sd_day_voice_cnt  </th><th>sk_day_voice_cnt  </th><th>kurt_day_voice_cnt  </th><th>m1s                 </th><th>d1s                </th><th>e1s                 </th><th>m4s                 </th><th>d4s                </th><th>e4s                  </th><th>m2s                </th><th>d2s                </th><th>e2s                </th><th>m3s                   </th><th>d3s                  </th><th>e3s                   </th><th>sms_tot_cnt       </th><th>mes_voice_ratio    </th><th>sum_ses_mou       </th><th>avg_ses_mou       </th><th>sd_ses_mou        </th><th>sk_ses_mou         </th><th>kurt_ses_mou      </th><th>r1vs    </th><th>r2vs                 </th><th>r3vs                </th><th>r4vs    </th><th>r5vs               </th><th>sgc_2g_vs          </th><th>sgc_3g_vs         </th><th>out_data_ratio     </th><th>sum_ses_mbou      </th><th>avg_ses_mbou      </th><th>sd_ses_mbou       </th><th>sk_ses_mbou       </th><th>kurt_ses_mbou     </th><th>r1ds    </th><th>r2ds                </th><th>r3ds                  </th><th>r4ds    </th><th>r5ds               </th><th>sgc_2g_ds          </th><th>sgc_3g_ds          </th><th>sgc_4g_ds          </th><th>days_with_data_trafic  </th><th>avg_day_mbou      </th><th>sd_day_mbou       </th><th>sk_day_mbou       </th><th>kurt_day_mbou     </th><th>avg_day_data_cnt  </th><th>sd_day_data_cnt   </th><th>sk_day_data_cnt   </th><th>kurt_day_data_cnt    </th><th>display_id  </th><th>dual_sim  </th><th>os_version  </th><th>second_g  </th><th>third_g  </th><th>fourth_g  </th><th>form_factor  </th><th>camera  </th><th>os_id             </th><th>cpe_manufacturer_name  </th><th>still_first_tp  </th><th>tp_age            </th><th>archetype  </th><th>popularity        </th><th>popalive         </th><th>arch_tp  </th><th>tp_abandonement_index  </th><th>is_best_device  </th><th>b_hrs_total       </th><th>b_hrs_data        </th><th>blocks_total_cnt   </th><th>blocks_data_cnt    </th><th>ss_serv_used  </th><th>ussd_serv_used  </th><th>sms_serv_used  </th><th>ivr_serv_used  </th><th>rbt_used_ever  </th><th>rbt_using_now  </th><th>internet_speed_cut_flg  </th><th>periodic_fee_srv_ever  </th><th>internet_ap_blocks_cnt  </th><th>periodic_fee_srv_now  </th><th>confcalls_srv_ever  </th><th>confcalls_using_now  </th><th>antiaon_using_now  </th><th>anti_antiaon_using_now  </th><th>ussd_cnt  </th><th>cl_size          </th><th>cl_onnet_cnt      </th><th>cl_size_onnet_share  </th><th>cl_traf_onnet_voice_share  </th><th>cl_core_size     </th><th>cl_tail_size      </th><th>cl_core_out_voice_share  </th><th>cl_tail_out_voice_share  </th><th>cl_core_out_msg_share  </th><th>cl_tail_out_msg_share  </th><th>cl_women_share     </th><th>cl_core_women_share  </th><th>cl_tail_women_share  </th><th>cl_opp_gender_share  </th><th>cl_core_opp_gender_share  </th><th>cl_tail_opp_gender_share  </th><th>cl_core_avg_age   </th><th>cl_tail_avg_age   </th><th>cl_avg_age        </th><th>cl_sd_age         </th><th>cl_sk_age          </th><th>cl_avg_lifetime   </th><th>cl_branches_count  </th><th>cl_smartphones_share  </th><th>plc_type  </th><th>pop               </th><th>days_home_cnt     </th><th>locs_cnt           </th><th>bal_avg_amt       </th><th>bal_sd_amt        </th><th>bal_sk_amt          </th><th>bal_kurt_amt           </th><th>bal_min_amt        </th><th>bal_max_amt       </th><th>bal_avg_ld_days   </th><th>bal_avg_li_days   </th><th>bal_cont_exist  </th><th>be_bf_cnt             </th><th>be_ok_cnt             </th><th>be_vk_cnt  </th><th>be_t2_cnt  </th><th>be_to_cnt  </th><th>be_bf_amt              </th><th>be_ok_amt            </th><th>be_vk_amt  </th><th>be_t2_amt  </th><th>be_to_amt  </th><th>be7_total_cnt      </th><th>be7_tot_amt        </th><th>be3_tot_cnt        </th><th>be3_tot_amt      </th><th>be3_avg_amt       </th><th>be6_tot_cnt       </th><th>be6_tot_amt       </th><th>be6_avg_amt       </th><th>be11_tot_cnt        </th><th>be11_tot_amt       </th><th>be11_avg_amt       </th><th>content_total_cnt  </th><th>content_total_amt  </th><th>content_days_cnt  </th><th>sms_900_cnt       </th><th>sms_900_days     </th><th>sms_109_cnt          </th><th>sms_109_days         </th><th>sms_3116_cnt        </th><th>sms_3116_days      </th><th>sms_1946_cnt          </th><th>sms_1946_days         </th><th>sms_okru_cnt       </th><th>sms_okru_days      </th><th>sms_vkcom_cnt  </th><th>sms_vkcom_days  </th><th>sms_312_cnt       </th><th>sms_312_days       </th><th>sms_396_cnt      </th><th>sms_396_days      </th><th>sms_679_cnt      </th><th>sms_679_days       </th><th>sms_1595_cnt        </th><th>sms_1595_days       </th><th>sms_681_cnt         </th><th>sms_681_days        </th><th>sms_2317_cnt         </th><th>sms_2317_days        </th><th>sms_145_cnt       </th><th>sms_145_days        </th><th>sms_32665_cnt      </th><th>sms_32665_days     </th><th>sms_1023_cnt        </th><th>sms_1023_days        </th><th>sms_4040_cnt          </th><th>sms_4040_days        </th><th>sms_2420_cnt        </th><th>sms_2420_days       </th><th>sms_9000_cnt      </th><th>sms_9000_days       </th><th>tdoc  </th><th>blanc_same_branch  </th><th>doc_age           </th><th>doc_change_rf  </th><th>doc_invalid  </th><th>valid_mail  </th><th>email_domain  </th><th>cust_type  </th><th>macroregion  </th><th>add_sim_cnt       </th><th>add_sim_lt        </th><th>add_sim_alive_cnt  </th><th>add_sim_dead_cnt    </th><th>add_sim_alive_avg_lt  </th><th>add_sim_dead_avg_lt  </th><th>add_sim_branch_cnt  </th><th>add_sim_alive_branch_cnt  </th><th>add_sim_dead_branch_cnt  </th><th>calls_611_cnt  </th><th>day_of_week  </th><th>day_of_month  </th><th>week_of_month  </th><th>week_of_year  </th><th>month_of_year  </th><th>mph  </th><th>bc_bal_avg_amt    </th><th>bc_bal_sd_amt       </th><th>bc_bal_sk_amt       </th><th>bc_bal_kurt_amt        </th><th>bc_bal_avg_ld_days   </th><th>bc_bal_avg_li_days  </th><th>bc_rc_avg_day     </th><th>bc_rc_sd_day        </th><th>bc_rc_sk_day         </th><th>bc_rc_kurt_day        </th><th>bc_avg_day_mou     </th><th>bc_sd_day_mou      </th><th>bc_sk_day_mou       </th><th>bc_kurt_day_mou      </th><th>bc_avg_day_voice_cnt  </th><th>bc_sd_day_voice_cnt  </th><th>bc_sk_day_voice_cnt  </th><th>bc_kurt_day_voice_cnt  </th><th>bc_lifetime       </th><th>blanc_docdate_diff  </th></tr>\n",
       "</thead>\n",
       "<tbody>\n",
       "<tr><td>type   </td><td>int               </td><td>enum   </td><td>enum    </td><td>enum    </td><td>enum       </td><td>int               </td><td>int               </td><td>enum     </td><td>enum         </td><td>enum     </td><td>enum     </td><td>enum      </td><td>enum        </td><td>enum      </td><td>enum           </td><td>enum        </td><td>enum           </td><td>int               </td><td>enum     </td><td>int              </td><td>int              </td><td>int              </td><td>real              </td><td>real              </td><td>int               </td><td>real              </td><td>int               </td><td>enum    </td><td>int              </td><td>real              </td><td>real               </td><td>real              </td><td>real                 </td><td>int              </td><td>int                 </td><td>real                 </td><td>real              </td><td>real              </td><td>real              </td><td>real               </td><td>int                </td><td>real               </td><td>real              </td><td>real              </td><td>real                </td><td>real                </td><td>real               </td><td>real                </td><td>real                </td><td>real               </td><td>real                 </td><td>real               </td><td>real               </td><td>real               </td><td>real                  </td><td>real                 </td><td>real                  </td><td>int               </td><td>real               </td><td>int               </td><td>real              </td><td>real              </td><td>real               </td><td>real              </td><td>int     </td><td>real                 </td><td>real                </td><td>int     </td><td>real               </td><td>real               </td><td>real              </td><td>real               </td><td>int               </td><td>real              </td><td>real              </td><td>real              </td><td>real              </td><td>int     </td><td>real                </td><td>real                  </td><td>int     </td><td>real               </td><td>real               </td><td>real               </td><td>real               </td><td>int                    </td><td>real              </td><td>real              </td><td>real              </td><td>real              </td><td>real              </td><td>real              </td><td>real              </td><td>real                 </td><td>enum        </td><td>enum      </td><td>enum        </td><td>enum      </td><td>enum     </td><td>enum      </td><td>enum         </td><td>enum    </td><td>int               </td><td>enum                   </td><td>enum            </td><td>int               </td><td>enum       </td><td>int               </td><td>int              </td><td>enum     </td><td>real                   </td><td>enum            </td><td>int               </td><td>int               </td><td>int                </td><td>int                </td><td>enum          </td><td>enum            </td><td>enum           </td><td>enum           </td><td>enum           </td><td>enum           </td><td>enum                    </td><td>enum                   </td><td>int                     </td><td>enum                  </td><td>enum                </td><td>enum                 </td><td>enum               </td><td>enum                    </td><td>int       </td><td>int              </td><td>int               </td><td>real                 </td><td>real                       </td><td>int              </td><td>int               </td><td>real                     </td><td>real                     </td><td>real                   </td><td>real                   </td><td>real               </td><td>real                 </td><td>real                 </td><td>real                 </td><td>real                      </td><td>real                      </td><td>int               </td><td>int               </td><td>int               </td><td>int               </td><td>int                </td><td>real              </td><td>int                </td><td>real                  </td><td>enum      </td><td>int               </td><td>int               </td><td>int                </td><td>real              </td><td>real              </td><td>real                </td><td>real                   </td><td>real               </td><td>real              </td><td>real              </td><td>real              </td><td>enum            </td><td>int                   </td><td>int                   </td><td>int        </td><td>int        </td><td>int        </td><td>int                    </td><td>int                  </td><td>int        </td><td>int        </td><td>int        </td><td>int                </td><td>real               </td><td>int                </td><td>int              </td><td>real              </td><td>int               </td><td>real              </td><td>real              </td><td>int                 </td><td>real               </td><td>real               </td><td>int                </td><td>real               </td><td>int               </td><td>int               </td><td>int              </td><td>int                  </td><td>int                  </td><td>int                 </td><td>int                </td><td>int                   </td><td>int                   </td><td>int                </td><td>int                </td><td>int            </td><td>int             </td><td>int               </td><td>int                </td><td>int              </td><td>int               </td><td>int              </td><td>int                </td><td>int                 </td><td>int                 </td><td>int                 </td><td>int                 </td><td>int                  </td><td>int                  </td><td>int               </td><td>int                 </td><td>int                </td><td>int                </td><td>int                 </td><td>int                  </td><td>int                   </td><td>int                  </td><td>int                 </td><td>int                 </td><td>int               </td><td>int                 </td><td>enum  </td><td>enum               </td><td>int               </td><td>enum           </td><td>enum         </td><td>enum        </td><td>enum          </td><td>enum       </td><td>enum         </td><td>int               </td><td>real              </td><td>int                </td><td>int                 </td><td>real                  </td><td>real                 </td><td>int                 </td><td>int                       </td><td>int                      </td><td>int            </td><td>int          </td><td>int           </td><td>int            </td><td>int           </td><td>int            </td><td>int  </td><td>real              </td><td>real                </td><td>real                </td><td>real                   </td><td>real                 </td><td>real                </td><td>real              </td><td>real                </td><td>real                 </td><td>real                  </td><td>real               </td><td>real               </td><td>real                </td><td>real                 </td><td>real                  </td><td>real                 </td><td>real                 </td><td>real                   </td><td>real              </td><td>int                 </td></tr>\n",
       "<tr><td>mins   </td><td>158348.0          </td><td>       </td><td>        </td><td>        </td><td>           </td><td>0.0               </td><td>-7646.0           </td><td>         </td><td>             </td><td>         </td><td>         </td><td>          </td><td>            </td><td>          </td><td>               </td><td>            </td><td>               </td><td>0.0               </td><td>         </td><td>0.0              </td><td>183.0            </td><td>0.0              </td><td>0.0               </td><td>0.0               </td><td>1.0               </td><td>0.0               </td><td>0.0               </td><td>        </td><td>-7981.0          </td><td>-6989.5001        </td><td>-232.98334000000003</td><td>-330916790000.0   </td><td>-5.8498962e+20       </td><td>0.0              </td><td>0.0                 </td><td>0.0                  </td><td>0.0               </td><td>0.0               </td><td>-5.477226         </td><td>-2.148148          </td><td>0.0                </td><td>0.0                </td><td>0.0               </td><td>-5.477226         </td><td>-2.2125532999999997 </td><td>0.0                 </td><td>0.0                </td><td>0.0                 </td><td>0.0                 </td><td>0.0                </td><td>0.0                  </td><td>0.0                </td><td>0.0                </td><td>0.0                </td><td>0.0                   </td><td>0.0                  </td><td>0.0                   </td><td>0.0               </td><td>0.0                </td><td>0.0               </td><td>0.0               </td><td>0.0               </td><td>-114.33757000000001</td><td>-6.0              </td><td>0.0     </td><td>0.0                  </td><td>0.0                 </td><td>0.0     </td><td>0.0                </td><td>0.0                </td><td>0.0               </td><td>0.0                </td><td>0.0               </td><td>0.0               </td><td>0.0               </td><td>-22.369804        </td><td>-6.0183816        </td><td>0.0     </td><td>0.0                 </td><td>0.0                   </td><td>0.0     </td><td>0.0                </td><td>0.0                </td><td>0.0                </td><td>0.0                </td><td>0.0                    </td><td>0.0               </td><td>0.0               </td><td>-5.477226         </td><td>-3542143.2        </td><td>0.0               </td><td>0.0               </td><td>-5.477226         </td><td>-6.0                 </td><td>            </td><td>          </td><td>            </td><td>          </td><td>         </td><td>          </td><td>             </td><td>        </td><td>1.0               </td><td>                       </td><td>                </td><td>0.0               </td><td>           </td><td>1.0               </td><td>1.0              </td><td>         </td><td>0.0                    </td><td>                </td><td>0.0               </td><td>0.0               </td><td>0.0                </td><td>0.0                </td><td>              </td><td>                </td><td>               </td><td>               </td><td>               </td><td>               </td><td>                        </td><td>                       </td><td>0.0                     </td><td>                      </td><td>                    </td><td>                     </td><td>                   </td><td>                        </td><td>0.0       </td><td>0.0              </td><td>0.0               </td><td>0.0                  </td><td>0.0                        </td><td>0.0              </td><td>0.0               </td><td>0.0                      </td><td>0.0                      </td><td>0.0                    </td><td>0.0                    </td><td>0.0                </td><td>0.0                  </td><td>0.0                  </td><td>0.0                  </td><td>0.0                       </td><td>0.0                       </td><td>-7945.0           </td><td>-7692.0           </td><td>-7759.0           </td><td>0.0               </td><td>-66.0              </td><td>0.0               </td><td>0.0                </td><td>0.0                   </td><td>          </td><td>0.0               </td><td>0.0               </td><td>0.0                </td><td>-35599.14         </td><td>0.0               </td><td>-39382984000000.0   </td><td>-4.7032637e+23         </td><td>-43917.3548        </td><td>-35599.14         </td><td>-1.0              </td><td>-0.96             </td><td>                </td><td>0.0                   </td><td>0.0                   </td><td>0.0        </td><td>0.0        </td><td>0.0        </td><td>-200.0                 </td><td>-23718.0             </td><td>0.0        </td><td>0.0        </td><td>0.0        </td><td>0.0                </td><td>-1185564.19        </td><td>0.0                </td><td>0.0              </td><td>0.0               </td><td>0.0               </td><td>0.0               </td><td>0.0               </td><td>0.0                 </td><td>-150.0             </td><td>-150.0             </td><td>0.0                </td><td>0.0                </td><td>0.0               </td><td>0.0               </td><td>0.0              </td><td>0.0                  </td><td>0.0                  </td><td>0.0                 </td><td>0.0                </td><td>0.0                   </td><td>0.0                   </td><td>0.0                </td><td>0.0                </td><td>0.0            </td><td>0.0             </td><td>0.0               </td><td>0.0                </td><td>0.0              </td><td>0.0               </td><td>0.0              </td><td>0.0                </td><td>0.0                 </td><td>0.0                 </td><td>0.0                 </td><td>0.0                 </td><td>0.0                  </td><td>0.0                  </td><td>0.0               </td><td>0.0                 </td><td>0.0                </td><td>0.0                </td><td>0.0                 </td><td>0.0                  </td><td>0.0                   </td><td>0.0                  </td><td>0.0                 </td><td>0.0                 </td><td>0.0               </td><td>0.0                 </td><td>      </td><td>                   </td><td>-81.0             </td><td>               </td><td>             </td><td>            </td><td>              </td><td>           </td><td>             </td><td>0.0               </td><td>-6606.0           </td><td>0.0                </td><td>0.0                 </td><td>-6606.0               </td><td>-6603.0              </td><td>0.0                 </td><td>0.0                       </td><td>0.0                      </td><td>0.0            </td><td>5.0          </td><td>1.0           </td><td>0.0            </td><td>4.0           </td><td>2.0            </td><td>5.0  </td><td>-656.6253         </td><td>0.0                 </td><td>-880011770000.0     </td><td>-1.34238345e+20        </td><td>-0.4825252           </td><td>-0.13351844000000002</td><td>-36.375458        </td><td>0.0                 </td><td>-13800571900.0       </td><td>-1.26623745e+18       </td><td>0.0                </td><td>0.0                </td><td>-1.3235295          </td><td>-0.07793532          </td><td>0.0                   </td><td>0.0                  </td><td>-0.8585195           </td><td>-0.09926394000000001   </td><td>0.0               </td><td>-1000.0             </td></tr>\n",
       "<tr><td>mean   </td><td>122278094284.47054</td><td>       </td><td>        </td><td>        </td><td>           </td><td>1874.5547763851866</td><td>-35.01215993080381</td><td>         </td><td>             </td><td>         </td><td>         </td><td>          </td><td>            </td><td>          </td><td>               </td><td>            </td><td>               </td><td>7.829966576218608 </td><td>         </td><td>990.644984129493 </td><td>1404.714156663664</td><td>414.069172534171 </td><td>0.6832377395934807</td><td>4.698808785965702 </td><td>5.838360511564575 </td><td>346.03852692218146</td><td>765.9834388743819 </td><td>        </td><td>44.51677267926949</td><td>229.7039121174807 </td><td>7.665066380108703  </td><td>614351.2762222718 </td><td>-1069942435786471.8  </td><td>443.980834540539 </td><td>0.026158091296804645</td><td>0.5081836454625068   </td><td>888.0502907776552 </td><td>772.0616460020722 </td><td>1.977663388048598 </td><td>5.649269808619593  </td><td>1238.146459600027  </td><td>41.29106170438836  </td><td>28.654024216712113</td><td>1.510164015780199 </td><td>3.5749071067378377  </td><td>0.07784500875555962 </td><td>0.5995998313440897 </td><td>0.14730264384586741 </td><td>0.12605791290975363 </td><td>0.19103204304970373</td><td>0.059238674168167645 </td><td>0.1361882789237178 </td><td>0.505052883560327  </td><td>0.10428249131648362</td><td>0.00015146513247507804</td><td>0.0002540476035274826</td><td>0.00017587226394758272</td><td>152.88964820355523</td><td>0.47305928961341104</td><td>26631.319846485796</td><td>148.96801633566852</td><td>229.70954805713544</td><td>3.3282355154269463 </td><td>18.464601634247515</td><td>0.0     </td><td>0.0003441836118401226</td><td>0.010849989118049427</td><td>0.0     </td><td>0.4732130728774242 </td><td>0.7817226646926153 </td><td>0.1891712601463579</td><td>0.35540697077728606</td><td>2357.0525457707363</td><td>2.1801437710457074</td><td>6.8082846461601365</td><td>3.8274440094333335</td><td>89.37112438333307 </td><td>0.0     </td><td>9.63001120828548e-05</td><td>1.4896858804033663e-05</td><td>0.0     </td><td>0.05466041515568523</td><td>0.08136372843562875</td><td>0.27808434364614815</td><td>0.09072354134683855</td><td>8.946995300200506      </td><td>95.73886926611581 </td><td>88.34302053119356 </td><td>0.7140055186847707</td><td>1.6667859769139242</td><td>34.70008765956432 </td><td>22.529909830033727</td><td>0.4479724741000095</td><td>0.941392617451736    </td><td>            </td><td>          </td><td>            </td><td>          </td><td>         </td><td>          </td><td>             </td><td>        </td><td>1.9506701738411403</td><td>                       </td><td>                </td><td>464.16235787847035</td><td>           </td><td>201615.7887156563 </td><td>84585.83698901442</td><td>         </td><td>0.29350062502199264    </td><td>                </td><td>19.017213919040763</td><td>39.408527666730976</td><td>0.08095359509403267</td><td>0.07140207731945213</td><td>              </td><td>                </td><td>               </td><td>               </td><td>               </td><td>               </td><td>                        </td><td>                       </td><td>4.078594300857544       </td><td>                      </td><td>                    </td><td>                     </td><td>                   </td><td>                        </td><td>0.0       </td><td>27.36556003148967</td><td>11.581507128316286</td><td>0.4691142009825812   </td><td>0.619343557147711          </td><td>5.085430563884467</td><td>22.280129467605203</td><td>0.2708159027779094       </td><td>0.18378100191903057      </td><td>0.12069587333854534    </td><td>0.031198298064578547   </td><td>0.46349598546260407</td><td>0.27156840099110213  </td><td>0.21504162212181469  </td><td>0.20072765802870812  </td><td>0.22523810128133426       </td><td>0.34288552987352955       </td><td>32.938141117266895</td><td>41.57111513334448 </td><td>42.12019895221773 </td><td>10.771239931723485</td><td>0.28138985376982323</td><td>1820.5168392286162</td><td>1.4435719151895137 </td><td>0.3011019625171398    </td><td>          </td><td>1047.6079812947469</td><td>24.661245991169345</td><td>0.798858124498909  </td><td>77.4681891787677  </td><td>42.701075162580686</td><td>-24503868.090935342 </td><td>-4.3013488129235706e+17</td><td>26.002033430106934 </td><td>167.8159238055059 </td><td>11.777384438215533</td><td>34.79198108458091 </td><td>                </td><td>1.2361170662195332e-07</td><td>0.00015756372204078312</td><td>0.0        </td><td>0.0        </td><td>0.0        </td><td>-1.6481560882927106e-05</td><td>-0.017282111498913084</td><td>0.0        </td><td>0.0        </td><td>0.0        </td><td>0.13514418440295506</td><td>-26.253960437496442</td><td>0.03922018153944866</td><td>3.26688463805627 </td><td>1.2904873739960752</td><td>1.5532067637359182</td><td>235.3729339782417 </td><td>124.15132876800142</td><td>0.002162380787840036</td><td>0.26985366063295957</td><td>0.12216839144184384</td><td>2.007713864940036  </td><td>10.911223121767502 </td><td>1.455912813531823 </td><td>25.629405799350348</td><td>4.806186938972818</td><td>2.542280766191506e-05</td><td>1.656396868734174e-05</td><td>0.010299533415252186</td><td>0.00723017233202467</td><td>5.6614161632854606e-05</td><td>3.7207123693207943e-05</td><td>0.06966253097606358</td><td>0.04806591767312005</td><td>0.0            </td><td>0.0             </td><td>0.5739491789422019</td><td>0.09339560781235874</td><td>5.448230139945758</td><td>1.2900634400000726</td><td>2.132356039952292</td><td>0.17546529300548103</td><td>0.005154566962233245</td><td>0.004100035493041361</td><td>0.008938568525344479</td><td>0.004876069787213984</td><td>4.779652656048861e-06</td><td>3.255108274378103e-06</td><td>0.2265753137697755</td><td>0.034869667524889014</td><td>0.37836097140012426</td><td>0.16707840352679032</td><td>0.005352922547459273</td><td>0.0008062367544905866</td><td>1.3102840901927049e-05</td><td>4.408817536183001e-06</td><td>0.004465637717326892</td><td>0.001065615318885652</td><td>0.2816391373781776</td><td>0.051740069632946556</td><td>      </td><td>                   </td><td>11.874704509953506</td><td>               </td><td>             </td><td>            </td><td>              </td><td>           </td><td>             </td><td>0.7451909483597262</td><td>746.0139186529863 </td><td>0.7322444350627737 </td><td>0.012946513296952485</td><td>746.0014414696797     </td><td>4.008337658318337    </td><td>0.4265046408367095  </td><td>0.42308690076031913       </td><td>0.009495356855871964     </td><td>0.0            </td><td>5.0          </td><td>1.0           </td><td>0.0            </td><td>4.0           </td><td>2.0            </td><td>5.0  </td><td>1.0231052810582786</td><td>0.16915120404456618 </td><td>-291125.1300093775  </td><td>-37589534830658.59     </td><td>3.800301541119868    </td><td>4.7848552088405825  </td><td>1.0740497633817934</td><td>0.44573218786012053 </td><td>9632.04235283751     </td><td>-172717673698.87164   </td><td>1.1517949204416944 </td><td>0.5020793954396578 </td><td>0.3299019373066383  </td><td>0.07815717091998098  </td><td>1.0298830823907175    </td><td>0.24750661834648816  </td><td>0.12476116475624298  </td><td>0.008683314454088261   </td><td>1.050088708544779 </td><td>-295.6852883032917  </td></tr>\n",
       "<tr><td>maxs   </td><td>300020297509.0    </td><td>       </td><td>        </td><td>        </td><td>           </td><td>17563.0           </td><td>3871.0            </td><td>         </td><td>             </td><td>         </td><td>         </td><td>          </td><td>            </td><td>          </td><td>               </td><td>            </td><td>               </td><td>6606.0            </td><td>         </td><td>3228.0           </td><td>3228.0           </td><td>3228.0           </td><td>1.0               </td><td>6.174785          </td><td>14349.0           </td><td>3228.0            </td><td>3228.0            </td><td>        </td><td>2017.0           </td><td>76459.4499        </td><td>2548.6484          </td><td>288233095000.0    </td><td>8.422315e+20         </td><td>45343.0          </td><td>22.0                </td><td>2.0                  </td><td>90685.37          </td><td>69822.414         </td><td>5.5677642999999994</td><td>31.0               </td><td>380991.0           </td><td>12699.7            </td><td>12326.721         </td><td>5.5677642999999994</td><td>31.0                </td><td>1.0                 </td><td>1.0                </td><td>1.0                 </td><td>1.0                 </td><td>1.0                </td><td>1.0                  </td><td>1.0                </td><td>1.0                </td><td>0.99               </td><td>0.9400000000000001    </td><td>0.96                 </td><td>0.93                  </td><td>319377.0          </td><td>21531.0            </td><td>2720561.0         </td><td>10801.0           </td><td>5380.0            </td><td>104.07281499999999 </td><td>16543.037         </td><td>0.0     </td><td>1.0                  </td><td>1.0                 </td><td>0.0     </td><td>1.0                </td><td>1.0                </td><td>1.0               </td><td>1.0                </td><td>1151187.0         </td><td>8550.295          </td><td>17514.15          </td><td>534.9445000000001 </td><td>1221106.5         </td><td>0.0     </td><td>1.0                 </td><td>1.0                   </td><td>0.0     </td><td>1.0                </td><td>1.0                </td><td>1.0                </td><td>1.0                </td><td>30.0                   </td><td>38372.91          </td><td>48754.73          </td><td>5.477226          </td><td>2571325.5         </td><td>12698.5           </td><td>12328.344000000001</td><td>5.477226          </td><td>30.0                 </td><td>            </td><td>          </td><td>            </td><td>          </td><td>         </td><td>          </td><td>             </td><td>        </td><td>13.0              </td><td>                       </td><td>                </td><td>823.0             </td><td>           </td><td>1480010.0         </td><td>638048.0         </td><td>         </td><td>1.0                    </td><td>                </td><td>74318.0           </td><td>121785.0          </td><td>936.0              </td><td>937.0              </td><td>              </td><td>                </td><td>               </td><td>               </td><td>               </td><td>               </td><td>                        </td><td>                       </td><td>698.0                   </td><td>                      </td><td>                    </td><td>                     </td><td>                   </td><td>                        </td><td>0.0       </td><td>16779.0          </td><td>15368.0           </td><td>1.0                  </td><td>1.0                        </td><td>5346.0           </td><td>16779.0           </td><td>1.0                      </td><td>1.0                      </td><td>1.0                    </td><td>1.0                    </td><td>1.0                </td><td>1.0                  </td><td>1.0                  </td><td>1.0                  </td><td>1.0                       </td><td>1.0                       </td><td>2017.0            </td><td>2017.0            </td><td>2017.0            </td><td>3950.0            </td><td>57.0               </td><td>8241.0            </td><td>64.0               </td><td>1.0                   </td><td>          </td><td>306675.0          </td><td>660.0             </td><td>4.0                </td><td>131713.80000000002</td><td>152273.28         </td><td>39382984000000.0    </td><td>2.2720118e+23          </td><td>131528.28160000002 </td><td>585095.65         </td><td>3824.8            </td><td>4983.8            </td><td>                </td><td>1.0                   </td><td>201.0                 </td><td>0.0        </td><td>0.0        </td><td>0.0        </td><td>0.0                    </td><td>0.0                  </td><td>0.0        </td><td>0.0        </td><td>0.0        </td><td>466.0              </td><td>173.02             </td><td>1420.0             </td><td>135350.0         </td><td>1000.0            </td><td>2326.0            </td><td>1266740.0         </td><td>15000.0           </td><td>8.0                 </td><td>34727.0            </td><td>17363.5            </td><td>6009.0             </td><td>42921.0            </td><td>30.0              </td><td>19178.0           </td><td>30.0             </td><td>14.0                 </td><td>4.0                  </td><td>299.0               </td><td>30.0               </td><td>78.0                  </td><td>25.0                  </td><td>493.0              </td><td>30.0               </td><td>0.0            </td><td>0.0             </td><td>2582.0            </td><td>30.0               </td><td>76196.0          </td><td>30.0              </td><td>7778.0           </td><td>30.0               </td><td>137.0               </td><td>30.0                </td><td>243.0               </td><td>11.0                </td><td>12.0                 </td><td>6.0                  </td><td>8820.0            </td><td>30.0                </td><td>1338.0             </td><td>30.0               </td><td>56.0                </td><td>4.0                  </td><td>28.0                  </td><td>7.0                  </td><td>522.0               </td><td>18.0                </td><td>252.0             </td><td>23.0                </td><td>      </td><td>                   </td><td>117.0             </td><td>               </td><td>             </td><td>            </td><td>              </td><td>           </td><td>             </td><td>1719.0            </td><td>17563.0           </td><td>228.0              </td><td>1707.0              </td><td>17563.0               </td><td>6384.0               </td><td>22.0                </td><td>22.0                      </td><td>8.0                      </td><td>0.0            </td><td>5.0          </td><td>1.0           </td><td>0.0            </td><td>4.0           </td><td>2.0            </td><td>5.0  </td><td>2010.5826000000002</td><td>626.601             </td><td>462384005000.0      </td><td>4.2557e+19             </td><td>1802.1957            </td><td>734.211             </td><td>303.6327          </td><td>151.44217           </td><td>22275967000.0        </td><td>6.1324533e+17         </td><td>153.83531000000002 </td><td>52.410613999999995 </td><td>1.6333952999999999  </td><td>1.7712704            </td><td>296.70453000000003    </td><td>98.99228000000001    </td><td>1.8269267999999999   </td><td>2.073544               </td><td>8.019494          </td><td>99.0                </td></tr>\n",
       "<tr><td>sigma  </td><td>101117809893.64252</td><td>       </td><td>        </td><td>        </td><td>           </td><td>1465.6916678075963</td><td>359.5102362494099 </td><td>         </td><td>             </td><td>         </td><td>         </td><td>          </td><td>            </td><td>          </td><td>               </td><td>            </td><td>               </td><td>141.36880448209087</td><td>         </td><td>752.2852569350642</td><td>762.30015308239  </td><td>494.8888918805103</td><td>0.2965961341106464</td><td>0.6059426667456352</td><td>10.256684629271225</td><td>474.8283324174829 </td><td>502.85481453759905</td><td>        </td><td>34.85438177929373</td><td>267.85694481436735</td><td>8.93977309686093   </td><td>303920968.2520441 </td><td>5.655873484911528e+17</td><td>581.9232102563827</td><td>0.16877361599690544 </td><td>0.2536734592906343   </td><td>1163.5970381172222</td><td>800.1697687758618 </td><td>1.2868861337453328</td><td>7.428464179671579  </td><td>2730.8198811212237 </td><td>91.05180535640582  </td><td>66.58132282167082 </td><td>1.1029856384667773</td><td>5.589270217802968   </td><td>0.0890523293038839  </td><td>0.30857039407729203</td><td>0.1426503963579695  </td><td>0.1914349337695452  </td><td>0.26496778770694784</td><td>0.09725286567902945  </td><td>0.12620123702789052</td><td>0.31961817941431897</td><td>0.10536281874450873</td><td>0.007270112447693325  </td><td>0.011502607217848087 </td><td>0.008272839326377943  </td><td>408.3446452969481 </td><td>14.472841212391756 </td><td>34901.22305751122 </td><td>138.58250873220493</td><td>192.6135235797903 </td><td>1.957629494609456  </td><td>26.765997700106368</td><td>0.0     </td><td>0.015338533389121037 </td><td>0.07462733365834014 </td><td>0.0     </td><td>0.25430900408599333</td><td>0.27931558734252326</td><td>0.2573068266930012</td><td>0.44348061842101183</td><td>7484.851851497146 </td><td>11.018178043840864</td><td>28.201215827902388</td><td>7.277029937052695 </td><td>471.9254617308253 </td><td>0.0     </td><td>0.008885767884339969</td><td>0.003421055886143153  </td><td>0.0     </td><td>0.22628178711942631</td><td>0.2601596132728317 </td><td>0.42241453366107534</td><td>0.25566138489559903</td><td>12.29300753512931      </td><td>285.8581525089053 </td><td>250.3364100204071 </td><td>1.1581208392292965</td><td>1030.8906621639776</td><td>95.67507064405343 </td><td>67.19408188445406 </td><td>0.9117656644924481</td><td>3.244376863733262    </td><td>            </td><td>          </td><td>            </td><td>          </td><td>         </td><td>          </td><td>             </td><td>        </td><td>1.929723666322416 </td><td>                       </td><td>                </td><td>398.7900085158233 </td><td>           </td><td>234414.88938246804</td><td>87945.96944950575</td><td>         </td><td>0.30278072053383254    </td><td>                </td><td>283.15552711253736</td><td>803.4079061159304 </td><td>0.7108208548203163 </td><td>0.7877274548057464 </td><td>              </td><td>                </td><td>               </td><td>               </td><td>               </td><td>               </td><td>                        </td><td>                       </td><td>8.858608749255476       </td><td>                      </td><td>                    </td><td>                     </td><td>                   </td><td>                        </td><td>0.0       </td><td>34.61769567286824</td><td>19.778283357883893</td><td>0.249545313087292    </td><td>0.32622029813098513        </td><td>8.2587200560933  </td><td>27.897490777023886</td><td>0.21108818463906115      </td><td>0.1863141844473095       </td><td>0.17097692790509725    </td><td>0.0819747068603962     </td><td>0.2697374348701962 </td><td>0.30074995868783416  </td><td>0.19452283082033345  </td><td>0.263138831574406    </td><td>0.3395254458777346        </td><td>0.3855359131496082        </td><td>29.120628169814648</td><td>21.421840996795247</td><td>19.346176293838052</td><td>29.43083329489148 </td><td>0.9978085648764002 </td><td>959.682412460291  </td><td>0.8682999455548107 </td><td>0.2521976581037681    </td><td>          </td><td>14685.077284727544</td><td>13.374721899628893</td><td>0.40461622899508876</td><td>242.37501879102155</td><td>111.40508546017786</td><td>39431900315.79293   </td><td>4.905100668138939e+20  </td><td>214.49198745875577 </td><td>461.68699650154593</td><td>40.8987970532746  </td><td>76.22977692364772 </td><td>                </td><td>0.0003515845509054451 </td><td>0.05463394897281575   </td><td>0.0        </td><td>0.0        </td><td>0.0        </td><td>0.05175184520563783    </td><td>8.32367850371045     </td><td>0.0        </td><td>0.0        </td><td>0.0        </td><td>1.192249745272936  </td><td>1398.75091381104   </td><td>0.6039583753288837 </td><td>55.28904222445661</td><td>11.13251807793633 </td><td>2.528401677790221 </td><td>1441.3816797040681</td><td>165.13815932448352</td><td>0.050228019894089954</td><td>13.803213372308146 </td><td>6.993535168209504  </td><td>9.045696457177078  </td><td>57.587344083383144 </td><td>5.323300136620769 </td><td>54.28834550406251 </td><td>7.576624639255654</td><td>0.008277768169921828 </td><td>0.004325077803674295 </td><td>0.2738571112669563  </td><td>0.15857936238894157</td><td>0.026938447438797003  </td><td>0.01500318441742746   </td><td>0.9225472238651686 </td><td>0.4540674161669713 </td><td>0.0            </td><td>0.0             </td><td>6.179742718566017 </td><td>0.6195081151388387 </td><td>45.94843302530361</td><td>1.823935124553349 </td><td>8.29345170287298 </td><td>0.5893700095996766 </td><td>0.11784853505415216 </td><td>0.07811299384184556 </td><td>0.34906735191304084 </td><td>0.1028064724703255  </td><td>0.004179764635798672 </td><td>0.0021767954321327064</td><td>4.015762274217698 </td><td>0.38504529508642976 </td><td>2.248118002360254  </td><td>0.9230043466869363 </td><td>0.20878495784362952 </td><td>0.030711688475604508 </td><td>0.009046036782538576  </td><td>0.0027157833789417636</td><td>0.2935607681247881  </td><td>0.03930019474802519 </td><td>1.3207195884851979</td><td>0.2311312791722489  </td><td>      </td><td>                   </td><td>7.987615237171424 </td><td>               </td><td>             </td><td>            </td><td>              </td><td>           </td><td>             </td><td>1.75032670211469  </td><td>1230.3364621181438</td><td>1.4689579373095571 </td><td>0.8993880210420924  </td><td>1230.4035934368576    </td><td>124.5563977559604    </td><td>0.5331018841867485  </td><td>0.5310759538176801        </td><td>0.09792536388514504      </td><td>0.0            </td><td>0.0          </td><td>0.0           </td><td>0.0            </td><td>0.0           </td><td>0.0            </td><td>0.0  </td><td>3.106165828875461 </td><td>0.45223902860414716 </td><td>532478564.17930496  </td><td>5.5015859572143336e+16 </td><td>13.98044461497677    </td><td>10.550934201316934  </td><td>1.218137918009695 </td><td>0.6140442783519343  </td><td>9706971.770950176    </td><td>408611798182005.3     </td><td>1.4977600008014167 </td><td>0.5175019078763626 </td><td>0.260360379613847   </td><td>0.13441170784743017  </td><td>2.2451720922626603    </td><td>0.5648977635171069   </td><td>0.10417973800670596  </td><td>0.020394958106870933   </td><td>0.7630488200960854</td><td>456.13741695160735  </td></tr>\n",
       "<tr><td>zeros  </td><td>0                 </td><td>       </td><td>        </td><td>        </td><td>           </td><td>14487             </td><td>18876159          </td><td>         </td><td>             </td><td>         </td><td>         </td><td>          </td><td>            </td><td>          </td><td>               </td><td>            </td><td>               </td><td>17651914          </td><td>         </td><td>35625            </td><td>0                </td><td>272971           </td><td>66561             </td><td>1828              </td><td>0                 </td><td>3214              </td><td>3214              </td><td>        </td><td>11               </td><td>1631174           </td><td>1631174            </td><td>1777010           </td><td>1770629              </td><td>631158           </td><td>23664095            </td><td>1098605              </td><td>328344            </td><td>328430            </td><td>328480            </td><td>328430             </td><td>96248              </td><td>96248              </td><td>96962             </td><td>97447             </td><td>96963               </td><td>4361150             </td><td>4257178            </td><td>4331332             </td><td>15167343            </td><td>15161133           </td><td>15206833             </td><td>6180195            </td><td>6175763            </td><td>6193843            </td><td>24255418              </td><td>24255418             </td><td>24255418              </td><td>6175732           </td><td>9062323            </td><td>328344            </td><td>328344            </td><td>570416            </td><td>777965             </td><td>950547            </td><td>24269546</td><td>24218214             </td><td>22933682            </td><td>24269546</td><td>1303835            </td><td>462769             </td><td>13360480          </td><td>14636690           </td><td>14381263          </td><td>13342480          </td><td>13828950          </td><td>14077990          </td><td>14235344          </td><td>24269546</td><td>24260186            </td><td>24268000              </td><td>24269546</td><td>22831113           </td><td>19399322           </td><td>15258305           </td><td>20955081           </td><td>13342480               </td><td>13342480          </td><td>14161105          </td><td>14581168          </td><td>14845651          </td><td>12043580          </td><td>13997417          </td><td>14365086          </td><td>14541918             </td><td>            </td><td>          </td><td>            </td><td>          </td><td>         </td><td>          </td><td>             </td><td>        </td><td>0                 </td><td>                       </td><td>                </td><td>10264821          </td><td>           </td><td>0                 </td><td>0                </td><td>         </td><td>10266742               </td><td>                </td><td>23208570          </td><td>23240720          </td><td>23011536           </td><td>23173069           </td><td>              </td><td>                </td><td>               </td><td>               </td><td>               </td><td>               </td><td>                        </td><td>                       </td><td>17650667                </td><td>                      </td><td>                    </td><td>                     </td><td>                   </td><td>                        </td><td>24269546  </td><td>218632           </td><td>734968            </td><td>735058               </td><td>1070530                    </td><td>3266513          </td><td>218632            </td><td>5102644                  </td><td>2417647                  </td><td>12351358               </td><td>16026279               </td><td>2894973            </td><td>9546059              </td><td>3939624              </td><td>13837673             </td><td>15988469                  </td><td>12966260                  </td><td>5663339           </td><td>1161862           </td><td>816502            </td><td>2996898           </td><td>11683106           </td><td>736362            </td><td>734968             </td><td>5187239               </td><td>          </td><td>24038037          </td><td>4918332           </td><td>4918332            </td><td>66431             </td><td>285870            </td><td>286703              </td><td>285857                 </td><td>257187             </td><td>68442             </td><td>2689715           </td><td>9808              </td><td>                </td><td>24269543              </td><td>24267931              </td><td>24269546   </td><td>24269546   </td><td>24269546   </td><td>24269543               </td><td>24267931             </td><td>24269546   </td><td>24269546   </td><td>24269546   </td><td>23105928           </td><td>23108892           </td><td>23814940           </td><td>23814940         </td><td>23814940          </td><td>7101828           </td><td>7101828           </td><td>7101828           </td><td>24220777            </td><td>24220778           </td><td>24220778           </td><td>20981089           </td><td>20981174           </td><td>20981089          </td><td>13586624          </td><td>13586624         </td><td>24269165             </td><td>24269165             </td><td>24163751            </td><td>24163751           </td><td>24269118              </td><td>24269118              </td><td>23524440           </td><td>23524440           </td><td>24269546       </td><td>24269546        </td><td>23059528          </td><td>23059528           </td><td>12074151         </td><td>12074151          </td><td>21329308         </td><td>21329308           </td><td>24186045            </td><td>24186045            </td><td>24183993            </td><td>24183993            </td><td>24269475             </td><td>24269475             </td><td>23807298          </td><td>23807298            </td><td>22861819           </td><td>22861819           </td><td>24251566            </td><td>24251566             </td><td>24269456              </td><td>24269456             </td><td>24247305            </td><td>24247305            </td><td>23057550          </td><td>23057550            </td><td>      </td><td>                   </td><td>93                </td><td>               </td><td>             </td><td>            </td><td>              </td><td>           </td><td>             </td><td>14291244          </td><td>14323806          </td><td>14361139           </td><td>24041013            </td><td>14373671              </td><td>24107174             </td><td>14291244            </td><td>14361139                  </td><td>24041013                 </td><td>24269546       </td><td>0            </td><td>0             </td><td>24269546       </td><td>0             </td><td>0              </td><td>0    </td><td>66435             </td><td>285874              </td><td>286707              </td><td>285861                 </td><td>2689719              </td><td>9812                </td><td>1631174           </td><td>1770629             </td><td>1777010              </td><td>1770629               </td><td>328344             </td><td>328430             </td><td>328480              </td><td>328430               </td><td>96248                 </td><td>96962                </td><td>97447                </td><td>96963                  </td><td>14487             </td><td>9189341             </td></tr>\n",
       "<tr><td>missing</td><td>0                 </td><td>0      </td><td>0       </td><td>0       </td><td>0          </td><td>0                 </td><td>0                 </td><td>0        </td><td>0            </td><td>0        </td><td>0        </td><td>0         </td><td>0           </td><td>0         </td><td>0              </td><td>0           </td><td>0              </td><td>0                 </td><td>0        </td><td>0                </td><td>0                </td><td>0                </td><td>0                 </td><td>0                 </td><td>0                 </td><td>0                 </td><td>0                 </td><td>0       </td><td>430242           </td><td>0                 </td><td>0                  </td><td>0                 </td><td>0                    </td><td>0                </td><td>0                   </td><td>0                    </td><td>0                 </td><td>0                 </td><td>0                 </td><td>0                  </td><td>0                  </td><td>0                  </td><td>0                 </td><td>0                 </td><td>0                   </td><td>0                   </td><td>0                  </td><td>0                   </td><td>0                   </td><td>0                  </td><td>0                    </td><td>0                  </td><td>0                  </td><td>0                  </td><td>0                     </td><td>0                    </td><td>0                     </td><td>0                 </td><td>0                  </td><td>0                 </td><td>0                 </td><td>0                 </td><td>0                  </td><td>0                 </td><td>0       </td><td>0                    </td><td>0                   </td><td>0       </td><td>0                  </td><td>0                  </td><td>0                 </td><td>0                  </td><td>0                 </td><td>0                 </td><td>0                 </td><td>0                 </td><td>0                 </td><td>0       </td><td>0                   </td><td>0                     </td><td>0       </td><td>0                  </td><td>0                  </td><td>0                  </td><td>0                  </td><td>0                      </td><td>0                 </td><td>0                 </td><td>0                 </td><td>0                 </td><td>0                 </td><td>0                 </td><td>0                 </td><td>0                    </td><td>0           </td><td>0         </td><td>19125687    </td><td>0         </td><td>0        </td><td>0         </td><td>0            </td><td>0       </td><td>10524008          </td><td>0                      </td><td>0               </td><td>0                 </td><td>0          </td><td>10266729          </td><td>10266729         </td><td>0        </td><td>0                      </td><td>0               </td><td>0                 </td><td>0                 </td><td>0                  </td><td>0                  </td><td>0             </td><td>0               </td><td>0              </td><td>0              </td><td>0              </td><td>0              </td><td>0                       </td><td>0                      </td><td>0                       </td><td>0                     </td><td>0                   </td><td>0                    </td><td>0                  </td><td>0                       </td><td>0         </td><td>0                </td><td>0                 </td><td>0                    </td><td>0                          </td><td>0                </td><td>0                 </td><td>0                        </td><td>0                        </td><td>0                      </td><td>0                      </td><td>0                  </td><td>0                    </td><td>0                    </td><td>0                    </td><td>0                         </td><td>0                         </td><td>0                 </td><td>0                 </td><td>0                 </td><td>0                 </td><td>0                  </td><td>0                 </td><td>0                  </td><td>0                     </td><td>2075129   </td><td>0                 </td><td>0                 </td><td>0                  </td><td>0                 </td><td>0                 </td><td>0                   </td><td>0                      </td><td>0                  </td><td>0                 </td><td>0                 </td><td>0                 </td><td>0               </td><td>0                     </td><td>0                     </td><td>0          </td><td>0          </td><td>0          </td><td>0                      </td><td>0                    </td><td>0          </td><td>0          </td><td>0          </td><td>0                  </td><td>0                  </td><td>0                  </td><td>0                </td><td>0                 </td><td>0                 </td><td>0                 </td><td>0                 </td><td>0                   </td><td>0                  </td><td>0                  </td><td>0                  </td><td>0                  </td><td>0                 </td><td>0                 </td><td>0                </td><td>0                    </td><td>0                    </td><td>0                   </td><td>0                  </td><td>0                     </td><td>0                     </td><td>0                  </td><td>0                  </td><td>0              </td><td>0               </td><td>0                 </td><td>0                  </td><td>0                </td><td>0                 </td><td>0                </td><td>0                  </td><td>0                   </td><td>0                   </td><td>0                   </td><td>0                   </td><td>0                    </td><td>0                    </td><td>0                 </td><td>0                   </td><td>0                  </td><td>0                  </td><td>0                   </td><td>0                    </td><td>0                     </td><td>0                    </td><td>0                   </td><td>0                   </td><td>0                 </td><td>0                   </td><td>0     </td><td>0                  </td><td>3647870           </td><td>0              </td><td>0            </td><td>0           </td><td>20554894      </td><td>0          </td><td>0            </td><td>0                 </td><td>0                 </td><td>0                  </td><td>0                   </td><td>0                     </td><td>0                    </td><td>0                   </td><td>0                         </td><td>0                        </td><td>0              </td><td>0            </td><td>0             </td><td>0              </td><td>0             </td><td>0              </td><td>0    </td><td>0                 </td><td>0                   </td><td>0                   </td><td>0                      </td><td>0                    </td><td>0                   </td><td>0                 </td><td>0                   </td><td>0                    </td><td>0                     </td><td>0                  </td><td>0                  </td><td>0                   </td><td>0                    </td><td>0                     </td><td>0                    </td><td>0                    </td><td>0                      </td><td>0                 </td><td>0                   </td></tr>\n",
       "<tr><td>0      </td><td>169026.0          </td><td>true   </td><td>B3      </td><td>S1      </td><td>S1         </td><td>5392.0            </td><td>0.0               </td><td>T10303   </td><td>L1           </td><td>S-3      </td><td>\\N       </td><td>C3        </td><td>P1          </td><td>\\N        </td><td>\\N             </td><td>Active      </td><td>C1             </td><td>0.0               </td><td>I35682406</td><td>537.0            </td><td>969.0            </td><td>432.0            </td><td>0.55              </td><td>4.3372993         </td><td>6.0               </td><td>104.4375          </td><td>685.0             </td><td>G1      </td><td>63.0             </td><td>779.2900000000001 </td><td>25.976333999999998 </td><td>1.4224796         </td><td>6.2069497            </td><td>268.0            </td><td>0.0                 </td><td>0.54                 </td><td>536.3666400000001 </td><td>725.1370000000001 </td><td>1.3612697         </td><td>0.89826155         </td><td>301.0              </td><td>10.033334          </td><td>6.8336587         </td><td>0.7498598999999999</td><td>-0.11983807         </td><td>0.0398359331        </td><td>0.7311540613       </td><td>0.2290100056        </td><td>0.023914218900000003</td><td>0.8670124452       </td><td>0.109073336          </td><td>0.29               </td><td>0.45               </td><td>0.27               </td><td>0.0                   </td><td>0.0                  </td><td>0.0                   </td><td>119.0             </td><td>0.47000000000000003</td><td>16091.0           </td><td>115.76259         </td><td>198.50142000000002</td><td>3.9595529999999997 </td><td>19.470114         </td><td>0.0     </td><td>0.0                  </td><td>0.0                 </td><td>0.0     </td><td>0.46               </td><td>0.46               </td><td>0.54              </td><td>0.8210000000000001 </td><td>55.0              </td><td>1.2727635         </td><td>3.016619          </td><td>5.3763795         </td><td>31.999717999999998</td><td>0.0     </td><td>0.0                 </td><td>0.0                   </td><td>0.0     </td><td>0.0                </td><td>0.0                </td><td>1.0                </td><td>0.0                </td><td>16.0                   </td><td>3.420552          </td><td>5.7094254         </td><td>3.5732793999999997</td><td>13.505417         </td><td>2.6875            </td><td>1.6476783         </td><td>0.9309272         </td><td>1.1227976            </td><td>5\"          </td><td>Y         </td><td>4.4_KitKat  </td><td>Y         </td><td>Y        </td><td>\\N        </td><td>Bar          </td><td>Y       </td><td>2.0               </td><td>Highscreen             </td><td>\\N              </td><td>0.0               </td><td>\\N         </td><td>nan               </td><td>nan              </td><td>\\N       </td><td>0.0                    </td><td>B0              </td><td>0.0               </td><td>0.0               </td><td>0.0                </td><td>0.0                </td><td>S0            </td><td>U1              </td><td>M0             </td><td>I0             </td><td>R1             </td><td>R0             </td><td>I0                      </td><td>P0                     </td><td>0.0                     </td><td>P0                    </td><td>C0                  </td><td>C0                   </td><td>A0                 </td><td>A0                      </td><td>0.0       </td><td>36.0             </td><td>14.0              </td><td>0.39                 </td><td>0.72                       </td><td>9.0              </td><td>27.0              </td><td>0.4                      </td><td>0.06                     </td><td>0.37                   </td><td>0.05                   </td><td>0.43               </td><td>0.22                 </td><td>0.15                 </td><td>0.5700000000000001   </td><td>0.78                      </td><td>0.85                      </td><td>45.0              </td><td>51.0              </td><td>49.0              </td><td>13.0              </td><td>0.0                </td><td>2368.6428         </td><td>3.0                </td><td>0.29                  </td><td>          </td><td>0.0               </td><td>30.0              </td><td>1.0                </td><td>95.4256           </td><td>78.63978          </td><td>0.44296798          </td><td>-1.0053969999999999    </td><td>2.42               </td><td>263.92            </td><td>0.6               </td><td>3.6               </td><td>B0              </td><td>0.0                   </td><td>0.0                   </td><td>0.0        </td><td>0.0        </td><td>0.0        </td><td>0.0                    </td><td>0.0                  </td><td>0.0        </td><td>0.0        </td><td>0.0        </td><td>0.0                </td><td>0.0                </td><td>0.0                </td><td>0.0              </td><td>0.0               </td><td>5.0               </td><td>800.0             </td><td>160.0             </td><td>0.0                 </td><td>0.0                </td><td>0.0                </td><td>0.0                </td><td>0.0                </td><td>0.0               </td><td>13.0              </td><td>5.0              </td><td>0.0                  </td><td>0.0                  </td><td>0.0                 </td><td>0.0                </td><td>0.0                   </td><td>0.0                   </td><td>0.0                </td><td>0.0                </td><td>0.0            </td><td>0.0             </td><td>0.0               </td><td>0.0                </td><td>3.0              </td><td>1.0               </td><td>0.0              </td><td>0.0                </td><td>0.0                 </td><td>0.0                 </td><td>0.0                 </td><td>0.0                 </td><td>0.0                  </td><td>0.0                  </td><td>0.0               </td><td>0.0                 </td><td>0.0                </td><td>0.0                </td><td>0.0                 </td><td>0.0                  </td><td>0.0                   </td><td>0.0                  </td><td>0.0                 </td><td>0.0                 </td><td>0.0               </td><td>0.0                 </td><td>D1    </td><td>P1                 </td><td>16.0              </td><td>RF0            </td><td>SF0          </td><td>E0          </td><td>              </td><td>T1         </td><td>M9           </td><td>1.0               </td><td>577.0             </td><td>1.0                </td><td>0.0                 </td><td>577.0                 </td><td>0.0                  </td><td>1.0                 </td><td>1.0                       </td><td>0.0                      </td><td>0.0            </td><td>5.0          </td><td>1.0           </td><td>0.0            </td><td>4.0           </td><td>2.0            </td><td>5.0  </td><td>1.3902968         </td><td>0.32360089999999997 </td><td>0.004199629         </td><td>-4.1441384e-05         </td><td>0.24260332           </td><td>0.51390654          </td><td>3.9870001999999998</td><td>0.18124458000000002 </td><td>0.0005773286699999999</td><td>7.562696e-07          </td><td>0.67376137         </td><td>0.47262502         </td><td>0.27520448000000003 </td><td>0.015420696000000001 </td><td>0.3061627             </td><td>0.07528848           </td><td>0.06088098           </td><td>-0.00020803015999999998</td><td>2.4483764         </td><td>-1.0                </td></tr>\n",
       "<tr><td>1      </td><td>174450.0          </td><td>true   </td><td>B3      </td><td>S1      </td><td>S1         </td><td>5365.0            </td><td>0.0               </td><td>T7081    </td><td>L1           </td><td>S-2      </td><td>\\N       </td><td>C3        </td><td>P1          </td><td>T7        </td><td>\\N             </td><td>Active      </td><td>C1             </td><td>2.0               </td><td>I35713807</td><td>448.0            </td><td>703.0            </td><td>255.0            </td><td>0.64              </td><td>4.3083295999999995</td><td>4.0               </td><td>251.0             </td><td>1041.0            </td><td>\\N      </td><td>nan              </td><td>511.2099          </td><td>17.04033           </td><td>3.806116          </td><td>15.107073999999999   </td><td>281.0            </td><td>0.0                 </td><td>0.86                 </td><td>562.1667          </td><td>911.7314500000001 </td><td>2.565569          </td><td>6.448388           </td><td>209.0              </td><td>6.966666699999999  </td><td>9.311224          </td><td>2.8784232         </td><td>10.595359           </td><td>0.041624666500000004</td><td>0.7423658464       </td><td>0.2160094871        </td><td>0.3493721711        </td><td>0.648834032        </td><td>0.0017937970000000002</td><td>0.0                </td><td>0.0                </td><td>0.0                </td><td>0.0                   </td><td>0.0                  </td><td>0.0                   </td><td>0.0               </td><td>0.15               </td><td>16865.0           </td><td>251.71642000000003</td><td>586.8827          </td><td>4.014284           </td><td>17.043049         </td><td>0.0     </td><td>0.0                  </td><td>0.0                 </td><td>0.0     </td><td>0.14               </td><td>0.14               </td><td>0.86              </td><td>0.306              </td><td>279.0             </td><td>11.171761         </td><td>19.665101999999997</td><td>2.9219641999999997</td><td>9.802984          </td><td>0.0     </td><td>0.0                 </td><td>0.0                   </td><td>0.0     </td><td>0.58               </td><td>0.0                </td><td>0.0                </td><td>1.0                </td><td>8.0                    </td><td>34.911750000000005</td><td>29.127526999999997</td><td>0.9112397999999999</td><td>-0.42197978       </td><td>3.125             </td><td>3.4072533         </td><td>1.4037187         </td><td>-0.057719514000000006</td><td>\\N          </td><td>\\N        </td><td>            </td><td>\\N        </td><td>\\N       </td><td>\\N        </td><td>\\N           </td><td>\\N      </td><td>nan               </td><td>\\N                     </td><td>F0              </td><td>823.0             </td><td>Onnet      </td><td>270209.0          </td><td>184870.0         </td><td>A1       </td><td>0.68                   </td><td>B0              </td><td>0.0               </td><td>0.0               </td><td>0.0                </td><td>0.0                </td><td>S1            </td><td>U1              </td><td>M0             </td><td>I0             </td><td>R1             </td><td>R0             </td><td>I0                      </td><td>P0                     </td><td>0.0                     </td><td>P0                    </td><td>C0                  </td><td>C0                   </td><td>A0                 </td><td>A0                      </td><td>0.0       </td><td>25.0             </td><td>8.0               </td><td>0.32                 </td><td>0.14                       </td><td>2.0              </td><td>23.0              </td><td>0.03                     </td><td>0.1                      </td><td>0.27                   </td><td>0.0                    </td><td>0.5                </td><td>0.0                  </td><td>0.17                 </td><td>0.0                  </td><td>0.0                       </td><td>0.0                       </td><td>0.0               </td><td>54.0              </td><td>54.0              </td><td>13.0              </td><td>-2.0               </td><td>2491.375          </td><td>1.0                </td><td>0.25                  </td><td>          </td><td>0.0               </td><td>30.0              </td><td>1.0                </td><td>190.88242000000002</td><td>110.10798000000001</td><td>-0.6831533          </td><td>-1.2907534999999999    </td><td>9.64               </td><td>309.96            </td><td>1.0               </td><td>5.2               </td><td>B1              </td><td>0.0                   </td><td>0.0                   </td><td>0.0        </td><td>0.0        </td><td>0.0        </td><td>0.0                    </td><td>0.0                  </td><td>0.0        </td><td>0.0        </td><td>0.0        </td><td>0.0                </td><td>0.0                </td><td>0.0                </td><td>0.0              </td><td>0.0               </td><td>3.0               </td><td>436.15000000000003</td><td>145.38333         </td><td>0.0                 </td><td>0.0                </td><td>0.0                </td><td>0.0                </td><td>0.0                </td><td>0.0               </td><td>41.0              </td><td>13.0             </td><td>0.0                  </td><td>0.0                  </td><td>0.0                 </td><td>0.0                </td><td>0.0                   </td><td>0.0                   </td><td>0.0                </td><td>0.0                </td><td>0.0            </td><td>0.0             </td><td>0.0               </td><td>0.0                </td><td>6.0              </td><td>2.0               </td><td>0.0              </td><td>0.0                </td><td>0.0                 </td><td>0.0                 </td><td>0.0                 </td><td>0.0                 </td><td>0.0                  </td><td>0.0                  </td><td>0.0               </td><td>0.0                 </td><td>0.0                </td><td>0.0                </td><td>0.0                 </td><td>0.0                  </td><td>0.0                   </td><td>0.0                  </td><td>0.0                 </td><td>0.0                 </td><td>0.0               </td><td>0.0                 </td><td>D1    </td><td>P1                 </td><td>17.0              </td><td>RF0            </td><td>SF1          </td><td>E0          </td><td>              </td><td>T1         </td><td>M9           </td><td>1.0               </td><td>4616.0            </td><td>1.0                </td><td>0.0                 </td><td>4616.0                </td><td>0.0                  </td><td>1.0                 </td><td>1.0                       </td><td>0.0                      </td><td>0.0            </td><td>5.0          </td><td>1.0           </td><td>0.0            </td><td>4.0           </td><td>2.0            </td><td>5.0  </td><td>2.7810485         </td><td>0.45309177          </td><td>-0.0064767445       </td><td>-5.3203471999999996e-05</td><td>0.40433887           </td><td>0.74230945          </td><td>2.61545           </td><td>0.4596878           </td><td>0.0015447532000000001</td><td>1.8406821e-06         </td><td>0.7061702          </td><td>0.5942423          </td><td>0.5186746           </td><td>0.110701196          </td><td>0.21258472            </td><td>0.10258457           </td><td>0.23369859999999998  </td><td>0.018392773            </td><td>2.4361165000000002</td><td>-1000.0             </td></tr>\n",
       "<tr><td>2      </td><td>177614.0          </td><td>true   </td><td>B3      </td><td>S1      </td><td>S1         </td><td>5360.0            </td><td>0.0               </td><td>T1957    </td><td>L0           </td><td>S-3      </td><td>\\N       </td><td>C2        </td><td>P1          </td><td>T7        </td><td>\\N             </td><td>Active      </td><td>C1             </td><td>0.0               </td><td>I35241207</td><td>282.0            </td><td>872.0            </td><td>590.0            </td><td>0.32              </td><td>3.746712          </td><td>2.0               </td><td>1169.0            </td><td>1748.0            </td><td>\\N      </td><td>nan              </td><td>112.44000000000001</td><td>3.748              </td><td>2.1142163         </td><td>3.059514             </td><td>68.0             </td><td>0.0                 </td><td>0.63                 </td><td>136.3             </td><td>184.73407         </td><td>1.5852275         </td><td>1.531509           </td><td>114.0              </td><td>3.8000000000000003 </td><td>5.2243023         </td><td>2.0847265999999998</td><td>3.4556394           </td><td>0.0481780386        </td><td>0.797260944        </td><td>0.1545610174        </td><td>0.0                 </td><td>0.0                </td><td>0.0                  </td><td>0.28               </td><td>0.49               </td><td>0.22               </td><td>0.0                   </td><td>0.0                  </td><td>0.0                   </td><td>67.0              </td><td>0.0                </td><td>4089.0            </td><td>87.0              </td><td>118.49499499999999</td><td>2.4185414          </td><td>6.0711336         </td><td>0.0     </td><td>0.0                  </td><td>0.0                 </td><td>0.0     </td><td>0.37               </td><td>1.0                </td><td>0.0               </td><td>0.0                </td><td>0.0               </td><td>0.0               </td><td>0.0               </td><td>0.0               </td><td>0.0               </td><td>0.0     </td><td>0.0                 </td><td>0.0                   </td><td>0.0     </td><td>0.0                </td><td>0.0                </td><td>0.0                </td><td>0.0                </td><td>0.0                    </td><td>0.0               </td><td>0.0               </td><td>0.0               </td><td>0.0               </td><td>0.0               </td><td>0.0               </td><td>0.0               </td><td>0.0                  </td><td>\\N          </td><td>\\N        </td><td>            </td><td>\\N        </td><td>\\N       </td><td>\\N        </td><td>\\N           </td><td>\\N      </td><td>nan               </td><td>\\N                     </td><td>F0              </td><td>823.0             </td><td>Flat       </td><td>929112.0          </td><td>105669.0         </td><td>A0       </td><td>0.11                   </td><td>B1              </td><td>0.0               </td><td>0.0               </td><td>0.0                </td><td>0.0                </td><td>S0            </td><td>U1              </td><td>M0             </td><td>I0             </td><td>R1             </td><td>R1             </td><td>I0                      </td><td>P0                     </td><td>0.0                     </td><td>P0                    </td><td>C0                  </td><td>C0                   </td><td>A0                 </td><td>A1                      </td><td>0.0       </td><td>15.0             </td><td>1.0               </td><td>0.07                 </td><td>0.11                       </td><td>3.0              </td><td>12.0              </td><td>0.21                     </td><td>0.15                     </td><td>0.0                    </td><td>0.0                    </td><td>0.0                </td><td>0.0                  </td><td>0.0                  </td><td>0.0                  </td><td>0.0                       </td><td>0.0                       </td><td>0.0               </td><td>31.0              </td><td>31.0              </td><td>0.0               </td><td>0.0                </td><td>4324.0            </td><td>1.0                </td><td>0.0                   </td><td>          </td><td>0.0               </td><td>30.0              </td><td>1.0                </td><td>55.7404           </td><td>13.614671999999999</td><td>0.065967225         </td><td>-1.110233              </td><td>31.060000000000002 </td><td>79.67             </td><td>-0.12             </td><td>7.32              </td><td>B0              </td><td>0.0                   </td><td>0.0                   </td><td>0.0        </td><td>0.0        </td><td>0.0        </td><td>0.0                    </td><td>0.0                  </td><td>0.0        </td><td>0.0        </td><td>0.0        </td><td>0.0                </td><td>0.0                </td><td>0.0                </td><td>0.0              </td><td>0.0               </td><td>3.0               </td><td>150.0             </td><td>50.0              </td><td>0.0                 </td><td>0.0                </td><td>0.0                </td><td>0.0                </td><td>0.0                </td><td>0.0               </td><td>2.0               </td><td>1.0              </td><td>0.0                  </td><td>0.0                  </td><td>0.0                 </td><td>0.0                </td><td>0.0                   </td><td>0.0                   </td><td>0.0                </td><td>0.0                </td><td>0.0            </td><td>0.0             </td><td>0.0               </td><td>0.0                </td><td>54.0             </td><td>4.0               </td><td>0.0              </td><td>0.0                </td><td>0.0                 </td><td>0.0                 </td><td>0.0                 </td><td>0.0                 </td><td>0.0                  </td><td>0.0                  </td><td>0.0               </td><td>0.0                 </td><td>0.0                </td><td>0.0                </td><td>0.0                 </td><td>0.0                  </td><td>0.0                   </td><td>0.0                  </td><td>0.0                 </td><td>0.0                 </td><td>0.0               </td><td>0.0                 </td><td>D1    </td><td>P1                 </td><td>15.0              </td><td>RF0            </td><td>SF0          </td><td>E0          </td><td>              </td><td>T1         </td><td>M9           </td><td>0.0               </td><td>0.0               </td><td>0.0                </td><td>0.0                 </td><td>0.0                   </td><td>0.0                  </td><td>0.0                 </td><td>0.0                       </td><td>0.0                      </td><td>0.0            </td><td>5.0          </td><td>1.0           </td><td>0.0            </td><td>4.0           </td><td>2.0            </td><td>5.0  </td><td>0.812106          </td><td>0.056024056         </td><td>0.0006254129        </td><td>-4.5762612e-05         </td><td>-0.048520666000000004</td><td>1.0449433           </td><td>0.5752650500000001</td><td>0.027691614000000003</td><td>0.0008580775         </td><td>3.7277852e-07         </td><td>0.17121436         </td><td>0.12040475         </td><td>0.32048145          </td><td>0.026291823000000002 </td><td>0.11595531            </td><td>0.057557717          </td><td>0.16925855           </td><td>0.0059987386           </td><td>2.433846          </td><td>-1000.0             </td></tr>\n",
       "<tr><td>3      </td><td>180326.0          </td><td>true   </td><td>B3      </td><td>S1      </td><td>S1         </td><td>5336.0            </td><td>0.0               </td><td>T6276    </td><td>L0           </td><td>S-3      </td><td>\\N       </td><td>C2        </td><td>P2          </td><td>T7        </td><td>\\N             </td><td>Active      </td><td>C1             </td><td>0.0               </td><td>I35980104</td><td>235.0            </td><td>2174.0           </td><td>1939.0           </td><td>0.11              </td><td>4.8532968         </td><td>1.0               </td><td>1939.0            </td><td>1939.0            </td><td>\\N      </td><td>nan              </td><td>195.74            </td><td>6.524667           </td><td>0.5737795         </td><td>0.43257985           </td><td>2132.0           </td><td>0.0                 </td><td>0.41000000000000003  </td><td>4264.400000000001 </td><td>3350.8872         </td><td>0.90747404        </td><td>0.37935936000000003</td><td>455.0              </td><td>15.166666999999999 </td><td>14.902088         </td><td>2.5112452999999997</td><td>8.815292            </td><td>0.0527233218        </td><td>0.8812963137000001 </td><td>0.06598036460000001 </td><td>0.0                 </td><td>0.0                </td><td>0.0                  </td><td>0.2                </td><td>0.73               </td><td>0.07               </td><td>0.0                   </td><td>0.0                  </td><td>0.0                   </td><td>326.0             </td><td>0.34               </td><td>127932.0          </td><td>991.7209500000001 </td><td>1070.988          </td><td>1.1379205          </td><td>0.15738843        </td><td>0.0     </td><td>0.0                  </td><td>0.0                 </td><td>0.0     </td><td>0.59               </td><td>1.0                </td><td>0.0               </td><td>0.0                </td><td>0.0               </td><td>0.0               </td><td>0.0               </td><td>0.0               </td><td>0.0               </td><td>0.0     </td><td>0.0                 </td><td>0.0                   </td><td>0.0     </td><td>0.0                </td><td>0.0                </td><td>0.0                </td><td>0.0                </td><td>0.0                    </td><td>0.0               </td><td>0.0               </td><td>0.0               </td><td>0.0               </td><td>0.0               </td><td>0.0               </td><td>0.0               </td><td>0.0                  </td><td>tft         </td><td>Y         </td><td>            </td><td>Y         </td><td>N        </td><td>N         </td><td>Bar          </td><td>Y       </td><td>1.0               </td><td>Samsung                </td><td>F0              </td><td>823.0             </td><td>Onnet      </td><td>951094.0          </td><td>290270.0         </td><td>A0       </td><td>0.31                   </td><td>B1              </td><td>0.0               </td><td>0.0               </td><td>0.0                </td><td>0.0                </td><td>S0            </td><td>U1              </td><td>M0             </td><td>I0             </td><td>R1             </td><td>R0             </td><td>I0                      </td><td>P0                     </td><td>0.0                     </td><td>P0                    </td><td>C0                  </td><td>C0                   </td><td>A0                 </td><td>A0                      </td><td>0.0       </td><td>21.0             </td><td>15.0              </td><td>0.71                 </td><td>0.99                       </td><td>3.0              </td><td>18.0              </td><td>0.56                     </td><td>0.03                     </td><td>0.15                   </td><td>0.09                   </td><td>0.53               </td><td>0.67                 </td><td>0.33                 </td><td>0.0                  </td><td>0.0                       </td><td>0.0                       </td><td>48.0              </td><td>49.0              </td><td>49.0              </td><td>12.0              </td><td>0.0                </td><td>3052.8667         </td><td>1.0                </td><td>0.47000000000000003   </td><td>city      </td><td>0.0               </td><td>30.0              </td><td>1.0                </td><td>31.091600000000003</td><td>15.119418         </td><td>0.12936638          </td><td>-1.1052309999999999    </td><td>5.7                </td><td>60.04             </td><td>0.04              </td><td>3.72              </td><td>B0              </td><td>0.0                   </td><td>0.0                   </td><td>0.0        </td><td>0.0        </td><td>0.0        </td><td>0.0                    </td><td>0.0                  </td><td>0.0        </td><td>0.0        </td><td>0.0        </td><td>0.0                </td><td>0.0                </td><td>0.0                </td><td>0.0              </td><td>0.0               </td><td>4.0               </td><td>210.0             </td><td>52.5              </td><td>0.0                 </td><td>0.0                </td><td>0.0                </td><td>0.0                </td><td>0.0                </td><td>0.0               </td><td>157.0             </td><td>20.0             </td><td>0.0                  </td><td>0.0                  </td><td>0.0                 </td><td>0.0                </td><td>0.0                   </td><td>0.0                   </td><td>0.0                </td><td>0.0                </td><td>0.0            </td><td>0.0             </td><td>0.0               </td><td>0.0                </td><td>63.0             </td><td>4.0               </td><td>0.0              </td><td>0.0                </td><td>0.0                 </td><td>0.0                 </td><td>0.0                 </td><td>0.0                 </td><td>0.0                  </td><td>0.0                  </td><td>0.0               </td><td>0.0                 </td><td>0.0                </td><td>0.0                </td><td>0.0                 </td><td>0.0                  </td><td>0.0                   </td><td>0.0                  </td><td>0.0                 </td><td>0.0                 </td><td>0.0               </td><td>0.0                 </td><td>D1    </td><td>P1                 </td><td>16.0              </td><td>RF0            </td><td>SF1          </td><td>E0          </td><td>              </td><td>T1         </td><td>M9           </td><td>0.0               </td><td>0.0               </td><td>0.0                </td><td>0.0                 </td><td>0.0                   </td><td>0.0                  </td><td>0.0                 </td><td>0.0                       </td><td>0.0                      </td><td>0.0            </td><td>5.0          </td><td>1.0           </td><td>0.0            </td><td>4.0           </td><td>2.0            </td><td>5.0  </td><td>0.45298696        </td><td>0.062216055000000006</td><td>0.0012264788        </td><td>-4.5556437e-05         </td><td>0.016173555000000003 </td><td>0.5310368           </td><td>1.0014441         </td><td>0.043286048         </td><td>0.00023287459        </td><td>5.2706564000000003e-08</td><td>5.3567605          </td><td>2.1840189999999997 </td><td>0.18346176          </td><td>0.0065125637000000005</td><td>0.46280408            </td><td>0.16418082           </td><td>0.2038875            </td><td>0.0153027065           </td><td>2.4229484         </td><td>-1000.0             </td></tr>\n",
       "<tr><td>4      </td><td>192530.0          </td><td>true   </td><td>B3      </td><td>S1      </td><td>S1         </td><td>5338.0            </td><td>0.0               </td><td>T7421    </td><td>L0           </td><td>S-2      </td><td>\\N       </td><td>C3        </td><td>P1          </td><td>T7        </td><td>\\N             </td><td>Active      </td><td>C1             </td><td>20.0              </td><td>I35644606</td><td>10.0             </td><td>1151.0           </td><td>1141.0           </td><td>0.01              </td><td>4.3503837999999995</td><td>2.0               </td><td>701.5             </td><td>1141.0            </td><td>\\N      </td><td>nan              </td><td>8.91              </td><td>0.297              </td><td>5.351916          </td><td>28.977660000000004   </td><td>43.0             </td><td>0.0                 </td><td>0.81                 </td><td>85.433334         </td><td>143.90152         </td><td>2.106581          </td><td>4.145236           </td><td>146.0              </td><td>4.866667           </td><td>5.754611499999999 </td><td>3.1647586999999997</td><td>11.821349           </td><td>0.0436987905        </td><td>0.859539602        </td><td>0.0967616075        </td><td>0.0                 </td><td>0.0                </td><td>0.0                  </td><td>0.0                </td><td>0.0                </td><td>0.0                </td><td>0.0                   </td><td>0.0                  </td><td>0.0                   </td><td>0.0               </td><td>1.0                </td><td>2563.0            </td><td>116.5             </td><td>120.73515         </td><td>1.6255319          </td><td>2.1127179         </td><td>0.0     </td><td>0.0                  </td><td>0.0                 </td><td>0.0     </td><td>0.19               </td><td>1.0                </td><td>0.0               </td><td>0.0                </td><td>0.0               </td><td>0.0               </td><td>0.0               </td><td>0.0               </td><td>0.0               </td><td>0.0     </td><td>0.0                 </td><td>0.0                   </td><td>0.0     </td><td>0.0                </td><td>0.0                </td><td>0.0                </td><td>0.0                </td><td>0.0                    </td><td>0.0               </td><td>0.0               </td><td>0.0               </td><td>0.0               </td><td>0.0               </td><td>0.0               </td><td>0.0               </td><td>0.0                  </td><td>\\N          </td><td>Y         </td><td>            </td><td>Y         </td><td>Y        </td><td>N         </td><td>Bar          </td><td>Y       </td><td>2.0               </td><td>Sony                   </td><td>F0              </td><td>823.0             </td><td>Onnet      </td><td>178831.0          </td><td>114355.0         </td><td>A1       </td><td>0.64                   </td><td>B1              </td><td>0.0               </td><td>0.0               </td><td>0.0                </td><td>0.0                </td><td>S0            </td><td>U1              </td><td>M0             </td><td>I0             </td><td>R0             </td><td>R0             </td><td>I0                      </td><td>P0                     </td><td>0.0                     </td><td>P0                    </td><td>C0                  </td><td>C0                   </td><td>A0                 </td><td>A0                      </td><td>0.0       </td><td>7.0              </td><td>1.0               </td><td>0.14                 </td><td>0.02                       </td><td>3.0              </td><td>4.0               </td><td>0.01                     </td><td>0.18                     </td><td>0.25                   </td><td>0.0                    </td><td>0.0                </td><td>0.0                  </td><td>0.0                  </td><td>0.0                  </td><td>0.0                       </td><td>0.0                       </td><td>0.0               </td><td>35.0              </td><td>35.0              </td><td>0.0               </td><td>0.0                </td><td>4565.0            </td><td>1.0                </td><td>0.0                   </td><td>town      </td><td>0.0               </td><td>30.0              </td><td>1.0                </td><td>99.34880000000001 </td><td>2.887272          </td><td>2.470199            </td><td>4.494483               </td><td>98.24000000000001  </td><td>107.15            </td><td>12.08             </td><td>105.8             </td><td>B0              </td><td>0.0                   </td><td>0.0                   </td><td>0.0        </td><td>0.0        </td><td>0.0        </td><td>0.0                    </td><td>0.0                  </td><td>0.0        </td><td>0.0        </td><td>0.0        </td><td>0.0                </td><td>0.0                </td><td>0.0                </td><td>0.0              </td><td>0.0               </td><td>0.0               </td><td>0.0               </td><td>0.0               </td><td>0.0                 </td><td>0.0                </td><td>0.0                </td><td>0.0                </td><td>0.0                </td><td>0.0               </td><td>115.0             </td><td>24.0             </td><td>0.0                  </td><td>0.0                  </td><td>0.0                 </td><td>0.0                </td><td>0.0                   </td><td>0.0                   </td><td>0.0                </td><td>0.0                </td><td>0.0            </td><td>0.0             </td><td>0.0               </td><td>0.0                </td><td>0.0              </td><td>0.0               </td><td>0.0              </td><td>0.0                </td><td>0.0                 </td><td>0.0                 </td><td>0.0                 </td><td>0.0                 </td><td>0.0                  </td><td>0.0                  </td><td>0.0               </td><td>0.0                 </td><td>0.0                </td><td>0.0                </td><td>0.0                 </td><td>0.0                  </td><td>0.0                   </td><td>0.0                  </td><td>0.0                 </td><td>0.0                 </td><td>0.0               </td><td>0.0                 </td><td>D1    </td><td>P1                 </td><td>16.0              </td><td>RF0            </td><td>SF1          </td><td>E1          </td><td>.RU           </td><td>T1         </td><td>M9           </td><td>0.0               </td><td>0.0               </td><td>0.0                </td><td>0.0                 </td><td>0.0                   </td><td>0.0                  </td><td>0.0                 </td><td>0.0                       </td><td>0.0                      </td><td>0.0            </td><td>5.0          </td><td>1.0           </td><td>0.0            </td><td>4.0           </td><td>2.0            </td><td>5.0  </td><td>1.4474555999999998</td><td>0.011881056000000001</td><td>0.023419121         </td><td>0.00018525777          </td><td>4.8844137            </td><td>15.103143           </td><td>0.045585304       </td><td>0.013602791000000001</td><td>0.0021721327         </td><td>3.5307075e-06         </td><td>0.107317775        </td><td>0.09379117000000001</td><td>0.42588216          </td><td>0.071162365          </td><td>0.14850417            </td><td>0.06340029999999999  </td><td>0.25694615           </td><td>0.020521002            </td><td>2.4238565         </td><td>-1000.0             </td></tr>\n",
       "<tr><td>5      </td><td>195242.0          </td><td>true   </td><td>B3      </td><td>S1      </td><td>S1         </td><td>5316.0            </td><td>0.0               </td><td>T1957    </td><td>L0           </td><td>S-3      </td><td>\\N       </td><td>C2        </td><td>P1          </td><td>T7        </td><td>\\N             </td><td>Active      </td><td>C1             </td><td>0.0               </td><td>I86065900</td><td>322.0            </td><td>2364.0           </td><td>2042.0           </td><td>0.14              </td><td>5.4608107         </td><td>1.0               </td><td>2042.0            </td><td>2042.0            </td><td>\\N      </td><td>nan              </td><td>120.22            </td><td>4.0073333          </td><td>1.4773387999999998</td><td>4.6446095            </td><td>277.0            </td><td>0.0                 </td><td>0.29                 </td><td>554.2             </td><td>379.83157000000006</td><td>0.24965902        </td><td>-0.8293083         </td><td>395.0              </td><td>13.166666999999999 </td><td>9.657755          </td><td>1.1525006         </td><td>0.18882595          </td><td>0.2982677734        </td><td>0.6642607963       </td><td>0.037471430300000004</td><td>0.0                 </td><td>0.0                </td><td>0.0                  </td><td>0.15               </td><td>0.8                </td><td>0.04               </td><td>0.0                   </td><td>0.0                  </td><td>0.0                   </td><td>233.0             </td><td>0.0                </td><td>16626.0           </td><td>102.62963         </td><td>144.87013000000002</td><td>2.6028788          </td><td>7.10378           </td><td>0.0     </td><td>0.0                  </td><td>0.0                 </td><td>0.0     </td><td>0.71               </td><td>1.0                </td><td>0.0               </td><td>0.0                </td><td>0.0               </td><td>0.0               </td><td>0.0               </td><td>0.0               </td><td>0.0               </td><td>0.0     </td><td>0.0                 </td><td>0.0                   </td><td>0.0     </td><td>0.0                </td><td>0.0                </td><td>0.0                </td><td>0.0                </td><td>0.0                    </td><td>0.0               </td><td>0.0               </td><td>0.0               </td><td>0.0               </td><td>0.0               </td><td>0.0               </td><td>0.0               </td><td>0.0                  </td><td>\\N          </td><td>N         </td><td>            </td><td>Y         </td><td>N        </td><td>N         </td><td>Bar          </td><td>Y       </td><td>1.0               </td><td>Tinno                  </td><td>F0              </td><td>823.0             </td><td>Flat       </td><td>929112.0          </td><td>105669.0         </td><td>A0       </td><td>0.11                   </td><td>B1              </td><td>0.0               </td><td>0.0               </td><td>0.0                </td><td>0.0                </td><td>S0            </td><td>U1              </td><td>M0             </td><td>I0             </td><td>R1             </td><td>R0             </td><td>I0                      </td><td>P0                     </td><td>0.0                     </td><td>P0                    </td><td>C0                  </td><td>C0                   </td><td>A0                 </td><td>A0                      </td><td>0.0       </td><td>33.0             </td><td>22.0              </td><td>0.67                 </td><td>0.92                       </td><td>8.0              </td><td>25.0              </td><td>0.54                     </td><td>0.17                     </td><td>0.0                    </td><td>0.0                    </td><td>0.41000000000000003</td><td>0.38                 </td><td>0.24                 </td><td>0.0                  </td><td>0.0                       </td><td>0.0                       </td><td>48.0              </td><td>43.0              </td><td>45.0              </td><td>16.0              </td><td>1.0                </td><td>2786.4546         </td><td>2.0                </td><td>0.36                  </td><td>town      </td><td>0.0               </td><td>30.0              </td><td>1.0                </td><td>41.2412           </td><td>39.135025         </td><td>-0.26862739999999996</td><td>-0.5395319             </td><td>-39.79             </td><td>97.99000000000001 </td><td>-0.24             </td><td>6.68              </td><td>B0              </td><td>0.0                   </td><td>0.0                   </td><td>0.0        </td><td>0.0        </td><td>0.0        </td><td>0.0                    </td><td>0.0                  </td><td>0.0        </td><td>0.0        </td><td>0.0        </td><td>0.0                </td><td>0.0                </td><td>0.0                </td><td>0.0              </td><td>0.0               </td><td>3.0               </td><td>250.0             </td><td>83.333336         </td><td>0.0                 </td><td>0.0                </td><td>0.0                </td><td>0.0                </td><td>0.0                </td><td>0.0               </td><td>0.0               </td><td>0.0              </td><td>0.0                  </td><td>0.0                  </td><td>0.0                 </td><td>0.0                </td><td>0.0                   </td><td>0.0                   </td><td>0.0                </td><td>0.0                </td><td>0.0            </td><td>0.0             </td><td>0.0               </td><td>0.0                </td><td>81.0             </td><td>6.0               </td><td>0.0              </td><td>0.0                </td><td>0.0                 </td><td>0.0                 </td><td>0.0                 </td><td>0.0                 </td><td>0.0                  </td><td>0.0                  </td><td>0.0               </td><td>0.0                 </td><td>0.0                </td><td>0.0                </td><td>0.0                 </td><td>0.0                  </td><td>0.0                   </td><td>0.0                  </td><td>0.0                 </td><td>0.0                 </td><td>0.0               </td><td>0.0                 </td><td>D1    </td><td>P1                 </td><td>16.0              </td><td>RF0            </td><td>SF1          </td><td>E0          </td><td>              </td><td>T1         </td><td>M9           </td><td>0.0               </td><td>0.0               </td><td>0.0                </td><td>0.0                 </td><td>0.0                   </td><td>0.0                  </td><td>0.0                 </td><td>0.0                       </td><td>0.0                      </td><td>0.0            </td><td>5.0          </td><td>1.0           </td><td>0.0            </td><td>4.0           </td><td>2.0            </td><td>5.0  </td><td>0.6008608999999999</td><td>0.16103972          </td><td>-0.0025467654       </td><td>-2.2238926e-05         </td><td>-0.09704133          </td><td>0.95358217          </td><td>0.61506903        </td><td>0.024504041         </td><td>0.00059959386        </td><td>5.6591034e-07         </td><td>0.6961628          </td><td>0.24756409999999998</td><td>0.050472934000000004</td><td>-0.014236957000000001</td><td>0.40177497            </td><td>0.106402405          </td><td>0.0935713            </td><td>0.00032778814999999997 </td><td>2.4138668         </td><td>-1000.0             </td></tr>\n",
       "<tr><td>6      </td><td>195694.0          </td><td>true   </td><td>B3      </td><td>S1      </td><td>S1         </td><td>5281.0            </td><td>0.0               </td><td>T3390    </td><td>L0           </td><td>S-3      </td><td>\\N       </td><td>C2        </td><td>P2          </td><td>T7        </td><td>\\N             </td><td>Active      </td><td>C1             </td><td>0.0               </td><td>I35918105</td><td>134.0            </td><td>1559.0           </td><td>1425.0           </td><td>0.09              </td><td>5.002153          </td><td>1.0               </td><td>1425.0            </td><td>1425.0            </td><td>\\N      </td><td>nan              </td><td>111.99000000000001</td><td>3.733              </td><td>2.1491818         </td><td>4.947604699999999    </td><td>617.0            </td><td>0.0                 </td><td>0.32                 </td><td>1233.6666         </td><td>879.1485600000001 </td><td>0.72933054        </td><td>0.74304223         </td><td>171.0              </td><td>5.7                </td><td>4.4583254         </td><td>1.5835896999999999</td><td>3.227525            </td><td>0.0897865442        </td><td>0.8850851121000001 </td><td>0.0251283437        </td><td>0.0                 </td><td>0.0                </td><td>0.0                  </td><td>0.17               </td><td>0.81               </td><td>0.02               </td><td>0.0                   </td><td>0.0                  </td><td>0.0                   </td><td>54.0              </td><td>0.0                </td><td>37010.0           </td><td>316.32480000000004</td><td>380.11594         </td><td>2.2128296          </td><td>6.0587645         </td><td>0.0     </td><td>0.0                  </td><td>0.0                 </td><td>0.0     </td><td>0.68               </td><td>1.0                </td><td>0.0               </td><td>0.0                </td><td>0.0               </td><td>0.0               </td><td>0.0               </td><td>0.0               </td><td>0.0               </td><td>0.0     </td><td>0.0                 </td><td>0.0                   </td><td>0.0     </td><td>0.0                </td><td>0.0                </td><td>0.0                </td><td>0.0                </td><td>0.0                    </td><td>0.0               </td><td>0.0               </td><td>0.0               </td><td>0.0               </td><td>0.0               </td><td>0.0               </td><td>0.0               </td><td>0.0                  </td><td>TFT         </td><td>N         </td><td>            </td><td>N         </td><td>N        </td><td>N         </td><td>Bar          </td><td>N       </td><td>1.0               </td><td>Nokia                  </td><td>F0              </td><td>823.0             </td><td>Other      </td><td>81131.0           </td><td>9532.0           </td><td>A0       </td><td>0.12                   </td><td>B1              </td><td>0.0               </td><td>0.0               </td><td>0.0                </td><td>0.0                </td><td>S0            </td><td>U1              </td><td>M0             </td><td>I0             </td><td>R1             </td><td>R0             </td><td>I0                      </td><td>P0                     </td><td>0.0                     </td><td>P0                    </td><td>C0                  </td><td>C0                   </td><td>A0                 </td><td>A0                      </td><td>0.0       </td><td>7.0              </td><td>5.0               </td><td>0.71                 </td><td>0.96                       </td><td>1.0              </td><td>6.0               </td><td>0.0                      </td><td>0.68                     </td><td>0.0                    </td><td>0.0                    </td><td>0.6                </td><td>0.0                  </td><td>0.5                  </td><td>0.0                  </td><td>0.0                       </td><td>0.0                       </td><td>43.0              </td><td>52.0              </td><td>50.0              </td><td>12.0              </td><td>1.0                </td><td>3711.8            </td><td>1.0                </td><td>0.4                   </td><td>city      </td><td>0.0               </td><td>30.0              </td><td>1.0                </td><td>180.136           </td><td>33.679522999999996</td><td>0.30156472          </td><td>-1.3823515             </td><td>137.85             </td><td>240.86            </td><td>0.08              </td><td>13.280000000000001</td><td>B0              </td><td>0.0                   </td><td>0.0                   </td><td>0.0        </td><td>0.0        </td><td>0.0        </td><td>0.0                    </td><td>0.0                  </td><td>0.0        </td><td>0.0        </td><td>0.0        </td><td>0.0                </td><td>0.0                </td><td>0.0                </td><td>0.0              </td><td>0.0               </td><td>1.0               </td><td>100.0             </td><td>100.0             </td><td>0.0                 </td><td>0.0                </td><td>0.0                </td><td>0.0                </td><td>0.0                </td><td>0.0               </td><td>39.0              </td><td>11.0             </td><td>0.0                  </td><td>0.0                  </td><td>0.0                 </td><td>0.0                </td><td>0.0                   </td><td>0.0                   </td><td>0.0                </td><td>0.0                </td><td>0.0            </td><td>0.0             </td><td>0.0               </td><td>0.0                </td><td>3.0              </td><td>1.0               </td><td>0.0              </td><td>0.0                </td><td>0.0                 </td><td>0.0                 </td><td>0.0                 </td><td>0.0                 </td><td>0.0                  </td><td>0.0                  </td><td>0.0               </td><td>0.0                 </td><td>0.0                </td><td>0.0                </td><td>0.0                 </td><td>0.0                  </td><td>0.0                   </td><td>0.0                  </td><td>0.0                 </td><td>0.0                 </td><td>5.0               </td><td>1.0                 </td><td>D1    </td><td>P1                 </td><td>16.0              </td><td>RF0            </td><td>SF0          </td><td>E0          </td><td>              </td><td>T1         </td><td>M9           </td><td>0.0               </td><td>0.0               </td><td>0.0                </td><td>0.0                 </td><td>0.0                   </td><td>0.0                  </td><td>0.0                 </td><td>0.0                       </td><td>0.0                      </td><td>0.0            </td><td>5.0          </td><td>1.0           </td><td>0.0            </td><td>4.0           </td><td>2.0            </td><td>5.0  </td><td>2.6244793         </td><td>0.13859046          </td><td>0.0028590332        </td><td>-5.6979049999999994e-05</td><td>0.03234711           </td><td>1.8957442           </td><td>0.57296276        </td><td>0.04528386          </td><td>0.0008722686         </td><td>6.02828e-07           </td><td>1.5496804          </td><td>0.5730056          </td><td>0.14744692          </td><td>0.012756004000000001 </td><td>0.17393295            </td><td>0.04911872           </td><td>0.12857133           </td><td>0.0056027486000000005  </td><td>2.397974          </td><td>-1000.0             </td></tr>\n",
       "<tr><td>7      </td><td>209706.0          </td><td>true   </td><td>B8      </td><td>S1      </td><td>S1         </td><td>5302.0            </td><td>0.0               </td><td>T20013577</td><td>L1           </td><td>S-3      </td><td>\\N       </td><td>C3        </td><td>P1          </td><td>\\N        </td><td>\\N             </td><td>Active      </td><td>C1             </td><td>0.0               </td><td>I35777906</td><td>267.0            </td><td>1045.0           </td><td>778.0            </td><td>0.26              </td><td>5.065128          </td><td>4.0               </td><td>251.5             </td><td>778.0             </td><td>\\N      </td><td>nan              </td><td>686.7             </td><td>22.89              </td><td>5.269349          </td><td>28.406567            </td><td>603.0            </td><td>1.0                 </td><td>0.63                 </td><td>1206.3667         </td><td>1430.4469000000001</td><td>2.018734          </td><td>5.087168999999999  </td><td>295.0              </td><td>9.833333           </td><td>7.6901813         </td><td>2.1157112         </td><td>5.5733542           </td><td>0.0027354867        </td><td>0.5340001658       </td><td>0.4632643475        </td><td>0.0                 </td><td>0.0                </td><td>0.0                  </td><td>0.11               </td><td>0.74               </td><td>0.15               </td><td>0.0                   </td><td>0.0                  </td><td>0.0                   </td><td>152.0             </td><td>0.13               </td><td>36191.0           </td><td>289.528           </td><td>546.7604          </td><td>3.5035070999999998 </td><td>14.4218025        </td><td>0.0     </td><td>0.0                  </td><td>0.0                 </td><td>0.0     </td><td>0.37               </td><td>1.0                </td><td>0.0               </td><td>0.0                </td><td>0.0               </td><td>0.0               </td><td>0.0               </td><td>0.0               </td><td>0.0               </td><td>0.0     </td><td>0.0                 </td><td>0.0                   </td><td>0.0     </td><td>0.0                </td><td>0.0                </td><td>0.0                </td><td>0.0                </td><td>0.0                    </td><td>0.0               </td><td>0.0               </td><td>0.0               </td><td>0.0               </td><td>1.0               </td><td>0.0               </td><td>0.0               </td><td>0.0                  </td><td>5\"          </td><td>Y         </td><td>8.1         </td><td>Y         </td><td>Y        </td><td>Y         </td><td>Bar          </td><td>Y       </td><td>10.0              </td><td>Microsoft              </td><td>\\N              </td><td>0.0               </td><td>\\N         </td><td>nan               </td><td>nan              </td><td>\\N       </td><td>0.0                    </td><td>B0              </td><td>0.0               </td><td>0.0               </td><td>0.0                </td><td>0.0                </td><td>S1            </td><td>U0              </td><td>M1             </td><td>I0             </td><td>R0             </td><td>R0             </td><td>I0                      </td><td>P1                     </td><td>0.0                     </td><td>P0                    </td><td>C0                  </td><td>C0                   </td><td>A0                 </td><td>A0                      </td><td>0.0       </td><td>26.0             </td><td>7.0               </td><td>0.27                 </td><td>0.38                       </td><td>5.0              </td><td>21.0              </td><td>0.24                     </td><td>0.13                     </td><td>0.43                   </td><td>0.0                    </td><td>0.43               </td><td>0.2                  </td><td>0.1                  </td><td>0.0                  </td><td>0.0                       </td><td>0.0                       </td><td>48.0              </td><td>52.0              </td><td>51.0              </td><td>16.0              </td><td>0.0                </td><td>2708.7144000000003</td><td>1.0                </td><td>0.14                  </td><td>\\N        </td><td>0.0               </td><td>0.0               </td><td>0.0                </td><td>199.246           </td><td>159.44644000000002</td><td>1.7188485           </td><td>2.4660697              </td><td>35.75              </td><td>600.15            </td><td>-0.2              </td><td>5.32              </td><td>B0              </td><td>0.0                   </td><td>0.0                   </td><td>0.0        </td><td>0.0        </td><td>0.0        </td><td>0.0                    </td><td>0.0                  </td><td>0.0        </td><td>0.0        </td><td>0.0        </td><td>2.0                </td><td>-275.0             </td><td>0.0                </td><td>0.0              </td><td>0.0               </td><td>4.0               </td><td>800.0             </td><td>200.0             </td><td>0.0                 </td><td>0.0                </td><td>0.0                </td><td>18.0               </td><td>90.0               </td><td>18.0              </td><td>42.0              </td><td>11.0             </td><td>0.0                  </td><td>0.0                  </td><td>0.0                 </td><td>0.0                </td><td>0.0                   </td><td>0.0                   </td><td>0.0                </td><td>0.0                </td><td>0.0            </td><td>0.0             </td><td>11.0              </td><td>2.0                </td><td>5.0              </td><td>1.0               </td><td>0.0              </td><td>0.0                </td><td>0.0                 </td><td>0.0                 </td><td>0.0                 </td><td>0.0                 </td><td>0.0                  </td><td>0.0                  </td><td>0.0               </td><td>0.0                 </td><td>0.0                </td><td>0.0                </td><td>0.0                 </td><td>0.0                  </td><td>0.0                   </td><td>0.0                  </td><td>0.0                 </td><td>0.0                 </td><td>5.0               </td><td>1.0                 </td><td>D1    </td><td>P1                 </td><td>14.0              </td><td>RF0            </td><td>SF1          </td><td>E1          </td><td>.RU           </td><td>T1         </td><td>M4           </td><td>1.0               </td><td>3486.0000000000005</td><td>1.0                </td><td>0.0                 </td><td>3486.0000000000005    </td><td>0.0                  </td><td>1.0                 </td><td>1.0                       </td><td>0.0                      </td><td>0.0            </td><td>5.0          </td><td>1.0           </td><td>0.0            </td><td>4.0           </td><td>2.0            </td><td>5.0  </td><td>2.1239395         </td><td>0.40579402000000003 </td><td>0.017676024000000002</td><td>0.00014076951          </td><td>-0.061883062         </td><td>0.7481167999999999  </td><td>2.8931093         </td><td>0.1638889           </td><td>0.00077486655        </td><td>5.59126e-07           </td><td>2.073033           </td><td>1.0737326          </td><td>0.29211366          </td><td>0.027265394000000002 </td><td>0.22973728000000002   </td><td>0.057528898          </td><td>0.10373288400000001  </td><td>0.0021814657000000003  </td><td>3.2352147         </td><td>-1000.0             </td></tr>\n",
       "<tr><td>8      </td><td>214678.0          </td><td>true   </td><td>B8      </td><td>S1      </td><td>S1         </td><td>5281.0            </td><td>0.0               </td><td>T20007038</td><td>L0           </td><td>S0       </td><td>\\N       </td><td>C3        </td><td>P1          </td><td>T7        </td><td>\\N             </td><td>Active      </td><td>C1             </td><td>0.0               </td><td>I35698505</td><td>1376.0           </td><td>1671.0           </td><td>295.0            </td><td>0.8200000000000001</td><td>4.426755          </td><td>2.0               </td><td>505.33334         </td><td>1220.0            </td><td>\\N      </td><td>nan              </td><td>525.1             </td><td>17.503334          </td><td>5.33575           </td><td>28.84044             </td><td>742.0            </td><td>0.0                 </td><td>0.36                 </td><td>1484.6000000000001</td><td>680.4403          </td><td>0.5541882         </td><td>0.9678823999999999 </td><td>837.0              </td><td>27.900000000000002 </td><td>10.517762999999999</td><td>0.06834542        </td><td>-0.71653444         </td><td>0.0892496295        </td><td>0.7968027303       </td><td>0.1139476402        </td><td>0.0                 </td><td>0.0                </td><td>0.0                  </td><td>0.13               </td><td>0.6900000000000001 </td><td>0.18               </td><td>0.0                   </td><td>0.0                  </td><td>0.0                   </td><td>320.0             </td><td>0.11               </td><td>44538.0           </td><td>86.48155000000001 </td><td>155.03874000000002</td><td>9.442893           </td><td>141.85608000000002</td><td>0.0     </td><td>0.0                  </td><td>0.0                 </td><td>0.0     </td><td>0.64               </td><td>0.66               </td><td>0.34              </td><td>0.0                </td><td>50.0              </td><td>24.968624         </td><td>18.293094999999997</td><td>0.0               </td><td>0.0               </td><td>0.0     </td><td>0.0                 </td><td>0.0                   </td><td>0.0     </td><td>1.0                </td><td>0.0                </td><td>1.0                </td><td>0.0                </td><td>1.0                    </td><td>49.937250000000006</td><td>0.0               </td><td>0.0               </td><td>0.0               </td><td>2.0               </td><td>0.0               </td><td>0.0               </td><td>0.0                  </td><td>\\N          </td><td>N         </td><td>Android_4.2 </td><td>Y         </td><td>Y        </td><td>N         </td><td>Bar          </td><td>Y       </td><td>2.0               </td><td>Samsung                </td><td>F0              </td><td>823.0             </td><td>Other      </td><td>219834.0          </td><td>23291.0          </td><td>A1       </td><td>0.11                   </td><td>B1              </td><td>16.0              </td><td>16.0              </td><td>1.0                </td><td>1.0                </td><td>S0            </td><td>U0              </td><td>M0             </td><td>I0             </td><td>R1             </td><td>R1             </td><td>I0                      </td><td>P1                     </td><td>0.0                     </td><td>P1                    </td><td>C0                  </td><td>C0                   </td><td>A0                 </td><td>A0                      </td><td>0.0       </td><td>83.0             </td><td>14.0              </td><td>0.17                 </td><td>0.59                       </td><td>12.0             </td><td>71.0              </td><td>0.49                     </td><td>0.16                     </td><td>0.21                   </td><td>0.02                   </td><td>0.36               </td><td>0.25                 </td><td>0.03                 </td><td>0.0                  </td><td>0.0                       </td><td>0.0                       </td><td>38.0              </td><td>47.0              </td><td>42.0              </td><td>10.0              </td><td>0.0                </td><td>2108.5            </td><td>2.0                </td><td>0.36                  </td><td>\\N        </td><td>0.0               </td><td>0.0               </td><td>0.0                </td><td>94.8024           </td><td>54.638546         </td><td>0.24770087000000002 </td><td>-0.7563978             </td><td>-7.5200000000000005</td><td>191.8             </td><td>-0.48             </td><td>4.92              </td><td>B0              </td><td>0.0                   </td><td>0.0                   </td><td>0.0        </td><td>0.0        </td><td>0.0        </td><td>0.0                    </td><td>0.0                  </td><td>0.0        </td><td>0.0        </td><td>0.0        </td><td>2.0                </td><td>-164.0             </td><td>0.0                </td><td>0.0              </td><td>0.0               </td><td>4.0               </td><td>674.0             </td><td>168.5             </td><td>0.0                 </td><td>0.0                </td><td>0.0                </td><td>0.0                </td><td>0.0                </td><td>0.0               </td><td>30.0              </td><td>12.0             </td><td>0.0                  </td><td>0.0                  </td><td>0.0                 </td><td>0.0                </td><td>0.0                   </td><td>0.0                   </td><td>0.0                </td><td>0.0                </td><td>0.0            </td><td>0.0             </td><td>4.0               </td><td>2.0                </td><td>0.0              </td><td>0.0               </td><td>0.0              </td><td>0.0                </td><td>0.0                 </td><td>0.0                 </td><td>0.0                 </td><td>0.0                 </td><td>0.0                  </td><td>0.0                  </td><td>12.0              </td><td>2.0                 </td><td>0.0                </td><td>0.0                </td><td>0.0                 </td><td>0.0                  </td><td>0.0                   </td><td>0.0                  </td><td>0.0                 </td><td>0.0                 </td><td>0.0               </td><td>0.0                 </td><td>D1    </td><td>P1                 </td><td>15.0              </td><td>RF0            </td><td>SF1          </td><td>E0          </td><td>              </td><td>T1         </td><td>M4           </td><td>2.0               </td><td>4319.5            </td><td>2.0                </td><td>0.0                 </td><td>4319.5                </td><td>0.0                  </td><td>1.0                 </td><td>1.0                       </td><td>0.0                      </td><td>0.0            </td><td>5.0          </td><td>1.0           </td><td>0.0            </td><td>4.0           </td><td>2.0            </td><td>5.0  </td><td>1.0105827         </td><td>0.13905607          </td><td>0.0025472674        </td><td>-4.3177104e-05         </td><td>-0.14851935          </td><td>0.6918674           </td><td>2.2122786         </td><td>0.036593586000000004</td><td>0.0007846309499999999</td><td>5.6766595e-07         </td><td>2.5511521999999998 </td><td>0.5107571          </td><td>0.08019181          </td><td>0.005187501000000001 </td><td>0.65183085            </td><td>0.07868154000000001  </td><td>0.0033509617         </td><td>-0.00028045863         </td><td>3.222401          </td><td>-1000.0             </td></tr>\n",
       "<tr><td>9      </td><td>217842.0          </td><td>\\N     </td><td>B8      </td><td>S1      </td><td>S1         </td><td>5204.0            </td><td>0.0               </td><td>T20009727</td><td>L0           </td><td>S-2      </td><td>\\N       </td><td>C3        </td><td>P1          </td><td>T1        </td><td>\\N             </td><td>Active      </td><td>C1             </td><td>0.0               </td><td>I35482906</td><td>1032.0           </td><td>1259.0           </td><td>227.0            </td><td>0.8200000000000001</td><td>3.499412          </td><td>3.0               </td><td>105.8125          </td><td>756.0             </td><td>\\N      </td><td>nan              </td><td>115.35000000000001</td><td>3.845              </td><td>5.434772          </td><td>29.667714999999998   </td><td>115.0            </td><td>0.0                 </td><td>0.53                 </td><td>229.53334         </td><td>198.75827         </td><td>0.71064043        </td><td>-0.21187073        </td><td>1197.0             </td><td>39.900000000000006 </td><td>17.332724         </td><td>0.86096436        </td><td>0.12256412          </td><td>0.01989544          </td><td>0.9721173395       </td><td>0.0079872204        </td><td>0.5113583705        </td><td>0.3518109581       </td><td>0.1368306714         </td><td>0.12               </td><td>0.62               </td><td>0.26               </td><td>0.0                   </td><td>0.0                  </td><td>0.0                   </td><td>182.0             </td><td>0.06               </td><td>6886.0            </td><td>51.774437         </td><td>57.479465         </td><td>3.8255700000000004 </td><td>22.931368         </td><td>0.0     </td><td>0.0                  </td><td>0.0                 </td><td>0.0     </td><td>0.47000000000000003</td><td>0.47000000000000003</td><td>0.53              </td><td>0.806              </td><td>177.0             </td><td>0.20105454        </td><td>1.1004251999999999</td><td>13.8070545        </td><td>269.08713         </td><td>0.0     </td><td>0.0                 </td><td>0.0                   </td><td>0.0     </td><td>0.03               </td><td>0.01               </td><td>0.99               </td><td>0.0                </td><td>30.0                   </td><td>5.9043019999999995</td><td>6.7602277         </td><td>2.4720492         </td><td>7.982763299999999 </td><td>29.366667         </td><td>13.874397         </td><td>1.1188791         </td><td>1.3630200000000001   </td><td>\\N          </td><td>\\N        </td><td>            </td><td>\\N        </td><td>\\N       </td><td>\\N        </td><td>\\N           </td><td>\\N      </td><td>nan               </td><td>\\N                     </td><td>F0              </td><td>823.0             </td><td>Low Bundle </td><td>204590.0          </td><td>128550.0         </td><td>A1       </td><td>0.63                   </td><td>B0              </td><td>0.0               </td><td>0.0               </td><td>0.0                </td><td>0.0                </td><td>S1            </td><td>U1              </td><td>M0             </td><td>I0             </td><td>R0             </td><td>R0             </td><td>I0                      </td><td>P1                     </td><td>0.0                     </td><td>P0                    </td><td>C0                  </td><td>C0                   </td><td>A0                 </td><td>A0                      </td><td>0.0       </td><td>9.0              </td><td>3.0               </td><td>0.33                 </td><td>0.89                       </td><td>2.0              </td><td>7.0               </td><td>0.45                     </td><td>0.02                     </td><td>0.2                    </td><td>0.0                    </td><td>0.0                </td><td>0.0                  </td><td>0.0                  </td><td>0.0                  </td><td>0.0                       </td><td>0.0                       </td><td>39.0              </td><td>39.0              </td><td>39.0              </td><td>0.0               </td><td>0.0                </td><td>1913.3334000000002</td><td>1.0                </td><td>0.33                  </td><td>\\N        </td><td>0.0               </td><td>0.0               </td><td>0.0                </td><td>100.51            </td><td>18.96366          </td><td>4.6326165           </td><td>22.449291              </td><td>91.24              </td><td>191.24            </td><td>0.0               </td><td>10.16             </td><td>B0              </td><td>0.0                   </td><td>0.0                   </td><td>0.0        </td><td>0.0        </td><td>0.0        </td><td>0.0                    </td><td>0.0                  </td><td>0.0        </td><td>0.0        </td><td>0.0        </td><td>0.0                </td><td>0.0                </td><td>0.0                </td><td>0.0              </td><td>0.0               </td><td>1.0               </td><td>100.0             </td><td>100.0             </td><td>0.0                 </td><td>0.0                </td><td>0.0                </td><td>0.0                </td><td>0.0                </td><td>0.0               </td><td>143.0             </td><td>15.0             </td><td>0.0                  </td><td>0.0                  </td><td>0.0                 </td><td>0.0                </td><td>0.0                   </td><td>0.0                   </td><td>0.0                </td><td>0.0                </td><td>0.0            </td><td>0.0             </td><td>0.0               </td><td>0.0                </td><td>3.0              </td><td>1.0               </td><td>0.0              </td><td>0.0                </td><td>0.0                 </td><td>0.0                 </td><td>0.0                 </td><td>0.0                 </td><td>0.0                  </td><td>0.0                  </td><td>0.0               </td><td>0.0                 </td><td>0.0                </td><td>0.0                </td><td>0.0                 </td><td>0.0                  </td><td>0.0                   </td><td>0.0                  </td><td>0.0                 </td><td>0.0                 </td><td>5.0               </td><td>1.0                 </td><td>D1    </td><td>P1                 </td><td>-81.0             </td><td>RF0            </td><td>SF1          </td><td>E1          </td><td>.COM          </td><td>T1         </td><td>M4           </td><td>0.0               </td><td>0.0               </td><td>0.0                </td><td>0.0                 </td><td>0.0                   </td><td>0.0                  </td><td>0.0                 </td><td>0.0                       </td><td>0.0                      </td><td>0.0            </td><td>5.0          </td><td>1.0           </td><td>0.0            </td><td>4.0           </td><td>2.0            </td><td>5.0  </td><td>1.0714251         </td><td>0.048262853         </td><td>0.047640180000000004</td><td>0.0012814626000000001  </td><td>0.0                  </td><td>1.4287344           </td><td>0.48597664        </td><td>0.04366106          </td><td>0.0007991923         </td><td>5.8394915e-07         </td><td>0.39443249999999996</td><td>0.14919339         </td><td>0.10283067          </td><td>-0.0011355508        </td><td>0.9321881999999999    </td><td>0.12966308000000001  </td><td>0.042212903          </td><td>4.7972804e-05          </td><td>3.1754165         </td><td>-1000.0             </td></tr>\n",
       "</tbody>\n",
       "</table>"
      ]
     },
     "metadata": {},
     "output_type": "display_data"
    }
   ],
   "source": [
    "data.describe()"
   ]
  },
  {
   "cell_type": "code",
   "execution_count": 62,
   "metadata": {
    "collapsed": false
   },
   "outputs": [
    {
     "name": "stdout",
     "output_type": "stream",
     "text": [
      "age True\n",
      "os_version True\n",
      "os_id True\n",
      "popularity True\n",
      "popalive True\n",
      "plc_type True\n",
      "doc_age True\n",
      "email_domain True\n"
     ]
    }
   ],
   "source": [
    "for col in data.columns:\n",
    "    if data[col].isna().any():\n",
    "        print(col, data[col].isna().any())"
   ]
  },
  {
   "cell_type": "code",
   "execution_count": 64,
   "metadata": {
    "collapsed": false
   },
   "outputs": [
    {
     "data": {
      "text/plain": [
       "True"
      ]
     },
     "execution_count": 64,
     "metadata": {},
     "output_type": "execute_result"
    }
   ],
   "source": [
    "data['age'].any_na_rm()"
   ]
  },
  {
   "cell_type": "code",
   "execution_count": 65,
   "metadata": {
    "collapsed": false,
    "scrolled": true
   },
   "outputs": [
    {
     "name": "stdout",
     "output_type": "stream",
     "text": [
      "1 label\n",
      "2 branch\n",
      "3 status\n",
      "4 subs_type\n",
      "7 tp_id\n",
      "8 sim_lte_flg\n",
      "9 segm_id\n",
      "10 sms_out\n",
      "11 cpe_type\n",
      "12 phone_type\n",
      "13 tp_group\n",
      "14 sales_channel\n",
      "15 flash_code\n",
      "16 calc_platform\n",
      "18 imei8\n",
      "27 gender\n",
      "94 display_id\n",
      "95 dual_sim\n",
      "96 os_version\n",
      "97 second_g\n",
      "98 third_g\n",
      "99 fourth_g\n",
      "100 form_factor\n",
      "101 camera\n",
      "103 cpe_manufacturer_name\n",
      "104 still_first_tp\n",
      "106 archetype\n",
      "109 arch_tp\n",
      "111 is_best_device\n",
      "116 ss_serv_used\n",
      "117 ussd_serv_used\n",
      "118 sms_serv_used\n",
      "119 ivr_serv_used\n",
      "120 rbt_used_ever\n",
      "121 rbt_using_now\n",
      "122 internet_speed_cut_flg\n",
      "123 periodic_fee_srv_ever\n",
      "125 periodic_fee_srv_now\n",
      "126 confcalls_srv_ever\n",
      "127 confcalls_using_now\n",
      "128 antiaon_using_now\n",
      "129 anti_antiaon_using_now\n",
      "155 plc_type\n",
      "167 bal_cont_exist\n",
      "228 tdoc\n",
      "229 blanc_same_branch\n",
      "231 doc_change_rf\n",
      "232 doc_invalid\n",
      "233 valid_mail\n",
      "234 email_domain\n",
      "235 cust_type\n",
      "236 macroregion\n"
     ]
    }
   ],
   "source": [
    "for i in data.columns_by_type('categorical'):\n",
    "    print(int(i), data.columns[int(i)])"
   ]
  },
  {
   "cell_type": "code",
   "execution_count": 66,
   "metadata": {
    "collapsed": false,
    "scrolled": true
   },
   "outputs": [
    {
     "data": {
      "text/html": [
       "<table>\n",
       "<thead>\n",
       "<tr><th>gender  </th><th style=\"text-align: right;\">      Count</th></tr>\n",
       "</thead>\n",
       "<tbody>\n",
       "<tr><td>G0      </td><td style=\"text-align: right;\">1.05202e+07</td></tr>\n",
       "<tr><td>G1      </td><td style=\"text-align: right;\">1.20927e+07</td></tr>\n",
       "<tr><td>\\N      </td><td style=\"text-align: right;\">1.65663e+06</td></tr>\n",
       "</tbody>\n",
       "</table>"
      ]
     },
     "metadata": {},
     "output_type": "display_data"
    },
    {
     "data": {
      "text/plain": []
     },
     "execution_count": 66,
     "metadata": {},
     "output_type": "execute_result"
    }
   ],
   "source": [
    "data['gender'].table()"
   ]
  },
  {
   "cell_type": "code",
   "execution_count": 69,
   "metadata": {
    "collapsed": false
   },
   "outputs": [
    {
     "data": {
      "text/plain": [
       "[['\\\\N', 'true']]"
      ]
     },
     "execution_count": 69,
     "metadata": {},
     "output_type": "execute_result"
    }
   ],
   "source": [
    "data['label'].levels()"
   ]
  },
  {
   "cell_type": "code",
   "execution_count": 72,
   "metadata": {
    "collapsed": false
   },
   "outputs": [],
   "source": [
    "data['label'] = data['label'].set_levels(['1', '0'])"
   ]
  },
  {
   "cell_type": "code",
   "execution_count": 50,
   "metadata": {
    "collapsed": true
   },
   "outputs": [],
   "source": [
    "h2o.remove('purchase_df1')"
   ]
  },
  {
   "cell_type": "code",
   "execution_count": 73,
   "metadata": {
    "collapsed": true
   },
   "outputs": [],
   "source": [
    "data[data['age'].isna(), 'age'] = 43"
   ]
  },
  {
   "cell_type": "code",
   "execution_count": 77,
   "metadata": {
    "collapsed": false,
    "deletable": true,
    "editable": true
   },
   "outputs": [
    {
     "data": {
      "text/plain": [
       "'int'"
      ]
     },
     "execution_count": 77,
     "metadata": {},
     "output_type": "execute_result"
    }
   ],
   "source": [
    "data.type('age')"
   ]
  },
  {
   "cell_type": "code",
   "execution_count": null,
   "metadata": {
    "collapsed": true
   },
   "outputs": [],
   "source": [
    "data['age'] = data['age'].asnumeric()"
   ]
  },
  {
   "cell_type": "code",
   "execution_count": 78,
   "metadata": {
    "collapsed": true
   },
   "outputs": [],
   "source": [
    "data['5'] = data['sd_day_mou'] * data['cl_smartphones_share']\n",
    "data[data['cl_smartphones_share'] == 0, '6'] = 0"
   ]
  },
  {
   "cell_type": "code",
   "execution_count": 79,
   "metadata": {
    "collapsed": true
   },
   "outputs": [],
   "source": [
    "data['fold_column'] = data.kfold_column()"
   ]
  },
  {
   "cell_type": "code",
   "execution_count": 80,
   "metadata": {
    "collapsed": true
   },
   "outputs": [],
   "source": [
    "data['cpe_p_age_root'] = data['cpe_p_age'] ** 0.5\n",
    "data['start_lag_log'] = data['start_lag'].log1p()"
   ]
  },
  {
   "cell_type": "code",
   "execution_count": 82,
   "metadata": {
    "collapsed": false
   },
   "outputs": [
    {
     "data": {
      "text/html": [
       "<table>\n",
       "<thead>\n",
       "<tr><th>gender  </th><th style=\"text-align: right;\">  mean_cpe_p_age_root</th></tr>\n",
       "</thead>\n",
       "<tbody>\n",
       "<tr><td>G0      </td><td style=\"text-align: right;\">              16.3078</td></tr>\n",
       "<tr><td>G1      </td><td style=\"text-align: right;\">              17.3928</td></tr>\n",
       "<tr><td>\\N      </td><td style=\"text-align: right;\">              19.9837</td></tr>\n",
       "</tbody>\n",
       "</table>"
      ]
     },
     "metadata": {},
     "output_type": "display_data"
    },
    {
     "data": {
      "text/plain": []
     },
     "execution_count": 82,
     "metadata": {},
     "output_type": "execute_result"
    }
   ],
   "source": [
    "x = data.group_by(by=['gender'])\n",
    "y = x.mean(col='cpe_p_age_root',na=\"all\").get_frame()\n",
    "y"
   ]
  },
  {
   "cell_type": "code",
   "execution_count": 86,
   "metadata": {
    "collapsed": false
   },
   "outputs": [
    {
     "data": {
      "text/html": [
       "<table>\n",
       "<thead>\n",
       "<tr><th style=\"text-align: right;\">  subs_id</th><th style=\"text-align: right;\">  label</th><th>branch  </th><th>status  </th><th>subs_type  </th><th style=\"text-align: right;\">  lifetime</th><th style=\"text-align: right;\">  firstcall_delay</th><th>tp_id    </th><th>sim_lte_flg  </th><th>segm_id  </th><th>sms_out  </th><th>cpe_type  </th><th>phone_type  </th><th>tp_group  </th><th>sales_channel  </th><th>flash_code  </th><th>calc_platform  </th><th style=\"text-align: right;\">  last_flash</th><th>imei8    </th><th style=\"text-align: right;\">  start_lag</th><th style=\"text-align: right;\">  cpe_m_age</th><th style=\"text-align: right;\">  cpe_p_age</th><th style=\"text-align: right;\">  ret_dev_ind</th><th style=\"text-align: right;\">  cpe_popularity</th><th style=\"text-align: right;\">  dev_park_size</th><th style=\"text-align: right;\">  av_dev_use</th><th style=\"text-align: right;\">  max_dev_use</th><th>gender  </th><th style=\"text-align: right;\">  age</th><th style=\"text-align: right;\">    rc</th><th style=\"text-align: right;\">  rc_avg_day</th><th style=\"text-align: right;\">  rc_sk_day</th><th style=\"text-align: right;\">  rc_kurt_day</th><th style=\"text-align: right;\">  mou</th><th style=\"text-align: right;\">  tp_changes_cnt</th><th style=\"text-align: right;\">  io_voice_traf_ratio</th><th style=\"text-align: right;\">  avg_day_mou</th><th style=\"text-align: right;\">  sd_day_mou</th><th style=\"text-align: right;\">  sk_day_mou</th><th style=\"text-align: right;\">  kurt_day_mou</th><th style=\"text-align: right;\">  sum_day_voice_cnt</th><th style=\"text-align: right;\">  avg_day_voice_cnt</th><th style=\"text-align: right;\">  sd_day_voice_cnt</th><th style=\"text-align: right;\">  sk_day_voice_cnt</th><th style=\"text-align: right;\">  kurt_day_voice_cnt</th><th style=\"text-align: right;\">       m1s</th><th style=\"text-align: right;\">     d1s</th><th style=\"text-align: right;\">       e1s</th><th style=\"text-align: right;\">      m4s</th><th style=\"text-align: right;\">     d4s</th><th style=\"text-align: right;\">      e4s</th><th style=\"text-align: right;\">  m2s</th><th style=\"text-align: right;\">  d2s</th><th style=\"text-align: right;\">  e2s</th><th style=\"text-align: right;\">  m3s</th><th style=\"text-align: right;\">  d3s</th><th style=\"text-align: right;\">  e3s</th><th style=\"text-align: right;\">  sms_tot_cnt</th><th style=\"text-align: right;\">  mes_voice_ratio</th><th style=\"text-align: right;\">  sum_ses_mou</th><th style=\"text-align: right;\">  avg_ses_mou</th><th style=\"text-align: right;\">  sd_ses_mou</th><th style=\"text-align: right;\">  sk_ses_mou</th><th style=\"text-align: right;\">  kurt_ses_mou</th><th style=\"text-align: right;\">  r1vs</th><th style=\"text-align: right;\">  r2vs</th><th style=\"text-align: right;\">  r3vs</th><th style=\"text-align: right;\">  r4vs</th><th style=\"text-align: right;\">  r5vs</th><th style=\"text-align: right;\">  sgc_2g_vs</th><th style=\"text-align: right;\">  sgc_3g_vs</th><th style=\"text-align: right;\">  out_data_ratio</th><th style=\"text-align: right;\">  sum_ses_mbou</th><th style=\"text-align: right;\">  avg_ses_mbou</th><th style=\"text-align: right;\">  sd_ses_mbou</th><th style=\"text-align: right;\">  sk_ses_mbou</th><th style=\"text-align: right;\">  kurt_ses_mbou</th><th style=\"text-align: right;\">  r1ds</th><th style=\"text-align: right;\">  r2ds</th><th style=\"text-align: right;\">  r3ds</th><th style=\"text-align: right;\">  r4ds</th><th style=\"text-align: right;\">  r5ds</th><th style=\"text-align: right;\">  sgc_2g_ds</th><th style=\"text-align: right;\">  sgc_3g_ds</th><th style=\"text-align: right;\">  sgc_4g_ds</th><th style=\"text-align: right;\">  days_with_data_trafic</th><th style=\"text-align: right;\">  avg_day_mbou</th><th style=\"text-align: right;\">  sd_day_mbou</th><th style=\"text-align: right;\">  sk_day_mbou</th><th style=\"text-align: right;\">  kurt_day_mbou</th><th style=\"text-align: right;\">  avg_day_data_cnt</th><th style=\"text-align: right;\">  sd_day_data_cnt</th><th style=\"text-align: right;\">  sk_day_data_cnt</th><th style=\"text-align: right;\">  kurt_day_data_cnt</th><th>display_id  </th><th>dual_sim  </th><th>os_version  </th><th>second_g  </th><th>third_g  </th><th>fourth_g  </th><th>form_factor  </th><th>camera  </th><th style=\"text-align: right;\">  os_id</th><th>cpe_manufacturer_name  </th><th>still_first_tp  </th><th style=\"text-align: right;\">  tp_age</th><th>archetype  </th><th style=\"text-align: right;\">  popularity</th><th style=\"text-align: right;\">  popalive</th><th>arch_tp  </th><th style=\"text-align: right;\">  tp_abandonement_index</th><th>is_best_device  </th><th style=\"text-align: right;\">  b_hrs_total</th><th style=\"text-align: right;\">  b_hrs_data</th><th style=\"text-align: right;\">  blocks_total_cnt</th><th style=\"text-align: right;\">  blocks_data_cnt</th><th>ss_serv_used  </th><th>ussd_serv_used  </th><th>sms_serv_used  </th><th>ivr_serv_used  </th><th>rbt_used_ever  </th><th>rbt_using_now  </th><th>internet_speed_cut_flg  </th><th>periodic_fee_srv_ever  </th><th style=\"text-align: right;\">  internet_ap_blocks_cnt</th><th>periodic_fee_srv_now  </th><th>confcalls_srv_ever  </th><th>confcalls_using_now  </th><th>antiaon_using_now  </th><th>anti_antiaon_using_now  </th><th style=\"text-align: right;\">  ussd_cnt</th><th style=\"text-align: right;\">  cl_size</th><th style=\"text-align: right;\">  cl_onnet_cnt</th><th style=\"text-align: right;\">  cl_size_onnet_share</th><th style=\"text-align: right;\">  cl_traf_onnet_voice_share</th><th style=\"text-align: right;\">  cl_core_size</th><th style=\"text-align: right;\">  cl_tail_size</th><th style=\"text-align: right;\">  cl_core_out_voice_share</th><th style=\"text-align: right;\">  cl_tail_out_voice_share</th><th style=\"text-align: right;\">  cl_core_out_msg_share</th><th style=\"text-align: right;\">  cl_tail_out_msg_share</th><th style=\"text-align: right;\">  cl_women_share</th><th style=\"text-align: right;\">  cl_core_women_share</th><th style=\"text-align: right;\">  cl_tail_women_share</th><th style=\"text-align: right;\">  cl_opp_gender_share</th><th style=\"text-align: right;\">  cl_core_opp_gender_share</th><th style=\"text-align: right;\">  cl_tail_opp_gender_share</th><th style=\"text-align: right;\">  cl_core_avg_age</th><th style=\"text-align: right;\">  cl_tail_avg_age</th><th style=\"text-align: right;\">  cl_avg_age</th><th style=\"text-align: right;\">  cl_sd_age</th><th style=\"text-align: right;\">  cl_sk_age</th><th style=\"text-align: right;\">  cl_avg_lifetime</th><th style=\"text-align: right;\">  cl_branches_count</th><th style=\"text-align: right;\">  cl_smartphones_share</th><th>plc_type  </th><th style=\"text-align: right;\">  pop</th><th style=\"text-align: right;\">  days_home_cnt</th><th style=\"text-align: right;\">  locs_cnt</th><th style=\"text-align: right;\">  bal_avg_amt</th><th style=\"text-align: right;\">  bal_sd_amt</th><th style=\"text-align: right;\">  bal_sk_amt</th><th style=\"text-align: right;\">  bal_kurt_amt</th><th style=\"text-align: right;\">  bal_min_amt</th><th style=\"text-align: right;\">  bal_max_amt</th><th style=\"text-align: right;\">  bal_avg_ld_days</th><th style=\"text-align: right;\">  bal_avg_li_days</th><th>bal_cont_exist  </th><th style=\"text-align: right;\">  be_bf_cnt</th><th style=\"text-align: right;\">  be_ok_cnt</th><th style=\"text-align: right;\">  be_vk_cnt</th><th style=\"text-align: right;\">  be_t2_cnt</th><th style=\"text-align: right;\">  be_to_cnt</th><th style=\"text-align: right;\">  be_bf_amt</th><th style=\"text-align: right;\">  be_ok_amt</th><th style=\"text-align: right;\">  be_vk_amt</th><th style=\"text-align: right;\">  be_t2_amt</th><th style=\"text-align: right;\">  be_to_amt</th><th style=\"text-align: right;\">  be7_total_cnt</th><th style=\"text-align: right;\">  be7_tot_amt</th><th style=\"text-align: right;\">  be3_tot_cnt</th><th style=\"text-align: right;\">  be3_tot_amt</th><th style=\"text-align: right;\">  be3_avg_amt</th><th style=\"text-align: right;\">  be6_tot_cnt</th><th style=\"text-align: right;\">  be6_tot_amt</th><th style=\"text-align: right;\">  be6_avg_amt</th><th style=\"text-align: right;\">  be11_tot_cnt</th><th style=\"text-align: right;\">  be11_tot_amt</th><th style=\"text-align: right;\">  be11_avg_amt</th><th style=\"text-align: right;\">  content_total_cnt</th><th style=\"text-align: right;\">  content_total_amt</th><th style=\"text-align: right;\">  content_days_cnt</th><th style=\"text-align: right;\">  sms_900_cnt</th><th style=\"text-align: right;\">  sms_900_days</th><th style=\"text-align: right;\">  sms_109_cnt</th><th style=\"text-align: right;\">  sms_109_days</th><th style=\"text-align: right;\">  sms_3116_cnt</th><th style=\"text-align: right;\">  sms_3116_days</th><th style=\"text-align: right;\">  sms_1946_cnt</th><th style=\"text-align: right;\">  sms_1946_days</th></tr>\n",
       "</thead>\n",
       "<tbody>\n",
       "<tr><td style=\"text-align: right;\">   169026</td><td style=\"text-align: right;\">      0</td><td>B3      </td><td>S1      </td><td>S1         </td><td style=\"text-align: right;\">      5392</td><td style=\"text-align: right;\">                0</td><td>T10303   </td><td>L1           </td><td>S-3      </td><td>\\N       </td><td>C3        </td><td>P1          </td><td>\\N        </td><td>\\N             </td><td>Active      </td><td>C1             </td><td style=\"text-align: right;\">           0</td><td>I35682406</td><td style=\"text-align: right;\">        537</td><td style=\"text-align: right;\">        969</td><td style=\"text-align: right;\">        432</td><td style=\"text-align: right;\">         0.55</td><td style=\"text-align: right;\">         4.3373 </td><td style=\"text-align: right;\">              6</td><td style=\"text-align: right;\">     104.438</td><td style=\"text-align: right;\">          685</td><td>G1      </td><td style=\"text-align: right;\">   63</td><td style=\"text-align: right;\">779.29</td><td style=\"text-align: right;\">    25.9763 </td><td style=\"text-align: right;\">   1.42248 </td><td style=\"text-align: right;\">      6.20695</td><td style=\"text-align: right;\">  268</td><td style=\"text-align: right;\">               0</td><td style=\"text-align: right;\">                 0.54</td><td style=\"text-align: right;\">     536.367 </td><td style=\"text-align: right;\">     725.137</td><td style=\"text-align: right;\">    1.36127 </td><td style=\"text-align: right;\">      0.898262</td><td style=\"text-align: right;\">                301</td><td style=\"text-align: right;\">           10.0333 </td><td style=\"text-align: right;\">           6.83366</td><td style=\"text-align: right;\">         0.74986  </td><td style=\"text-align: right;\">           -0.119838</td><td style=\"text-align: right;\">0.0398359 </td><td style=\"text-align: right;\">0.731154</td><td style=\"text-align: right;\">0.22901   </td><td style=\"text-align: right;\">0.0239142</td><td style=\"text-align: right;\">0.867012</td><td style=\"text-align: right;\">0.109073 </td><td style=\"text-align: right;\"> 0.29</td><td style=\"text-align: right;\"> 0.45</td><td style=\"text-align: right;\"> 0.27</td><td style=\"text-align: right;\">    0</td><td style=\"text-align: right;\">    0</td><td style=\"text-align: right;\">    0</td><td style=\"text-align: right;\">          119</td><td style=\"text-align: right;\">             0.47</td><td style=\"text-align: right;\">        16091</td><td style=\"text-align: right;\">     115.763 </td><td style=\"text-align: right;\">    198.501 </td><td style=\"text-align: right;\">     3.95955</td><td style=\"text-align: right;\">     19.4701  </td><td style=\"text-align: right;\">     0</td><td style=\"text-align: right;\">     0</td><td style=\"text-align: right;\">     0</td><td style=\"text-align: right;\">     0</td><td style=\"text-align: right;\">  0.46</td><td style=\"text-align: right;\">       0.46</td><td style=\"text-align: right;\">       0.54</td><td style=\"text-align: right;\">           0.821</td><td style=\"text-align: right;\">            55</td><td style=\"text-align: right;\">      1.27276 </td><td style=\"text-align: right;\">      3.01662</td><td style=\"text-align: right;\">      5.37638</td><td style=\"text-align: right;\">       31.9997 </td><td style=\"text-align: right;\">     0</td><td style=\"text-align: right;\">     0</td><td style=\"text-align: right;\">     0</td><td style=\"text-align: right;\">     0</td><td style=\"text-align: right;\">  0   </td><td style=\"text-align: right;\">       0   </td><td style=\"text-align: right;\">       1   </td><td style=\"text-align: right;\">          0</td><td style=\"text-align: right;\">                     16</td><td style=\"text-align: right;\">       3.42055</td><td style=\"text-align: right;\">      5.70943</td><td style=\"text-align: right;\">      3.57328</td><td style=\"text-align: right;\">       13.5054 </td><td style=\"text-align: right;\">            2.6875</td><td style=\"text-align: right;\">          1.64768</td><td style=\"text-align: right;\">         0.930927</td><td style=\"text-align: right;\">          1.1228   </td><td>5\"          </td><td>Y         </td><td>4.4_KitKat  </td><td>Y         </td><td>Y        </td><td>\\N        </td><td>Bar          </td><td>Y       </td><td style=\"text-align: right;\">      2</td><td>Highscreen             </td><td>\\N              </td><td style=\"text-align: right;\">       0</td><td>\\N         </td><td style=\"text-align: right;\">         nan</td><td style=\"text-align: right;\">       nan</td><td>\\N       </td><td style=\"text-align: right;\">                   0   </td><td>B0              </td><td style=\"text-align: right;\">            0</td><td style=\"text-align: right;\">           0</td><td style=\"text-align: right;\">                 0</td><td style=\"text-align: right;\">                0</td><td>S0            </td><td>U1              </td><td>M0             </td><td>I0             </td><td>R1             </td><td>R0             </td><td>I0                      </td><td>P0                     </td><td style=\"text-align: right;\">                       0</td><td>P0                    </td><td>C0                  </td><td>C0                   </td><td>A0                 </td><td>A0                      </td><td style=\"text-align: right;\">         0</td><td style=\"text-align: right;\">       36</td><td style=\"text-align: right;\">            14</td><td style=\"text-align: right;\">                 0.39</td><td style=\"text-align: right;\">                       0.72</td><td style=\"text-align: right;\">             9</td><td style=\"text-align: right;\">            27</td><td style=\"text-align: right;\">                     0.4 </td><td style=\"text-align: right;\">                     0.06</td><td style=\"text-align: right;\">                   0.37</td><td style=\"text-align: right;\">                   0.05</td><td style=\"text-align: right;\">            0.43</td><td style=\"text-align: right;\">                 0.22</td><td style=\"text-align: right;\">                 0.15</td><td style=\"text-align: right;\">                 0.57</td><td style=\"text-align: right;\">                      0.78</td><td style=\"text-align: right;\">                      0.85</td><td style=\"text-align: right;\">               45</td><td style=\"text-align: right;\">               51</td><td style=\"text-align: right;\">          49</td><td style=\"text-align: right;\">         13</td><td style=\"text-align: right;\">          0</td><td style=\"text-align: right;\">          2368.64</td><td style=\"text-align: right;\">                  3</td><td style=\"text-align: right;\">                  0.29</td><td>          </td><td style=\"text-align: right;\">    0</td><td style=\"text-align: right;\">             30</td><td style=\"text-align: right;\">         1</td><td style=\"text-align: right;\">      95.4256</td><td style=\"text-align: right;\">    78.6398 </td><td style=\"text-align: right;\">   0.442968 </td><td style=\"text-align: right;\">     -1.0054  </td><td style=\"text-align: right;\">         2.42</td><td style=\"text-align: right;\">       263.92</td><td style=\"text-align: right;\">             0.6 </td><td style=\"text-align: right;\">             3.6 </td><td>B0              </td><td style=\"text-align: right;\">          0</td><td style=\"text-align: right;\">          0</td><td style=\"text-align: right;\">          0</td><td style=\"text-align: right;\">          0</td><td style=\"text-align: right;\">          0</td><td style=\"text-align: right;\">          0</td><td style=\"text-align: right;\">          0</td><td style=\"text-align: right;\">          0</td><td style=\"text-align: right;\">          0</td><td style=\"text-align: right;\">          0</td><td style=\"text-align: right;\">              0</td><td style=\"text-align: right;\">            0</td><td style=\"text-align: right;\">            0</td><td style=\"text-align: right;\">            0</td><td style=\"text-align: right;\">            0</td><td style=\"text-align: right;\">            5</td><td style=\"text-align: right;\">       800   </td><td style=\"text-align: right;\">     160     </td><td style=\"text-align: right;\">             0</td><td style=\"text-align: right;\">             0</td><td style=\"text-align: right;\">             0</td><td style=\"text-align: right;\">                  0</td><td style=\"text-align: right;\">                  0</td><td style=\"text-align: right;\">                 0</td><td style=\"text-align: right;\">           13</td><td style=\"text-align: right;\">             5</td><td style=\"text-align: right;\">            0</td><td style=\"text-align: right;\">             0</td><td style=\"text-align: right;\">             0</td><td style=\"text-align: right;\">              0</td><td style=\"text-align: right;\">             0</td><td style=\"text-align: right;\">              0</td></tr>\n",
       "<tr><td style=\"text-align: right;\">   174450</td><td style=\"text-align: right;\">      0</td><td>B3      </td><td>S1      </td><td>S1         </td><td style=\"text-align: right;\">      5365</td><td style=\"text-align: right;\">                0</td><td>T7081    </td><td>L1           </td><td>S-2      </td><td>\\N       </td><td>C3        </td><td>P1          </td><td>T7        </td><td>\\N             </td><td>Active      </td><td>C1             </td><td style=\"text-align: right;\">           2</td><td>I35713807</td><td style=\"text-align: right;\">        448</td><td style=\"text-align: right;\">        703</td><td style=\"text-align: right;\">        255</td><td style=\"text-align: right;\">         0.64</td><td style=\"text-align: right;\">         4.30833</td><td style=\"text-align: right;\">              4</td><td style=\"text-align: right;\">     251    </td><td style=\"text-align: right;\">         1041</td><td>\\N      </td><td style=\"text-align: right;\">   43</td><td style=\"text-align: right;\">511.21</td><td style=\"text-align: right;\">    17.0403 </td><td style=\"text-align: right;\">   3.80612 </td><td style=\"text-align: right;\">     15.1071 </td><td style=\"text-align: right;\">  281</td><td style=\"text-align: right;\">               0</td><td style=\"text-align: right;\">                 0.86</td><td style=\"text-align: right;\">     562.167 </td><td style=\"text-align: right;\">     911.731</td><td style=\"text-align: right;\">    2.56557 </td><td style=\"text-align: right;\">      6.44839 </td><td style=\"text-align: right;\">                209</td><td style=\"text-align: right;\">            6.96667</td><td style=\"text-align: right;\">           9.31122</td><td style=\"text-align: right;\">         2.87842  </td><td style=\"text-align: right;\">           10.5954  </td><td style=\"text-align: right;\">0.0416247 </td><td style=\"text-align: right;\">0.742366</td><td style=\"text-align: right;\">0.216009  </td><td style=\"text-align: right;\">0.349372 </td><td style=\"text-align: right;\">0.648834</td><td style=\"text-align: right;\">0.0017938</td><td style=\"text-align: right;\"> 0   </td><td style=\"text-align: right;\"> 0   </td><td style=\"text-align: right;\"> 0   </td><td style=\"text-align: right;\">    0</td><td style=\"text-align: right;\">    0</td><td style=\"text-align: right;\">    0</td><td style=\"text-align: right;\">            0</td><td style=\"text-align: right;\">             0.15</td><td style=\"text-align: right;\">        16865</td><td style=\"text-align: right;\">     251.716 </td><td style=\"text-align: right;\">    586.883 </td><td style=\"text-align: right;\">     4.01428</td><td style=\"text-align: right;\">     17.043   </td><td style=\"text-align: right;\">     0</td><td style=\"text-align: right;\">     0</td><td style=\"text-align: right;\">     0</td><td style=\"text-align: right;\">     0</td><td style=\"text-align: right;\">  0.14</td><td style=\"text-align: right;\">       0.14</td><td style=\"text-align: right;\">       0.86</td><td style=\"text-align: right;\">           0.306</td><td style=\"text-align: right;\">           279</td><td style=\"text-align: right;\">     11.1718  </td><td style=\"text-align: right;\">     19.6651 </td><td style=\"text-align: right;\">      2.92196</td><td style=\"text-align: right;\">        9.80298</td><td style=\"text-align: right;\">     0</td><td style=\"text-align: right;\">     0</td><td style=\"text-align: right;\">     0</td><td style=\"text-align: right;\">     0</td><td style=\"text-align: right;\">  0.58</td><td style=\"text-align: right;\">       0   </td><td style=\"text-align: right;\">       0   </td><td style=\"text-align: right;\">          1</td><td style=\"text-align: right;\">                      8</td><td style=\"text-align: right;\">      34.9118 </td><td style=\"text-align: right;\">     29.1275 </td><td style=\"text-align: right;\">      0.91124</td><td style=\"text-align: right;\">       -0.42198</td><td style=\"text-align: right;\">            3.125 </td><td style=\"text-align: right;\">          3.40725</td><td style=\"text-align: right;\">         1.40372 </td><td style=\"text-align: right;\">         -0.0577195</td><td>\\N          </td><td>\\N        </td><td>            </td><td>\\N        </td><td>\\N       </td><td>\\N        </td><td>\\N           </td><td>\\N      </td><td style=\"text-align: right;\">    nan</td><td>\\N                     </td><td>F0              </td><td style=\"text-align: right;\">     823</td><td>Onnet      </td><td style=\"text-align: right;\">      270209</td><td style=\"text-align: right;\">    184870</td><td>A1       </td><td style=\"text-align: right;\">                   0.68</td><td>B0              </td><td style=\"text-align: right;\">            0</td><td style=\"text-align: right;\">           0</td><td style=\"text-align: right;\">                 0</td><td style=\"text-align: right;\">                0</td><td>S1            </td><td>U1              </td><td>M0             </td><td>I0             </td><td>R1             </td><td>R0             </td><td>I0                      </td><td>P0                     </td><td style=\"text-align: right;\">                       0</td><td>P0                    </td><td>C0                  </td><td>C0                   </td><td>A0                 </td><td>A0                      </td><td style=\"text-align: right;\">         0</td><td style=\"text-align: right;\">       25</td><td style=\"text-align: right;\">             8</td><td style=\"text-align: right;\">                 0.32</td><td style=\"text-align: right;\">                       0.14</td><td style=\"text-align: right;\">             2</td><td style=\"text-align: right;\">            23</td><td style=\"text-align: right;\">                     0.03</td><td style=\"text-align: right;\">                     0.1 </td><td style=\"text-align: right;\">                   0.27</td><td style=\"text-align: right;\">                   0   </td><td style=\"text-align: right;\">            0.5 </td><td style=\"text-align: right;\">                 0   </td><td style=\"text-align: right;\">                 0.17</td><td style=\"text-align: right;\">                 0   </td><td style=\"text-align: right;\">                      0   </td><td style=\"text-align: right;\">                      0   </td><td style=\"text-align: right;\">                0</td><td style=\"text-align: right;\">               54</td><td style=\"text-align: right;\">          54</td><td style=\"text-align: right;\">         13</td><td style=\"text-align: right;\">         -2</td><td style=\"text-align: right;\">          2491.38</td><td style=\"text-align: right;\">                  1</td><td style=\"text-align: right;\">                  0.25</td><td>          </td><td style=\"text-align: right;\">    0</td><td style=\"text-align: right;\">             30</td><td style=\"text-align: right;\">         1</td><td style=\"text-align: right;\">     190.882 </td><td style=\"text-align: right;\">   110.108  </td><td style=\"text-align: right;\">  -0.683153 </td><td style=\"text-align: right;\">     -1.29075 </td><td style=\"text-align: right;\">         9.64</td><td style=\"text-align: right;\">       309.96</td><td style=\"text-align: right;\">             1   </td><td style=\"text-align: right;\">             5.2 </td><td>B1              </td><td style=\"text-align: right;\">          0</td><td style=\"text-align: right;\">          0</td><td style=\"text-align: right;\">          0</td><td style=\"text-align: right;\">          0</td><td style=\"text-align: right;\">          0</td><td style=\"text-align: right;\">          0</td><td style=\"text-align: right;\">          0</td><td style=\"text-align: right;\">          0</td><td style=\"text-align: right;\">          0</td><td style=\"text-align: right;\">          0</td><td style=\"text-align: right;\">              0</td><td style=\"text-align: right;\">            0</td><td style=\"text-align: right;\">            0</td><td style=\"text-align: right;\">            0</td><td style=\"text-align: right;\">            0</td><td style=\"text-align: right;\">            3</td><td style=\"text-align: right;\">       436.15</td><td style=\"text-align: right;\">     145.383 </td><td style=\"text-align: right;\">             0</td><td style=\"text-align: right;\">             0</td><td style=\"text-align: right;\">             0</td><td style=\"text-align: right;\">                  0</td><td style=\"text-align: right;\">                  0</td><td style=\"text-align: right;\">                 0</td><td style=\"text-align: right;\">           41</td><td style=\"text-align: right;\">            13</td><td style=\"text-align: right;\">            0</td><td style=\"text-align: right;\">             0</td><td style=\"text-align: right;\">             0</td><td style=\"text-align: right;\">              0</td><td style=\"text-align: right;\">             0</td><td style=\"text-align: right;\">              0</td></tr>\n",
       "<tr><td style=\"text-align: right;\">   177614</td><td style=\"text-align: right;\">      0</td><td>B3      </td><td>S1      </td><td>S1         </td><td style=\"text-align: right;\">      5360</td><td style=\"text-align: right;\">                0</td><td>T1957    </td><td>L0           </td><td>S-3      </td><td>\\N       </td><td>C2        </td><td>P1          </td><td>T7        </td><td>\\N             </td><td>Active      </td><td>C1             </td><td style=\"text-align: right;\">           0</td><td>I35241207</td><td style=\"text-align: right;\">        282</td><td style=\"text-align: right;\">        872</td><td style=\"text-align: right;\">        590</td><td style=\"text-align: right;\">         0.32</td><td style=\"text-align: right;\">         3.74671</td><td style=\"text-align: right;\">              2</td><td style=\"text-align: right;\">    1169    </td><td style=\"text-align: right;\">         1748</td><td>\\N      </td><td style=\"text-align: right;\">   43</td><td style=\"text-align: right;\">112.44</td><td style=\"text-align: right;\">     3.748  </td><td style=\"text-align: right;\">   2.11422 </td><td style=\"text-align: right;\">      3.05951</td><td style=\"text-align: right;\">   68</td><td style=\"text-align: right;\">               0</td><td style=\"text-align: right;\">                 0.63</td><td style=\"text-align: right;\">     136.3   </td><td style=\"text-align: right;\">     184.734</td><td style=\"text-align: right;\">    1.58523 </td><td style=\"text-align: right;\">      1.53151 </td><td style=\"text-align: right;\">                114</td><td style=\"text-align: right;\">            3.8    </td><td style=\"text-align: right;\">           5.2243 </td><td style=\"text-align: right;\">         2.08473  </td><td style=\"text-align: right;\">            3.45564 </td><td style=\"text-align: right;\">0.048178  </td><td style=\"text-align: right;\">0.797261</td><td style=\"text-align: right;\">0.154561  </td><td style=\"text-align: right;\">0        </td><td style=\"text-align: right;\">0       </td><td style=\"text-align: right;\">0        </td><td style=\"text-align: right;\"> 0.28</td><td style=\"text-align: right;\"> 0.49</td><td style=\"text-align: right;\"> 0.22</td><td style=\"text-align: right;\">    0</td><td style=\"text-align: right;\">    0</td><td style=\"text-align: right;\">    0</td><td style=\"text-align: right;\">           67</td><td style=\"text-align: right;\">             0   </td><td style=\"text-align: right;\">         4089</td><td style=\"text-align: right;\">      87     </td><td style=\"text-align: right;\">    118.495 </td><td style=\"text-align: right;\">     2.41854</td><td style=\"text-align: right;\">      6.07113 </td><td style=\"text-align: right;\">     0</td><td style=\"text-align: right;\">     0</td><td style=\"text-align: right;\">     0</td><td style=\"text-align: right;\">     0</td><td style=\"text-align: right;\">  0.37</td><td style=\"text-align: right;\">       1   </td><td style=\"text-align: right;\">       0   </td><td style=\"text-align: right;\">           0    </td><td style=\"text-align: right;\">             0</td><td style=\"text-align: right;\">      0       </td><td style=\"text-align: right;\">      0      </td><td style=\"text-align: right;\">      0      </td><td style=\"text-align: right;\">        0      </td><td style=\"text-align: right;\">     0</td><td style=\"text-align: right;\">     0</td><td style=\"text-align: right;\">     0</td><td style=\"text-align: right;\">     0</td><td style=\"text-align: right;\">  0   </td><td style=\"text-align: right;\">       0   </td><td style=\"text-align: right;\">       0   </td><td style=\"text-align: right;\">          0</td><td style=\"text-align: right;\">                      0</td><td style=\"text-align: right;\">       0      </td><td style=\"text-align: right;\">      0      </td><td style=\"text-align: right;\">      0      </td><td style=\"text-align: right;\">        0      </td><td style=\"text-align: right;\">            0     </td><td style=\"text-align: right;\">          0      </td><td style=\"text-align: right;\">         0       </td><td style=\"text-align: right;\">          0        </td><td>\\N          </td><td>\\N        </td><td>            </td><td>\\N        </td><td>\\N       </td><td>\\N        </td><td>\\N           </td><td>\\N      </td><td style=\"text-align: right;\">    nan</td><td>\\N                     </td><td>F0              </td><td style=\"text-align: right;\">     823</td><td>Flat       </td><td style=\"text-align: right;\">      929112</td><td style=\"text-align: right;\">    105669</td><td>A0       </td><td style=\"text-align: right;\">                   0.11</td><td>B1              </td><td style=\"text-align: right;\">            0</td><td style=\"text-align: right;\">           0</td><td style=\"text-align: right;\">                 0</td><td style=\"text-align: right;\">                0</td><td>S0            </td><td>U1              </td><td>M0             </td><td>I0             </td><td>R1             </td><td>R1             </td><td>I0                      </td><td>P0                     </td><td style=\"text-align: right;\">                       0</td><td>P0                    </td><td>C0                  </td><td>C0                   </td><td>A0                 </td><td>A1                      </td><td style=\"text-align: right;\">         0</td><td style=\"text-align: right;\">       15</td><td style=\"text-align: right;\">             1</td><td style=\"text-align: right;\">                 0.07</td><td style=\"text-align: right;\">                       0.11</td><td style=\"text-align: right;\">             3</td><td style=\"text-align: right;\">            12</td><td style=\"text-align: right;\">                     0.21</td><td style=\"text-align: right;\">                     0.15</td><td style=\"text-align: right;\">                   0   </td><td style=\"text-align: right;\">                   0   </td><td style=\"text-align: right;\">            0   </td><td style=\"text-align: right;\">                 0   </td><td style=\"text-align: right;\">                 0   </td><td style=\"text-align: right;\">                 0   </td><td style=\"text-align: right;\">                      0   </td><td style=\"text-align: right;\">                      0   </td><td style=\"text-align: right;\">                0</td><td style=\"text-align: right;\">               31</td><td style=\"text-align: right;\">          31</td><td style=\"text-align: right;\">          0</td><td style=\"text-align: right;\">          0</td><td style=\"text-align: right;\">          4324   </td><td style=\"text-align: right;\">                  1</td><td style=\"text-align: right;\">                  0   </td><td>          </td><td style=\"text-align: right;\">    0</td><td style=\"text-align: right;\">             30</td><td style=\"text-align: right;\">         1</td><td style=\"text-align: right;\">      55.7404</td><td style=\"text-align: right;\">    13.6147 </td><td style=\"text-align: right;\">   0.0659672</td><td style=\"text-align: right;\">     -1.11023 </td><td style=\"text-align: right;\">        31.06</td><td style=\"text-align: right;\">        79.67</td><td style=\"text-align: right;\">            -0.12</td><td style=\"text-align: right;\">             7.32</td><td>B0              </td><td style=\"text-align: right;\">          0</td><td style=\"text-align: right;\">          0</td><td style=\"text-align: right;\">          0</td><td style=\"text-align: right;\">          0</td><td style=\"text-align: right;\">          0</td><td style=\"text-align: right;\">          0</td><td style=\"text-align: right;\">          0</td><td style=\"text-align: right;\">          0</td><td style=\"text-align: right;\">          0</td><td style=\"text-align: right;\">          0</td><td style=\"text-align: right;\">              0</td><td style=\"text-align: right;\">            0</td><td style=\"text-align: right;\">            0</td><td style=\"text-align: right;\">            0</td><td style=\"text-align: right;\">            0</td><td style=\"text-align: right;\">            3</td><td style=\"text-align: right;\">       150   </td><td style=\"text-align: right;\">      50     </td><td style=\"text-align: right;\">             0</td><td style=\"text-align: right;\">             0</td><td style=\"text-align: right;\">             0</td><td style=\"text-align: right;\">                  0</td><td style=\"text-align: right;\">                  0</td><td style=\"text-align: right;\">                 0</td><td style=\"text-align: right;\">            2</td><td style=\"text-align: right;\">             1</td><td style=\"text-align: right;\">            0</td><td style=\"text-align: right;\">             0</td><td style=\"text-align: right;\">             0</td><td style=\"text-align: right;\">              0</td><td style=\"text-align: right;\">             0</td><td style=\"text-align: right;\">              0</td></tr>\n",
       "<tr><td style=\"text-align: right;\">   180326</td><td style=\"text-align: right;\">      0</td><td>B3      </td><td>S1      </td><td>S1         </td><td style=\"text-align: right;\">      5336</td><td style=\"text-align: right;\">                0</td><td>T6276    </td><td>L0           </td><td>S-3      </td><td>\\N       </td><td>C2        </td><td>P2          </td><td>T7        </td><td>\\N             </td><td>Active      </td><td>C1             </td><td style=\"text-align: right;\">           0</td><td>I35980104</td><td style=\"text-align: right;\">        235</td><td style=\"text-align: right;\">       2174</td><td style=\"text-align: right;\">       1939</td><td style=\"text-align: right;\">         0.11</td><td style=\"text-align: right;\">         4.8533 </td><td style=\"text-align: right;\">              1</td><td style=\"text-align: right;\">    1939    </td><td style=\"text-align: right;\">         1939</td><td>\\N      </td><td style=\"text-align: right;\">   43</td><td style=\"text-align: right;\">195.74</td><td style=\"text-align: right;\">     6.52467</td><td style=\"text-align: right;\">   0.573779</td><td style=\"text-align: right;\">      0.43258</td><td style=\"text-align: right;\"> 2132</td><td style=\"text-align: right;\">               0</td><td style=\"text-align: right;\">                 0.41</td><td style=\"text-align: right;\">    4264.4   </td><td style=\"text-align: right;\">    3350.89 </td><td style=\"text-align: right;\">    0.907474</td><td style=\"text-align: right;\">      0.379359</td><td style=\"text-align: right;\">                455</td><td style=\"text-align: right;\">           15.1667 </td><td style=\"text-align: right;\">          14.9021 </td><td style=\"text-align: right;\">         2.51125  </td><td style=\"text-align: right;\">            8.81529 </td><td style=\"text-align: right;\">0.0527233 </td><td style=\"text-align: right;\">0.881296</td><td style=\"text-align: right;\">0.0659804 </td><td style=\"text-align: right;\">0        </td><td style=\"text-align: right;\">0       </td><td style=\"text-align: right;\">0        </td><td style=\"text-align: right;\"> 0.2 </td><td style=\"text-align: right;\"> 0.73</td><td style=\"text-align: right;\"> 0.07</td><td style=\"text-align: right;\">    0</td><td style=\"text-align: right;\">    0</td><td style=\"text-align: right;\">    0</td><td style=\"text-align: right;\">          326</td><td style=\"text-align: right;\">             0.34</td><td style=\"text-align: right;\">       127932</td><td style=\"text-align: right;\">     991.721 </td><td style=\"text-align: right;\">   1070.99  </td><td style=\"text-align: right;\">     1.13792</td><td style=\"text-align: right;\">      0.157388</td><td style=\"text-align: right;\">     0</td><td style=\"text-align: right;\">     0</td><td style=\"text-align: right;\">     0</td><td style=\"text-align: right;\">     0</td><td style=\"text-align: right;\">  0.59</td><td style=\"text-align: right;\">       1   </td><td style=\"text-align: right;\">       0   </td><td style=\"text-align: right;\">           0    </td><td style=\"text-align: right;\">             0</td><td style=\"text-align: right;\">      0       </td><td style=\"text-align: right;\">      0      </td><td style=\"text-align: right;\">      0      </td><td style=\"text-align: right;\">        0      </td><td style=\"text-align: right;\">     0</td><td style=\"text-align: right;\">     0</td><td style=\"text-align: right;\">     0</td><td style=\"text-align: right;\">     0</td><td style=\"text-align: right;\">  0   </td><td style=\"text-align: right;\">       0   </td><td style=\"text-align: right;\">       0   </td><td style=\"text-align: right;\">          0</td><td style=\"text-align: right;\">                      0</td><td style=\"text-align: right;\">       0      </td><td style=\"text-align: right;\">      0      </td><td style=\"text-align: right;\">      0      </td><td style=\"text-align: right;\">        0      </td><td style=\"text-align: right;\">            0     </td><td style=\"text-align: right;\">          0      </td><td style=\"text-align: right;\">         0       </td><td style=\"text-align: right;\">          0        </td><td>tft         </td><td>Y         </td><td>            </td><td>Y         </td><td>N        </td><td>N         </td><td>Bar          </td><td>Y       </td><td style=\"text-align: right;\">      1</td><td>Samsung                </td><td>F0              </td><td style=\"text-align: right;\">     823</td><td>Onnet      </td><td style=\"text-align: right;\">      951094</td><td style=\"text-align: right;\">    290270</td><td>A0       </td><td style=\"text-align: right;\">                   0.31</td><td>B1              </td><td style=\"text-align: right;\">            0</td><td style=\"text-align: right;\">           0</td><td style=\"text-align: right;\">                 0</td><td style=\"text-align: right;\">                0</td><td>S0            </td><td>U1              </td><td>M0             </td><td>I0             </td><td>R1             </td><td>R0             </td><td>I0                      </td><td>P0                     </td><td style=\"text-align: right;\">                       0</td><td>P0                    </td><td>C0                  </td><td>C0                   </td><td>A0                 </td><td>A0                      </td><td style=\"text-align: right;\">         0</td><td style=\"text-align: right;\">       21</td><td style=\"text-align: right;\">            15</td><td style=\"text-align: right;\">                 0.71</td><td style=\"text-align: right;\">                       0.99</td><td style=\"text-align: right;\">             3</td><td style=\"text-align: right;\">            18</td><td style=\"text-align: right;\">                     0.56</td><td style=\"text-align: right;\">                     0.03</td><td style=\"text-align: right;\">                   0.15</td><td style=\"text-align: right;\">                   0.09</td><td style=\"text-align: right;\">            0.53</td><td style=\"text-align: right;\">                 0.67</td><td style=\"text-align: right;\">                 0.33</td><td style=\"text-align: right;\">                 0   </td><td style=\"text-align: right;\">                      0   </td><td style=\"text-align: right;\">                      0   </td><td style=\"text-align: right;\">               48</td><td style=\"text-align: right;\">               49</td><td style=\"text-align: right;\">          49</td><td style=\"text-align: right;\">         12</td><td style=\"text-align: right;\">          0</td><td style=\"text-align: right;\">          3052.87</td><td style=\"text-align: right;\">                  1</td><td style=\"text-align: right;\">                  0.47</td><td>city      </td><td style=\"text-align: right;\">    0</td><td style=\"text-align: right;\">             30</td><td style=\"text-align: right;\">         1</td><td style=\"text-align: right;\">      31.0916</td><td style=\"text-align: right;\">    15.1194 </td><td style=\"text-align: right;\">   0.129366 </td><td style=\"text-align: right;\">     -1.10523 </td><td style=\"text-align: right;\">         5.7 </td><td style=\"text-align: right;\">        60.04</td><td style=\"text-align: right;\">             0.04</td><td style=\"text-align: right;\">             3.72</td><td>B0              </td><td style=\"text-align: right;\">          0</td><td style=\"text-align: right;\">          0</td><td style=\"text-align: right;\">          0</td><td style=\"text-align: right;\">          0</td><td style=\"text-align: right;\">          0</td><td style=\"text-align: right;\">          0</td><td style=\"text-align: right;\">          0</td><td style=\"text-align: right;\">          0</td><td style=\"text-align: right;\">          0</td><td style=\"text-align: right;\">          0</td><td style=\"text-align: right;\">              0</td><td style=\"text-align: right;\">            0</td><td style=\"text-align: right;\">            0</td><td style=\"text-align: right;\">            0</td><td style=\"text-align: right;\">            0</td><td style=\"text-align: right;\">            4</td><td style=\"text-align: right;\">       210   </td><td style=\"text-align: right;\">      52.5   </td><td style=\"text-align: right;\">             0</td><td style=\"text-align: right;\">             0</td><td style=\"text-align: right;\">             0</td><td style=\"text-align: right;\">                  0</td><td style=\"text-align: right;\">                  0</td><td style=\"text-align: right;\">                 0</td><td style=\"text-align: right;\">          157</td><td style=\"text-align: right;\">            20</td><td style=\"text-align: right;\">            0</td><td style=\"text-align: right;\">             0</td><td style=\"text-align: right;\">             0</td><td style=\"text-align: right;\">              0</td><td style=\"text-align: right;\">             0</td><td style=\"text-align: right;\">              0</td></tr>\n",
       "<tr><td style=\"text-align: right;\">   192530</td><td style=\"text-align: right;\">      0</td><td>B3      </td><td>S1      </td><td>S1         </td><td style=\"text-align: right;\">      5338</td><td style=\"text-align: right;\">                0</td><td>T7421    </td><td>L0           </td><td>S-2      </td><td>\\N       </td><td>C3        </td><td>P1          </td><td>T7        </td><td>\\N             </td><td>Active      </td><td>C1             </td><td style=\"text-align: right;\">          20</td><td>I35644606</td><td style=\"text-align: right;\">         10</td><td style=\"text-align: right;\">       1151</td><td style=\"text-align: right;\">       1141</td><td style=\"text-align: right;\">         0.01</td><td style=\"text-align: right;\">         4.35038</td><td style=\"text-align: right;\">              2</td><td style=\"text-align: right;\">     701.5  </td><td style=\"text-align: right;\">         1141</td><td>\\N      </td><td style=\"text-align: right;\">   43</td><td style=\"text-align: right;\">  8.91</td><td style=\"text-align: right;\">     0.297  </td><td style=\"text-align: right;\">   5.35192 </td><td style=\"text-align: right;\">     28.9777 </td><td style=\"text-align: right;\">   43</td><td style=\"text-align: right;\">               0</td><td style=\"text-align: right;\">                 0.81</td><td style=\"text-align: right;\">      85.4333</td><td style=\"text-align: right;\">     143.902</td><td style=\"text-align: right;\">    2.10658 </td><td style=\"text-align: right;\">      4.14524 </td><td style=\"text-align: right;\">                146</td><td style=\"text-align: right;\">            4.86667</td><td style=\"text-align: right;\">           5.75461</td><td style=\"text-align: right;\">         3.16476  </td><td style=\"text-align: right;\">           11.8213  </td><td style=\"text-align: right;\">0.0436988 </td><td style=\"text-align: right;\">0.85954 </td><td style=\"text-align: right;\">0.0967616 </td><td style=\"text-align: right;\">0        </td><td style=\"text-align: right;\">0       </td><td style=\"text-align: right;\">0        </td><td style=\"text-align: right;\"> 0   </td><td style=\"text-align: right;\"> 0   </td><td style=\"text-align: right;\"> 0   </td><td style=\"text-align: right;\">    0</td><td style=\"text-align: right;\">    0</td><td style=\"text-align: right;\">    0</td><td style=\"text-align: right;\">            0</td><td style=\"text-align: right;\">             1   </td><td style=\"text-align: right;\">         2563</td><td style=\"text-align: right;\">     116.5   </td><td style=\"text-align: right;\">    120.735 </td><td style=\"text-align: right;\">     1.62553</td><td style=\"text-align: right;\">      2.11272 </td><td style=\"text-align: right;\">     0</td><td style=\"text-align: right;\">     0</td><td style=\"text-align: right;\">     0</td><td style=\"text-align: right;\">     0</td><td style=\"text-align: right;\">  0.19</td><td style=\"text-align: right;\">       1   </td><td style=\"text-align: right;\">       0   </td><td style=\"text-align: right;\">           0    </td><td style=\"text-align: right;\">             0</td><td style=\"text-align: right;\">      0       </td><td style=\"text-align: right;\">      0      </td><td style=\"text-align: right;\">      0      </td><td style=\"text-align: right;\">        0      </td><td style=\"text-align: right;\">     0</td><td style=\"text-align: right;\">     0</td><td style=\"text-align: right;\">     0</td><td style=\"text-align: right;\">     0</td><td style=\"text-align: right;\">  0   </td><td style=\"text-align: right;\">       0   </td><td style=\"text-align: right;\">       0   </td><td style=\"text-align: right;\">          0</td><td style=\"text-align: right;\">                      0</td><td style=\"text-align: right;\">       0      </td><td style=\"text-align: right;\">      0      </td><td style=\"text-align: right;\">      0      </td><td style=\"text-align: right;\">        0      </td><td style=\"text-align: right;\">            0     </td><td style=\"text-align: right;\">          0      </td><td style=\"text-align: right;\">         0       </td><td style=\"text-align: right;\">          0        </td><td>\\N          </td><td>Y         </td><td>            </td><td>Y         </td><td>Y        </td><td>N         </td><td>Bar          </td><td>Y       </td><td style=\"text-align: right;\">      2</td><td>Sony                   </td><td>F0              </td><td style=\"text-align: right;\">     823</td><td>Onnet      </td><td style=\"text-align: right;\">      178831</td><td style=\"text-align: right;\">    114355</td><td>A1       </td><td style=\"text-align: right;\">                   0.64</td><td>B1              </td><td style=\"text-align: right;\">            0</td><td style=\"text-align: right;\">           0</td><td style=\"text-align: right;\">                 0</td><td style=\"text-align: right;\">                0</td><td>S0            </td><td>U1              </td><td>M0             </td><td>I0             </td><td>R0             </td><td>R0             </td><td>I0                      </td><td>P0                     </td><td style=\"text-align: right;\">                       0</td><td>P0                    </td><td>C0                  </td><td>C0                   </td><td>A0                 </td><td>A0                      </td><td style=\"text-align: right;\">         0</td><td style=\"text-align: right;\">        7</td><td style=\"text-align: right;\">             1</td><td style=\"text-align: right;\">                 0.14</td><td style=\"text-align: right;\">                       0.02</td><td style=\"text-align: right;\">             3</td><td style=\"text-align: right;\">             4</td><td style=\"text-align: right;\">                     0.01</td><td style=\"text-align: right;\">                     0.18</td><td style=\"text-align: right;\">                   0.25</td><td style=\"text-align: right;\">                   0   </td><td style=\"text-align: right;\">            0   </td><td style=\"text-align: right;\">                 0   </td><td style=\"text-align: right;\">                 0   </td><td style=\"text-align: right;\">                 0   </td><td style=\"text-align: right;\">                      0   </td><td style=\"text-align: right;\">                      0   </td><td style=\"text-align: right;\">                0</td><td style=\"text-align: right;\">               35</td><td style=\"text-align: right;\">          35</td><td style=\"text-align: right;\">          0</td><td style=\"text-align: right;\">          0</td><td style=\"text-align: right;\">          4565   </td><td style=\"text-align: right;\">                  1</td><td style=\"text-align: right;\">                  0   </td><td>town      </td><td style=\"text-align: right;\">    0</td><td style=\"text-align: right;\">             30</td><td style=\"text-align: right;\">         1</td><td style=\"text-align: right;\">      99.3488</td><td style=\"text-align: right;\">     2.88727</td><td style=\"text-align: right;\">   2.4702   </td><td style=\"text-align: right;\">      4.49448 </td><td style=\"text-align: right;\">        98.24</td><td style=\"text-align: right;\">       107.15</td><td style=\"text-align: right;\">            12.08</td><td style=\"text-align: right;\">           105.8 </td><td>B0              </td><td style=\"text-align: right;\">          0</td><td style=\"text-align: right;\">          0</td><td style=\"text-align: right;\">          0</td><td style=\"text-align: right;\">          0</td><td style=\"text-align: right;\">          0</td><td style=\"text-align: right;\">          0</td><td style=\"text-align: right;\">          0</td><td style=\"text-align: right;\">          0</td><td style=\"text-align: right;\">          0</td><td style=\"text-align: right;\">          0</td><td style=\"text-align: right;\">              0</td><td style=\"text-align: right;\">            0</td><td style=\"text-align: right;\">            0</td><td style=\"text-align: right;\">            0</td><td style=\"text-align: right;\">            0</td><td style=\"text-align: right;\">            0</td><td style=\"text-align: right;\">         0   </td><td style=\"text-align: right;\">       0     </td><td style=\"text-align: right;\">             0</td><td style=\"text-align: right;\">             0</td><td style=\"text-align: right;\">             0</td><td style=\"text-align: right;\">                  0</td><td style=\"text-align: right;\">                  0</td><td style=\"text-align: right;\">                 0</td><td style=\"text-align: right;\">          115</td><td style=\"text-align: right;\">            24</td><td style=\"text-align: right;\">            0</td><td style=\"text-align: right;\">             0</td><td style=\"text-align: right;\">             0</td><td style=\"text-align: right;\">              0</td><td style=\"text-align: right;\">             0</td><td style=\"text-align: right;\">              0</td></tr>\n",
       "<tr><td style=\"text-align: right;\">   195242</td><td style=\"text-align: right;\">      0</td><td>B3      </td><td>S1      </td><td>S1         </td><td style=\"text-align: right;\">      5316</td><td style=\"text-align: right;\">                0</td><td>T1957    </td><td>L0           </td><td>S-3      </td><td>\\N       </td><td>C2        </td><td>P1          </td><td>T7        </td><td>\\N             </td><td>Active      </td><td>C1             </td><td style=\"text-align: right;\">           0</td><td>I86065900</td><td style=\"text-align: right;\">        322</td><td style=\"text-align: right;\">       2364</td><td style=\"text-align: right;\">       2042</td><td style=\"text-align: right;\">         0.14</td><td style=\"text-align: right;\">         5.46081</td><td style=\"text-align: right;\">              1</td><td style=\"text-align: right;\">    2042    </td><td style=\"text-align: right;\">         2042</td><td>\\N      </td><td style=\"text-align: right;\">   43</td><td style=\"text-align: right;\">120.22</td><td style=\"text-align: right;\">     4.00733</td><td style=\"text-align: right;\">   1.47734 </td><td style=\"text-align: right;\">      4.64461</td><td style=\"text-align: right;\">  277</td><td style=\"text-align: right;\">               0</td><td style=\"text-align: right;\">                 0.29</td><td style=\"text-align: right;\">     554.2   </td><td style=\"text-align: right;\">     379.832</td><td style=\"text-align: right;\">    0.249659</td><td style=\"text-align: right;\">     -0.829308</td><td style=\"text-align: right;\">                395</td><td style=\"text-align: right;\">           13.1667 </td><td style=\"text-align: right;\">           9.65775</td><td style=\"text-align: right;\">         1.1525   </td><td style=\"text-align: right;\">            0.188826</td><td style=\"text-align: right;\">0.298268  </td><td style=\"text-align: right;\">0.664261</td><td style=\"text-align: right;\">0.0374714 </td><td style=\"text-align: right;\">0        </td><td style=\"text-align: right;\">0       </td><td style=\"text-align: right;\">0        </td><td style=\"text-align: right;\"> 0.15</td><td style=\"text-align: right;\"> 0.8 </td><td style=\"text-align: right;\"> 0.04</td><td style=\"text-align: right;\">    0</td><td style=\"text-align: right;\">    0</td><td style=\"text-align: right;\">    0</td><td style=\"text-align: right;\">          233</td><td style=\"text-align: right;\">             0   </td><td style=\"text-align: right;\">        16626</td><td style=\"text-align: right;\">     102.63  </td><td style=\"text-align: right;\">    144.87  </td><td style=\"text-align: right;\">     2.60288</td><td style=\"text-align: right;\">      7.10378 </td><td style=\"text-align: right;\">     0</td><td style=\"text-align: right;\">     0</td><td style=\"text-align: right;\">     0</td><td style=\"text-align: right;\">     0</td><td style=\"text-align: right;\">  0.71</td><td style=\"text-align: right;\">       1   </td><td style=\"text-align: right;\">       0   </td><td style=\"text-align: right;\">           0    </td><td style=\"text-align: right;\">             0</td><td style=\"text-align: right;\">      0       </td><td style=\"text-align: right;\">      0      </td><td style=\"text-align: right;\">      0      </td><td style=\"text-align: right;\">        0      </td><td style=\"text-align: right;\">     0</td><td style=\"text-align: right;\">     0</td><td style=\"text-align: right;\">     0</td><td style=\"text-align: right;\">     0</td><td style=\"text-align: right;\">  0   </td><td style=\"text-align: right;\">       0   </td><td style=\"text-align: right;\">       0   </td><td style=\"text-align: right;\">          0</td><td style=\"text-align: right;\">                      0</td><td style=\"text-align: right;\">       0      </td><td style=\"text-align: right;\">      0      </td><td style=\"text-align: right;\">      0      </td><td style=\"text-align: right;\">        0      </td><td style=\"text-align: right;\">            0     </td><td style=\"text-align: right;\">          0      </td><td style=\"text-align: right;\">         0       </td><td style=\"text-align: right;\">          0        </td><td>\\N          </td><td>N         </td><td>            </td><td>Y         </td><td>N        </td><td>N         </td><td>Bar          </td><td>Y       </td><td style=\"text-align: right;\">      1</td><td>Tinno                  </td><td>F0              </td><td style=\"text-align: right;\">     823</td><td>Flat       </td><td style=\"text-align: right;\">      929112</td><td style=\"text-align: right;\">    105669</td><td>A0       </td><td style=\"text-align: right;\">                   0.11</td><td>B1              </td><td style=\"text-align: right;\">            0</td><td style=\"text-align: right;\">           0</td><td style=\"text-align: right;\">                 0</td><td style=\"text-align: right;\">                0</td><td>S0            </td><td>U1              </td><td>M0             </td><td>I0             </td><td>R1             </td><td>R0             </td><td>I0                      </td><td>P0                     </td><td style=\"text-align: right;\">                       0</td><td>P0                    </td><td>C0                  </td><td>C0                   </td><td>A0                 </td><td>A0                      </td><td style=\"text-align: right;\">         0</td><td style=\"text-align: right;\">       33</td><td style=\"text-align: right;\">            22</td><td style=\"text-align: right;\">                 0.67</td><td style=\"text-align: right;\">                       0.92</td><td style=\"text-align: right;\">             8</td><td style=\"text-align: right;\">            25</td><td style=\"text-align: right;\">                     0.54</td><td style=\"text-align: right;\">                     0.17</td><td style=\"text-align: right;\">                   0   </td><td style=\"text-align: right;\">                   0   </td><td style=\"text-align: right;\">            0.41</td><td style=\"text-align: right;\">                 0.38</td><td style=\"text-align: right;\">                 0.24</td><td style=\"text-align: right;\">                 0   </td><td style=\"text-align: right;\">                      0   </td><td style=\"text-align: right;\">                      0   </td><td style=\"text-align: right;\">               48</td><td style=\"text-align: right;\">               43</td><td style=\"text-align: right;\">          45</td><td style=\"text-align: right;\">         16</td><td style=\"text-align: right;\">          1</td><td style=\"text-align: right;\">          2786.45</td><td style=\"text-align: right;\">                  2</td><td style=\"text-align: right;\">                  0.36</td><td>town      </td><td style=\"text-align: right;\">    0</td><td style=\"text-align: right;\">             30</td><td style=\"text-align: right;\">         1</td><td style=\"text-align: right;\">      41.2412</td><td style=\"text-align: right;\">    39.135  </td><td style=\"text-align: right;\">  -0.268627 </td><td style=\"text-align: right;\">     -0.539532</td><td style=\"text-align: right;\">       -39.79</td><td style=\"text-align: right;\">        97.99</td><td style=\"text-align: right;\">            -0.24</td><td style=\"text-align: right;\">             6.68</td><td>B0              </td><td style=\"text-align: right;\">          0</td><td style=\"text-align: right;\">          0</td><td style=\"text-align: right;\">          0</td><td style=\"text-align: right;\">          0</td><td style=\"text-align: right;\">          0</td><td style=\"text-align: right;\">          0</td><td style=\"text-align: right;\">          0</td><td style=\"text-align: right;\">          0</td><td style=\"text-align: right;\">          0</td><td style=\"text-align: right;\">          0</td><td style=\"text-align: right;\">              0</td><td style=\"text-align: right;\">            0</td><td style=\"text-align: right;\">            0</td><td style=\"text-align: right;\">            0</td><td style=\"text-align: right;\">            0</td><td style=\"text-align: right;\">            3</td><td style=\"text-align: right;\">       250   </td><td style=\"text-align: right;\">      83.3333</td><td style=\"text-align: right;\">             0</td><td style=\"text-align: right;\">             0</td><td style=\"text-align: right;\">             0</td><td style=\"text-align: right;\">                  0</td><td style=\"text-align: right;\">                  0</td><td style=\"text-align: right;\">                 0</td><td style=\"text-align: right;\">            0</td><td style=\"text-align: right;\">             0</td><td style=\"text-align: right;\">            0</td><td style=\"text-align: right;\">             0</td><td style=\"text-align: right;\">             0</td><td style=\"text-align: right;\">              0</td><td style=\"text-align: right;\">             0</td><td style=\"text-align: right;\">              0</td></tr>\n",
       "<tr><td style=\"text-align: right;\">   195694</td><td style=\"text-align: right;\">      0</td><td>B3      </td><td>S1      </td><td>S1         </td><td style=\"text-align: right;\">      5281</td><td style=\"text-align: right;\">                0</td><td>T3390    </td><td>L0           </td><td>S-3      </td><td>\\N       </td><td>C2        </td><td>P2          </td><td>T7        </td><td>\\N             </td><td>Active      </td><td>C1             </td><td style=\"text-align: right;\">           0</td><td>I35918105</td><td style=\"text-align: right;\">        134</td><td style=\"text-align: right;\">       1559</td><td style=\"text-align: right;\">       1425</td><td style=\"text-align: right;\">         0.09</td><td style=\"text-align: right;\">         5.00215</td><td style=\"text-align: right;\">              1</td><td style=\"text-align: right;\">    1425    </td><td style=\"text-align: right;\">         1425</td><td>\\N      </td><td style=\"text-align: right;\">   43</td><td style=\"text-align: right;\">111.99</td><td style=\"text-align: right;\">     3.733  </td><td style=\"text-align: right;\">   2.14918 </td><td style=\"text-align: right;\">      4.9476 </td><td style=\"text-align: right;\">  617</td><td style=\"text-align: right;\">               0</td><td style=\"text-align: right;\">                 0.32</td><td style=\"text-align: right;\">    1233.67  </td><td style=\"text-align: right;\">     879.149</td><td style=\"text-align: right;\">    0.729331</td><td style=\"text-align: right;\">      0.743042</td><td style=\"text-align: right;\">                171</td><td style=\"text-align: right;\">            5.7    </td><td style=\"text-align: right;\">           4.45833</td><td style=\"text-align: right;\">         1.58359  </td><td style=\"text-align: right;\">            3.22752 </td><td style=\"text-align: right;\">0.0897865 </td><td style=\"text-align: right;\">0.885085</td><td style=\"text-align: right;\">0.0251283 </td><td style=\"text-align: right;\">0        </td><td style=\"text-align: right;\">0       </td><td style=\"text-align: right;\">0        </td><td style=\"text-align: right;\"> 0.17</td><td style=\"text-align: right;\"> 0.81</td><td style=\"text-align: right;\"> 0.02</td><td style=\"text-align: right;\">    0</td><td style=\"text-align: right;\">    0</td><td style=\"text-align: right;\">    0</td><td style=\"text-align: right;\">           54</td><td style=\"text-align: right;\">             0   </td><td style=\"text-align: right;\">        37010</td><td style=\"text-align: right;\">     316.325 </td><td style=\"text-align: right;\">    380.116 </td><td style=\"text-align: right;\">     2.21283</td><td style=\"text-align: right;\">      6.05876 </td><td style=\"text-align: right;\">     0</td><td style=\"text-align: right;\">     0</td><td style=\"text-align: right;\">     0</td><td style=\"text-align: right;\">     0</td><td style=\"text-align: right;\">  0.68</td><td style=\"text-align: right;\">       1   </td><td style=\"text-align: right;\">       0   </td><td style=\"text-align: right;\">           0    </td><td style=\"text-align: right;\">             0</td><td style=\"text-align: right;\">      0       </td><td style=\"text-align: right;\">      0      </td><td style=\"text-align: right;\">      0      </td><td style=\"text-align: right;\">        0      </td><td style=\"text-align: right;\">     0</td><td style=\"text-align: right;\">     0</td><td style=\"text-align: right;\">     0</td><td style=\"text-align: right;\">     0</td><td style=\"text-align: right;\">  0   </td><td style=\"text-align: right;\">       0   </td><td style=\"text-align: right;\">       0   </td><td style=\"text-align: right;\">          0</td><td style=\"text-align: right;\">                      0</td><td style=\"text-align: right;\">       0      </td><td style=\"text-align: right;\">      0      </td><td style=\"text-align: right;\">      0      </td><td style=\"text-align: right;\">        0      </td><td style=\"text-align: right;\">            0     </td><td style=\"text-align: right;\">          0      </td><td style=\"text-align: right;\">         0       </td><td style=\"text-align: right;\">          0        </td><td>TFT         </td><td>N         </td><td>            </td><td>N         </td><td>N        </td><td>N         </td><td>Bar          </td><td>N       </td><td style=\"text-align: right;\">      1</td><td>Nokia                  </td><td>F0              </td><td style=\"text-align: right;\">     823</td><td>Other      </td><td style=\"text-align: right;\">       81131</td><td style=\"text-align: right;\">      9532</td><td>A0       </td><td style=\"text-align: right;\">                   0.12</td><td>B1              </td><td style=\"text-align: right;\">            0</td><td style=\"text-align: right;\">           0</td><td style=\"text-align: right;\">                 0</td><td style=\"text-align: right;\">                0</td><td>S0            </td><td>U1              </td><td>M0             </td><td>I0             </td><td>R1             </td><td>R0             </td><td>I0                      </td><td>P0                     </td><td style=\"text-align: right;\">                       0</td><td>P0                    </td><td>C0                  </td><td>C0                   </td><td>A0                 </td><td>A0                      </td><td style=\"text-align: right;\">         0</td><td style=\"text-align: right;\">        7</td><td style=\"text-align: right;\">             5</td><td style=\"text-align: right;\">                 0.71</td><td style=\"text-align: right;\">                       0.96</td><td style=\"text-align: right;\">             1</td><td style=\"text-align: right;\">             6</td><td style=\"text-align: right;\">                     0   </td><td style=\"text-align: right;\">                     0.68</td><td style=\"text-align: right;\">                   0   </td><td style=\"text-align: right;\">                   0   </td><td style=\"text-align: right;\">            0.6 </td><td style=\"text-align: right;\">                 0   </td><td style=\"text-align: right;\">                 0.5 </td><td style=\"text-align: right;\">                 0   </td><td style=\"text-align: right;\">                      0   </td><td style=\"text-align: right;\">                      0   </td><td style=\"text-align: right;\">               43</td><td style=\"text-align: right;\">               52</td><td style=\"text-align: right;\">          50</td><td style=\"text-align: right;\">         12</td><td style=\"text-align: right;\">          1</td><td style=\"text-align: right;\">          3711.8 </td><td style=\"text-align: right;\">                  1</td><td style=\"text-align: right;\">                  0.4 </td><td>city      </td><td style=\"text-align: right;\">    0</td><td style=\"text-align: right;\">             30</td><td style=\"text-align: right;\">         1</td><td style=\"text-align: right;\">     180.136 </td><td style=\"text-align: right;\">    33.6795 </td><td style=\"text-align: right;\">   0.301565 </td><td style=\"text-align: right;\">     -1.38235 </td><td style=\"text-align: right;\">       137.85</td><td style=\"text-align: right;\">       240.86</td><td style=\"text-align: right;\">             0.08</td><td style=\"text-align: right;\">            13.28</td><td>B0              </td><td style=\"text-align: right;\">          0</td><td style=\"text-align: right;\">          0</td><td style=\"text-align: right;\">          0</td><td style=\"text-align: right;\">          0</td><td style=\"text-align: right;\">          0</td><td style=\"text-align: right;\">          0</td><td style=\"text-align: right;\">          0</td><td style=\"text-align: right;\">          0</td><td style=\"text-align: right;\">          0</td><td style=\"text-align: right;\">          0</td><td style=\"text-align: right;\">              0</td><td style=\"text-align: right;\">            0</td><td style=\"text-align: right;\">            0</td><td style=\"text-align: right;\">            0</td><td style=\"text-align: right;\">            0</td><td style=\"text-align: right;\">            1</td><td style=\"text-align: right;\">       100   </td><td style=\"text-align: right;\">     100     </td><td style=\"text-align: right;\">             0</td><td style=\"text-align: right;\">             0</td><td style=\"text-align: right;\">             0</td><td style=\"text-align: right;\">                  0</td><td style=\"text-align: right;\">                  0</td><td style=\"text-align: right;\">                 0</td><td style=\"text-align: right;\">           39</td><td style=\"text-align: right;\">            11</td><td style=\"text-align: right;\">            0</td><td style=\"text-align: right;\">             0</td><td style=\"text-align: right;\">             0</td><td style=\"text-align: right;\">              0</td><td style=\"text-align: right;\">             0</td><td style=\"text-align: right;\">              0</td></tr>\n",
       "<tr><td style=\"text-align: right;\">   209706</td><td style=\"text-align: right;\">      0</td><td>B8      </td><td>S1      </td><td>S1         </td><td style=\"text-align: right;\">      5302</td><td style=\"text-align: right;\">                0</td><td>T20013577</td><td>L1           </td><td>S-3      </td><td>\\N       </td><td>C3        </td><td>P1          </td><td>\\N        </td><td>\\N             </td><td>Active      </td><td>C1             </td><td style=\"text-align: right;\">           0</td><td>I35777906</td><td style=\"text-align: right;\">        267</td><td style=\"text-align: right;\">       1045</td><td style=\"text-align: right;\">        778</td><td style=\"text-align: right;\">         0.26</td><td style=\"text-align: right;\">         5.06513</td><td style=\"text-align: right;\">              4</td><td style=\"text-align: right;\">     251.5  </td><td style=\"text-align: right;\">          778</td><td>\\N      </td><td style=\"text-align: right;\">   43</td><td style=\"text-align: right;\">686.7 </td><td style=\"text-align: right;\">    22.89   </td><td style=\"text-align: right;\">   5.26935 </td><td style=\"text-align: right;\">     28.4066 </td><td style=\"text-align: right;\">  603</td><td style=\"text-align: right;\">               1</td><td style=\"text-align: right;\">                 0.63</td><td style=\"text-align: right;\">    1206.37  </td><td style=\"text-align: right;\">    1430.45 </td><td style=\"text-align: right;\">    2.01873 </td><td style=\"text-align: right;\">      5.08717 </td><td style=\"text-align: right;\">                295</td><td style=\"text-align: right;\">            9.83333</td><td style=\"text-align: right;\">           7.69018</td><td style=\"text-align: right;\">         2.11571  </td><td style=\"text-align: right;\">            5.57335 </td><td style=\"text-align: right;\">0.00273549</td><td style=\"text-align: right;\">0.534   </td><td style=\"text-align: right;\">0.463264  </td><td style=\"text-align: right;\">0        </td><td style=\"text-align: right;\">0       </td><td style=\"text-align: right;\">0        </td><td style=\"text-align: right;\"> 0.11</td><td style=\"text-align: right;\"> 0.74</td><td style=\"text-align: right;\"> 0.15</td><td style=\"text-align: right;\">    0</td><td style=\"text-align: right;\">    0</td><td style=\"text-align: right;\">    0</td><td style=\"text-align: right;\">          152</td><td style=\"text-align: right;\">             0.13</td><td style=\"text-align: right;\">        36191</td><td style=\"text-align: right;\">     289.528 </td><td style=\"text-align: right;\">    546.76  </td><td style=\"text-align: right;\">     3.50351</td><td style=\"text-align: right;\">     14.4218  </td><td style=\"text-align: right;\">     0</td><td style=\"text-align: right;\">     0</td><td style=\"text-align: right;\">     0</td><td style=\"text-align: right;\">     0</td><td style=\"text-align: right;\">  0.37</td><td style=\"text-align: right;\">       1   </td><td style=\"text-align: right;\">       0   </td><td style=\"text-align: right;\">           0    </td><td style=\"text-align: right;\">             0</td><td style=\"text-align: right;\">      0       </td><td style=\"text-align: right;\">      0      </td><td style=\"text-align: right;\">      0      </td><td style=\"text-align: right;\">        0      </td><td style=\"text-align: right;\">     0</td><td style=\"text-align: right;\">     0</td><td style=\"text-align: right;\">     0</td><td style=\"text-align: right;\">     0</td><td style=\"text-align: right;\">  0   </td><td style=\"text-align: right;\">       0   </td><td style=\"text-align: right;\">       0   </td><td style=\"text-align: right;\">          0</td><td style=\"text-align: right;\">                      0</td><td style=\"text-align: right;\">       0      </td><td style=\"text-align: right;\">      0      </td><td style=\"text-align: right;\">      0      </td><td style=\"text-align: right;\">        0      </td><td style=\"text-align: right;\">            1     </td><td style=\"text-align: right;\">          0      </td><td style=\"text-align: right;\">         0       </td><td style=\"text-align: right;\">          0        </td><td>5\"          </td><td>Y         </td><td>8.1         </td><td>Y         </td><td>Y        </td><td>Y         </td><td>Bar          </td><td>Y       </td><td style=\"text-align: right;\">     10</td><td>Microsoft              </td><td>\\N              </td><td style=\"text-align: right;\">       0</td><td>\\N         </td><td style=\"text-align: right;\">         nan</td><td style=\"text-align: right;\">       nan</td><td>\\N       </td><td style=\"text-align: right;\">                   0   </td><td>B0              </td><td style=\"text-align: right;\">            0</td><td style=\"text-align: right;\">           0</td><td style=\"text-align: right;\">                 0</td><td style=\"text-align: right;\">                0</td><td>S1            </td><td>U0              </td><td>M1             </td><td>I0             </td><td>R0             </td><td>R0             </td><td>I0                      </td><td>P1                     </td><td style=\"text-align: right;\">                       0</td><td>P0                    </td><td>C0                  </td><td>C0                   </td><td>A0                 </td><td>A0                      </td><td style=\"text-align: right;\">         0</td><td style=\"text-align: right;\">       26</td><td style=\"text-align: right;\">             7</td><td style=\"text-align: right;\">                 0.27</td><td style=\"text-align: right;\">                       0.38</td><td style=\"text-align: right;\">             5</td><td style=\"text-align: right;\">            21</td><td style=\"text-align: right;\">                     0.24</td><td style=\"text-align: right;\">                     0.13</td><td style=\"text-align: right;\">                   0.43</td><td style=\"text-align: right;\">                   0   </td><td style=\"text-align: right;\">            0.43</td><td style=\"text-align: right;\">                 0.2 </td><td style=\"text-align: right;\">                 0.1 </td><td style=\"text-align: right;\">                 0   </td><td style=\"text-align: right;\">                      0   </td><td style=\"text-align: right;\">                      0   </td><td style=\"text-align: right;\">               48</td><td style=\"text-align: right;\">               52</td><td style=\"text-align: right;\">          51</td><td style=\"text-align: right;\">         16</td><td style=\"text-align: right;\">          0</td><td style=\"text-align: right;\">          2708.71</td><td style=\"text-align: right;\">                  1</td><td style=\"text-align: right;\">                  0.14</td><td>\\N        </td><td style=\"text-align: right;\">    0</td><td style=\"text-align: right;\">              0</td><td style=\"text-align: right;\">         0</td><td style=\"text-align: right;\">     199.246 </td><td style=\"text-align: right;\">   159.446  </td><td style=\"text-align: right;\">   1.71885  </td><td style=\"text-align: right;\">      2.46607 </td><td style=\"text-align: right;\">        35.75</td><td style=\"text-align: right;\">       600.15</td><td style=\"text-align: right;\">            -0.2 </td><td style=\"text-align: right;\">             5.32</td><td>B0              </td><td style=\"text-align: right;\">          0</td><td style=\"text-align: right;\">          0</td><td style=\"text-align: right;\">          0</td><td style=\"text-align: right;\">          0</td><td style=\"text-align: right;\">          0</td><td style=\"text-align: right;\">          0</td><td style=\"text-align: right;\">          0</td><td style=\"text-align: right;\">          0</td><td style=\"text-align: right;\">          0</td><td style=\"text-align: right;\">          0</td><td style=\"text-align: right;\">              2</td><td style=\"text-align: right;\">         -275</td><td style=\"text-align: right;\">            0</td><td style=\"text-align: right;\">            0</td><td style=\"text-align: right;\">            0</td><td style=\"text-align: right;\">            4</td><td style=\"text-align: right;\">       800   </td><td style=\"text-align: right;\">     200     </td><td style=\"text-align: right;\">             0</td><td style=\"text-align: right;\">             0</td><td style=\"text-align: right;\">             0</td><td style=\"text-align: right;\">                 18</td><td style=\"text-align: right;\">                 90</td><td style=\"text-align: right;\">                18</td><td style=\"text-align: right;\">           42</td><td style=\"text-align: right;\">            11</td><td style=\"text-align: right;\">            0</td><td style=\"text-align: right;\">             0</td><td style=\"text-align: right;\">             0</td><td style=\"text-align: right;\">              0</td><td style=\"text-align: right;\">             0</td><td style=\"text-align: right;\">              0</td></tr>\n",
       "<tr><td style=\"text-align: right;\">   214678</td><td style=\"text-align: right;\">      0</td><td>B8      </td><td>S1      </td><td>S1         </td><td style=\"text-align: right;\">      5281</td><td style=\"text-align: right;\">                0</td><td>T20007038</td><td>L0           </td><td>S0       </td><td>\\N       </td><td>C3        </td><td>P1          </td><td>T7        </td><td>\\N             </td><td>Active      </td><td>C1             </td><td style=\"text-align: right;\">           0</td><td>I35698505</td><td style=\"text-align: right;\">       1376</td><td style=\"text-align: right;\">       1671</td><td style=\"text-align: right;\">        295</td><td style=\"text-align: right;\">         0.82</td><td style=\"text-align: right;\">         4.42675</td><td style=\"text-align: right;\">              2</td><td style=\"text-align: right;\">     505.333</td><td style=\"text-align: right;\">         1220</td><td>\\N      </td><td style=\"text-align: right;\">   43</td><td style=\"text-align: right;\">525.1 </td><td style=\"text-align: right;\">    17.5033 </td><td style=\"text-align: right;\">   5.33575 </td><td style=\"text-align: right;\">     28.8404 </td><td style=\"text-align: right;\">  742</td><td style=\"text-align: right;\">               0</td><td style=\"text-align: right;\">                 0.36</td><td style=\"text-align: right;\">    1484.6   </td><td style=\"text-align: right;\">     680.44 </td><td style=\"text-align: right;\">    0.554188</td><td style=\"text-align: right;\">      0.967882</td><td style=\"text-align: right;\">                837</td><td style=\"text-align: right;\">           27.9    </td><td style=\"text-align: right;\">          10.5178 </td><td style=\"text-align: right;\">         0.0683454</td><td style=\"text-align: right;\">           -0.716534</td><td style=\"text-align: right;\">0.0892496 </td><td style=\"text-align: right;\">0.796803</td><td style=\"text-align: right;\">0.113948  </td><td style=\"text-align: right;\">0        </td><td style=\"text-align: right;\">0       </td><td style=\"text-align: right;\">0        </td><td style=\"text-align: right;\"> 0.13</td><td style=\"text-align: right;\"> 0.69</td><td style=\"text-align: right;\"> 0.18</td><td style=\"text-align: right;\">    0</td><td style=\"text-align: right;\">    0</td><td style=\"text-align: right;\">    0</td><td style=\"text-align: right;\">          320</td><td style=\"text-align: right;\">             0.11</td><td style=\"text-align: right;\">        44538</td><td style=\"text-align: right;\">      86.4816</td><td style=\"text-align: right;\">    155.039 </td><td style=\"text-align: right;\">     9.44289</td><td style=\"text-align: right;\">    141.856   </td><td style=\"text-align: right;\">     0</td><td style=\"text-align: right;\">     0</td><td style=\"text-align: right;\">     0</td><td style=\"text-align: right;\">     0</td><td style=\"text-align: right;\">  0.64</td><td style=\"text-align: right;\">       0.66</td><td style=\"text-align: right;\">       0.34</td><td style=\"text-align: right;\">           0    </td><td style=\"text-align: right;\">            50</td><td style=\"text-align: right;\">     24.9686  </td><td style=\"text-align: right;\">     18.2931 </td><td style=\"text-align: right;\">      0      </td><td style=\"text-align: right;\">        0      </td><td style=\"text-align: right;\">     0</td><td style=\"text-align: right;\">     0</td><td style=\"text-align: right;\">     0</td><td style=\"text-align: right;\">     0</td><td style=\"text-align: right;\">  1   </td><td style=\"text-align: right;\">       0   </td><td style=\"text-align: right;\">       1   </td><td style=\"text-align: right;\">          0</td><td style=\"text-align: right;\">                      1</td><td style=\"text-align: right;\">      49.9373 </td><td style=\"text-align: right;\">      0      </td><td style=\"text-align: right;\">      0      </td><td style=\"text-align: right;\">        0      </td><td style=\"text-align: right;\">            2     </td><td style=\"text-align: right;\">          0      </td><td style=\"text-align: right;\">         0       </td><td style=\"text-align: right;\">          0        </td><td>\\N          </td><td>N         </td><td>Android_4.2 </td><td>Y         </td><td>Y        </td><td>N         </td><td>Bar          </td><td>Y       </td><td style=\"text-align: right;\">      2</td><td>Samsung                </td><td>F0              </td><td style=\"text-align: right;\">     823</td><td>Other      </td><td style=\"text-align: right;\">      219834</td><td style=\"text-align: right;\">     23291</td><td>A1       </td><td style=\"text-align: right;\">                   0.11</td><td>B1              </td><td style=\"text-align: right;\">           16</td><td style=\"text-align: right;\">          16</td><td style=\"text-align: right;\">                 1</td><td style=\"text-align: right;\">                1</td><td>S0            </td><td>U0              </td><td>M0             </td><td>I0             </td><td>R1             </td><td>R1             </td><td>I0                      </td><td>P1                     </td><td style=\"text-align: right;\">                       0</td><td>P1                    </td><td>C0                  </td><td>C0                   </td><td>A0                 </td><td>A0                      </td><td style=\"text-align: right;\">         0</td><td style=\"text-align: right;\">       83</td><td style=\"text-align: right;\">            14</td><td style=\"text-align: right;\">                 0.17</td><td style=\"text-align: right;\">                       0.59</td><td style=\"text-align: right;\">            12</td><td style=\"text-align: right;\">            71</td><td style=\"text-align: right;\">                     0.49</td><td style=\"text-align: right;\">                     0.16</td><td style=\"text-align: right;\">                   0.21</td><td style=\"text-align: right;\">                   0.02</td><td style=\"text-align: right;\">            0.36</td><td style=\"text-align: right;\">                 0.25</td><td style=\"text-align: right;\">                 0.03</td><td style=\"text-align: right;\">                 0   </td><td style=\"text-align: right;\">                      0   </td><td style=\"text-align: right;\">                      0   </td><td style=\"text-align: right;\">               38</td><td style=\"text-align: right;\">               47</td><td style=\"text-align: right;\">          42</td><td style=\"text-align: right;\">         10</td><td style=\"text-align: right;\">          0</td><td style=\"text-align: right;\">          2108.5 </td><td style=\"text-align: right;\">                  2</td><td style=\"text-align: right;\">                  0.36</td><td>\\N        </td><td style=\"text-align: right;\">    0</td><td style=\"text-align: right;\">              0</td><td style=\"text-align: right;\">         0</td><td style=\"text-align: right;\">      94.8024</td><td style=\"text-align: right;\">    54.6385 </td><td style=\"text-align: right;\">   0.247701 </td><td style=\"text-align: right;\">     -0.756398</td><td style=\"text-align: right;\">        -7.52</td><td style=\"text-align: right;\">       191.8 </td><td style=\"text-align: right;\">            -0.48</td><td style=\"text-align: right;\">             4.92</td><td>B0              </td><td style=\"text-align: right;\">          0</td><td style=\"text-align: right;\">          0</td><td style=\"text-align: right;\">          0</td><td style=\"text-align: right;\">          0</td><td style=\"text-align: right;\">          0</td><td style=\"text-align: right;\">          0</td><td style=\"text-align: right;\">          0</td><td style=\"text-align: right;\">          0</td><td style=\"text-align: right;\">          0</td><td style=\"text-align: right;\">          0</td><td style=\"text-align: right;\">              2</td><td style=\"text-align: right;\">         -164</td><td style=\"text-align: right;\">            0</td><td style=\"text-align: right;\">            0</td><td style=\"text-align: right;\">            0</td><td style=\"text-align: right;\">            4</td><td style=\"text-align: right;\">       674   </td><td style=\"text-align: right;\">     168.5   </td><td style=\"text-align: right;\">             0</td><td style=\"text-align: right;\">             0</td><td style=\"text-align: right;\">             0</td><td style=\"text-align: right;\">                  0</td><td style=\"text-align: right;\">                  0</td><td style=\"text-align: right;\">                 0</td><td style=\"text-align: right;\">           30</td><td style=\"text-align: right;\">            12</td><td style=\"text-align: right;\">            0</td><td style=\"text-align: right;\">             0</td><td style=\"text-align: right;\">             0</td><td style=\"text-align: right;\">              0</td><td style=\"text-align: right;\">             0</td><td style=\"text-align: right;\">              0</td></tr>\n",
       "<tr><td style=\"text-align: right;\">   217842</td><td style=\"text-align: right;\">      1</td><td>B8      </td><td>S1      </td><td>S1         </td><td style=\"text-align: right;\">      5204</td><td style=\"text-align: right;\">                0</td><td>T20009727</td><td>L0           </td><td>S-2      </td><td>\\N       </td><td>C3        </td><td>P1          </td><td>T1        </td><td>\\N             </td><td>Active      </td><td>C1             </td><td style=\"text-align: right;\">           0</td><td>I35482906</td><td style=\"text-align: right;\">       1032</td><td style=\"text-align: right;\">       1259</td><td style=\"text-align: right;\">        227</td><td style=\"text-align: right;\">         0.82</td><td style=\"text-align: right;\">         3.49941</td><td style=\"text-align: right;\">              3</td><td style=\"text-align: right;\">     105.812</td><td style=\"text-align: right;\">          756</td><td>\\N      </td><td style=\"text-align: right;\">   43</td><td style=\"text-align: right;\">115.35</td><td style=\"text-align: right;\">     3.845  </td><td style=\"text-align: right;\">   5.43477 </td><td style=\"text-align: right;\">     29.6677 </td><td style=\"text-align: right;\">  115</td><td style=\"text-align: right;\">               0</td><td style=\"text-align: right;\">                 0.53</td><td style=\"text-align: right;\">     229.533 </td><td style=\"text-align: right;\">     198.758</td><td style=\"text-align: right;\">    0.71064 </td><td style=\"text-align: right;\">     -0.211871</td><td style=\"text-align: right;\">               1197</td><td style=\"text-align: right;\">           39.9    </td><td style=\"text-align: right;\">          17.3327 </td><td style=\"text-align: right;\">         0.860964 </td><td style=\"text-align: right;\">            0.122564</td><td style=\"text-align: right;\">0.0198954 </td><td style=\"text-align: right;\">0.972117</td><td style=\"text-align: right;\">0.00798722</td><td style=\"text-align: right;\">0.511358 </td><td style=\"text-align: right;\">0.351811</td><td style=\"text-align: right;\">0.136831 </td><td style=\"text-align: right;\"> 0.12</td><td style=\"text-align: right;\"> 0.62</td><td style=\"text-align: right;\"> 0.26</td><td style=\"text-align: right;\">    0</td><td style=\"text-align: right;\">    0</td><td style=\"text-align: right;\">    0</td><td style=\"text-align: right;\">          182</td><td style=\"text-align: right;\">             0.06</td><td style=\"text-align: right;\">         6886</td><td style=\"text-align: right;\">      51.7744</td><td style=\"text-align: right;\">     57.4795</td><td style=\"text-align: right;\">     3.82557</td><td style=\"text-align: right;\">     22.9314  </td><td style=\"text-align: right;\">     0</td><td style=\"text-align: right;\">     0</td><td style=\"text-align: right;\">     0</td><td style=\"text-align: right;\">     0</td><td style=\"text-align: right;\">  0.47</td><td style=\"text-align: right;\">       0.47</td><td style=\"text-align: right;\">       0.53</td><td style=\"text-align: right;\">           0.806</td><td style=\"text-align: right;\">           177</td><td style=\"text-align: right;\">      0.201055</td><td style=\"text-align: right;\">      1.10043</td><td style=\"text-align: right;\">     13.8071 </td><td style=\"text-align: right;\">      269.087  </td><td style=\"text-align: right;\">     0</td><td style=\"text-align: right;\">     0</td><td style=\"text-align: right;\">     0</td><td style=\"text-align: right;\">     0</td><td style=\"text-align: right;\">  0.03</td><td style=\"text-align: right;\">       0.01</td><td style=\"text-align: right;\">       0.99</td><td style=\"text-align: right;\">          0</td><td style=\"text-align: right;\">                     30</td><td style=\"text-align: right;\">       5.9043 </td><td style=\"text-align: right;\">      6.76023</td><td style=\"text-align: right;\">      2.47205</td><td style=\"text-align: right;\">        7.98276</td><td style=\"text-align: right;\">           29.3667</td><td style=\"text-align: right;\">         13.8744 </td><td style=\"text-align: right;\">         1.11888 </td><td style=\"text-align: right;\">          1.36302  </td><td>\\N          </td><td>\\N        </td><td>            </td><td>\\N        </td><td>\\N       </td><td>\\N        </td><td>\\N           </td><td>\\N      </td><td style=\"text-align: right;\">    nan</td><td>\\N                     </td><td>F0              </td><td style=\"text-align: right;\">     823</td><td>Low Bundle </td><td style=\"text-align: right;\">      204590</td><td style=\"text-align: right;\">    128550</td><td>A1       </td><td style=\"text-align: right;\">                   0.63</td><td>B0              </td><td style=\"text-align: right;\">            0</td><td style=\"text-align: right;\">           0</td><td style=\"text-align: right;\">                 0</td><td style=\"text-align: right;\">                0</td><td>S1            </td><td>U1              </td><td>M0             </td><td>I0             </td><td>R0             </td><td>R0             </td><td>I0                      </td><td>P1                     </td><td style=\"text-align: right;\">                       0</td><td>P0                    </td><td>C0                  </td><td>C0                   </td><td>A0                 </td><td>A0                      </td><td style=\"text-align: right;\">         0</td><td style=\"text-align: right;\">        9</td><td style=\"text-align: right;\">             3</td><td style=\"text-align: right;\">                 0.33</td><td style=\"text-align: right;\">                       0.89</td><td style=\"text-align: right;\">             2</td><td style=\"text-align: right;\">             7</td><td style=\"text-align: right;\">                     0.45</td><td style=\"text-align: right;\">                     0.02</td><td style=\"text-align: right;\">                   0.2 </td><td style=\"text-align: right;\">                   0   </td><td style=\"text-align: right;\">            0   </td><td style=\"text-align: right;\">                 0   </td><td style=\"text-align: right;\">                 0   </td><td style=\"text-align: right;\">                 0   </td><td style=\"text-align: right;\">                      0   </td><td style=\"text-align: right;\">                      0   </td><td style=\"text-align: right;\">               39</td><td style=\"text-align: right;\">               39</td><td style=\"text-align: right;\">          39</td><td style=\"text-align: right;\">          0</td><td style=\"text-align: right;\">          0</td><td style=\"text-align: right;\">          1913.33</td><td style=\"text-align: right;\">                  1</td><td style=\"text-align: right;\">                  0.33</td><td>\\N        </td><td style=\"text-align: right;\">    0</td><td style=\"text-align: right;\">              0</td><td style=\"text-align: right;\">         0</td><td style=\"text-align: right;\">     100.51  </td><td style=\"text-align: right;\">    18.9637 </td><td style=\"text-align: right;\">   4.63262  </td><td style=\"text-align: right;\">     22.4493  </td><td style=\"text-align: right;\">        91.24</td><td style=\"text-align: right;\">       191.24</td><td style=\"text-align: right;\">             0   </td><td style=\"text-align: right;\">            10.16</td><td>B0              </td><td style=\"text-align: right;\">          0</td><td style=\"text-align: right;\">          0</td><td style=\"text-align: right;\">          0</td><td style=\"text-align: right;\">          0</td><td style=\"text-align: right;\">          0</td><td style=\"text-align: right;\">          0</td><td style=\"text-align: right;\">          0</td><td style=\"text-align: right;\">          0</td><td style=\"text-align: right;\">          0</td><td style=\"text-align: right;\">          0</td><td style=\"text-align: right;\">              0</td><td style=\"text-align: right;\">            0</td><td style=\"text-align: right;\">            0</td><td style=\"text-align: right;\">            0</td><td style=\"text-align: right;\">            0</td><td style=\"text-align: right;\">            1</td><td style=\"text-align: right;\">       100   </td><td style=\"text-align: right;\">     100     </td><td style=\"text-align: right;\">             0</td><td style=\"text-align: right;\">             0</td><td style=\"text-align: right;\">             0</td><td style=\"text-align: right;\">                  0</td><td style=\"text-align: right;\">                  0</td><td style=\"text-align: right;\">                 0</td><td style=\"text-align: right;\">          143</td><td style=\"text-align: right;\">            15</td><td style=\"text-align: right;\">            0</td><td style=\"text-align: right;\">             0</td><td style=\"text-align: right;\">             0</td><td style=\"text-align: right;\">              0</td><td style=\"text-align: right;\">             0</td><td style=\"text-align: right;\">              0</td></tr>\n",
       "</tbody>\n",
       "</table>"
      ]
     },
     "metadata": {},
     "output_type": "display_data"
    },
    {
     "data": {
      "text/plain": []
     },
     "execution_count": 86,
     "metadata": {},
     "output_type": "execute_result"
    }
   ],
   "source": [
    "data.head()"
   ]
  },
  {
   "cell_type": "code",
   "execution_count": 90,
   "metadata": {
    "collapsed": false
   },
   "outputs": [
    {
     "name": "stdout",
     "output_type": "stream",
     "text": [
      "Interactions progress: |██████████████████████████████████████████████████| 100%\n"
     ]
    }
   ],
   "source": [
    "data.interaction(factors=[1, 2, 3], pairwise=True, max_factors=1000000, min_occurrence=10, destination_frame='data_interaction')\n",
    "data_int = h2o.get_frame('data_interaction')\n",
    "data_full = data.cbind(data_int)"
   ]
  },
  {
   "cell_type": "code",
   "execution_count": null,
   "metadata": {
    "collapsed": true
   },
   "outputs": [],
   "source": []
  },
  {
   "cell_type": "markdown",
   "metadata": {
    "deletable": true,
    "editable": true
   },
   "source": [
    "## Model"
   ]
  },
  {
   "cell_type": "markdown",
   "metadata": {},
   "source": [
    "Modeling In H2O\n",
    "H2OEstimator\n",
    "H2ODeepLearningEstimator\n",
    "H2OAutoEncoderEstimator\n",
    "H2ORandomForestEstimator\n",
    "H2OGradientBoostingEstimator\n",
    "H2OGeneralizedLinearEstimator\n",
    "H2OGeneralizedLowRankEstimator\n",
    "H2OKMeansEstimator\n",
    "H2ONaiveBayesEstimator"
   ]
  },
  {
   "cell_type": "code",
   "execution_count": 99,
   "metadata": {
    "collapsed": true,
    "deletable": true,
    "editable": true
   },
   "outputs": [],
   "source": [
    "gbm = h2o.estimators.gbm.H2OGradientBoostingEstimator(ntrees=10, max_depth=5, min_rows=2, learn_rate=0.1,\n",
    "                                                                 #balance_classes=True,\n",
    "                                                                 #fold_assignment='Stratified', nfolds=3,\n",
    "                                                                col_sample_rate=1.0, sample_rate=1.0,\n",
    "                                                                learn_rate_annealing=0.999,\n",
    "                                                                #class_sampling_factors=[1.0, 10.0]\n",
    "                                                     )"
   ]
  },
  {
   "cell_type": "code",
   "execution_count": 85,
   "metadata": {
    "collapsed": false,
    "deletable": true,
    "editable": true
   },
   "outputs": [],
   "source": [
    "train, val, test = data.split_frame(ratios=[0.8, 0.1])"
   ]
  },
  {
   "cell_type": "code",
   "execution_count": null,
   "metadata": {
    "collapsed": true
   },
   "outputs": [],
   "source": [
    "splits = data.split_frame(ratios=[0.7, 0.15], seed=1)  \n",
    "\n",
    "train = splits[0]\n",
    "valid = splits[1]\n",
    "test = splits[2]"
   ]
  },
  {
   "cell_type": "code",
   "execution_count": 93,
   "metadata": {
    "collapsed": true
   },
   "outputs": [],
   "source": [
    "cols = ['branch',\n",
    " 'status',\n",
    " 'subs_type',\n",
    " 'lifetime',\n",
    " 'firstcall_delay',\n",
    " 'tp_id',\n",
    " 'sim_lte_flg',\n",
    " 'segm_id',\n",
    " 'sms_out',\n",
    " 'cpe_type',\n",
    " 'phone_type',\n",
    " 'tp_group',\n",
    " 'sales_channel',\n",
    " 'flash_code',\n",
    " 'calc_platform',\n",
    " 'last_flash',\n",
    " 'imei8',\n",
    " 'start_lag',\n",
    " 'cpe_m_age',\n",
    " 'cpe_p_age',\n",
    " '5',\n",
    " '6',\n",
    " 'cpe_p_age_root',\n",
    " 'start_lag_log']"
   ]
  },
  {
   "cell_type": "code",
   "execution_count": 100,
   "metadata": {
    "collapsed": false,
    "deletable": true,
    "editable": true
   },
   "outputs": [
    {
     "name": "stdout",
     "output_type": "stream",
     "text": [
      "gbm Model Build progress: |███████████████████████████████████████████████| 100%\n",
      "CPU times: user 490 ms, sys: 34 ms, total: 524 ms\n",
      "Wall time: 54.9 s\n"
     ]
    }
   ],
   "source": [
    "%%time\n",
    "gbm.train(x=cols, y='label', training_frame=train, validation_frame=val)"
   ]
  },
  {
   "cell_type": "code",
   "execution_count": 104,
   "metadata": {
    "collapsed": false
   },
   "outputs": [
    {
     "name": "stdout",
     "output_type": "stream",
     "text": [
      "Model Details\n",
      "=============\n",
      "H2OGradientBoostingEstimator :  Gradient Boosting Machine\n",
      "Model Key:  GBM_model_python_1534157314502_2\n",
      "\n",
      "\n",
      "ModelMetricsBinomial: gbm\n",
      "** Reported on train data. **\n",
      "\n",
      "MSE: 0.07475988394107885\n",
      "RMSE: 0.27342253736859157\n",
      "LogLoss: 0.277362108218346\n",
      "Mean Per-Class Error: 0.3923006886550583\n",
      "AUC: 0.6476486781814623\n",
      "Gini: 0.29529735636292465\n",
      "Confusion Matrix (Act/Pred) for max f1 @ threshold = 0.8378003603518285: \n"
     ]
    },
    {
     "data": {
      "text/html": [
       "<div style=\"overflow:auto\"><table style=\"width:50%\"><tr><td><b></b></td>\n",
       "<td><b>1</b></td>\n",
       "<td><b>0</b></td>\n",
       "<td><b>Error</b></td>\n",
       "<td><b>Rate</b></td></tr>\n",
       "<tr><td>1</td>\n",
       "<td>0.0</td>\n",
       "<td>1612190.0</td>\n",
       "<td>1.0</td>\n",
       "<td> (1612190.0/1612190.0)</td></tr>\n",
       "<tr><td>0</td>\n",
       "<td>0.0</td>\n",
       "<td>17803287.0000000</td>\n",
       "<td>0.0</td>\n",
       "<td> (0.0/17803287.0)</td></tr>\n",
       "<tr><td>Total</td>\n",
       "<td>0.0</td>\n",
       "<td>19415477.0000000</td>\n",
       "<td>0.083</td>\n",
       "<td> (1612190.0/19415477.0)</td></tr></table></div>"
      ],
      "text/plain": [
       "       1    0            Error    Rate\n",
       "-----  ---  -----------  -------  ----------------------\n",
       "1      0    1.61219e+06  1        (1612190.0/1612190.0)\n",
       "0      0    1.78033e+07  0        (0.0/17803287.0)\n",
       "Total  0    1.94155e+07  0.083    (1612190.0/19415477.0)"
      ]
     },
     "metadata": {},
     "output_type": "display_data"
    },
    {
     "name": "stdout",
     "output_type": "stream",
     "text": [
      "Maximum Metrics: Maximum metrics at their respective thresholds\n",
      "\n"
     ]
    },
    {
     "data": {
      "text/html": [
       "<div style=\"overflow:auto\"><table style=\"width:50%\"><tr><td><b>metric</b></td>\n",
       "<td><b>threshold</b></td>\n",
       "<td><b>value</b></td>\n",
       "<td><b>idx</b></td></tr>\n",
       "<tr><td>max f1</td>\n",
       "<td>0.8378004</td>\n",
       "<td>0.9566834</td>\n",
       "<td>399.0</td></tr>\n",
       "<tr><td>max f2</td>\n",
       "<td>0.8378004</td>\n",
       "<td>0.9822110</td>\n",
       "<td>399.0</td></tr>\n",
       "<tr><td>max f0point5</td>\n",
       "<td>0.8378004</td>\n",
       "<td>0.9324491</td>\n",
       "<td>399.0</td></tr>\n",
       "<tr><td>max accuracy</td>\n",
       "<td>0.8378004</td>\n",
       "<td>0.9169637</td>\n",
       "<td>399.0</td></tr>\n",
       "<tr><td>max precision</td>\n",
       "<td>0.9560129</td>\n",
       "<td>0.9980431</td>\n",
       "<td>0.0</td></tr>\n",
       "<tr><td>max recall</td>\n",
       "<td>0.8378004</td>\n",
       "<td>1.0</td>\n",
       "<td>399.0</td></tr>\n",
       "<tr><td>max specificity</td>\n",
       "<td>0.9560129</td>\n",
       "<td>0.9999994</td>\n",
       "<td>0.0</td></tr>\n",
       "<tr><td>max absolute_mcc</td>\n",
       "<td>0.9096738</td>\n",
       "<td>0.1202521</td>\n",
       "<td>191.0</td></tr>\n",
       "<tr><td>max min_per_class_accuracy</td>\n",
       "<td>0.9133623</td>\n",
       "<td>0.6054740</td>\n",
       "<td>174.0</td></tr>\n",
       "<tr><td>max mean_per_class_accuracy</td>\n",
       "<td>0.9150911</td>\n",
       "<td>0.6076993</td>\n",
       "<td>165.0</td></tr></table></div>"
      ],
      "text/plain": [
       "metric                       threshold    value     idx\n",
       "---------------------------  -----------  --------  -----\n",
       "max f1                       0.8378       0.956683  399\n",
       "max f2                       0.8378       0.982211  399\n",
       "max f0point5                 0.8378       0.932449  399\n",
       "max accuracy                 0.8378       0.916964  399\n",
       "max precision                0.956013     0.998043  0\n",
       "max recall                   0.8378       1         399\n",
       "max specificity              0.956013     0.999999  0\n",
       "max absolute_mcc             0.909674     0.120252  191\n",
       "max min_per_class_accuracy   0.913362     0.605474  174\n",
       "max mean_per_class_accuracy  0.915091     0.607699  165"
      ]
     },
     "metadata": {},
     "output_type": "display_data"
    },
    {
     "name": "stdout",
     "output_type": "stream",
     "text": [
      "Gains/Lift Table: Avg response rate: 91.70 %\n",
      "\n"
     ]
    },
    {
     "data": {
      "text/html": [
       "<div style=\"overflow:auto\"><table style=\"width:50%\"><tr><td><b></b></td>\n",
       "<td><b>group</b></td>\n",
       "<td><b>cumulative_data_fraction</b></td>\n",
       "<td><b>lower_threshold</b></td>\n",
       "<td><b>lift</b></td>\n",
       "<td><b>cumulative_lift</b></td>\n",
       "<td><b>response_rate</b></td>\n",
       "<td><b>cumulative_response_rate</b></td>\n",
       "<td><b>capture_rate</b></td>\n",
       "<td><b>cumulative_capture_rate</b></td>\n",
       "<td><b>gain</b></td>\n",
       "<td><b>cumulative_gain</b></td></tr>\n",
       "<tr><td></td>\n",
       "<td>1</td>\n",
       "<td>0.0596218</td>\n",
       "<td>0.9505520</td>\n",
       "<td>1.0601675</td>\n",
       "<td>1.0601675</td>\n",
       "<td>0.9721351</td>\n",
       "<td>0.9721351</td>\n",
       "<td>0.0632091</td>\n",
       "<td>0.0632091</td>\n",
       "<td>6.0167540</td>\n",
       "<td>6.0167540</td></tr>\n",
       "<tr><td></td>\n",
       "<td>2</td>\n",
       "<td>0.1083837</td>\n",
       "<td>0.9475993</td>\n",
       "<td>1.0538673</td>\n",
       "<td>1.0573331</td>\n",
       "<td>0.9663581</td>\n",
       "<td>0.9695360</td>\n",
       "<td>0.0513885</td>\n",
       "<td>0.1145977</td>\n",
       "<td>5.3867341</td>\n",
       "<td>5.7333077</td></tr>\n",
       "<tr><td></td>\n",
       "<td>3</td>\n",
       "<td>0.1516800</td>\n",
       "<td>0.9428791</td>\n",
       "<td>1.0490997</td>\n",
       "<td>1.0549829</td>\n",
       "<td>0.9619863</td>\n",
       "<td>0.9673810</td>\n",
       "<td>0.0454221</td>\n",
       "<td>0.1600198</td>\n",
       "<td>4.9099691</td>\n",
       "<td>5.4982899</td></tr>\n",
       "<tr><td></td>\n",
       "<td>4</td>\n",
       "<td>0.2003876</td>\n",
       "<td>0.9396300</td>\n",
       "<td>1.0436922</td>\n",
       "<td>1.0522385</td>\n",
       "<td>0.9570278</td>\n",
       "<td>0.9648645</td>\n",
       "<td>0.0508358</td>\n",
       "<td>0.2108556</td>\n",
       "<td>4.3692211</td>\n",
       "<td>5.2238504</td></tr>\n",
       "<tr><td></td>\n",
       "<td>5</td>\n",
       "<td>0.3062006</td>\n",
       "<td>0.9339101</td>\n",
       "<td>1.0353185</td>\n",
       "<td>1.0463915</td>\n",
       "<td>0.9493494</td>\n",
       "<td>0.9595030</td>\n",
       "<td>0.1095502</td>\n",
       "<td>0.3204057</td>\n",
       "<td>3.5318499</td>\n",
       "<td>4.6391499</td></tr>\n",
       "<tr><td></td>\n",
       "<td>6</td>\n",
       "<td>0.4048407</td>\n",
       "<td>0.9270590</td>\n",
       "<td>1.0236793</td>\n",
       "<td>1.0408576</td>\n",
       "<td>0.9386767</td>\n",
       "<td>0.9544286</td>\n",
       "<td>0.1009758</td>\n",
       "<td>0.4213816</td>\n",
       "<td>2.3679279</td>\n",
       "<td>4.0857628</td></tr>\n",
       "<tr><td></td>\n",
       "<td>7</td>\n",
       "<td>0.5026487</td>\n",
       "<td>0.9188487</td>\n",
       "<td>1.0120605</td>\n",
       "<td>1.0352541</td>\n",
       "<td>0.9280227</td>\n",
       "<td>0.9492904</td>\n",
       "<td>0.0989876</td>\n",
       "<td>0.5203691</td>\n",
       "<td>1.2060508</td>\n",
       "<td>3.5254138</td></tr>\n",
       "<tr><td></td>\n",
       "<td>8</td>\n",
       "<td>0.6001525</td>\n",
       "<td>0.9123779</td>\n",
       "<td>1.0000131</td>\n",
       "<td>1.0295287</td>\n",
       "<td>0.9169757</td>\n",
       "<td>0.9440404</td>\n",
       "<td>0.0975051</td>\n",
       "<td>0.6178743</td>\n",
       "<td>0.0013107</td>\n",
       "<td>2.9528699</td></tr>\n",
       "<tr><td></td>\n",
       "<td>9</td>\n",
       "<td>0.7001191</td>\n",
       "<td>0.9047377</td>\n",
       "<td>0.9859463</td>\n",
       "<td>1.0233058</td>\n",
       "<td>0.9040769</td>\n",
       "<td>0.9383342</td>\n",
       "<td>0.0985617</td>\n",
       "<td>0.7164360</td>\n",
       "<td>-1.4053711</td>\n",
       "<td>2.3305780</td></tr>\n",
       "<tr><td></td>\n",
       "<td>10</td>\n",
       "<td>0.8002025</td>\n",
       "<td>0.8982638</td>\n",
       "<td>0.9725097</td>\n",
       "<td>1.0169526</td>\n",
       "<td>0.8917561</td>\n",
       "<td>0.9325086</td>\n",
       "<td>0.0973321</td>\n",
       "<td>0.8137680</td>\n",
       "<td>-2.7490272</td>\n",
       "<td>1.6952586</td></tr>\n",
       "<tr><td></td>\n",
       "<td>11</td>\n",
       "<td>0.9000054</td>\n",
       "<td>0.8835519</td>\n",
       "<td>0.9536808</td>\n",
       "<td>1.0099363</td>\n",
       "<td>0.8744906</td>\n",
       "<td>0.9260749</td>\n",
       "<td>0.0951801</td>\n",
       "<td>0.9089481</td>\n",
       "<td>-4.6319206</td>\n",
       "<td>0.9936289</td></tr>\n",
       "<tr><td></td>\n",
       "<td>12</td>\n",
       "<td>1.0</td>\n",
       "<td>0.8378003</td>\n",
       "<td>0.9105680</td>\n",
       "<td>1.0</td>\n",
       "<td>0.8349578</td>\n",
       "<td>0.9169637</td>\n",
       "<td>0.0910519</td>\n",
       "<td>1.0</td>\n",
       "<td>-8.9431957</td>\n",
       "<td>0.0</td></tr></table></div>"
      ],
      "text/plain": [
       "    group    cumulative_data_fraction    lower_threshold    lift      cumulative_lift    response_rate    cumulative_response_rate    capture_rate    cumulative_capture_rate    gain        cumulative_gain\n",
       "--  -------  --------------------------  -----------------  --------  -----------------  ---------------  --------------------------  --------------  -------------------------  ----------  -----------------\n",
       "    1        0.0596218                   0.950552           1.06017   1.06017            0.972135         0.972135                    0.0632091       0.0632091                  6.01675     6.01675\n",
       "    2        0.108384                    0.947599           1.05387   1.05733            0.966358         0.969536                    0.0513885       0.114598                   5.38673     5.73331\n",
       "    3        0.15168                     0.942879           1.0491    1.05498            0.961986         0.967381                    0.0454221       0.16002                    4.90997     5.49829\n",
       "    4        0.200388                    0.93963            1.04369   1.05224            0.957028         0.964864                    0.0508358       0.210856                   4.36922     5.22385\n",
       "    5        0.306201                    0.93391            1.03532   1.04639            0.949349         0.959503                    0.10955         0.320406                   3.53185     4.63915\n",
       "    6        0.404841                    0.927059           1.02368   1.04086            0.938677         0.954429                    0.100976        0.421382                   2.36793     4.08576\n",
       "    7        0.502649                    0.918849           1.01206   1.03525            0.928023         0.94929                     0.0989876       0.520369                   1.20605     3.52541\n",
       "    8        0.600153                    0.912378           1.00001   1.02953            0.916976         0.94404                     0.0975051       0.617874                   0.00131069  2.95287\n",
       "    9        0.700119                    0.904738           0.985946  1.02331            0.904077         0.938334                    0.0985617       0.716436                   -1.40537    2.33058\n",
       "    10       0.800203                    0.898264           0.97251   1.01695            0.891756         0.932509                    0.0973321       0.813768                   -2.74903    1.69526\n",
       "    11       0.900005                    0.883552           0.953681  1.00994            0.874491         0.926075                    0.0951801       0.908948                   -4.63192    0.993629\n",
       "    12       1                           0.8378             0.910568  1                  0.834958         0.916964                    0.0910519       1                          -8.9432     0"
      ]
     },
     "metadata": {},
     "output_type": "display_data"
    },
    {
     "name": "stdout",
     "output_type": "stream",
     "text": [
      "\n",
      "\n",
      "ModelMetricsBinomial: gbm\n",
      "** Reported on validation data. **\n",
      "\n",
      "MSE: 0.07477707151861024\n",
      "RMSE: 0.27345396599539423\n",
      "LogLoss: 0.2774629112296765\n",
      "Mean Per-Class Error: 0.39286377328284106\n",
      "AUC: 0.6467659816561379\n",
      "Gini: 0.2935319633122757\n",
      "Confusion Matrix (Act/Pred) for max f1 @ threshold = 0.8378003469363726: \n"
     ]
    },
    {
     "data": {
      "text/html": [
       "<div style=\"overflow:auto\"><table style=\"width:50%\"><tr><td><b></b></td>\n",
       "<td><b>1</b></td>\n",
       "<td><b>0</b></td>\n",
       "<td><b>Error</b></td>\n",
       "<td><b>Rate</b></td></tr>\n",
       "<tr><td>1</td>\n",
       "<td>0.0</td>\n",
       "<td>201539.0</td>\n",
       "<td>1.0</td>\n",
       "<td> (201539.0/201539.0)</td></tr>\n",
       "<tr><td>0</td>\n",
       "<td>0.0</td>\n",
       "<td>2225458.0</td>\n",
       "<td>0.0</td>\n",
       "<td> (0.0/2225458.0)</td></tr>\n",
       "<tr><td>Total</td>\n",
       "<td>0.0</td>\n",
       "<td>2426997.0</td>\n",
       "<td>0.083</td>\n",
       "<td> (201539.0/2426997.0)</td></tr></table></div>"
      ],
      "text/plain": [
       "       1    0            Error    Rate\n",
       "-----  ---  -----------  -------  --------------------\n",
       "1      0    201539       1        (201539.0/201539.0)\n",
       "0      0    2.22546e+06  0        (0.0/2225458.0)\n",
       "Total  0    2.427e+06    0.083    (201539.0/2426997.0)"
      ]
     },
     "metadata": {},
     "output_type": "display_data"
    },
    {
     "name": "stdout",
     "output_type": "stream",
     "text": [
      "Maximum Metrics: Maximum metrics at their respective thresholds\n",
      "\n"
     ]
    },
    {
     "data": {
      "text/html": [
       "<div style=\"overflow:auto\"><table style=\"width:50%\"><tr><td><b>metric</b></td>\n",
       "<td><b>threshold</b></td>\n",
       "<td><b>value</b></td>\n",
       "<td><b>idx</b></td></tr>\n",
       "<tr><td>max f1</td>\n",
       "<td>0.8378003</td>\n",
       "<td>0.9566812</td>\n",
       "<td>399.0</td></tr>\n",
       "<tr><td>max f2</td>\n",
       "<td>0.8378003</td>\n",
       "<td>0.9822101</td>\n",
       "<td>399.0</td></tr>\n",
       "<tr><td>max f0point5</td>\n",
       "<td>0.8393871</td>\n",
       "<td>0.9324472</td>\n",
       "<td>398.0</td></tr>\n",
       "<tr><td>max accuracy</td>\n",
       "<td>0.8378003</td>\n",
       "<td>0.9169595</td>\n",
       "<td>399.0</td></tr>\n",
       "<tr><td>max precision</td>\n",
       "<td>0.9560034</td>\n",
       "<td>1.0</td>\n",
       "<td>0.0</td></tr>\n",
       "<tr><td>max recall</td>\n",
       "<td>0.8378003</td>\n",
       "<td>1.0</td>\n",
       "<td>399.0</td></tr>\n",
       "<tr><td>max specificity</td>\n",
       "<td>0.9560034</td>\n",
       "<td>1.0</td>\n",
       "<td>0.0</td></tr>\n",
       "<tr><td>max absolute_mcc</td>\n",
       "<td>0.9100512</td>\n",
       "<td>0.1201135</td>\n",
       "<td>186.0</td></tr>\n",
       "<tr><td>max min_per_class_accuracy</td>\n",
       "<td>0.9133597</td>\n",
       "<td>0.6053945</td>\n",
       "<td>171.0</td></tr>\n",
       "<tr><td>max mean_per_class_accuracy</td>\n",
       "<td>0.9150931</td>\n",
       "<td>0.6071362</td>\n",
       "<td>162.0</td></tr></table></div>"
      ],
      "text/plain": [
       "metric                       threshold    value     idx\n",
       "---------------------------  -----------  --------  -----\n",
       "max f1                       0.8378       0.956681  399\n",
       "max f2                       0.8378       0.98221   399\n",
       "max f0point5                 0.839387     0.932447  398\n",
       "max accuracy                 0.8378       0.91696   399\n",
       "max precision                0.956003     1         0\n",
       "max recall                   0.8378       1         399\n",
       "max specificity              0.956003     1         0\n",
       "max absolute_mcc             0.910051     0.120114  186\n",
       "max min_per_class_accuracy   0.91336      0.605394  171\n",
       "max mean_per_class_accuracy  0.915093     0.607136  162"
      ]
     },
     "metadata": {},
     "output_type": "display_data"
    },
    {
     "name": "stdout",
     "output_type": "stream",
     "text": [
      "Gains/Lift Table: Avg response rate: 91.70 %\n",
      "\n"
     ]
    },
    {
     "data": {
      "text/html": [
       "<div style=\"overflow:auto\"><table style=\"width:50%\"><tr><td><b></b></td>\n",
       "<td><b>group</b></td>\n",
       "<td><b>cumulative_data_fraction</b></td>\n",
       "<td><b>lower_threshold</b></td>\n",
       "<td><b>lift</b></td>\n",
       "<td><b>cumulative_lift</b></td>\n",
       "<td><b>response_rate</b></td>\n",
       "<td><b>cumulative_response_rate</b></td>\n",
       "<td><b>capture_rate</b></td>\n",
       "<td><b>cumulative_capture_rate</b></td>\n",
       "<td><b>gain</b></td>\n",
       "<td><b>cumulative_gain</b></td></tr>\n",
       "<tr><td></td>\n",
       "<td>1</td>\n",
       "<td>0.0591023</td>\n",
       "<td>0.9505520</td>\n",
       "<td>1.0598756</td>\n",
       "<td>1.0598756</td>\n",
       "<td>0.9718630</td>\n",
       "<td>0.9718630</td>\n",
       "<td>0.0626410</td>\n",
       "<td>0.0626410</td>\n",
       "<td>5.9875574</td>\n",
       "<td>5.9875574</td></tr>\n",
       "<tr><td></td>\n",
       "<td>2</td>\n",
       "<td>0.1078852</td>\n",
       "<td>0.9475993</td>\n",
       "<td>1.0531359</td>\n",
       "<td>1.0568281</td>\n",
       "<td>0.9656830</td>\n",
       "<td>0.9690685</td>\n",
       "<td>0.0513750</td>\n",
       "<td>0.1140161</td>\n",
       "<td>5.3135872</td>\n",
       "<td>5.6828053</td></tr>\n",
       "<tr><td></td>\n",
       "<td>3</td>\n",
       "<td>0.1511271</td>\n",
       "<td>0.9428791</td>\n",
       "<td>1.0473219</td>\n",
       "<td>1.0541081</td>\n",
       "<td>0.9603518</td>\n",
       "<td>0.9665744</td>\n",
       "<td>0.0452882</td>\n",
       "<td>0.1593043</td>\n",
       "<td>4.7321909</td>\n",
       "<td>5.4108065</td></tr>\n",
       "<tr><td></td>\n",
       "<td>4</td>\n",
       "<td>0.2065054</td>\n",
       "<td>0.9396152</td>\n",
       "<td>1.0427118</td>\n",
       "<td>1.0510519</td>\n",
       "<td>0.9561245</td>\n",
       "<td>0.9637721</td>\n",
       "<td>0.0577436</td>\n",
       "<td>0.2170479</td>\n",
       "<td>4.2711780</td>\n",
       "<td>5.1051937</td></tr>\n",
       "<tr><td></td>\n",
       "<td>5</td>\n",
       "<td>0.3056897</td>\n",
       "<td>0.9339101</td>\n",
       "<td>1.0351855</td>\n",
       "<td>1.0459039</td>\n",
       "<td>0.9492232</td>\n",
       "<td>0.9590515</td>\n",
       "<td>0.1026741</td>\n",
       "<td>0.3197221</td>\n",
       "<td>3.5185463</td>\n",
       "<td>4.5903889</td></tr>\n",
       "<tr><td></td>\n",
       "<td>6</td>\n",
       "<td>0.4042271</td>\n",
       "<td>0.9270590</td>\n",
       "<td>1.0242287</td>\n",
       "<td>1.0406202</td>\n",
       "<td>0.9391762</td>\n",
       "<td>0.9542066</td>\n",
       "<td>0.1009248</td>\n",
       "<td>0.4206469</td>\n",
       "<td>2.4228693</td>\n",
       "<td>4.0620182</td></tr>\n",
       "<tr><td></td>\n",
       "<td>7</td>\n",
       "<td>0.5021910</td>\n",
       "<td>0.9188487</td>\n",
       "<td>1.0118870</td>\n",
       "<td>1.0350151</td>\n",
       "<td>0.9278594</td>\n",
       "<td>0.9490670</td>\n",
       "<td>0.0991284</td>\n",
       "<td>0.5197753</td>\n",
       "<td>1.1887004</td>\n",
       "<td>3.5015117</td></tr>\n",
       "<tr><td></td>\n",
       "<td>8</td>\n",
       "<td>0.6004396</td>\n",
       "<td>0.9123731</td>\n",
       "<td>1.0005713</td>\n",
       "<td>1.0293792</td>\n",
       "<td>0.9174834</td>\n",
       "<td>0.9438990</td>\n",
       "<td>0.0983047</td>\n",
       "<td>0.6180800</td>\n",
       "<td>0.0571328</td>\n",
       "<td>2.9379157</td></tr>\n",
       "<tr><td></td>\n",
       "<td>9</td>\n",
       "<td>0.7001636</td>\n",
       "<td>0.9047377</td>\n",
       "<td>0.9864025</td>\n",
       "<td>1.0232580</td>\n",
       "<td>0.9044912</td>\n",
       "<td>0.9382862</td>\n",
       "<td>0.0983681</td>\n",
       "<td>0.7164480</td>\n",
       "<td>-1.3597481</td>\n",
       "<td>2.3258010</td></tr>\n",
       "<tr><td></td>\n",
       "<td>10</td>\n",
       "<td>0.8001028</td>\n",
       "<td>0.8982638</td>\n",
       "<td>0.9731516</td>\n",
       "<td>1.0169993</td>\n",
       "<td>0.8923406</td>\n",
       "<td>0.9325472</td>\n",
       "<td>0.0972559</td>\n",
       "<td>0.8137040</td>\n",
       "<td>-2.6848412</td>\n",
       "<td>1.6999323</td></tr>\n",
       "<tr><td></td>\n",
       "<td>11</td>\n",
       "<td>0.9000749</td>\n",
       "<td>0.8834146</td>\n",
       "<td>0.9533596</td>\n",
       "<td>1.0099308</td>\n",
       "<td>0.8741922</td>\n",
       "<td>0.9260657</td>\n",
       "<td>0.0953094</td>\n",
       "<td>0.9090133</td>\n",
       "<td>-4.6640364</td>\n",
       "<td>0.9930807</td></tr>\n",
       "<tr><td></td>\n",
       "<td>12</td>\n",
       "<td>1.0</td>\n",
       "<td>0.8378003</td>\n",
       "<td>0.9105483</td>\n",
       "<td>1.0</td>\n",
       "<td>0.8349360</td>\n",
       "<td>0.9169595</td>\n",
       "<td>0.0909867</td>\n",
       "<td>1.0</td>\n",
       "<td>-8.9451664</td>\n",
       "<td>0.0</td></tr></table></div>"
      ],
      "text/plain": [
       "    group    cumulative_data_fraction    lower_threshold    lift      cumulative_lift    response_rate    cumulative_response_rate    capture_rate    cumulative_capture_rate    gain       cumulative_gain\n",
       "--  -------  --------------------------  -----------------  --------  -----------------  ---------------  --------------------------  --------------  -------------------------  ---------  -----------------\n",
       "    1        0.0591023                   0.950552           1.05988   1.05988            0.971863         0.971863                    0.062641        0.062641                   5.98756    5.98756\n",
       "    2        0.107885                    0.947599           1.05314   1.05683            0.965683         0.969069                    0.051375        0.114016                   5.31359    5.68281\n",
       "    3        0.151127                    0.942879           1.04732   1.05411            0.960352         0.966574                    0.0452882       0.159304                   4.73219    5.41081\n",
       "    4        0.206505                    0.939615           1.04271   1.05105            0.956124         0.963772                    0.0577436       0.217048                   4.27118    5.10519\n",
       "    5        0.30569                     0.93391            1.03519   1.0459             0.949223         0.959052                    0.102674        0.319722                   3.51855    4.59039\n",
       "    6        0.404227                    0.927059           1.02423   1.04062            0.939176         0.954207                    0.100925        0.420647                   2.42287    4.06202\n",
       "    7        0.502191                    0.918849           1.01189   1.03502            0.927859         0.949067                    0.0991284       0.519775                   1.1887     3.50151\n",
       "    8        0.60044                     0.912373           1.00057   1.02938            0.917483         0.943899                    0.0983047       0.61808                    0.0571328  2.93792\n",
       "    9        0.700164                    0.904738           0.986403  1.02326            0.904491         0.938286                    0.0983681       0.716448                   -1.35975   2.3258\n",
       "    10       0.800103                    0.898264           0.973152  1.017              0.892341         0.932547                    0.0972559       0.813704                   -2.68484   1.69993\n",
       "    11       0.900075                    0.883415           0.95336   1.00993            0.874192         0.926066                    0.0953094       0.909013                   -4.66404   0.993081\n",
       "    12       1                           0.8378             0.910548  1                  0.834936         0.91696                     0.0909867       1                          -8.94517   0"
      ]
     },
     "metadata": {},
     "output_type": "display_data"
    },
    {
     "name": "stdout",
     "output_type": "stream",
     "text": [
      "\n",
      "Scoring History: \n"
     ]
    },
    {
     "data": {
      "text/html": [
       "<div style=\"overflow:auto\"><table style=\"width:50%\"><tr><td><b></b></td>\n",
       "<td><b>timestamp</b></td>\n",
       "<td><b>duration</b></td>\n",
       "<td><b>number_of_trees</b></td>\n",
       "<td><b>training_rmse</b></td>\n",
       "<td><b>training_logloss</b></td>\n",
       "<td><b>training_auc</b></td>\n",
       "<td><b>training_lift</b></td>\n",
       "<td><b>training_classification_error</b></td>\n",
       "<td><b>validation_rmse</b></td>\n",
       "<td><b>validation_logloss</b></td>\n",
       "<td><b>validation_auc</b></td>\n",
       "<td><b>validation_lift</b></td>\n",
       "<td><b>validation_classification_error</b></td></tr>\n",
       "<tr><td></td>\n",
       "<td>2018-08-13 15:01:08</td>\n",
       "<td> 0.066 sec</td>\n",
       "<td>0.0</td>\n",
       "<td>0.2759371</td>\n",
       "<td>0.2861232</td>\n",
       "<td>0.5</td>\n",
       "<td>1.0</td>\n",
       "<td>0.0830363</td>\n",
       "<td>0.2759434</td>\n",
       "<td>0.2861332</td>\n",
       "<td>0.5</td>\n",
       "<td>1.0</td>\n",
       "<td>0.0830405</td></tr>\n",
       "<tr><td></td>\n",
       "<td>2018-08-13 15:01:47</td>\n",
       "<td>38.911 sec</td>\n",
       "<td>10.0</td>\n",
       "<td>0.2734225</td>\n",
       "<td>0.2773621</td>\n",
       "<td>0.6476487</td>\n",
       "<td>1.0601675</td>\n",
       "<td>0.0830363</td>\n",
       "<td>0.2734540</td>\n",
       "<td>0.2774629</td>\n",
       "<td>0.6467660</td>\n",
       "<td>1.0598756</td>\n",
       "<td>0.0830405</td></tr></table></div>"
      ],
      "text/plain": [
       "    timestamp            duration    number_of_trees    training_rmse    training_logloss    training_auc    training_lift    training_classification_error    validation_rmse    validation_logloss    validation_auc    validation_lift    validation_classification_error\n",
       "--  -------------------  ----------  -----------------  ---------------  ------------------  --------------  ---------------  -------------------------------  -----------------  --------------------  ----------------  -----------------  ---------------------------------\n",
       "    2018-08-13 15:01:08  0.066 sec   0                  0.275937         0.286123            0.5             1                0.0830363                        0.275943           0.286133              0.5               1                  0.0830405\n",
       "    2018-08-13 15:01:47  38.911 sec  10                 0.273423         0.277362            0.647649        1.06017          0.0830363                        0.273454           0.277463              0.646766          1.05988            0.0830405"
      ]
     },
     "metadata": {},
     "output_type": "display_data"
    },
    {
     "name": "stdout",
     "output_type": "stream",
     "text": [
      "Variable Importances: \n"
     ]
    },
    {
     "data": {
      "text/html": [
       "<div style=\"overflow:auto\"><table style=\"width:50%\"><tr><td><b>variable</b></td>\n",
       "<td><b>relative_importance</b></td>\n",
       "<td><b>scaled_importance</b></td>\n",
       "<td><b>percentage</b></td></tr>\n",
       "<tr><td>cpe_p_age_root</td>\n",
       "<td>67341.0468750</td>\n",
       "<td>1.0</td>\n",
       "<td>0.4818909</td></tr>\n",
       "<tr><td>cpe_p_age</td>\n",
       "<td>18802.3613281</td>\n",
       "<td>0.2792110</td>\n",
       "<td>0.1345492</td></tr>\n",
       "<tr><td>cpe_type</td>\n",
       "<td>17832.3671875</td>\n",
       "<td>0.2648068</td>\n",
       "<td>0.1276080</td></tr>\n",
       "<tr><td>cpe_m_age</td>\n",
       "<td>14647.7275391</td>\n",
       "<td>0.2175156</td>\n",
       "<td>0.1048188</td></tr>\n",
       "<tr><td>tp_group</td>\n",
       "<td>7104.8217773</td>\n",
       "<td>0.1055051</td>\n",
       "<td>0.0508419</td></tr>\n",
       "<tr><td>---</td>\n",
       "<td>---</td>\n",
       "<td>---</td>\n",
       "<td>---</td></tr>\n",
       "<tr><td>firstcall_delay</td>\n",
       "<td>0.0</td>\n",
       "<td>0.0</td>\n",
       "<td>0.0</td></tr>\n",
       "<tr><td>sms_out</td>\n",
       "<td>0.0</td>\n",
       "<td>0.0</td>\n",
       "<td>0.0</td></tr>\n",
       "<tr><td>phone_type</td>\n",
       "<td>0.0</td>\n",
       "<td>0.0</td>\n",
       "<td>0.0</td></tr>\n",
       "<tr><td>calc_platform</td>\n",
       "<td>0.0</td>\n",
       "<td>0.0</td>\n",
       "<td>0.0</td></tr>\n",
       "<tr><td>5</td>\n",
       "<td>0.0</td>\n",
       "<td>0.0</td>\n",
       "<td>0.0</td></tr></table></div>"
      ],
      "text/plain": [
       "variable         relative_importance    scaled_importance    percentage\n",
       "---------------  ---------------------  -------------------  -------------------\n",
       "cpe_p_age_root   67341.046875           1.0                  0.4818908608168872\n",
       "cpe_p_age        18802.361328125        0.2792110042932118   0.13454923120840342\n",
       "cpe_type         17832.3671875          0.2648068008298245   0.12760797720205014\n",
       "cpe_m_age        14647.7275390625       0.2175155899529146   0.10481877488350308\n",
       "tp_group         7104.82177734375       0.10550506870693417  0.05084192837972934\n",
       "---              ---                    ---                  ---\n",
       "firstcall_delay  0.0                    0.0                  0.0\n",
       "sms_out          0.0                    0.0                  0.0\n",
       "phone_type       0.0                    0.0                  0.0\n",
       "calc_platform    0.0                    0.0                  0.0\n",
       "5                0.0                    0.0                  0.0"
      ]
     },
     "metadata": {},
     "output_type": "display_data"
    },
    {
     "name": "stdout",
     "output_type": "stream",
     "text": [
      "\n",
      "See the whole table with table.as_data_frame()\n"
     ]
    },
    {
     "data": {
      "text/plain": []
     },
     "execution_count": 104,
     "metadata": {},
     "output_type": "execute_result"
    }
   ],
   "source": [
    "gbm"
   ]
  },
  {
   "cell_type": "code",
   "execution_count": 103,
   "metadata": {
    "collapsed": false,
    "deletable": true,
    "editable": true,
    "scrolled": true
   },
   "outputs": [
    {
     "data": {
      "text/html": [
       "<div>\n",
       "<style scoped>\n",
       "    .dataframe tbody tr th:only-of-type {\n",
       "        vertical-align: middle;\n",
       "    }\n",
       "\n",
       "    .dataframe tbody tr th {\n",
       "        vertical-align: top;\n",
       "    }\n",
       "\n",
       "    .dataframe thead th {\n",
       "        text-align: right;\n",
       "    }\n",
       "</style>\n",
       "<table border=\"1\" class=\"dataframe\">\n",
       "  <thead>\n",
       "    <tr style=\"text-align: right;\">\n",
       "      <th></th>\n",
       "      <th>variable</th>\n",
       "      <th>relative_importance</th>\n",
       "      <th>scaled_importance</th>\n",
       "      <th>percentage</th>\n",
       "    </tr>\n",
       "  </thead>\n",
       "  <tbody>\n",
       "    <tr>\n",
       "      <th>0</th>\n",
       "      <td>cpe_p_age_root</td>\n",
       "      <td>67341.046875</td>\n",
       "      <td>1.000000</td>\n",
       "      <td>0.481891</td>\n",
       "    </tr>\n",
       "    <tr>\n",
       "      <th>1</th>\n",
       "      <td>cpe_p_age</td>\n",
       "      <td>18802.361328</td>\n",
       "      <td>0.279211</td>\n",
       "      <td>0.134549</td>\n",
       "    </tr>\n",
       "    <tr>\n",
       "      <th>2</th>\n",
       "      <td>cpe_type</td>\n",
       "      <td>17832.367188</td>\n",
       "      <td>0.264807</td>\n",
       "      <td>0.127608</td>\n",
       "    </tr>\n",
       "    <tr>\n",
       "      <th>3</th>\n",
       "      <td>cpe_m_age</td>\n",
       "      <td>14647.727539</td>\n",
       "      <td>0.217516</td>\n",
       "      <td>0.104819</td>\n",
       "    </tr>\n",
       "    <tr>\n",
       "      <th>4</th>\n",
       "      <td>tp_group</td>\n",
       "      <td>7104.821777</td>\n",
       "      <td>0.105505</td>\n",
       "      <td>0.050842</td>\n",
       "    </tr>\n",
       "    <tr>\n",
       "      <th>5</th>\n",
       "      <td>segm_id</td>\n",
       "      <td>5562.835938</td>\n",
       "      <td>0.082607</td>\n",
       "      <td>0.039808</td>\n",
       "    </tr>\n",
       "    <tr>\n",
       "      <th>6</th>\n",
       "      <td>start_lag</td>\n",
       "      <td>2114.807373</td>\n",
       "      <td>0.031404</td>\n",
       "      <td>0.015134</td>\n",
       "    </tr>\n",
       "    <tr>\n",
       "      <th>7</th>\n",
       "      <td>flash_code</td>\n",
       "      <td>1759.130981</td>\n",
       "      <td>0.026123</td>\n",
       "      <td>0.012588</td>\n",
       "    </tr>\n",
       "    <tr>\n",
       "      <th>8</th>\n",
       "      <td>branch</td>\n",
       "      <td>1265.862305</td>\n",
       "      <td>0.018798</td>\n",
       "      <td>0.009058</td>\n",
       "    </tr>\n",
       "    <tr>\n",
       "      <th>9</th>\n",
       "      <td>lifetime</td>\n",
       "      <td>1175.367188</td>\n",
       "      <td>0.017454</td>\n",
       "      <td>0.008411</td>\n",
       "    </tr>\n",
       "    <tr>\n",
       "      <th>10</th>\n",
       "      <td>sim_lte_flg</td>\n",
       "      <td>862.923523</td>\n",
       "      <td>0.012814</td>\n",
       "      <td>0.006175</td>\n",
       "    </tr>\n",
       "    <tr>\n",
       "      <th>11</th>\n",
       "      <td>last_flash</td>\n",
       "      <td>737.624207</td>\n",
       "      <td>0.010954</td>\n",
       "      <td>0.005278</td>\n",
       "    </tr>\n",
       "    <tr>\n",
       "      <th>12</th>\n",
       "      <td>start_lag_log</td>\n",
       "      <td>384.215088</td>\n",
       "      <td>0.005706</td>\n",
       "      <td>0.002749</td>\n",
       "    </tr>\n",
       "    <tr>\n",
       "      <th>13</th>\n",
       "      <td>imei8</td>\n",
       "      <td>112.147697</td>\n",
       "      <td>0.001665</td>\n",
       "      <td>0.000803</td>\n",
       "    </tr>\n",
       "    <tr>\n",
       "      <th>14</th>\n",
       "      <td>sales_channel</td>\n",
       "      <td>34.179928</td>\n",
       "      <td>0.000508</td>\n",
       "      <td>0.000245</td>\n",
       "    </tr>\n",
       "    <tr>\n",
       "      <th>15</th>\n",
       "      <td>tp_id</td>\n",
       "      <td>5.938641</td>\n",
       "      <td>0.000088</td>\n",
       "      <td>0.000042</td>\n",
       "    </tr>\n",
       "    <tr>\n",
       "      <th>16</th>\n",
       "      <td>status</td>\n",
       "      <td>0.000000</td>\n",
       "      <td>0.000000</td>\n",
       "      <td>0.000000</td>\n",
       "    </tr>\n",
       "    <tr>\n",
       "      <th>17</th>\n",
       "      <td>subs_type</td>\n",
       "      <td>0.000000</td>\n",
       "      <td>0.000000</td>\n",
       "      <td>0.000000</td>\n",
       "    </tr>\n",
       "    <tr>\n",
       "      <th>18</th>\n",
       "      <td>firstcall_delay</td>\n",
       "      <td>0.000000</td>\n",
       "      <td>0.000000</td>\n",
       "      <td>0.000000</td>\n",
       "    </tr>\n",
       "    <tr>\n",
       "      <th>19</th>\n",
       "      <td>sms_out</td>\n",
       "      <td>0.000000</td>\n",
       "      <td>0.000000</td>\n",
       "      <td>0.000000</td>\n",
       "    </tr>\n",
       "    <tr>\n",
       "      <th>20</th>\n",
       "      <td>phone_type</td>\n",
       "      <td>0.000000</td>\n",
       "      <td>0.000000</td>\n",
       "      <td>0.000000</td>\n",
       "    </tr>\n",
       "    <tr>\n",
       "      <th>21</th>\n",
       "      <td>calc_platform</td>\n",
       "      <td>0.000000</td>\n",
       "      <td>0.000000</td>\n",
       "      <td>0.000000</td>\n",
       "    </tr>\n",
       "    <tr>\n",
       "      <th>22</th>\n",
       "      <td>5</td>\n",
       "      <td>0.000000</td>\n",
       "      <td>0.000000</td>\n",
       "      <td>0.000000</td>\n",
       "    </tr>\n",
       "  </tbody>\n",
       "</table>\n",
       "</div>"
      ],
      "text/plain": [
       "           variable  relative_importance  scaled_importance  percentage\n",
       "0    cpe_p_age_root         67341.046875           1.000000    0.481891\n",
       "1         cpe_p_age         18802.361328           0.279211    0.134549\n",
       "2          cpe_type         17832.367188           0.264807    0.127608\n",
       "3         cpe_m_age         14647.727539           0.217516    0.104819\n",
       "4          tp_group          7104.821777           0.105505    0.050842\n",
       "5           segm_id          5562.835938           0.082607    0.039808\n",
       "6         start_lag          2114.807373           0.031404    0.015134\n",
       "7        flash_code          1759.130981           0.026123    0.012588\n",
       "8            branch          1265.862305           0.018798    0.009058\n",
       "9          lifetime          1175.367188           0.017454    0.008411\n",
       "10      sim_lte_flg           862.923523           0.012814    0.006175\n",
       "11       last_flash           737.624207           0.010954    0.005278\n",
       "12    start_lag_log           384.215088           0.005706    0.002749\n",
       "13            imei8           112.147697           0.001665    0.000803\n",
       "14    sales_channel            34.179928           0.000508    0.000245\n",
       "15            tp_id             5.938641           0.000088    0.000042\n",
       "16           status             0.000000           0.000000    0.000000\n",
       "17        subs_type             0.000000           0.000000    0.000000\n",
       "18  firstcall_delay             0.000000           0.000000    0.000000\n",
       "19          sms_out             0.000000           0.000000    0.000000\n",
       "20       phone_type             0.000000           0.000000    0.000000\n",
       "21    calc_platform             0.000000           0.000000    0.000000\n",
       "22                5             0.000000           0.000000    0.000000"
      ]
     },
     "execution_count": 103,
     "metadata": {},
     "output_type": "execute_result"
    }
   ],
   "source": [
    "gbm.varimp(True)"
   ]
  },
  {
   "cell_type": "code",
   "execution_count": 105,
   "metadata": {
    "collapsed": true,
    "deletable": true,
    "editable": true
   },
   "outputs": [],
   "source": [
    "path = h2o.save_model(gbm, path='hdfs://T2-HDFS-HA-PROD/user/andrey.lukyanenko/')\n",
    "#model = h2o.load_model(path)\n",
    "#gbm_regressor.download_mojo(path='hdfs://T2-HDFS-HA-PROD/user/andrey.lukyanenko', get_genmodel_jar=True, genmodel_name='gen')"
   ]
  },
  {
   "cell_type": "code",
   "execution_count": 119,
   "metadata": {
    "collapsed": true
   },
   "outputs": [],
   "source": [
    "model = h2o.load_model('hdfs://T2-HDFS-HA-PROD/user/andrey.lukyanenko/GBM_model_python_1532090423248_7')"
   ]
  },
  {
   "cell_type": "code",
   "execution_count": 107,
   "metadata": {
    "collapsed": false,
    "deletable": true,
    "editable": true
   },
   "outputs": [
    {
     "name": "stdout",
     "output_type": "stream",
     "text": [
      "\n",
      "ModelMetricsBinomial: gbm\n",
      "** Reported on test data. **\n",
      "\n",
      "MSE: 0.07473703208750739\n",
      "RMSE: 0.2733807456415089\n",
      "LogLoss: 0.27733520270439294\n",
      "Mean Per-Class Error: 0.3924956997111344\n",
      "AUC: 0.6469552292357914\n",
      "Gini: 0.2939104584715828\n",
      "Confusion Matrix (Act/Pred) for max f1 @ threshold = 0.8378003469363726: \n"
     ]
    },
    {
     "data": {
      "text/html": [
       "<div style=\"overflow:auto\"><table style=\"width:50%\"><tr><td><b></b></td>\n",
       "<td><b>1</b></td>\n",
       "<td><b>0</b></td>\n",
       "<td><b>Error</b></td>\n",
       "<td><b>Rate</b></td></tr>\n",
       "<tr><td>1</td>\n",
       "<td>0.0</td>\n",
       "<td>201442.0</td>\n",
       "<td>1.0</td>\n",
       "<td> (201442.0/201442.0)</td></tr>\n",
       "<tr><td>0</td>\n",
       "<td>0.0</td>\n",
       "<td>2225630.0</td>\n",
       "<td>0.0</td>\n",
       "<td> (0.0/2225630.0)</td></tr>\n",
       "<tr><td>Total</td>\n",
       "<td>0.0</td>\n",
       "<td>2427072.0</td>\n",
       "<td>0.083</td>\n",
       "<td> (201442.0/2427072.0)</td></tr></table></div>"
      ],
      "text/plain": [
       "       1    0            Error    Rate\n",
       "-----  ---  -----------  -------  --------------------\n",
       "1      0    201442       1        (201442.0/201442.0)\n",
       "0      0    2.22563e+06  0        (0.0/2225630.0)\n",
       "Total  0    2.42707e+06  0.083    (201442.0/2427072.0)"
      ]
     },
     "metadata": {},
     "output_type": "display_data"
    },
    {
     "name": "stdout",
     "output_type": "stream",
     "text": [
      "Maximum Metrics: Maximum metrics at their respective thresholds\n",
      "\n"
     ]
    },
    {
     "data": {
      "text/html": [
       "<div style=\"overflow:auto\"><table style=\"width:50%\"><tr><td><b>metric</b></td>\n",
       "<td><b>threshold</b></td>\n",
       "<td><b>value</b></td>\n",
       "<td><b>idx</b></td></tr>\n",
       "<tr><td>max f1</td>\n",
       "<td>0.8378003</td>\n",
       "<td>0.9567043</td>\n",
       "<td>399.0</td></tr>\n",
       "<tr><td>max f2</td>\n",
       "<td>0.8378003</td>\n",
       "<td>0.9822198</td>\n",
       "<td>399.0</td></tr>\n",
       "<tr><td>max f0point5</td>\n",
       "<td>0.8378003</td>\n",
       "<td>0.9324808</td>\n",
       "<td>399.0</td></tr>\n",
       "<tr><td>max accuracy</td>\n",
       "<td>0.8378003</td>\n",
       "<td>0.9170021</td>\n",
       "<td>399.0</td></tr>\n",
       "<tr><td>max precision</td>\n",
       "<td>0.9560277</td>\n",
       "<td>1.0</td>\n",
       "<td>0.0</td></tr>\n",
       "<tr><td>max recall</td>\n",
       "<td>0.8378003</td>\n",
       "<td>1.0</td>\n",
       "<td>399.0</td></tr>\n",
       "<tr><td>max specificity</td>\n",
       "<td>0.9560277</td>\n",
       "<td>1.0</td>\n",
       "<td>0.0</td></tr>\n",
       "<tr><td>max absolute_mcc</td>\n",
       "<td>0.9100507</td>\n",
       "<td>0.1204234</td>\n",
       "<td>184.0</td></tr>\n",
       "<tr><td>max min_per_class_accuracy</td>\n",
       "<td>0.9133594</td>\n",
       "<td>0.6058195</td>\n",
       "<td>169.0</td></tr>\n",
       "<tr><td>max mean_per_class_accuracy</td>\n",
       "<td>0.9149576</td>\n",
       "<td>0.6075043</td>\n",
       "<td>162.0</td></tr></table></div>"
      ],
      "text/plain": [
       "metric                       threshold    value     idx\n",
       "---------------------------  -----------  --------  -----\n",
       "max f1                       0.8378       0.956704  399\n",
       "max f2                       0.8378       0.98222   399\n",
       "max f0point5                 0.8378       0.932481  399\n",
       "max accuracy                 0.8378       0.917002  399\n",
       "max precision                0.956028     1         0\n",
       "max recall                   0.8378       1         399\n",
       "max specificity              0.956028     1         0\n",
       "max absolute_mcc             0.910051     0.120423  184\n",
       "max min_per_class_accuracy   0.913359     0.605819  169\n",
       "max mean_per_class_accuracy  0.914958     0.607504  162"
      ]
     },
     "metadata": {},
     "output_type": "display_data"
    },
    {
     "name": "stdout",
     "output_type": "stream",
     "text": [
      "Gains/Lift Table: Avg response rate: 91.70 %\n",
      "\n"
     ]
    },
    {
     "data": {
      "text/html": [
       "<div style=\"overflow:auto\"><table style=\"width:50%\"><tr><td><b></b></td>\n",
       "<td><b>group</b></td>\n",
       "<td><b>cumulative_data_fraction</b></td>\n",
       "<td><b>lower_threshold</b></td>\n",
       "<td><b>lift</b></td>\n",
       "<td><b>cumulative_lift</b></td>\n",
       "<td><b>response_rate</b></td>\n",
       "<td><b>cumulative_response_rate</b></td>\n",
       "<td><b>capture_rate</b></td>\n",
       "<td><b>cumulative_capture_rate</b></td>\n",
       "<td><b>gain</b></td>\n",
       "<td><b>cumulative_gain</b></td></tr>\n",
       "<tr><td></td>\n",
       "<td>1</td>\n",
       "<td>0.0596043</td>\n",
       "<td>0.9505520</td>\n",
       "<td>1.0596034</td>\n",
       "<td>1.0596034</td>\n",
       "<td>0.9716585</td>\n",
       "<td>0.9716585</td>\n",
       "<td>0.0631569</td>\n",
       "<td>0.0631569</td>\n",
       "<td>5.9603371</td>\n",
       "<td>5.9603371</td></tr>\n",
       "<tr><td></td>\n",
       "<td>2</td>\n",
       "<td>0.1083231</td>\n",
       "<td>0.9475993</td>\n",
       "<td>1.0532510</td>\n",
       "<td>1.0567464</td>\n",
       "<td>0.9658334</td>\n",
       "<td>0.9690386</td>\n",
       "<td>0.0513131</td>\n",
       "<td>0.1144701</td>\n",
       "<td>5.3251038</td>\n",
       "<td>5.6746382</td></tr>\n",
       "<tr><td></td>\n",
       "<td>3</td>\n",
       "<td>0.1515229</td>\n",
       "<td>0.9428791</td>\n",
       "<td>1.0485222</td>\n",
       "<td>1.0544016</td>\n",
       "<td>0.9614970</td>\n",
       "<td>0.9668885</td>\n",
       "<td>0.0452959</td>\n",
       "<td>0.1597660</td>\n",
       "<td>4.8522203</td>\n",
       "<td>5.4401636</td></tr>\n",
       "<tr><td></td>\n",
       "<td>4</td>\n",
       "<td>0.2000777</td>\n",
       "<td>0.9396300</td>\n",
       "<td>1.0430109</td>\n",
       "<td>1.0516373</td>\n",
       "<td>0.9564432</td>\n",
       "<td>0.9643536</td>\n",
       "<td>0.0506432</td>\n",
       "<td>0.2104092</td>\n",
       "<td>4.3010923</td>\n",
       "<td>5.1637341</td></tr>\n",
       "<tr><td></td>\n",
       "<td>5</td>\n",
       "<td>0.3060507</td>\n",
       "<td>0.9339101</td>\n",
       "<td>1.0355021</td>\n",
       "<td>1.0460504</td>\n",
       "<td>0.9495575</td>\n",
       "<td>0.9592303</td>\n",
       "<td>0.1097352</td>\n",
       "<td>0.3201444</td>\n",
       "<td>3.5502101</td>\n",
       "<td>4.6050360</td></tr>\n",
       "<tr><td></td>\n",
       "<td>6</td>\n",
       "<td>0.4049064</td>\n",
       "<td>0.9270590</td>\n",
       "<td>1.0230742</td>\n",
       "<td>1.0404409</td>\n",
       "<td>0.9381611</td>\n",
       "<td>0.9540864</td>\n",
       "<td>0.1011368</td>\n",
       "<td>0.4212812</td>\n",
       "<td>2.3074191</td>\n",
       "<td>4.0440851</td></tr>\n",
       "<tr><td></td>\n",
       "<td>7</td>\n",
       "<td>0.5028396</td>\n",
       "<td>0.9188487</td>\n",
       "<td>1.0129511</td>\n",
       "<td>1.0350869</td>\n",
       "<td>0.9288782</td>\n",
       "<td>0.9491768</td>\n",
       "<td>0.0992016</td>\n",
       "<td>0.5204827</td>\n",
       "<td>1.2951115</td>\n",
       "<td>3.5086940</td></tr>\n",
       "<tr><td></td>\n",
       "<td>8</td>\n",
       "<td>0.6002426</td>\n",
       "<td>0.9123779</td>\n",
       "<td>1.0004615</td>\n",
       "<td>1.0294682</td>\n",
       "<td>0.9174253</td>\n",
       "<td>0.9440244</td>\n",
       "<td>0.0974479</td>\n",
       "<td>0.6179307</td>\n",
       "<td>0.0461509</td>\n",
       "<td>2.9468179</td></tr>\n",
       "<tr><td></td>\n",
       "<td>9</td>\n",
       "<td>0.7000291</td>\n",
       "<td>0.9047332</td>\n",
       "<td>0.9863621</td>\n",
       "<td>1.0233236</td>\n",
       "<td>0.9044961</td>\n",
       "<td>0.9383898</td>\n",
       "<td>0.0984256</td>\n",
       "<td>0.7163563</td>\n",
       "<td>-1.3637892</td>\n",
       "<td>2.3323572</td></tr>\n",
       "<tr><td></td>\n",
       "<td>10</td>\n",
       "<td>0.8000035</td>\n",
       "<td>0.8983702</td>\n",
       "<td>0.9725852</td>\n",
       "<td>1.0169829</td>\n",
       "<td>0.8918626</td>\n",
       "<td>0.9325754</td>\n",
       "<td>0.0972336</td>\n",
       "<td>0.8135899</td>\n",
       "<td>-2.7414827</td>\n",
       "<td>1.6982925</td></tr>\n",
       "<tr><td></td>\n",
       "<td>11</td>\n",
       "<td>0.9002296</td>\n",
       "<td>0.8835602</td>\n",
       "<td>0.9534791</td>\n",
       "<td>1.0099128</td>\n",
       "<td>0.8743423</td>\n",
       "<td>0.9260921</td>\n",
       "<td>0.0955635</td>\n",
       "<td>0.9091534</td>\n",
       "<td>-4.6520936</td>\n",
       "<td>0.9912789</td></tr>\n",
       "<tr><td></td>\n",
       "<td>12</td>\n",
       "<td>1.0</td>\n",
       "<td>0.8378003</td>\n",
       "<td>0.9105568</td>\n",
       "<td>1.0</td>\n",
       "<td>0.8349824</td>\n",
       "<td>0.9170021</td>\n",
       "<td>0.0908466</td>\n",
       "<td>1.0</td>\n",
       "<td>-8.9443204</td>\n",
       "<td>0.0</td></tr></table></div>"
      ],
      "text/plain": [
       "    group    cumulative_data_fraction    lower_threshold    lift      cumulative_lift    response_rate    cumulative_response_rate    capture_rate    cumulative_capture_rate    gain       cumulative_gain\n",
       "--  -------  --------------------------  -----------------  --------  -----------------  ---------------  --------------------------  --------------  -------------------------  ---------  -----------------\n",
       "    1        0.0596043                   0.950552           1.0596    1.0596             0.971658         0.971658                    0.0631569       0.0631569                  5.96034    5.96034\n",
       "    2        0.108323                    0.947599           1.05325   1.05675            0.965833         0.969039                    0.0513131       0.11447                    5.3251     5.67464\n",
       "    3        0.151523                    0.942879           1.04852   1.0544             0.961497         0.966888                    0.0452959       0.159766                   4.85222    5.44016\n",
       "    4        0.200078                    0.93963            1.04301   1.05164            0.956443         0.964354                    0.0506432       0.210409                   4.30109    5.16373\n",
       "    5        0.306051                    0.93391            1.0355    1.04605            0.949558         0.95923                     0.109735        0.320144                   3.55021    4.60504\n",
       "    6        0.404906                    0.927059           1.02307   1.04044            0.938161         0.954086                    0.101137        0.421281                   2.30742    4.04409\n",
       "    7        0.50284                     0.918849           1.01295   1.03509            0.928878         0.949177                    0.0992016       0.520483                   1.29511    3.50869\n",
       "    8        0.600243                    0.912378           1.00046   1.02947            0.917425         0.944024                    0.0974479       0.617931                   0.0461509  2.94682\n",
       "    9        0.700029                    0.904733           0.986362  1.02332            0.904496         0.93839                     0.0984256       0.716356                   -1.36379   2.33236\n",
       "    10       0.800003                    0.89837            0.972585  1.01698            0.891863         0.932575                    0.0972336       0.81359                    -2.74148   1.69829\n",
       "    11       0.90023                     0.88356            0.953479  1.00991            0.874342         0.926092                    0.0955635       0.909153                   -4.65209   0.991279\n",
       "    12       1                           0.8378             0.910557  1                  0.834982         0.917002                    0.0908466       1                          -8.94432   0"
      ]
     },
     "metadata": {},
     "output_type": "display_data"
    },
    {
     "name": "stdout",
     "output_type": "stream",
     "text": [
      "\n"
     ]
    },
    {
     "data": {
      "text/plain": []
     },
     "execution_count": 107,
     "metadata": {},
     "output_type": "execute_result"
    }
   ],
   "source": [
    "gbm.model_performance(test)"
   ]
  },
  {
   "cell_type": "code",
   "execution_count": 109,
   "metadata": {
    "collapsed": false,
    "deletable": true,
    "editable": true
   },
   "outputs": [
    {
     "data": {
      "text/plain": [
       "0.6476486781814623"
      ]
     },
     "execution_count": 109,
     "metadata": {},
     "output_type": "execute_result"
    }
   ],
   "source": [
    "gbm.auc()"
   ]
  },
  {
   "cell_type": "code",
   "execution_count": 111,
   "metadata": {
    "collapsed": true
   },
   "outputs": [],
   "source": [
    "%matplotlib inline"
   ]
  },
  {
   "cell_type": "code",
   "execution_count": 112,
   "metadata": {
    "collapsed": false
   },
   "outputs": [
    {
     "data": {
      "image/png": "[encoded data removed]",
      "text/plain": [
       "<matplotlib.figure.Figure at 0x7fbbb3b548d0>"
      ]
     },
     "metadata": {},
     "output_type": "display_data"
    }
   ],
   "source": [
    "gbm.plot(metric='auc')"
   ]
  },
  {
   "cell_type": "code",
   "execution_count": 94,
   "metadata": {
    "collapsed": true,
    "deletable": true,
    "editable": true,
    "scrolled": true
   },
   "outputs": [],
   "source": [
    "# Import H2O Grid Search:\n",
    "from h2o.grid.grid_search import H2OGridSearch\n",
    "\n",
    "# Import H2O GBM:\n",
    "from h2o.estimators.gbm import H2OGradientBoostingEstimator"
   ]
  },
  {
   "cell_type": "code",
   "execution_count": 96,
   "metadata": {
    "collapsed": true,
    "deletable": true,
    "editable": true
   },
   "outputs": [],
   "source": [
    "# GBM hyperparameters\n",
    "gbm_params = {'learn_rate': [0.1], \n",
    "                'max_depth': [3, 9, 15],\n",
    "                'sample_rate': [0.8, 1.0],\n",
    "                'col_sample_rate': [0.8, 1.0],\n",
    "                'ntrees': [10, 20, 30]}"
   ]
  },
  {
   "cell_type": "code",
   "execution_count": 98,
   "metadata": {
    "collapsed": false,
    "deletable": true,
    "editable": true
   },
   "outputs": [
    {
     "name": "stdout",
     "output_type": "stream",
     "text": [
      "gbm Grid Build progress: |████████████████████████████████████████████████| 100%\n",
      "Wall time: 24min 30s\n"
     ]
    }
   ],
   "source": [
    "%%time\n",
    "gbm_grid = H2OGridSearch(model=H2OGradientBoostingEstimator,\n",
    "                          grid_id='gbm_grid1',\n",
    "                          hyper_params=gbm_params1)\n",
    "gbm_grid.train(x=h2o_df.columns[4:48], y='log_income', training_frame=train, \n",
    "                validation_frame=val, \n",
    "                seed=1)"
   ]
  },
  {
   "cell_type": "code",
   "execution_count": 101,
   "metadata": {
    "collapsed": true,
    "deletable": true,
    "editable": true
   },
   "outputs": [],
   "source": [
    "gbm_gridperf = gbm_grid.get_grid(sort_by='mae', decreasing=True)"
   ]
  },
  {
   "cell_type": "code",
   "execution_count": 123,
   "metadata": {
    "collapsed": false,
    "deletable": true,
    "editable": true,
    "scrolled": true
   },
   "outputs": [
    {
     "name": "stdout",
     "output_type": "stream",
     "text": [
      "     col_sample_rate learn_rate max_depth ntrees sample_rate  \\\n",
      "0                0.8        0.1         3     10         0.8   \n",
      "1                1.0        0.1         3     10         1.0   \n",
      "2                0.8        0.1         3     10         1.0   \n",
      "3                1.0        0.1         3     10         0.8   \n",
      "4                0.8        0.1         3     20         0.8   \n",
      "5                1.0        0.1         3     20         1.0   \n",
      "6                0.8        0.1         3     20         1.0   \n",
      "7                1.0        0.1         3     20         0.8   \n",
      "8                0.8        0.1         3     30         0.8   \n",
      "9                1.0        0.1         3     30         1.0   \n",
      "10               1.0        0.1         3     30         0.8   \n",
      "11               0.8        0.1         3     30         1.0   \n",
      "12               0.8        0.1         9     10         0.8   \n",
      "13               0.8        0.1         9     10         1.0   \n",
      "14               1.0        0.1         9     10         0.8   \n",
      "15               1.0        0.1         9     10         1.0   \n",
      "16               1.0        0.1        15     10         0.8   \n",
      "17               1.0        0.1        15     30         0.8   \n",
      "18               1.0        0.1        15     10         1.0   \n",
      "19               1.0        0.1        15     30         1.0   \n",
      "20               0.8        0.1        15     10         1.0   \n",
      "21               1.0        0.1        15     20         0.8   \n",
      "22               0.8        0.1        15     10         0.8   \n",
      "23               1.0        0.1        15     20         1.0   \n",
      "24               0.8        0.1        15     30         0.8   \n",
      "25               0.8        0.1        15     20         0.8   \n",
      "26               0.8        0.1        15     30         1.0   \n",
      "27               0.8        0.1        15     20         1.0   \n",
      "28               0.8        0.1         9     20         0.8   \n",
      "29               1.0        0.1         9     20         0.8   \n",
      "30               0.8        0.1         9     20         1.0   \n",
      "31               1.0        0.1         9     20         1.0   \n",
      "32               0.8        0.1         9     30         0.8   \n",
      "33               1.0        0.1         9     30         0.8   \n",
      "34               1.0        0.1         9     30         1.0   \n",
      "35               0.8        0.1         9     30         1.0   \n",
      "\n",
      "             model_ids                 mae  \n",
      "0    gbm_grid1_model_0  1.1512886688613417  \n",
      "1   gbm_grid1_model_19  1.1512584465243692  \n",
      "2   gbm_grid1_model_18     1.1512574943861  \n",
      "3    gbm_grid1_model_1  1.1511977432396068  \n",
      "4    gbm_grid1_model_6  1.1487512963567135  \n",
      "5   gbm_grid1_model_25   1.148735515069562  \n",
      "6   gbm_grid1_model_24  1.1487088190252888  \n",
      "7    gbm_grid1_model_7  1.1486492804244117  \n",
      "8   gbm_grid1_model_12  1.1476459907973224  \n",
      "9   gbm_grid1_model_31  1.1476236721704203  \n",
      "10  gbm_grid1_model_13  1.1476167119349032  \n",
      "11  gbm_grid1_model_30  1.1476012850357344  \n",
      "12   gbm_grid1_model_2  1.1464524483227914  \n",
      "13  gbm_grid1_model_20  1.1463913564080574  \n",
      "14   gbm_grid1_model_3  1.1463028109851205  \n",
      "15  gbm_grid1_model_21  1.1462672283974797  \n",
      "16   gbm_grid1_model_5  1.1460827280493486  \n",
      "17  gbm_grid1_model_17  1.1460707520595166  \n",
      "18  gbm_grid1_model_23   1.145772198236885  \n",
      "19  gbm_grid1_model_35  1.1456134964250386  \n",
      "20  gbm_grid1_model_22  1.1453732969121129  \n",
      "21  gbm_grid1_model_11    1.14534581573323  \n",
      "22   gbm_grid1_model_4  1.1453362610212665  \n",
      "23  gbm_grid1_model_29  1.1450864805395222  \n",
      "24  gbm_grid1_model_16  1.1449680385926122  \n",
      "25  gbm_grid1_model_10  1.1445730007112607  \n",
      "26  gbm_grid1_model_34  1.1443099670389827  \n",
      "27  gbm_grid1_model_28  1.1440198904998222  \n",
      "28   gbm_grid1_model_8  1.1438239191875763  \n",
      "29   gbm_grid1_model_9  1.1437620103302837  \n",
      "30  gbm_grid1_model_26  1.1436558331290378  \n",
      "31  gbm_grid1_model_27   1.143461199649713  \n",
      "32  gbm_grid1_model_14  1.1430978734925288  \n",
      "33  gbm_grid1_model_15  1.1430386608158303  \n",
      "34  gbm_grid1_model_33  1.1428177811351452  \n",
      "35  gbm_grid1_model_32  1.1427945400209023  \n"
     ]
    },
    {
     "data": {
      "text/plain": []
     },
     "execution_count": 123,
     "metadata": {},
     "output_type": "execute_result"
    }
   ],
   "source": [
    "gbm_gridperf"
   ]
  },
  {
   "cell_type": "code",
   "execution_count": 118,
   "metadata": {
    "collapsed": false,
    "deletable": true,
    "editable": true,
    "scrolled": true
   },
   "outputs": [
    {
     "name": "stdout",
     "output_type": "stream",
     "text": [
      "     col_sample_rate learn_rate max_depth ntrees sample_rate  \\\n",
      "0                1.0        0.1         9     30         1.0   \n",
      "1                0.8        0.1         9     30         1.0   \n",
      "2                1.0        0.1         9     30         0.8   \n",
      "3                0.8        0.1         9     30         0.8   \n",
      "4                1.0        0.1         9     20         1.0   \n",
      "5                0.8        0.1         9     20         1.0   \n",
      "6                1.0        0.1         9     20         0.8   \n",
      "7                0.8        0.1         9     20         0.8   \n",
      "8                0.8        0.1        15     20         1.0   \n",
      "9                0.8        0.1        15     20         0.8   \n",
      "10               0.8        0.1        15     30         1.0   \n",
      "11               1.0        0.1        15     20         0.8   \n",
      "12               0.8        0.1        15     10         0.8   \n",
      "13               0.8        0.1        15     10         1.0   \n",
      "14               1.0        0.1        15     20         1.0   \n",
      "15               0.8        0.1        15     30         0.8   \n",
      "16               1.0        0.1         9     10         1.0   \n",
      "17               0.8        0.1         9     10         1.0   \n",
      "18               0.8        0.1         9     10         0.8   \n",
      "19               1.0        0.1         9     10         0.8   \n",
      "20               1.0        0.1        15     10         0.8   \n",
      "21               1.0        0.1        15     10         1.0   \n",
      "22               1.0        0.1        15     30         1.0   \n",
      "23               1.0        0.1        15     30         0.8   \n",
      "24               1.0        0.1         3     30         0.8   \n",
      "25               0.8        0.1         3     30         1.0   \n",
      "26               1.0        0.1         3     30         1.0   \n",
      "27               0.8        0.1         3     30         0.8   \n",
      "28               1.0        0.1         3     20         0.8   \n",
      "29               0.8        0.1         3     20         1.0   \n",
      "30               1.0        0.1         3     20         1.0   \n",
      "31               0.8        0.1         3     20         0.8   \n",
      "32               1.0        0.1         3     10         0.8   \n",
      "33               1.0        0.1         3     10         1.0   \n",
      "34               0.8        0.1         3     10         1.0   \n",
      "35               0.8        0.1         3     10         0.8   \n",
      "\n",
      "             model_ids   residual_deviance  \n",
      "0   gbm_grid1_model_33  2.0016019912313205  \n",
      "1   gbm_grid1_model_32   2.001864454749091  \n",
      "2   gbm_grid1_model_15   2.002808491709803  \n",
      "3   gbm_grid1_model_14   2.002975314278344  \n",
      "4   gbm_grid1_model_27   2.003569523717313  \n",
      "5   gbm_grid1_model_26   2.004381246896928  \n",
      "6    gbm_grid1_model_9  2.0046371131106926  \n",
      "7    gbm_grid1_model_8   2.005048734436254  \n",
      "8   gbm_grid1_model_28  2.0102352740543896  \n",
      "9   gbm_grid1_model_10    2.01138267613279  \n",
      "10  gbm_grid1_model_34  2.0123987702116755  \n",
      "11  gbm_grid1_model_11   2.013096659309325  \n",
      "12   gbm_grid1_model_4   2.013351490585129  \n",
      "13  gbm_grid1_model_22  2.0134059837511065  \n",
      "14  gbm_grid1_model_29  2.0135812281082677  \n",
      "15  gbm_grid1_model_16   2.013764905189881  \n",
      "16  gbm_grid1_model_21  2.0138984767462595  \n",
      "17  gbm_grid1_model_20  2.0144974319173174  \n",
      "18   gbm_grid1_model_2  2.0145236713664127  \n",
      "19   gbm_grid1_model_3   2.014545682073705  \n",
      "20   gbm_grid1_model_5  2.0148724981702566  \n",
      "21  gbm_grid1_model_23  2.0153443346330255  \n",
      "22  gbm_grid1_model_35   2.016161573348068  \n",
      "23  gbm_grid1_model_17  2.0165316221855445  \n",
      "24  gbm_grid1_model_13   2.017659265842821  \n",
      "25  gbm_grid1_model_30   2.017664693297328  \n",
      "26  gbm_grid1_model_31  2.0177792114987536  \n",
      "27  gbm_grid1_model_12  2.0178015325390177  \n",
      "28   gbm_grid1_model_7  2.0215703141798538  \n",
      "29  gbm_grid1_model_24   2.021690182476962  \n",
      "30  gbm_grid1_model_25   2.021762596991784  \n",
      "31   gbm_grid1_model_6   2.021819107055236  \n",
      "32   gbm_grid1_model_1   2.031977141388049  \n",
      "33  gbm_grid1_model_19  2.0319934733158522  \n",
      "34  gbm_grid1_model_18  2.0320901732838315  \n",
      "35   gbm_grid1_model_0   2.032183747088671  \n"
     ]
    },
    {
     "data": {
      "text/plain": []
     },
     "execution_count": 118,
     "metadata": {},
     "output_type": "execute_result"
    }
   ],
   "source": [
    "gbm_grid"
   ]
  },
  {
   "cell_type": "code",
   "execution_count": 126,
   "metadata": {
    "collapsed": false,
    "deletable": true,
    "editable": true,
    "scrolled": true
   },
   "outputs": [
    {
     "name": "stdout",
     "output_type": "stream",
     "text": [
      "Model Details\n",
      "=============\n",
      "H2OGradientBoostingEstimator :  Gradient Boosting Machine\n",
      "Model Key:  gbm_grid1_model_32\n",
      "\n",
      "\n",
      "ModelMetricsRegression: gbm\n",
      "** Reported on train data. **\n",
      "\n",
      "MSE: 1.953555994586969\n",
      "RMSE: 1.3976966747427602\n",
      "MAE: 1.1291609818426827\n",
      "RMSLE: 0.13204466831228143\n",
      "Mean Residual Deviance: 1.953555994586969\n",
      "\n",
      "ModelMetricsRegression: gbm\n",
      "** Reported on validation data. **\n",
      "\n",
      "MSE: 2.001864454749091\n",
      "RMSE: 1.4148725931153983\n",
      "MAE: 1.1427945400209023\n",
      "RMSLE: 0.13348986067787694\n",
      "Mean Residual Deviance: 2.001864454749091\n",
      "Scoring History: \n"
     ]
    },
    {
     "data": {
      "text/html": [
       "<div style=\"overflow:auto\"><table style=\"width:50%\"><tr><td><b></b></td>\n",
       "<td><b>timestamp</b></td>\n",
       "<td><b>duration</b></td>\n",
       "<td><b>number_of_trees</b></td>\n",
       "<td><b>training_rmse</b></td>\n",
       "<td><b>training_mae</b></td>\n",
       "<td><b>training_deviance</b></td>\n",
       "<td><b>validation_rmse</b></td>\n",
       "<td><b>validation_mae</b></td>\n",
       "<td><b>validation_deviance</b></td></tr>\n",
       "<tr><td></td>\n",
       "<td>2018-07-20 16:57:58</td>\n",
       "<td>18 min 43.364 sec</td>\n",
       "<td>0.0</td>\n",
       "<td>1.4359328</td>\n",
       "<td>1.1580946</td>\n",
       "<td>2.0619029</td>\n",
       "<td>1.4411328</td>\n",
       "<td>1.1619421</td>\n",
       "<td>2.0768638</td></tr>\n",
       "<tr><td></td>\n",
       "<td>2018-07-20 16:57:59</td>\n",
       "<td>18 min 44.265 sec</td>\n",
       "<td>1.0</td>\n",
       "<td>1.4308829</td>\n",
       "<td>1.1543882</td>\n",
       "<td>2.0474260</td>\n",
       "<td>1.4366637</td>\n",
       "<td>1.1587474</td>\n",
       "<td>2.0640025</td></tr>\n",
       "<tr><td></td>\n",
       "<td>2018-07-20 16:58:00</td>\n",
       "<td>18 min 45.660 sec</td>\n",
       "<td>2.0</td>\n",
       "<td>1.4266595</td>\n",
       "<td>1.1512987</td>\n",
       "<td>2.0353575</td>\n",
       "<td>1.4330171</td>\n",
       "<td>1.1561627</td>\n",
       "<td>2.0535380</td></tr>\n",
       "<tr><td></td>\n",
       "<td>2018-07-20 16:58:02</td>\n",
       "<td>18 min 46.894 sec</td>\n",
       "<td>3.0</td>\n",
       "<td>1.4231050</td>\n",
       "<td>1.1486907</td>\n",
       "<td>2.0252279</td>\n",
       "<td>1.4300230</td>\n",
       "<td>1.1540217</td>\n",
       "<td>2.0449659</td></tr>\n",
       "<tr><td></td>\n",
       "<td>2018-07-20 16:58:06</td>\n",
       "<td>18 min 51.021 sec</td>\n",
       "<td>5.0</td>\n",
       "<td>1.4174869</td>\n",
       "<td>1.1445345</td>\n",
       "<td>2.0092692</td>\n",
       "<td>1.4253679</td>\n",
       "<td>1.1507106</td>\n",
       "<td>2.0316736</td></tr>\n",
       "<tr><td></td>\n",
       "<td>2018-07-20 16:58:10</td>\n",
       "<td>18 min 55.062 sec</td>\n",
       "<td>8.0</td>\n",
       "<td>1.4116904</td>\n",
       "<td>1.1402037</td>\n",
       "<td>1.9928699</td>\n",
       "<td>1.4210844</td>\n",
       "<td>1.1476287</td>\n",
       "<td>2.0194809</td></tr>\n",
       "<tr><td></td>\n",
       "<td>2018-07-20 16:58:16</td>\n",
       "<td>19 min  1.532 sec</td>\n",
       "<td>11.0</td>\n",
       "<td>1.4078363</td>\n",
       "<td>1.1372670</td>\n",
       "<td>1.9820031</td>\n",
       "<td>1.4186580</td>\n",
       "<td>1.1459359</td>\n",
       "<td>2.0125906</td></tr>\n",
       "<tr><td></td>\n",
       "<td>2018-07-20 16:58:21</td>\n",
       "<td>19 min  6.262 sec</td>\n",
       "<td>15.0</td>\n",
       "<td>1.4043906</td>\n",
       "<td>1.1345792</td>\n",
       "<td>1.9723128</td>\n",
       "<td>1.4168633</td>\n",
       "<td>1.1445586</td>\n",
       "<td>2.0075016</td></tr>\n",
       "<tr><td></td>\n",
       "<td>2018-07-20 16:58:26</td>\n",
       "<td>19 min 10.829 sec</td>\n",
       "<td>20.0</td>\n",
       "<td>1.4014614</td>\n",
       "<td>1.1322453</td>\n",
       "<td>1.9640941</td>\n",
       "<td>1.4157617</td>\n",
       "<td>1.1436558</td>\n",
       "<td>2.0043812</td></tr>\n",
       "<tr><td></td>\n",
       "<td>2018-07-20 16:58:31</td>\n",
       "<td>19 min 15.858 sec</td>\n",
       "<td>26.0</td>\n",
       "<td>1.3990102</td>\n",
       "<td>1.1302394</td>\n",
       "<td>1.9572297</td>\n",
       "<td>1.4151025</td>\n",
       "<td>1.1430425</td>\n",
       "<td>2.0025151</td></tr>\n",
       "<tr><td></td>\n",
       "<td>2018-07-20 16:58:34</td>\n",
       "<td>19 min 18.902 sec</td>\n",
       "<td>30.0</td>\n",
       "<td>1.3976967</td>\n",
       "<td>1.1291610</td>\n",
       "<td>1.9535560</td>\n",
       "<td>1.4148726</td>\n",
       "<td>1.1427945</td>\n",
       "<td>2.0018645</td></tr></table></div>"
      ],
      "text/plain": [
       "    timestamp            duration           number_of_trees    training_rmse    training_mae    training_deviance    validation_rmse    validation_mae    validation_deviance\n",
       "--  -------------------  -----------------  -----------------  ---------------  --------------  -------------------  -----------------  ----------------  ---------------------\n",
       "    2018-07-20 16:57:58  18 min 43.364 sec  0                  1.43593          1.15809         2.0619               1.44113            1.16194           2.07686\n",
       "    2018-07-20 16:57:59  18 min 44.265 sec  1                  1.43088          1.15439         2.04743              1.43666            1.15875           2.064\n",
       "    2018-07-20 16:58:00  18 min 45.660 sec  2                  1.42666          1.1513          2.03536              1.43302            1.15616           2.05354\n",
       "    2018-07-20 16:58:02  18 min 46.894 sec  3                  1.42311          1.14869         2.02523              1.43002            1.15402           2.04497\n",
       "    2018-07-20 16:58:06  18 min 51.021 sec  5                  1.41749          1.14453         2.00927              1.42537            1.15071           2.03167\n",
       "    2018-07-20 16:58:10  18 min 55.062 sec  8                  1.41169          1.1402          1.99287              1.42108            1.14763           2.01948\n",
       "    2018-07-20 16:58:16  19 min  1.532 sec  11                 1.40784          1.13727         1.982                1.41866            1.14594           2.01259\n",
       "    2018-07-20 16:58:21  19 min  6.262 sec  15                 1.40439          1.13458         1.97231              1.41686            1.14456           2.0075\n",
       "    2018-07-20 16:58:26  19 min 10.829 sec  20                 1.40146          1.13225         1.96409              1.41576            1.14366           2.00438\n",
       "    2018-07-20 16:58:31  19 min 15.858 sec  26                 1.39901          1.13024         1.95723              1.4151             1.14304           2.00252\n",
       "    2018-07-20 16:58:34  19 min 18.902 sec  30                 1.3977           1.12916         1.95356              1.41487            1.14279           2.00186"
      ]
     },
     "metadata": {},
     "output_type": "display_data"
    },
    {
     "name": "stdout",
     "output_type": "stream",
     "text": [
      "Variable Importances: \n"
     ]
    },
    {
     "data": {
      "text/html": [
       "<div style=\"overflow:auto\"><table style=\"width:50%\"><tr><td><b>variable</b></td>\n",
       "<td><b>relative_importance</b></td>\n",
       "<td><b>scaled_importance</b></td>\n",
       "<td><b>percentage</b></td></tr>\n",
       "<tr><td>min_buy_price</td>\n",
       "<td>81768.9062500</td>\n",
       "<td>1.0</td>\n",
       "<td>0.2428883</td></tr>\n",
       "<tr><td>tac_user_count</td>\n",
       "<td>31146.8925781</td>\n",
       "<td>0.3809137</td>\n",
       "<td>0.0925195</td></tr>\n",
       "<tr><td>avg_buy_price</td>\n",
       "<td>20881.4804688</td>\n",
       "<td>0.2553719</td>\n",
       "<td>0.0620269</td></tr>\n",
       "<tr><td>max_buy_price</td>\n",
       "<td>19410.6816406</td>\n",
       "<td>0.2373846</td>\n",
       "<td>0.0576580</td></tr>\n",
       "<tr><td>min_price</td>\n",
       "<td>18736.0097656</td>\n",
       "<td>0.2291337</td>\n",
       "<td>0.0556539</td></tr>\n",
       "<tr><td>---</td>\n",
       "<td>---</td>\n",
       "<td>---</td>\n",
       "<td>---</td></tr>\n",
       "<tr><td>buy_price_to_discount_division</td>\n",
       "<td>2573.2722168</td>\n",
       "<td>0.0314701</td>\n",
       "<td>0.0076437</td></tr>\n",
       "<tr><td>max_buy_price_to_discount_division</td>\n",
       "<td>2475.5424805</td>\n",
       "<td>0.0302749</td>\n",
       "<td>0.0073534</td></tr>\n",
       "<tr><td>avg_to_current_price</td>\n",
       "<td>2262.6765137</td>\n",
       "<td>0.0276716</td>\n",
       "<td>0.0067211</td></tr>\n",
       "<tr><td>max_to_current_price</td>\n",
       "<td>476.2033081</td>\n",
       "<td>0.0058238</td>\n",
       "<td>0.0014145</td></tr>\n",
       "<tr><td>min_to_current_price</td>\n",
       "<td>304.8931885</td>\n",
       "<td>0.0037287</td>\n",
       "<td>0.0009057</td></tr></table></div>"
      ],
      "text/plain": [
       "variable                            relative_importance    scaled_importance      percentage\n",
       "----------------------------------  ---------------------  ---------------------  ---------------------\n",
       "min_buy_price                       81768.90625            1.0                    0.2428883418092868\n",
       "tac_user_count                      31146.892578125        0.3809136505127828     0.09251948494557201\n",
       "avg_buy_price                       20881.48046875         0.25537189411470207    0.06202685590621675\n",
       "max_buy_price                       19410.681640625        0.23738463103907545    0.057657959404090395\n",
       "min_price                           18736.009765625        0.2291336722585182     0.055653897707544066\n",
       "---                                 ---                    ---                    ---\n",
       "buy_price_to_discount_division      2573.272216796875      0.03147005793289396    0.0076437101879628065\n",
       "max_buy_price_to_discount_division  2475.54248046875       0.0302748635636636     0.007353411409480648\n",
       "avg_to_current_price                2262.676513671875      0.02767160058071432    0.0067211091802586\n",
       "max_to_current_price                476.20330810546875     0.00582377006058423    0.0014145258530938736\n",
       "min_to_current_price                304.8931884765625      0.0037287179498816216  0.0009056621199212704"
      ]
     },
     "metadata": {},
     "output_type": "display_data"
    },
    {
     "name": "stdout",
     "output_type": "stream",
     "text": [
      "\n",
      "See the whole table with table.as_data_frame()\n"
     ]
    },
    {
     "data": {
      "text/plain": []
     },
     "execution_count": 126,
     "metadata": {},
     "output_type": "execute_result"
    }
   ],
   "source": [
    "gbm_gridperf.models[-1]"
   ]
  },
  {
   "cell_type": "code",
   "execution_count": 112,
   "metadata": {
    "collapsed": true,
    "deletable": true,
    "editable": true
   },
   "outputs": [
    {
     "name": "stdout",
     "output_type": "stream",
     "text": [
      "\n",
      "ModelMetricsRegression: gbm\n",
      "** Reported on test data. **\n",
      "\n",
      "MSE: 1.9968192212941964\n",
      "RMSE: 1.4130885397929587\n",
      "MAE: 1.1429985967548135\n",
      "RMSLE: 0.13351918208233965\n",
      "Mean Residual Deviance: 1.9968192212941964\n"
     ]
    },
    {
     "data": {
      "text/plain": []
     },
     "execution_count": 112,
     "metadata": {},
     "output_type": "execute_result"
    }
   ],
   "source": [
    "gbm_gridperf.models[0].model_performance(test)"
   ]
  },
  {
   "cell_type": "code",
   "execution_count": 107,
   "metadata": {
    "collapsed": false,
    "deletable": true,
    "editable": true
   },
   "outputs": [
    {
     "name": "stdout",
     "output_type": "stream",
     "text": [
      "gbm prediction progress: |████████████████████████████████████████████████| 100%\n"
     ]
    }
   ],
   "source": [
    "pr = gbm_gridperf1.models[0].predict(test)"
   ]
  },
  {
   "cell_type": "code",
   "execution_count": 113,
   "metadata": {
    "collapsed": false,
    "deletable": true,
    "editable": true
   },
   "outputs": [
    {
     "name": "stdout",
     "output_type": "stream",
     "text": [
      "gbm prediction progress: |████████████████████████████████████████████████| 100%\n"
     ]
    }
   ],
   "source": [
    "pr = gbm.predict(test)"
   ]
  },
  {
   "cell_type": "code",
   "execution_count": 14,
   "metadata": {
    "collapsed": false,
    "deletable": true,
    "editable": true,
    "scrolled": true
   },
   "outputs": [
    {
     "name": "stdout",
     "output_type": "stream",
     "text": [
      "Export File progress: |███████████████████████████████████████████████████| 100%\n"
     ]
    }
   ],
   "source": [
    "h2o.export_file(pr, 'hdfs://T2-HDFS-HA-PROD/user/andrey.lukyanenko/pred_new.csv')"
   ]
  },
  {
   "cell_type": "code",
   "execution_count": 63,
   "metadata": {
    "collapsed": true,
    "deletable": true,
    "editable": true
   },
   "outputs": [
    {
     "ename": "H2OServerError",
     "evalue": "HTTP 500 Server Error:\nServer error water.api.FSIOException:\n  Error: FS IO Failure: \n accessed path : file:/dfs/11/yarn/nm/usercache/andrey.lukyanenko/appcache/application_1516896162029_95171/container_e86_1516896162029_95171_01_000007/folder%5CGBM_model_python_1531990891177_1 msg: File already exists\n  Request: None\n",
     "output_type": "error",
     "traceback": [
      "\u001b[1;31m---------------------------------------------------------------------------\u001b[0m",
      "\u001b[1;31mH2OServerError\u001b[0m                            Traceback (most recent call last)",
      "\u001b[1;32m<ipython-input-63-253c80990063>\u001b[0m in \u001b[0;36m<module>\u001b[1;34m()\u001b[0m\n\u001b[1;32m----> 1\u001b[1;33m \u001b[0mh2o\u001b[0m\u001b[1;33m.\u001b[0m\u001b[0msave_model\u001b[0m\u001b[1;33m(\u001b[0m\u001b[0mgbm_regressor\u001b[0m\u001b[1;33m,\u001b[0m \u001b[1;34m'folder'\u001b[0m\u001b[1;33m)\u001b[0m\u001b[1;33m\u001b[0m\u001b[0m\n\u001b[0m",
      "\u001b[1;32m~\\Documents\\Programs\\Anaconda\\lib\\site-packages\\h2o\\h2o.py\u001b[0m in \u001b[0;36msave_model\u001b[1;34m(model, path, force)\u001b[0m\n\u001b[0;32m    961\u001b[0m     \u001b[0massert_is_type\u001b[0m\u001b[1;33m(\u001b[0m\u001b[0mforce\u001b[0m\u001b[1;33m,\u001b[0m \u001b[0mbool\u001b[0m\u001b[1;33m)\u001b[0m\u001b[1;33m\u001b[0m\u001b[0m\n\u001b[0;32m    962\u001b[0m     \u001b[0mpath\u001b[0m \u001b[1;33m=\u001b[0m \u001b[0mos\u001b[0m\u001b[1;33m.\u001b[0m\u001b[0mpath\u001b[0m\u001b[1;33m.\u001b[0m\u001b[0mjoin\u001b[0m\u001b[1;33m(\u001b[0m\u001b[0mos\u001b[0m\u001b[1;33m.\u001b[0m\u001b[0mgetcwd\u001b[0m\u001b[1;33m(\u001b[0m\u001b[1;33m)\u001b[0m \u001b[1;32mif\u001b[0m \u001b[0mpath\u001b[0m \u001b[1;33m==\u001b[0m \u001b[1;34m\"\"\u001b[0m \u001b[1;32melse\u001b[0m \u001b[0mpath\u001b[0m\u001b[1;33m,\u001b[0m \u001b[0mmodel\u001b[0m\u001b[1;33m.\u001b[0m\u001b[0mmodel_id\u001b[0m\u001b[1;33m)\u001b[0m\u001b[1;33m\u001b[0m\u001b[0m\n\u001b[1;32m--> 963\u001b[1;33m     \u001b[1;32mreturn\u001b[0m \u001b[0mapi\u001b[0m\u001b[1;33m(\u001b[0m\u001b[1;34m\"GET /99/Models.bin/%s\"\u001b[0m \u001b[1;33m%\u001b[0m \u001b[0mmodel\u001b[0m\u001b[1;33m.\u001b[0m\u001b[0mmodel_id\u001b[0m\u001b[1;33m,\u001b[0m \u001b[0mdata\u001b[0m\u001b[1;33m=\u001b[0m\u001b[1;33m{\u001b[0m\u001b[1;34m\"dir\"\u001b[0m\u001b[1;33m:\u001b[0m \u001b[0mpath\u001b[0m\u001b[1;33m,\u001b[0m \u001b[1;34m\"force\"\u001b[0m\u001b[1;33m:\u001b[0m \u001b[0mforce\u001b[0m\u001b[1;33m}\u001b[0m\u001b[1;33m)\u001b[0m\u001b[1;33m[\u001b[0m\u001b[1;34m\"dir\"\u001b[0m\u001b[1;33m]\u001b[0m\u001b[1;33m\u001b[0m\u001b[0m\n\u001b[0m\u001b[0;32m    964\u001b[0m \u001b[1;33m\u001b[0m\u001b[0m\n\u001b[0;32m    965\u001b[0m \u001b[1;33m\u001b[0m\u001b[0m\n",
      "\u001b[1;32m~\\Documents\\Programs\\Anaconda\\lib\\site-packages\\h2o\\h2o.py\u001b[0m in \u001b[0;36mapi\u001b[1;34m(endpoint, data, json, filename, save_to)\u001b[0m\n\u001b[0;32m    101\u001b[0m     \u001b[1;31m# type checks are performed in H2OConnection class\u001b[0m\u001b[1;33m\u001b[0m\u001b[1;33m\u001b[0m\u001b[0m\n\u001b[0;32m    102\u001b[0m     \u001b[0m_check_connection\u001b[0m\u001b[1;33m(\u001b[0m\u001b[1;33m)\u001b[0m\u001b[1;33m\u001b[0m\u001b[0m\n\u001b[1;32m--> 103\u001b[1;33m     \u001b[1;32mreturn\u001b[0m \u001b[0mh2oconn\u001b[0m\u001b[1;33m.\u001b[0m\u001b[0mrequest\u001b[0m\u001b[1;33m(\u001b[0m\u001b[0mendpoint\u001b[0m\u001b[1;33m,\u001b[0m \u001b[0mdata\u001b[0m\u001b[1;33m=\u001b[0m\u001b[0mdata\u001b[0m\u001b[1;33m,\u001b[0m \u001b[0mjson\u001b[0m\u001b[1;33m=\u001b[0m\u001b[0mjson\u001b[0m\u001b[1;33m,\u001b[0m \u001b[0mfilename\u001b[0m\u001b[1;33m=\u001b[0m\u001b[0mfilename\u001b[0m\u001b[1;33m,\u001b[0m \u001b[0msave_to\u001b[0m\u001b[1;33m=\u001b[0m\u001b[0msave_to\u001b[0m\u001b[1;33m)\u001b[0m\u001b[1;33m\u001b[0m\u001b[0m\n\u001b[0m\u001b[0;32m    104\u001b[0m \u001b[1;33m\u001b[0m\u001b[0m\n\u001b[0;32m    105\u001b[0m \u001b[1;33m\u001b[0m\u001b[0m\n",
      "\u001b[1;32m~\\Documents\\Programs\\Anaconda\\lib\\site-packages\\h2o\\backend\\connection.py\u001b[0m in \u001b[0;36mrequest\u001b[1;34m(self, endpoint, data, json, filename, save_to)\u001b[0m\n\u001b[0;32m    400\u001b[0m                                     auth=self._auth, verify=self._verify_ssl_cert, proxies=self._proxies)\n\u001b[0;32m    401\u001b[0m             \u001b[0mself\u001b[0m\u001b[1;33m.\u001b[0m\u001b[0m_log_end_transaction\u001b[0m\u001b[1;33m(\u001b[0m\u001b[0mstart_time\u001b[0m\u001b[1;33m,\u001b[0m \u001b[0mresp\u001b[0m\u001b[1;33m)\u001b[0m\u001b[1;33m\u001b[0m\u001b[0m\n\u001b[1;32m--> 402\u001b[1;33m             \u001b[1;32mreturn\u001b[0m \u001b[0mself\u001b[0m\u001b[1;33m.\u001b[0m\u001b[0m_process_response\u001b[0m\u001b[1;33m(\u001b[0m\u001b[0mresp\u001b[0m\u001b[1;33m,\u001b[0m \u001b[0msave_to\u001b[0m\u001b[1;33m)\u001b[0m\u001b[1;33m\u001b[0m\u001b[0m\n\u001b[0m\u001b[0;32m    403\u001b[0m \u001b[1;33m\u001b[0m\u001b[0m\n\u001b[0;32m    404\u001b[0m         \u001b[1;32mexcept\u001b[0m \u001b[1;33m(\u001b[0m\u001b[0mrequests\u001b[0m\u001b[1;33m.\u001b[0m\u001b[0mexceptions\u001b[0m\u001b[1;33m.\u001b[0m\u001b[0mConnectionError\u001b[0m\u001b[1;33m,\u001b[0m \u001b[0mrequests\u001b[0m\u001b[1;33m.\u001b[0m\u001b[0mexceptions\u001b[0m\u001b[1;33m.\u001b[0m\u001b[0mHTTPError\u001b[0m\u001b[1;33m)\u001b[0m \u001b[1;32mas\u001b[0m \u001b[0me\u001b[0m\u001b[1;33m:\u001b[0m\u001b[1;33m\u001b[0m\u001b[0m\n",
      "\u001b[1;32m~\\Documents\\Programs\\Anaconda\\lib\\site-packages\\h2o\\backend\\connection.py\u001b[0m in \u001b[0;36m_process_response\u001b[1;34m(response, save_to)\u001b[0m\n\u001b[0;32m    728\u001b[0m         \u001b[1;31m# Note that it is possible to receive valid H2OErrorV3 object in this case, however it merely means the server\u001b[0m\u001b[1;33m\u001b[0m\u001b[1;33m\u001b[0m\u001b[0m\n\u001b[0;32m    729\u001b[0m         \u001b[1;31m# did not provide the correct status code.\u001b[0m\u001b[1;33m\u001b[0m\u001b[1;33m\u001b[0m\u001b[0m\n\u001b[1;32m--> 730\u001b[1;33m         \u001b[1;32mraise\u001b[0m \u001b[0mH2OServerError\u001b[0m\u001b[1;33m(\u001b[0m\u001b[1;34m\"HTTP %d %s:\\n%r\"\u001b[0m \u001b[1;33m%\u001b[0m \u001b[1;33m(\u001b[0m\u001b[0mstatus_code\u001b[0m\u001b[1;33m,\u001b[0m \u001b[0mresponse\u001b[0m\u001b[1;33m.\u001b[0m\u001b[0mreason\u001b[0m\u001b[1;33m,\u001b[0m \u001b[0mdata\u001b[0m\u001b[1;33m)\u001b[0m\u001b[1;33m)\u001b[0m\u001b[1;33m\u001b[0m\u001b[0m\n\u001b[0m\u001b[0;32m    731\u001b[0m \u001b[1;33m\u001b[0m\u001b[0m\n\u001b[0;32m    732\u001b[0m \u001b[1;33m\u001b[0m\u001b[0m\n",
      "\u001b[1;31mH2OServerError\u001b[0m: HTTP 500 Server Error:\nServer error water.api.FSIOException:\n  Error: FS IO Failure: \n accessed path : file:/dfs/11/yarn/nm/usercache/andrey.lukyanenko/appcache/application_1516896162029_95171/container_e86_1516896162029_95171_01_000007/folder%5CGBM_model_python_1531990891177_1 msg: File already exists\n  Request: None\n"
     ]
    }
   ],
   "source": [
    "h2o.save_model(gbm_regressor, 'folder')"
   ]
  },
  {
   "cell_type": "code",
   "execution_count": 114,
   "metadata": {
    "collapsed": false,
    "deletable": true,
    "editable": true
   },
   "outputs": [
    {
     "data": {
      "text/html": [
       "<table>\n",
       "<thead>\n",
       "<tr><th style=\"text-align: right;\">  predict</th><th style=\"text-align: right;\">       p1</th><th style=\"text-align: right;\">      p0</th></tr>\n",
       "</thead>\n",
       "<tbody>\n",
       "<tr><td style=\"text-align: right;\">        0</td><td style=\"text-align: right;\">0.061673 </td><td style=\"text-align: right;\">0.938327</td></tr>\n",
       "<tr><td style=\"text-align: right;\">        0</td><td style=\"text-align: right;\">0.0560675</td><td style=\"text-align: right;\">0.943933</td></tr>\n",
       "<tr><td style=\"text-align: right;\">        0</td><td style=\"text-align: right;\">0.0987542</td><td style=\"text-align: right;\">0.901246</td></tr>\n",
       "<tr><td style=\"text-align: right;\">        0</td><td style=\"text-align: right;\">0.0874604</td><td style=\"text-align: right;\">0.91254 </td></tr>\n",
       "<tr><td style=\"text-align: right;\">        0</td><td style=\"text-align: right;\">0.049448 </td><td style=\"text-align: right;\">0.950552</td></tr>\n",
       "<tr><td style=\"text-align: right;\">        0</td><td style=\"text-align: right;\">0.0518455</td><td style=\"text-align: right;\">0.948155</td></tr>\n",
       "<tr><td style=\"text-align: right;\">        0</td><td style=\"text-align: right;\">0.0597316</td><td style=\"text-align: right;\">0.940268</td></tr>\n",
       "<tr><td style=\"text-align: right;\">        0</td><td style=\"text-align: right;\">0.0932738</td><td style=\"text-align: right;\">0.906726</td></tr>\n",
       "<tr><td style=\"text-align: right;\">        0</td><td style=\"text-align: right;\">0.0615082</td><td style=\"text-align: right;\">0.938492</td></tr>\n",
       "<tr><td style=\"text-align: right;\">        0</td><td style=\"text-align: right;\">0.049448 </td><td style=\"text-align: right;\">0.950552</td></tr>\n",
       "</tbody>\n",
       "</table>"
      ]
     },
     "metadata": {},
     "output_type": "display_data"
    },
    {
     "data": {
      "text/plain": []
     },
     "execution_count": 114,
     "metadata": {},
     "output_type": "execute_result"
    }
   ],
   "source": [
    "pr"
   ]
  },
  {
   "cell_type": "code",
   "execution_count": null,
   "metadata": {
    "collapsed": true
   },
   "outputs": [],
   "source": []
  }
 ],
 "metadata": {
  "kernelspec": {
   "display_name": "Conda Python 3.6",
   "language": "python",
   "name": "py36_conda"
  },
  "language_info": {
   "codemirror_mode": {
    "name": "ipython",
    "version": 3
   },
   "file_extension": ".py",
   "mimetype": "text/x-python",
   "name": "python",
   "nbconvert_exporter": "python",
   "pygments_lexer": "ipython3",
   "version": "3.6.4"
  }
 },
 "nbformat": 4,
 "nbformat_minor": 2
}
