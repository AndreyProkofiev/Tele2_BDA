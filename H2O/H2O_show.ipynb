{
 "cells": [
  {
   "cell_type": "markdown",
   "metadata": {},
   "source": [
    "# H2O\n",
    "\n"
   ]
  },
  {
   "cell_type": "code",
   "execution_count": 5,
   "metadata": {},
   "outputs": [],
   "source": [
    "#import turbodbc\n",
    "import numpy as np\n",
    "import pandas as pd\n",
    "import datetime\n",
    "import sys\n",
    "\n",
    "import h2o\n",
    "import configparser"
   ]
  },
  {
   "cell_type": "code",
   "execution_count": 8,
   "metadata": {},
   "outputs": [],
   "source": [
    "config = configparser.ConfigParser()\n",
    "config.read('settings.ini')\n",
    "login = config['MAIN']['login']\n",
    "password = config['MAIN']['password']"
   ]
  },
  {
   "cell_type": "markdown",
   "metadata": {},
   "source": [
    "## Launching"
   ]
  },
  {
   "cell_type": "code",
   "execution_count": null,
   "metadata": {},
   "outputs": [],
   "source": [
    "with open('info.txt') as f:\n",
    "    first_line = f.readline().strip()\n",
    "ip = first_line.split(':')[0]\n",
    "host = first_line.split(':')[1]\n",
    "\n",
    "h2o.connect(ip=ip, port=host, auth = (login, password))"
   ]
  },
  {
   "cell_type": "code",
   "execution_count": null,
   "metadata": {
    "scrolled": false
   },
   "outputs": [],
   "source": [
    "h2o.cluster().show_status()"
   ]
  },
  {
   "cell_type": "markdown",
   "metadata": {},
   "source": [
    "## Loading data into H2O"
   ]
  },
  {
   "cell_type": "code",
   "execution_count": 18,
   "metadata": {
    "collapsed": true
   },
   "outputs": [],
   "source": [
    "sql = \"\"\"\n",
    "      select top 100 *\n",
    "        from table_name \n",
    "      \"\"\""
   ]
  },
  {
   "cell_type": "code",
   "execution_count": 19,
   "metadata": {
    "scrolled": true
   },
   "outputs": [
    {
     "name": "stdout",
     "output_type": "stream",
     "text": [
      "Wall time: 1min 55s\n"
     ]
    }
   ],
   "source": [
    "%%time\n",
    "connection = turbodbc.connect(dsn='Teradata')\n",
    "cursor = connection.cursor()\n",
    "cursor.execute(sql)\n",
    "data = pd.DataFrame(cursor.fetchallnumpy())"
   ]
  },
  {
   "cell_type": "code",
   "execution_count": 20,
   "metadata": {},
   "outputs": [
    {
     "data": {
      "text/html": [
       "<div>\n",
       "<style scoped>\n",
       "    .dataframe tbody tr th:only-of-type {\n",
       "        vertical-align: middle;\n",
       "    }\n",
       "\n",
       "    .dataframe tbody tr th {\n",
       "        vertical-align: top;\n",
       "    }\n",
       "\n",
       "    .dataframe thead th {\n",
       "        text-align: right;\n",
       "    }\n",
       "</style>\n",
       "<table border=\"1\" class=\"dataframe\">\n",
       "  <thead>\n",
       "    <tr style=\"text-align: right;\">\n",
       "      <th></th>\n",
       "      <th>log_income</th>\n",
       "      <th>bin_income</th>\n",
       "      <th>report_month</th>\n",
       "      <th>SUBS_ID</th>\n",
       "      <th>current_imei</th>\n",
       "      <th>model_user_count</th>\n",
       "      <th>tac_user_count</th>\n",
       "      <th>buy_price</th>\n",
       "      <th>current_price</th>\n",
       "      <th>months_between_buy_min</th>\n",
       "      <th>...</th>\n",
       "      <th>avg_months_since_min</th>\n",
       "      <th>min_months_since_buy</th>\n",
       "      <th>max_months_since_buy</th>\n",
       "      <th>avg_months_since_buy</th>\n",
       "      <th>min_buy_price_to_discount_division</th>\n",
       "      <th>max_buy_price_to_discount_division</th>\n",
       "      <th>avg_buy_price_to_discount_division</th>\n",
       "      <th>min_buy_price_to_discount_subtraction</th>\n",
       "      <th>max_buy_price_to_discount_subtraction</th>\n",
       "      <th>avg_buy_price_to_discount_subtraction</th>\n",
       "    </tr>\n",
       "  </thead>\n",
       "  <tbody>\n",
       "    <tr>\n",
       "      <th>0</th>\n",
       "      <td>10.488466</td>\n",
       "      <td>1.0</td>\n",
       "      <td>2018-03-01</td>\n",
       "      <td>18333019</td>\n",
       "      <td>86730001825621</td>\n",
       "      <td>985.0</td>\n",
       "      <td>818</td>\n",
       "      <td>13332</td>\n",
       "      <td>9192</td>\n",
       "      <td>48</td>\n",
       "      <td>...</td>\n",
       "      <td>64.0</td>\n",
       "      <td>16</td>\n",
       "      <td>16</td>\n",
       "      <td>16.0</td>\n",
       "      <td>0.872742</td>\n",
       "      <td>0.872742</td>\n",
       "      <td>0.872742</td>\n",
       "      <td>-1944</td>\n",
       "      <td>-1944</td>\n",
       "      <td>-1944.0</td>\n",
       "    </tr>\n",
       "    <tr>\n",
       "      <th>1</th>\n",
       "      <td>NaN</td>\n",
       "      <td>NaN</td>\n",
       "      <td>2018-03-01</td>\n",
       "      <td>100028789231</td>\n",
       "      <td>86654203080636</td>\n",
       "      <td>4097.0</td>\n",
       "      <td>3967</td>\n",
       "      <td>13334</td>\n",
       "      <td>13334</td>\n",
       "      <td>16</td>\n",
       "      <td>...</td>\n",
       "      <td>22.5</td>\n",
       "      <td>0</td>\n",
       "      <td>16</td>\n",
       "      <td>8.0</td>\n",
       "      <td>1.000000</td>\n",
       "      <td>1.181778</td>\n",
       "      <td>1.090889</td>\n",
       "      <td>0</td>\n",
       "      <td>2051</td>\n",
       "      <td>1025.5</td>\n",
       "    </tr>\n",
       "    <tr>\n",
       "      <th>2</th>\n",
       "      <td>12.451415</td>\n",
       "      <td>3.0</td>\n",
       "      <td>2018-03-01</td>\n",
       "      <td>200034716639</td>\n",
       "      <td>35709105324344</td>\n",
       "      <td>72745.0</td>\n",
       "      <td>205</td>\n",
       "      <td>6334</td>\n",
       "      <td>3548</td>\n",
       "      <td>39</td>\n",
       "      <td>...</td>\n",
       "      <td>55.0</td>\n",
       "      <td>16</td>\n",
       "      <td>16</td>\n",
       "      <td>16.0</td>\n",
       "      <td>0.982930</td>\n",
       "      <td>0.982930</td>\n",
       "      <td>0.982930</td>\n",
       "      <td>-110</td>\n",
       "      <td>-110</td>\n",
       "      <td>-110.0</td>\n",
       "    </tr>\n",
       "    <tr>\n",
       "      <th>3</th>\n",
       "      <td>11.896240</td>\n",
       "      <td>2.0</td>\n",
       "      <td>2018-03-01</td>\n",
       "      <td>100040993294</td>\n",
       "      <td>35812807019662</td>\n",
       "      <td>35331.0</td>\n",
       "      <td>32296</td>\n",
       "      <td>21800</td>\n",
       "      <td>13155</td>\n",
       "      <td>5</td>\n",
       "      <td>...</td>\n",
       "      <td>21.0</td>\n",
       "      <td>16</td>\n",
       "      <td>16</td>\n",
       "      <td>16.0</td>\n",
       "      <td>1.505525</td>\n",
       "      <td>1.505525</td>\n",
       "      <td>1.505525</td>\n",
       "      <td>7320</td>\n",
       "      <td>7320</td>\n",
       "      <td>7320.0</td>\n",
       "    </tr>\n",
       "    <tr>\n",
       "      <th>4</th>\n",
       "      <td>12.270267</td>\n",
       "      <td>3.0</td>\n",
       "      <td>2018-03-01</td>\n",
       "      <td>39254634</td>\n",
       "      <td>86093503140055</td>\n",
       "      <td>10278.0</td>\n",
       "      <td>9534</td>\n",
       "      <td>19481</td>\n",
       "      <td>13554</td>\n",
       "      <td>10</td>\n",
       "      <td>...</td>\n",
       "      <td>17.0</td>\n",
       "      <td>7</td>\n",
       "      <td>7</td>\n",
       "      <td>7.0</td>\n",
       "      <td>1.000000</td>\n",
       "      <td>1.000000</td>\n",
       "      <td>1.000000</td>\n",
       "      <td>0</td>\n",
       "      <td>0</td>\n",
       "      <td>0.0</td>\n",
       "    </tr>\n",
       "  </tbody>\n",
       "</table>\n",
       "<p>5 rows × 48 columns</p>\n",
       "</div>"
      ],
      "text/plain": [
       "   log_income  bin_income report_month       SUBS_ID    current_imei  \\\n",
       "0   10.488466         1.0   2018-03-01      18333019  86730001825621   \n",
       "1         NaN         NaN   2018-03-01  100028789231  86654203080636   \n",
       "2   12.451415         3.0   2018-03-01  200034716639  35709105324344   \n",
       "3   11.896240         2.0   2018-03-01  100040993294  35812807019662   \n",
       "4   12.270267         3.0   2018-03-01      39254634  86093503140055   \n",
       "\n",
       "   model_user_count  tac_user_count  buy_price  current_price  \\\n",
       "0             985.0             818      13332           9192   \n",
       "1            4097.0            3967      13334          13334   \n",
       "2           72745.0             205       6334           3548   \n",
       "3           35331.0           32296      21800          13155   \n",
       "4           10278.0            9534      19481          13554   \n",
       "\n",
       "   months_between_buy_min                  ...                    \\\n",
       "0                      48                  ...                     \n",
       "1                      16                  ...                     \n",
       "2                      39                  ...                     \n",
       "3                       5                  ...                     \n",
       "4                      10                  ...                     \n",
       "\n",
       "   avg_months_since_min  min_months_since_buy  max_months_since_buy  \\\n",
       "0                  64.0                    16                    16   \n",
       "1                  22.5                     0                    16   \n",
       "2                  55.0                    16                    16   \n",
       "3                  21.0                    16                    16   \n",
       "4                  17.0                     7                     7   \n",
       "\n",
       "   avg_months_since_buy  min_buy_price_to_discount_division  \\\n",
       "0                  16.0                            0.872742   \n",
       "1                   8.0                            1.000000   \n",
       "2                  16.0                            0.982930   \n",
       "3                  16.0                            1.505525   \n",
       "4                   7.0                            1.000000   \n",
       "\n",
       "   max_buy_price_to_discount_division  avg_buy_price_to_discount_division  \\\n",
       "0                            0.872742                            0.872742   \n",
       "1                            1.181778                            1.090889   \n",
       "2                            0.982930                            0.982930   \n",
       "3                            1.505525                            1.505525   \n",
       "4                            1.000000                            1.000000   \n",
       "\n",
       "   min_buy_price_to_discount_subtraction  \\\n",
       "0                                  -1944   \n",
       "1                                      0   \n",
       "2                                   -110   \n",
       "3                                   7320   \n",
       "4                                      0   \n",
       "\n",
       "   max_buy_price_to_discount_subtraction  \\\n",
       "0                                  -1944   \n",
       "1                                   2051   \n",
       "2                                   -110   \n",
       "3                                   7320   \n",
       "4                                      0   \n",
       "\n",
       "   avg_buy_price_to_discount_subtraction  \n",
       "0                                -1944.0  \n",
       "1                                 1025.5  \n",
       "2                                 -110.0  \n",
       "3                                 7320.0  \n",
       "4                                    0.0  \n",
       "\n",
       "[5 rows x 48 columns]"
      ]
     },
     "execution_count": 20,
     "metadata": {},
     "output_type": "execute_result"
    }
   ],
   "source": [
    "data.head()"
   ]
  },
  {
   "cell_type": "markdown",
   "metadata": {},
   "source": [
    "### 1.From python object"
   ]
  },
  {
   "cell_type": "code",
   "execution_count": 24,
   "metadata": {},
   "outputs": [
    {
     "name": "stdout",
     "output_type": "stream",
     "text": [
      "Parse progress: |█████████████████████████████████████████████████████████| 100%\n",
      "Wall time: 1min\n"
     ]
    }
   ],
   "source": [
    "%%time\n",
    "h2o_df = h2o.H2OFrame(data)"
   ]
  },
  {
   "cell_type": "markdown",
   "metadata": {},
   "source": [
    "### 2. Upload"
   ]
  },
  {
   "cell_type": "code",
   "execution_count": 21,
   "metadata": {},
   "outputs": [
    {
     "name": "stdout",
     "output_type": "stream",
     "text": [
      "Parse progress: |█████████████████████████████████████████████████████████| 100%\n"
     ]
    }
   ],
   "source": [
    "data1 = h2o.upload_file('1.csv', destination_frame='data')"
   ]
  },
  {
   "cell_type": "markdown",
   "metadata": {},
   "source": [
    "### 3. From Hive"
   ]
  },
  {
   "cell_type": "code",
   "execution_count": null,
   "metadata": {
    "scrolled": true
   },
   "outputs": [],
   "source": [
    "h2o.import_file('path_to_table', destination_frame='data2',\n",
    "               col_names=[])"
   ]
  },
  {
   "cell_type": "code",
   "execution_count": 86,
   "metadata": {
    "collapsed": true
   },
   "outputs": [],
   "source": [
    "data2 = h2o.get_frame('data2')"
   ]
  },
  {
   "cell_type": "markdown",
   "metadata": {},
   "source": [
    "### 4. Sparse"
   ]
  },
  {
   "cell_type": "code",
   "execution_count": 17,
   "metadata": {},
   "outputs": [
    {
     "name": "stdout",
     "output_type": "stream",
     "text": [
      "Parse progress: |█████████████████████████████████████████████████████████| 100%\n"
     ]
    },
    {
     "data": {
      "text/html": [
       "<table>\n",
       "<thead>\n",
       "<tr><th style=\"text-align: right;\">    subs_id</th><th style=\"text-align: right;\">  dest_number</th></tr>\n",
       "</thead>\n",
       "<tbody>\n",
       "<tr><td style=\"text-align: right;\">1.00036e+11</td><td style=\"text-align: right;\">  7.90412e+10</td></tr>\n",
       "<tr><td style=\"text-align: right;\">1.00036e+11</td><td style=\"text-align: right;\">  7.95014e+10</td></tr>\n",
       "<tr><td style=\"text-align: right;\">1.00036e+11</td><td style=\"text-align: right;\">  7.8125e+10 </td></tr>\n",
       "<tr><td style=\"text-align: right;\">1.00036e+11</td><td style=\"text-align: right;\">  7.90252e+10</td></tr>\n",
       "<tr><td style=\"text-align: right;\">1.00036e+11</td><td style=\"text-align: right;\">  7.4997e+10 </td></tr>\n",
       "<tr><td style=\"text-align: right;\">5.88477e+06</td><td style=\"text-align: right;\">  7.90142e+10</td></tr>\n",
       "<tr><td style=\"text-align: right;\">5.90104e+06</td><td style=\"text-align: right;\">  7.38423e+10</td></tr>\n",
       "<tr><td style=\"text-align: right;\">5.98106e+06</td><td style=\"text-align: right;\">  6.84865e+08</td></tr>\n",
       "<tr><td style=\"text-align: right;\">6.08409e+06</td><td style=\"text-align: right;\">  7.92516e+10</td></tr>\n",
       "<tr><td style=\"text-align: right;\">6.44601e+06</td><td style=\"text-align: right;\">  7.90377e+10</td></tr>\n",
       "</tbody>\n",
       "</table>"
      ]
     },
     "metadata": {},
     "output_type": "display_data"
    },
    {
     "data": {
      "text/plain": []
     },
     "execution_count": 17,
     "metadata": {},
     "output_type": "execute_result"
    }
   ],
   "source": [
    "h2o.import_file('', destination_frame='to_sparse',\n",
    "               col_names=['subs_id', 'dest_number'])\n"
   ]
  },
  {
   "cell_type": "code",
   "execution_count": 18,
   "metadata": {
    "collapsed": true
   },
   "outputs": [],
   "source": [
    "df_sp = h2o.get_frame('to_sparse')"
   ]
  },
  {
   "cell_type": "code",
   "execution_count": 19,
   "metadata": {
    "collapsed": true,
    "scrolled": true
   },
   "outputs": [],
   "source": [
    "df = df_sp.as_data_frame()"
   ]
  },
  {
   "cell_type": "code",
   "execution_count": 80,
   "metadata": {},
   "outputs": [
    {
     "data": {
      "text/plain": [
       "(243562, 3)"
      ]
     },
     "execution_count": 80,
     "metadata": {},
     "output_type": "execute_result"
    }
   ],
   "source": [
    "print(df.shape)\n",
    "df.head()"
   ]
  },
  {
   "cell_type": "code",
   "execution_count": 66,
   "metadata": {
    "collapsed": true
   },
   "outputs": [],
   "source": [
    "df = df.dropna()"
   ]
  },
  {
   "cell_type": "code",
   "execution_count": 67,
   "metadata": {
    "collapsed": true
   },
   "outputs": [],
   "source": [
    "subs_dict = {i: e for i, e in enumerate(df.subs_id.unique())}\n",
    "subs_dict_inv = {e: i for i, e in enumerate(df.subs_id.unique())}\n",
    "dest_dict = {i: int(e) for i, e in enumerate(df.dest_number.unique())}\n",
    "dest_dict_inv = {int(e): i for i, e in enumerate(df.dest_number.unique())}\n",
    "df['subs_id'] = df['subs_id'].apply(lambda x: subs_dict_inv[x])\n",
    "df['dest_number'] = df['dest_number'].apply(lambda x: dest_dict_inv[x])"
   ]
  },
  {
   "cell_type": "code",
   "execution_count": 74,
   "metadata": {
    "collapsed": true
   },
   "outputs": [],
   "source": [
    "df['v'] = 1"
   ]
  },
  {
   "cell_type": "code",
   "execution_count": 76,
   "metadata": {
    "collapsed": true,
    "scrolled": true
   },
   "outputs": [],
   "source": [
    "import scipy.sparse as sps\n",
    "df_sp = sps.csr_matrix((df['v'], (df['subs_id'], df['dest_number'])))"
   ]
  },
  {
   "cell_type": "code",
   "execution_count": 77,
   "metadata": {},
   "outputs": [
    {
     "name": "stdout",
     "output_type": "stream",
     "text": [
      "Parse progress: |█████████████████████████████████████████████████████████| 100%\n"
     ]
    }
   ],
   "source": [
    "h2o_sparse = h2o.H2OFrame(df_sp)"
   ]
  },
  {
   "cell_type": "code",
   "execution_count": 82,
   "metadata": {
    "scrolled": true
   },
   "outputs": [
    {
     "data": {
      "text/html": [
       "<table>\n",
       "<thead>\n",
       "<tr><th style=\"text-align: right;\">  C1</th><th style=\"text-align: right;\">  C2</th><th style=\"text-align: right;\">  C3</th><th style=\"text-align: right;\">  C4</th><th style=\"text-align: right;\">  C5</th><th style=\"text-align: right;\">  C6</th><th style=\"text-align: right;\">  C7</th><th style=\"text-align: right;\">  C8</th><th style=\"text-align: right;\">  C9</th><th style=\"text-align: right;\">  C10</th><th style=\"text-align: right;\">  C11</th><th style=\"text-align: right;\">  C12</th><th style=\"text-align: right;\">  C13</th><th style=\"text-align: right;\">  C14</th><th style=\"text-align: right;\">  C15</th><th style=\"text-align: right;\">  C16</th><th style=\"text-align: right;\">  C17</th><th style=\"text-align: right;\">  C18</th><th style=\"text-align: right;\">  C19</th><th style=\"text-align: right;\">  C20</th></tr>\n",
       "</thead>\n",
       "<tbody>\n",
       "<tr><td style=\"text-align: right;\">   1</td><td style=\"text-align: right;\">   0</td><td style=\"text-align: right;\">   0</td><td style=\"text-align: right;\">   0</td><td style=\"text-align: right;\">   0</td><td style=\"text-align: right;\">   0</td><td style=\"text-align: right;\">   0</td><td style=\"text-align: right;\">   0</td><td style=\"text-align: right;\">   0</td><td style=\"text-align: right;\">    0</td><td style=\"text-align: right;\">    0</td><td style=\"text-align: right;\">    0</td><td style=\"text-align: right;\">    0</td><td style=\"text-align: right;\">    0</td><td style=\"text-align: right;\">    0</td><td style=\"text-align: right;\">    0</td><td style=\"text-align: right;\">    0</td><td style=\"text-align: right;\">    0</td><td style=\"text-align: right;\">    0</td><td style=\"text-align: right;\">    0</td></tr>\n",
       "<tr><td style=\"text-align: right;\">   0</td><td style=\"text-align: right;\">   1</td><td style=\"text-align: right;\">   0</td><td style=\"text-align: right;\">   0</td><td style=\"text-align: right;\">   0</td><td style=\"text-align: right;\">   0</td><td style=\"text-align: right;\">   0</td><td style=\"text-align: right;\">   0</td><td style=\"text-align: right;\">   0</td><td style=\"text-align: right;\">    0</td><td style=\"text-align: right;\">    0</td><td style=\"text-align: right;\">    0</td><td style=\"text-align: right;\">    0</td><td style=\"text-align: right;\">    0</td><td style=\"text-align: right;\">    0</td><td style=\"text-align: right;\">    0</td><td style=\"text-align: right;\">    0</td><td style=\"text-align: right;\">    0</td><td style=\"text-align: right;\">    0</td><td style=\"text-align: right;\">    0</td></tr>\n",
       "<tr><td style=\"text-align: right;\">   0</td><td style=\"text-align: right;\">   0</td><td style=\"text-align: right;\">   1</td><td style=\"text-align: right;\">   0</td><td style=\"text-align: right;\">   0</td><td style=\"text-align: right;\">   0</td><td style=\"text-align: right;\">   0</td><td style=\"text-align: right;\">   0</td><td style=\"text-align: right;\">   0</td><td style=\"text-align: right;\">    0</td><td style=\"text-align: right;\">    0</td><td style=\"text-align: right;\">    0</td><td style=\"text-align: right;\">    0</td><td style=\"text-align: right;\">    0</td><td style=\"text-align: right;\">    0</td><td style=\"text-align: right;\">    0</td><td style=\"text-align: right;\">    0</td><td style=\"text-align: right;\">    0</td><td style=\"text-align: right;\">    0</td><td style=\"text-align: right;\">    0</td></tr>\n",
       "<tr><td style=\"text-align: right;\">   0</td><td style=\"text-align: right;\">   0</td><td style=\"text-align: right;\">   0</td><td style=\"text-align: right;\">   1</td><td style=\"text-align: right;\">   0</td><td style=\"text-align: right;\">   0</td><td style=\"text-align: right;\">   0</td><td style=\"text-align: right;\">   0</td><td style=\"text-align: right;\">   0</td><td style=\"text-align: right;\">    0</td><td style=\"text-align: right;\">    0</td><td style=\"text-align: right;\">    0</td><td style=\"text-align: right;\">    0</td><td style=\"text-align: right;\">    0</td><td style=\"text-align: right;\">    0</td><td style=\"text-align: right;\">    0</td><td style=\"text-align: right;\">    0</td><td style=\"text-align: right;\">    0</td><td style=\"text-align: right;\">    0</td><td style=\"text-align: right;\">    0</td></tr>\n",
       "<tr><td style=\"text-align: right;\">   0</td><td style=\"text-align: right;\">   0</td><td style=\"text-align: right;\">   0</td><td style=\"text-align: right;\">   0</td><td style=\"text-align: right;\">   1</td><td style=\"text-align: right;\">   0</td><td style=\"text-align: right;\">   0</td><td style=\"text-align: right;\">   0</td><td style=\"text-align: right;\">   0</td><td style=\"text-align: right;\">    0</td><td style=\"text-align: right;\">    0</td><td style=\"text-align: right;\">    0</td><td style=\"text-align: right;\">    0</td><td style=\"text-align: right;\">    0</td><td style=\"text-align: right;\">    0</td><td style=\"text-align: right;\">    0</td><td style=\"text-align: right;\">    0</td><td style=\"text-align: right;\">    0</td><td style=\"text-align: right;\">    0</td><td style=\"text-align: right;\">    0</td></tr>\n",
       "<tr><td style=\"text-align: right;\">   0</td><td style=\"text-align: right;\">   0</td><td style=\"text-align: right;\">   0</td><td style=\"text-align: right;\">   0</td><td style=\"text-align: right;\">   0</td><td style=\"text-align: right;\">   1</td><td style=\"text-align: right;\">   0</td><td style=\"text-align: right;\">   0</td><td style=\"text-align: right;\">   0</td><td style=\"text-align: right;\">    0</td><td style=\"text-align: right;\">    0</td><td style=\"text-align: right;\">    0</td><td style=\"text-align: right;\">    0</td><td style=\"text-align: right;\">    0</td><td style=\"text-align: right;\">    0</td><td style=\"text-align: right;\">    0</td><td style=\"text-align: right;\">    0</td><td style=\"text-align: right;\">    0</td><td style=\"text-align: right;\">    0</td><td style=\"text-align: right;\">    0</td></tr>\n",
       "<tr><td style=\"text-align: right;\">   0</td><td style=\"text-align: right;\">   0</td><td style=\"text-align: right;\">   0</td><td style=\"text-align: right;\">   0</td><td style=\"text-align: right;\">   0</td><td style=\"text-align: right;\">   0</td><td style=\"text-align: right;\">   1</td><td style=\"text-align: right;\">   0</td><td style=\"text-align: right;\">   0</td><td style=\"text-align: right;\">    0</td><td style=\"text-align: right;\">    0</td><td style=\"text-align: right;\">    0</td><td style=\"text-align: right;\">    0</td><td style=\"text-align: right;\">    0</td><td style=\"text-align: right;\">    0</td><td style=\"text-align: right;\">    0</td><td style=\"text-align: right;\">    0</td><td style=\"text-align: right;\">    0</td><td style=\"text-align: right;\">    0</td><td style=\"text-align: right;\">    0</td></tr>\n",
       "<tr><td style=\"text-align: right;\">   0</td><td style=\"text-align: right;\">   0</td><td style=\"text-align: right;\">   0</td><td style=\"text-align: right;\">   0</td><td style=\"text-align: right;\">   0</td><td style=\"text-align: right;\">   0</td><td style=\"text-align: right;\">   0</td><td style=\"text-align: right;\">   1</td><td style=\"text-align: right;\">   0</td><td style=\"text-align: right;\">    0</td><td style=\"text-align: right;\">    0</td><td style=\"text-align: right;\">    0</td><td style=\"text-align: right;\">    0</td><td style=\"text-align: right;\">    0</td><td style=\"text-align: right;\">    0</td><td style=\"text-align: right;\">    0</td><td style=\"text-align: right;\">    0</td><td style=\"text-align: right;\">    0</td><td style=\"text-align: right;\">    0</td><td style=\"text-align: right;\">    0</td></tr>\n",
       "<tr><td style=\"text-align: right;\">   0</td><td style=\"text-align: right;\">   0</td><td style=\"text-align: right;\">   0</td><td style=\"text-align: right;\">   0</td><td style=\"text-align: right;\">   0</td><td style=\"text-align: right;\">   0</td><td style=\"text-align: right;\">   0</td><td style=\"text-align: right;\">   0</td><td style=\"text-align: right;\">   1</td><td style=\"text-align: right;\">    0</td><td style=\"text-align: right;\">    0</td><td style=\"text-align: right;\">    0</td><td style=\"text-align: right;\">    0</td><td style=\"text-align: right;\">    0</td><td style=\"text-align: right;\">    0</td><td style=\"text-align: right;\">    0</td><td style=\"text-align: right;\">    0</td><td style=\"text-align: right;\">    0</td><td style=\"text-align: right;\">    0</td><td style=\"text-align: right;\">    0</td></tr>\n",
       "<tr><td style=\"text-align: right;\">   0</td><td style=\"text-align: right;\">   0</td><td style=\"text-align: right;\">   0</td><td style=\"text-align: right;\">   0</td><td style=\"text-align: right;\">   0</td><td style=\"text-align: right;\">   0</td><td style=\"text-align: right;\">   0</td><td style=\"text-align: right;\">   0</td><td style=\"text-align: right;\">   0</td><td style=\"text-align: right;\">    1</td><td style=\"text-align: right;\">    0</td><td style=\"text-align: right;\">    0</td><td style=\"text-align: right;\">    0</td><td style=\"text-align: right;\">    0</td><td style=\"text-align: right;\">    0</td><td style=\"text-align: right;\">    0</td><td style=\"text-align: right;\">    0</td><td style=\"text-align: right;\">    0</td><td style=\"text-align: right;\">    0</td><td style=\"text-align: right;\">    0</td></tr>\n",
       "<tr><td style=\"text-align: right;\">   0</td><td style=\"text-align: right;\">   0</td><td style=\"text-align: right;\">   0</td><td style=\"text-align: right;\">   0</td><td style=\"text-align: right;\">   0</td><td style=\"text-align: right;\">   0</td><td style=\"text-align: right;\">   0</td><td style=\"text-align: right;\">   0</td><td style=\"text-align: right;\">   0</td><td style=\"text-align: right;\">    0</td><td style=\"text-align: right;\">    1</td><td style=\"text-align: right;\">    0</td><td style=\"text-align: right;\">    0</td><td style=\"text-align: right;\">    0</td><td style=\"text-align: right;\">    0</td><td style=\"text-align: right;\">    0</td><td style=\"text-align: right;\">    0</td><td style=\"text-align: right;\">    0</td><td style=\"text-align: right;\">    0</td><td style=\"text-align: right;\">    0</td></tr>\n",
       "<tr><td style=\"text-align: right;\">   0</td><td style=\"text-align: right;\">   0</td><td style=\"text-align: right;\">   0</td><td style=\"text-align: right;\">   0</td><td style=\"text-align: right;\">   0</td><td style=\"text-align: right;\">   0</td><td style=\"text-align: right;\">   0</td><td style=\"text-align: right;\">   0</td><td style=\"text-align: right;\">   0</td><td style=\"text-align: right;\">    0</td><td style=\"text-align: right;\">    0</td><td style=\"text-align: right;\">    1</td><td style=\"text-align: right;\">    0</td><td style=\"text-align: right;\">    0</td><td style=\"text-align: right;\">    0</td><td style=\"text-align: right;\">    0</td><td style=\"text-align: right;\">    0</td><td style=\"text-align: right;\">    0</td><td style=\"text-align: right;\">    0</td><td style=\"text-align: right;\">    0</td></tr>\n",
       "<tr><td style=\"text-align: right;\">   0</td><td style=\"text-align: right;\">   0</td><td style=\"text-align: right;\">   0</td><td style=\"text-align: right;\">   0</td><td style=\"text-align: right;\">   0</td><td style=\"text-align: right;\">   0</td><td style=\"text-align: right;\">   0</td><td style=\"text-align: right;\">   0</td><td style=\"text-align: right;\">   0</td><td style=\"text-align: right;\">    0</td><td style=\"text-align: right;\">    0</td><td style=\"text-align: right;\">    0</td><td style=\"text-align: right;\">    1</td><td style=\"text-align: right;\">    0</td><td style=\"text-align: right;\">    0</td><td style=\"text-align: right;\">    0</td><td style=\"text-align: right;\">    0</td><td style=\"text-align: right;\">    0</td><td style=\"text-align: right;\">    0</td><td style=\"text-align: right;\">    0</td></tr>\n",
       "<tr><td style=\"text-align: right;\">   0</td><td style=\"text-align: right;\">   0</td><td style=\"text-align: right;\">   0</td><td style=\"text-align: right;\">   0</td><td style=\"text-align: right;\">   0</td><td style=\"text-align: right;\">   0</td><td style=\"text-align: right;\">   0</td><td style=\"text-align: right;\">   0</td><td style=\"text-align: right;\">   0</td><td style=\"text-align: right;\">    0</td><td style=\"text-align: right;\">    0</td><td style=\"text-align: right;\">    0</td><td style=\"text-align: right;\">    0</td><td style=\"text-align: right;\">    1</td><td style=\"text-align: right;\">    0</td><td style=\"text-align: right;\">    0</td><td style=\"text-align: right;\">    0</td><td style=\"text-align: right;\">    0</td><td style=\"text-align: right;\">    0</td><td style=\"text-align: right;\">    0</td></tr>\n",
       "<tr><td style=\"text-align: right;\">   0</td><td style=\"text-align: right;\">   0</td><td style=\"text-align: right;\">   0</td><td style=\"text-align: right;\">   0</td><td style=\"text-align: right;\">   0</td><td style=\"text-align: right;\">   0</td><td style=\"text-align: right;\">   0</td><td style=\"text-align: right;\">   0</td><td style=\"text-align: right;\">   0</td><td style=\"text-align: right;\">    0</td><td style=\"text-align: right;\">    0</td><td style=\"text-align: right;\">    0</td><td style=\"text-align: right;\">    0</td><td style=\"text-align: right;\">    0</td><td style=\"text-align: right;\">    1</td><td style=\"text-align: right;\">    0</td><td style=\"text-align: right;\">    0</td><td style=\"text-align: right;\">    0</td><td style=\"text-align: right;\">    0</td><td style=\"text-align: right;\">    0</td></tr>\n",
       "<tr><td style=\"text-align: right;\">   0</td><td style=\"text-align: right;\">   0</td><td style=\"text-align: right;\">   0</td><td style=\"text-align: right;\">   0</td><td style=\"text-align: right;\">   0</td><td style=\"text-align: right;\">   0</td><td style=\"text-align: right;\">   0</td><td style=\"text-align: right;\">   0</td><td style=\"text-align: right;\">   0</td><td style=\"text-align: right;\">    0</td><td style=\"text-align: right;\">    0</td><td style=\"text-align: right;\">    0</td><td style=\"text-align: right;\">    0</td><td style=\"text-align: right;\">    0</td><td style=\"text-align: right;\">    0</td><td style=\"text-align: right;\">    1</td><td style=\"text-align: right;\">    0</td><td style=\"text-align: right;\">    0</td><td style=\"text-align: right;\">    0</td><td style=\"text-align: right;\">    0</td></tr>\n",
       "<tr><td style=\"text-align: right;\">   0</td><td style=\"text-align: right;\">   0</td><td style=\"text-align: right;\">   0</td><td style=\"text-align: right;\">   0</td><td style=\"text-align: right;\">   0</td><td style=\"text-align: right;\">   1</td><td style=\"text-align: right;\">   0</td><td style=\"text-align: right;\">   0</td><td style=\"text-align: right;\">   0</td><td style=\"text-align: right;\">    0</td><td style=\"text-align: right;\">    0</td><td style=\"text-align: right;\">    0</td><td style=\"text-align: right;\">    0</td><td style=\"text-align: right;\">    0</td><td style=\"text-align: right;\">    0</td><td style=\"text-align: right;\">    0</td><td style=\"text-align: right;\">    0</td><td style=\"text-align: right;\">    0</td><td style=\"text-align: right;\">    0</td><td style=\"text-align: right;\">    0</td></tr>\n",
       "<tr><td style=\"text-align: right;\">   0</td><td style=\"text-align: right;\">   0</td><td style=\"text-align: right;\">   0</td><td style=\"text-align: right;\">   0</td><td style=\"text-align: right;\">   0</td><td style=\"text-align: right;\">   0</td><td style=\"text-align: right;\">   0</td><td style=\"text-align: right;\">   0</td><td style=\"text-align: right;\">   0</td><td style=\"text-align: right;\">    0</td><td style=\"text-align: right;\">    0</td><td style=\"text-align: right;\">    0</td><td style=\"text-align: right;\">    0</td><td style=\"text-align: right;\">    0</td><td style=\"text-align: right;\">    0</td><td style=\"text-align: right;\">    0</td><td style=\"text-align: right;\">    1</td><td style=\"text-align: right;\">    0</td><td style=\"text-align: right;\">    0</td><td style=\"text-align: right;\">    0</td></tr>\n",
       "<tr><td style=\"text-align: right;\">   0</td><td style=\"text-align: right;\">   0</td><td style=\"text-align: right;\">   0</td><td style=\"text-align: right;\">   0</td><td style=\"text-align: right;\">   0</td><td style=\"text-align: right;\">   0</td><td style=\"text-align: right;\">   0</td><td style=\"text-align: right;\">   0</td><td style=\"text-align: right;\">   0</td><td style=\"text-align: right;\">    0</td><td style=\"text-align: right;\">    0</td><td style=\"text-align: right;\">    0</td><td style=\"text-align: right;\">    0</td><td style=\"text-align: right;\">    0</td><td style=\"text-align: right;\">    0</td><td style=\"text-align: right;\">    0</td><td style=\"text-align: right;\">    0</td><td style=\"text-align: right;\">    1</td><td style=\"text-align: right;\">    0</td><td style=\"text-align: right;\">    0</td></tr>\n",
       "<tr><td style=\"text-align: right;\">   0</td><td style=\"text-align: right;\">   0</td><td style=\"text-align: right;\">   0</td><td style=\"text-align: right;\">   0</td><td style=\"text-align: right;\">   0</td><td style=\"text-align: right;\">   0</td><td style=\"text-align: right;\">   0</td><td style=\"text-align: right;\">   0</td><td style=\"text-align: right;\">   0</td><td style=\"text-align: right;\">    0</td><td style=\"text-align: right;\">    0</td><td style=\"text-align: right;\">    0</td><td style=\"text-align: right;\">    0</td><td style=\"text-align: right;\">    0</td><td style=\"text-align: right;\">    0</td><td style=\"text-align: right;\">    0</td><td style=\"text-align: right;\">    0</td><td style=\"text-align: right;\">    0</td><td style=\"text-align: right;\">    1</td><td style=\"text-align: right;\">    0</td></tr>\n",
       "</tbody>\n",
       "</table>"
      ]
     },
     "metadata": {},
     "output_type": "display_data"
    },
    {
     "data": {
      "text/plain": []
     },
     "execution_count": 82,
     "metadata": {},
     "output_type": "execute_result"
    }
   ],
   "source": [
    "h2o_sparse.head(rows=20, cols=20)"
   ]
  },
  {
   "cell_type": "markdown",
   "metadata": {},
   "source": [
    "## Processing data"
   ]
  },
  {
   "cell_type": "code",
   "execution_count": 35,
   "metadata": {},
   "outputs": [
    {
     "data": {
      "text/html": [
       "<table>\n",
       "<thead>\n",
       "<tr><th style=\"text-align: right;\">    subs_id</th><th>changed  </th><th>branch  </th><th style=\"text-align: right;\">  lifetime</th><th>phone_type  </th><th style=\"text-align: right;\">  cpe_m_age</th><th style=\"text-align: right;\">  cpe_p_age</th><th style=\"text-align: right;\">  cpe_popularity</th><th style=\"text-align: right;\">  dev_park_size</th><th style=\"text-align: right;\">  av_dev_use</th><th style=\"text-align: right;\">  max_dev_use</th><th>gender  </th><th style=\"text-align: right;\">  age</th><th style=\"text-align: right;\">  days_with_data_trafic</th><th>cpe_manufacturer_name  </th></tr>\n",
       "</thead>\n",
       "<tbody>\n",
       "<tr><td style=\"text-align: right;\">3.09407e+07</td><td>\\N       </td><td>B39     </td><td style=\"text-align: right;\">      2376</td><td>P1          </td><td style=\"text-align: right;\">        558</td><td style=\"text-align: right;\">        243</td><td style=\"text-align: right;\">         4.68878</td><td style=\"text-align: right;\">              6</td><td style=\"text-align: right;\">    187.125 </td><td style=\"text-align: right;\">          596</td><td>G0      </td><td style=\"text-align: right;\">   38</td><td style=\"text-align: right;\">                     30</td><td>\\N                     </td></tr>\n",
       "<tr><td style=\"text-align: right;\">5.06364e+06</td><td>\\N       </td><td>B2      </td><td style=\"text-align: right;\">      4450</td><td>P1          </td><td style=\"text-align: right;\">        562</td><td style=\"text-align: right;\">        361</td><td style=\"text-align: right;\">         3.67108</td><td style=\"text-align: right;\">              4</td><td style=\"text-align: right;\">    175.444 </td><td style=\"text-align: right;\">          613</td><td>G0      </td><td style=\"text-align: right;\">   52</td><td style=\"text-align: right;\">                      0</td><td>\\N                     </td></tr>\n",
       "<tr><td style=\"text-align: right;\">3.26094e+07</td><td>\\N       </td><td>B54     </td><td style=\"text-align: right;\">      2049</td><td>P1          </td><td style=\"text-align: right;\">        823</td><td style=\"text-align: right;\">        251</td><td style=\"text-align: right;\">         4.47056</td><td style=\"text-align: right;\">              5</td><td style=\"text-align: right;\">     30.8667</td><td style=\"text-align: right;\">          402</td><td>G0      </td><td style=\"text-align: right;\">   37</td><td style=\"text-align: right;\">                      0</td><td>\\N                     </td></tr>\n",
       "<tr><td style=\"text-align: right;\">2.35935e+07</td><td>\\N       </td><td>B54     </td><td style=\"text-align: right;\">      3311</td><td>P2          </td><td style=\"text-align: right;\">       2436</td><td style=\"text-align: right;\">       2073</td><td style=\"text-align: right;\">         5.02572</td><td style=\"text-align: right;\">              1</td><td style=\"text-align: right;\">   2073     </td><td style=\"text-align: right;\">         2073</td><td>G1      </td><td style=\"text-align: right;\">   30</td><td style=\"text-align: right;\">                      0</td><td>Philips                </td></tr>\n",
       "<tr><td style=\"text-align: right;\">5.11392e+07</td><td>\\N       </td><td>B35     </td><td style=\"text-align: right;\">       171</td><td>P1          </td><td style=\"text-align: right;\">        559</td><td style=\"text-align: right;\">        171</td><td style=\"text-align: right;\">         4.85658</td><td style=\"text-align: right;\">              9</td><td style=\"text-align: right;\">    108.357 </td><td style=\"text-align: right;\">          842</td><td>G0      </td><td style=\"text-align: right;\">   44</td><td style=\"text-align: right;\">                     29</td><td>\\N                     </td></tr>\n",
       "</tbody>\n",
       "</table>"
      ]
     },
     "metadata": {},
     "output_type": "display_data"
    },
    {
     "data": {
      "text/plain": []
     },
     "execution_count": 35,
     "metadata": {},
     "output_type": "execute_result"
    }
   ],
   "source": [
    "data2.head(5)"
   ]
  },
  {
   "cell_type": "code",
   "execution_count": 117,
   "metadata": {},
   "outputs": [
    {
     "name": "stdout",
     "output_type": "stream",
     "text": [
      "Parse progress: |█████████████████████████████████████████████████████████| 100%\n",
      "CPU times: user 205 ms, sys: 16.1 ms, total: 221 ms\n",
      "Wall time: 8.23 s\n"
     ]
    },
    {
     "data": {
      "text/html": [
       "<table>\n",
       "<thead>\n",
       "<tr><th>label  </th><th style=\"text-align: right;\">    subs_id</th></tr>\n",
       "</thead>\n",
       "<tbody>\n",
       "<tr><td>true   </td><td style=\"text-align: right;\">2.00029e+11</td></tr>\n",
       "<tr><td>true   </td><td style=\"text-align: right;\">2.00029e+11</td></tr>\n",
       "<tr><td>true   </td><td style=\"text-align: right;\">2.00029e+11</td></tr>\n",
       "<tr><td>true   </td><td style=\"text-align: right;\">2.00029e+11</td></tr>\n",
       "<tr><td>true   </td><td style=\"text-align: right;\">2.00029e+11</td></tr>\n",
       "<tr><td>true   </td><td style=\"text-align: right;\">2.0003e+11 </td></tr>\n",
       "<tr><td>true   </td><td style=\"text-align: right;\">2.0003e+11 </td></tr>\n",
       "<tr><td>true   </td><td style=\"text-align: right;\">2.0003e+11 </td></tr>\n",
       "<tr><td>true   </td><td style=\"text-align: right;\">2.0003e+11 </td></tr>\n",
       "<tr><td>true   </td><td style=\"text-align: right;\">2.0003e+11 </td></tr>\n",
       "</tbody>\n",
       "</table>"
      ]
     },
     "metadata": {},
     "output_type": "display_data"
    },
    {
     "data": {
      "text/plain": []
     },
     "execution_count": 117,
     "metadata": {},
     "output_type": "execute_result"
    }
   ],
   "source": [
    "%%time\n",
    "h2o.import_file('', 'churn_labels',\n",
    "               col_names=['label', 'subs_id'])"
   ]
  },
  {
   "cell_type": "code",
   "execution_count": 57,
   "metadata": {
    "collapsed": true
   },
   "outputs": [],
   "source": [
    "f = h2o.get_frame('churn_labels')"
   ]
  },
  {
   "cell_type": "code",
   "execution_count": 58,
   "metadata": {},
   "outputs": [
    {
     "data": {
      "text/plain": [
       "[['true']]"
      ]
     },
     "execution_count": 58,
     "metadata": {},
     "output_type": "execute_result"
    }
   ],
   "source": [
    "f['label'].levels()"
   ]
  },
  {
   "cell_type": "code",
   "execution_count": 118,
   "metadata": {
    "scrolled": true
   },
   "outputs": [
    {
     "name": "stdout",
     "output_type": "stream",
     "text": [
      "Parse progress: |█████████████████████████████████████████████████████████| 100%\n",
      "CPU times: user 526 ms, sys: 42.2 ms, total: 568 ms\n",
      "Wall time: 45.7 s\n"
     ]
    }
   ],
   "source": [
    "%%time\n",
    "col_names1 = pd.read_csv('3.csv')\n",
    "col_names1 = list(col_names1.col_name)\n",
    "h2o.import_file(', 'churn_df',\n",
    "               col_names=col_names1)"
   ]
  },
  {
   "cell_type": "code",
   "execution_count": 60,
   "metadata": {
    "collapsed": true
   },
   "outputs": [],
   "source": [
    "data = h2o.get_frame('churn_df')"
   ]
  },
  {
   "cell_type": "code",
   "execution_count": null,
   "metadata": {
    "scrolled": false
   },
   "outputs": [],
   "source": [
    "data.describe()"
   ]
  },
  {
   "cell_type": "code",
   "execution_count": 62,
   "metadata": {},
   "outputs": [
    {
     "name": "stdout",
     "output_type": "stream",
     "text": [
      "age True\n",
      "os_version True\n",
      "os_id True\n",
      "popularity True\n",
      "popalive True\n",
      "plc_type True\n",
      "doc_age True\n",
      "email_domain True\n"
     ]
    }
   ],
   "source": [
    "for col in data.columns:\n",
    "    if data[col].isna().any():\n",
    "        print(col, data[col].isna().any())"
   ]
  },
  {
   "cell_type": "code",
   "execution_count": 64,
   "metadata": {},
   "outputs": [
    {
     "data": {
      "text/plain": [
       "True"
      ]
     },
     "execution_count": 64,
     "metadata": {},
     "output_type": "execute_result"
    }
   ],
   "source": [
    "data['age'].any_na_rm()"
   ]
  },
  {
   "cell_type": "code",
   "execution_count": null,
   "metadata": {
    "scrolled": true
   },
   "outputs": [],
   "source": [
    "for i in data.columns_by_type('categorical'):\n",
    "    print(int(i), data.columns[int(i)])"
   ]
  },
  {
   "cell_type": "code",
   "execution_count": 66,
   "metadata": {
    "scrolled": true
   },
   "outputs": [
    {
     "data": {
      "text/html": [
       "<table>\n",
       "<thead>\n",
       "<tr><th>gender  </th><th style=\"text-align: right;\">      Count</th></tr>\n",
       "</thead>\n",
       "<tbody>\n",
       "<tr><td>G0      </td><td style=\"text-align: right;\">1.05202e+07</td></tr>\n",
       "<tr><td>G1      </td><td style=\"text-align: right;\">1.20927e+07</td></tr>\n",
       "<tr><td>\\N      </td><td style=\"text-align: right;\">1.65663e+06</td></tr>\n",
       "</tbody>\n",
       "</table>"
      ]
     },
     "metadata": {},
     "output_type": "display_data"
    },
    {
     "data": {
      "text/plain": []
     },
     "execution_count": 66,
     "metadata": {},
     "output_type": "execute_result"
    }
   ],
   "source": [
    "data['gender'].table()"
   ]
  },
  {
   "cell_type": "code",
   "execution_count": 69,
   "metadata": {},
   "outputs": [
    {
     "data": {
      "text/plain": [
       "[['\\\\N', 'true']]"
      ]
     },
     "execution_count": 69,
     "metadata": {},
     "output_type": "execute_result"
    }
   ],
   "source": [
    "data['label'].levels()"
   ]
  },
  {
   "cell_type": "code",
   "execution_count": 72,
   "metadata": {},
   "outputs": [],
   "source": [
    "data['label'] = data['label'].set_levels(['1', '0'])"
   ]
  },
  {
   "cell_type": "code",
   "execution_count": 50,
   "metadata": {
    "collapsed": true
   },
   "outputs": [],
   "source": [
    "h2o.remove('purchase_df1')"
   ]
  },
  {
   "cell_type": "code",
   "execution_count": 73,
   "metadata": {
    "collapsed": true
   },
   "outputs": [],
   "source": [
    "data[data['age'].isna(), 'age'] = 43"
   ]
  },
  {
   "cell_type": "code",
   "execution_count": 77,
   "metadata": {},
   "outputs": [
    {
     "data": {
      "text/plain": [
       "'int'"
      ]
     },
     "execution_count": 77,
     "metadata": {},
     "output_type": "execute_result"
    }
   ],
   "source": [
    "data.type('age')"
   ]
  },
  {
   "cell_type": "code",
   "execution_count": null,
   "metadata": {
    "collapsed": true
   },
   "outputs": [],
   "source": [
    "data['age'] = data['age'].asnumeric()"
   ]
  },
  {
   "cell_type": "code",
   "execution_count": 78,
   "metadata": {
    "collapsed": true
   },
   "outputs": [],
   "source": [
    "data['5'] = data['sd_day_mou'] * data['cl_smartphones_share']\n",
    "data[data['cl_smartphones_share'] == 0, '6'] = 0"
   ]
  },
  {
   "cell_type": "code",
   "execution_count": 79,
   "metadata": {
    "collapsed": true
   },
   "outputs": [],
   "source": [
    "data['fold_column'] = data.kfold_column()"
   ]
  },
  {
   "cell_type": "code",
   "execution_count": 80,
   "metadata": {
    "collapsed": true
   },
   "outputs": [],
   "source": [
    "data['cpe_p_age_root'] = data['cpe_p_age'] ** 0.5\n",
    "data['start_lag_log'] = data['start_lag'].log1p()"
   ]
  },
  {
   "cell_type": "code",
   "execution_count": 82,
   "metadata": {},
   "outputs": [
    {
     "data": {
      "text/html": [
       "<table>\n",
       "<thead>\n",
       "<tr><th>gender  </th><th style=\"text-align: right;\">  mean_cpe_p_age_root</th></tr>\n",
       "</thead>\n",
       "<tbody>\n",
       "<tr><td>G0      </td><td style=\"text-align: right;\">              16.3078</td></tr>\n",
       "<tr><td>G1      </td><td style=\"text-align: right;\">              17.3928</td></tr>\n",
       "<tr><td>\\N      </td><td style=\"text-align: right;\">              19.9837</td></tr>\n",
       "</tbody>\n",
       "</table>"
      ]
     },
     "metadata": {},
     "output_type": "display_data"
    },
    {
     "data": {
      "text/plain": []
     },
     "execution_count": 82,
     "metadata": {},
     "output_type": "execute_result"
    }
   ],
   "source": [
    "x = data.group_by(by=['gender'])\n",
    "y = x.mean(col='cpe_p_age_root',na=\"all\").get_frame()\n",
    "y"
   ]
  },
  {
   "cell_type": "code",
   "execution_count": 1,
   "metadata": {},
   "outputs": [],
   "source": [
    "#data.head()"
   ]
  },
  {
   "cell_type": "code",
   "execution_count": 90,
   "metadata": {},
   "outputs": [
    {
     "name": "stdout",
     "output_type": "stream",
     "text": [
      "Interactions progress: |██████████████████████████████████████████████████| 100%\n"
     ]
    }
   ],
   "source": [
    "data.interaction(factors=[1, 2, 3], pairwise=True, max_factors=1000000, min_occurrence=10, destination_frame='data_interaction')\n",
    "data_int = h2o.get_frame('data_interaction')\n",
    "data_full = data.cbind(data_int)"
   ]
  },
  {
   "cell_type": "code",
   "execution_count": null,
   "metadata": {
    "collapsed": true
   },
   "outputs": [],
   "source": []
  },
  {
   "cell_type": "markdown",
   "metadata": {},
   "source": [
    "## Model"
   ]
  },
  {
   "cell_type": "markdown",
   "metadata": {},
   "source": [
    "Modeling In H2O\n",
    "- H2OEstimator\n",
    "- H2ODeepLearningEstimator\n",
    "- H2OAutoEncoderEstimator\n",
    "- H2ORandomForestEstimator\n",
    "- H2OGradientBoostingEstimator\n",
    "- H2OGeneralizedLinearEstimator\n",
    "- H2OGeneralizedLowRankEstimator\n",
    "- H2OKMeansEstimator\n",
    "- H2ONaiveBayesEstimator"
   ]
  },
  {
   "cell_type": "code",
   "execution_count": 99,
   "metadata": {
    "collapsed": true
   },
   "outputs": [],
   "source": [
    "gbm = h2o.estimators.gbm.H2OGradientBoostingEstimator(ntrees=10, max_depth=5, min_rows=2, learn_rate=0.1,\n",
    "                                                                 #balance_classes=True,\n",
    "                                                                 #fold_assignment='Stratified', nfolds=3,\n",
    "                                                                col_sample_rate=1.0, sample_rate=1.0,\n",
    "                                                                learn_rate_annealing=0.999,\n",
    "                                                                #class_sampling_factors=[1.0, 10.0]\n",
    "                                                     )"
   ]
  },
  {
   "cell_type": "code",
   "execution_count": 85,
   "metadata": {},
   "outputs": [],
   "source": [
    "train, val, test = data.split_frame(ratios=[0.8, 0.1])"
   ]
  },
  {
   "cell_type": "code",
   "execution_count": null,
   "metadata": {
    "collapsed": true
   },
   "outputs": [],
   "source": [
    "splits = data.split_frame(ratios=[0.7, 0.15], seed=1)  \n",
    "\n",
    "train = splits[0]\n",
    "valid = splits[1]\n",
    "test = splits[2]"
   ]
  },
  {
   "cell_type": "code",
   "execution_count": 93,
   "metadata": {
    "collapsed": true
   },
   "outputs": [],
   "source": [
    "cols = []"
   ]
  },
  {
   "cell_type": "code",
   "execution_count": 100,
   "metadata": {},
   "outputs": [
    {
     "name": "stdout",
     "output_type": "stream",
     "text": [
      "gbm Model Build progress: |███████████████████████████████████████████████| 100%\n",
      "CPU times: user 490 ms, sys: 34 ms, total: 524 ms\n",
      "Wall time: 54.9 s\n"
     ]
    }
   ],
   "source": [
    "%%time\n",
    "gbm.train(x=cols, y='label', training_frame=train, validation_frame=val)"
   ]
  },
  {
   "cell_type": "code",
   "execution_count": 2,
   "metadata": {},
   "outputs": [],
   "source": [
    "#gbm"
   ]
  },
  {
   "cell_type": "code",
   "execution_count": 3,
   "metadata": {
    "scrolled": true
   },
   "outputs": [],
   "source": [
    "#gbm.varimp(True)"
   ]
  },
  {
   "cell_type": "code",
   "execution_count": 105,
   "metadata": {
    "collapsed": true
   },
   "outputs": [],
   "source": [
    "path = h2o.save_model(gbm, path='path')\n",
    "#model = h2o.load_model(path)\n",
    "#gbm_regressor.download_mojo(path='hdfs://T2-HDFS-HA-PROD/user/andrey.lukyanenko', get_genmodel_jar=True, genmodel_name='gen')"
   ]
  },
  {
   "cell_type": "code",
   "execution_count": 119,
   "metadata": {
    "collapsed": true
   },
   "outputs": [],
   "source": [
    "model = h2o.load_model('path')"
   ]
  },
  {
   "cell_type": "code",
   "execution_count": 4,
   "metadata": {},
   "outputs": [],
   "source": [
    "#gbm.model_performance(test)"
   ]
  },
  {
   "cell_type": "code",
   "execution_count": 109,
   "metadata": {},
   "outputs": [
    {
     "data": {
      "text/plain": [
       "0.6476486781814623"
      ]
     },
     "execution_count": 109,
     "metadata": {},
     "output_type": "execute_result"
    }
   ],
   "source": [
    "gbm.auc()"
   ]
  },
  {
   "cell_type": "code",
   "execution_count": 111,
   "metadata": {
    "collapsed": true
   },
   "outputs": [],
   "source": [
    "%matplotlib inline"
   ]
  },
  {
   "cell_type": "code",
   "execution_count": 112,
   "metadata": {},
   "outputs": [
    {
     "data": {
      "image/png": "[encoded data removed]",
      "text/plain": [
       "<matplotlib.figure.Figure at 0x7fbbb3b548d0>"
      ]
     },
     "metadata": {},
     "output_type": "display_data"
    }
   ],
   "source": [
    "gbm.plot(metric='auc')"
   ]
  },
  {
   "cell_type": "code",
   "execution_count": 94,
   "metadata": {
    "collapsed": true,
    "scrolled": true
   },
   "outputs": [],
   "source": [
    "# Import H2O Grid Search:\n",
    "from h2o.grid.grid_search import H2OGridSearch\n",
    "\n",
    "# Import H2O GBM:\n",
    "from h2o.estimators.gbm import H2OGradientBoostingEstimator"
   ]
  },
  {
   "cell_type": "code",
   "execution_count": 96,
   "metadata": {
    "collapsed": true
   },
   "outputs": [],
   "source": [
    "# GBM hyperparameters\n",
    "gbm_params = {'learn_rate': [0.1], \n",
    "                'max_depth': [3, 9, 15],\n",
    "                'sample_rate': [0.8, 1.0],\n",
    "                'col_sample_rate': [0.8, 1.0],\n",
    "                'ntrees': [10, 20, 30]}"
   ]
  },
  {
   "cell_type": "code",
   "execution_count": 98,
   "metadata": {},
   "outputs": [
    {
     "name": "stdout",
     "output_type": "stream",
     "text": [
      "gbm Grid Build progress: |████████████████████████████████████████████████| 100%\n",
      "Wall time: 24min 30s\n"
     ]
    }
   ],
   "source": [
    "%%time\n",
    "gbm_grid = H2OGridSearch(model=H2OGradientBoostingEstimator,\n",
    "                          grid_id='gbm_grid1',\n",
    "                          hyper_params=gbm_params1)\n",
    "gbm_grid.train(x=h2o_df.columns[4:48], y='log_income', training_frame=train, \n",
    "                validation_frame=val, \n",
    "                seed=1)"
   ]
  },
  {
   "cell_type": "code",
   "execution_count": 101,
   "metadata": {
    "collapsed": true
   },
   "outputs": [],
   "source": [
    "gbm_gridperf = gbm_grid.get_grid(sort_by='mae', decreasing=True)"
   ]
  },
  {
   "cell_type": "code",
   "execution_count": 123,
   "metadata": {
    "scrolled": true
   },
   "outputs": [
    {
     "name": "stdout",
     "output_type": "stream",
     "text": [
      "     col_sample_rate learn_rate max_depth ntrees sample_rate  \\\n",
      "0                0.8        0.1         3     10         0.8   \n",
      "1                1.0        0.1         3     10         1.0   \n",
      "2                0.8        0.1         3     10         1.0   \n",
      "3                1.0        0.1         3     10         0.8   \n",
      "4                0.8        0.1         3     20         0.8   \n",
      "5                1.0        0.1         3     20         1.0   \n",
      "6                0.8        0.1         3     20         1.0   \n",
      "7                1.0        0.1         3     20         0.8   \n",
      "8                0.8        0.1         3     30         0.8   \n",
      "9                1.0        0.1         3     30         1.0   \n",
      "10               1.0        0.1         3     30         0.8   \n",
      "11               0.8        0.1         3     30         1.0   \n",
      "12               0.8        0.1         9     10         0.8   \n",
      "13               0.8        0.1         9     10         1.0   \n",
      "14               1.0        0.1         9     10         0.8   \n",
      "15               1.0        0.1         9     10         1.0   \n",
      "16               1.0        0.1        15     10         0.8   \n",
      "17               1.0        0.1        15     30         0.8   \n",
      "18               1.0        0.1        15     10         1.0   \n",
      "19               1.0        0.1        15     30         1.0   \n",
      "20               0.8        0.1        15     10         1.0   \n",
      "21               1.0        0.1        15     20         0.8   \n",
      "22               0.8        0.1        15     10         0.8   \n",
      "23               1.0        0.1        15     20         1.0   \n",
      "24               0.8        0.1        15     30         0.8   \n",
      "25               0.8        0.1        15     20         0.8   \n",
      "26               0.8        0.1        15     30         1.0   \n",
      "27               0.8        0.1        15     20         1.0   \n",
      "28               0.8        0.1         9     20         0.8   \n",
      "29               1.0        0.1         9     20         0.8   \n",
      "30               0.8        0.1         9     20         1.0   \n",
      "31               1.0        0.1         9     20         1.0   \n",
      "32               0.8        0.1         9     30         0.8   \n",
      "33               1.0        0.1         9     30         0.8   \n",
      "34               1.0        0.1         9     30         1.0   \n",
      "35               0.8        0.1         9     30         1.0   \n",
      "\n",
      "             model_ids                 mae  \n",
      "0    gbm_grid1_model_0  1.1512886688613417  \n",
      "1   gbm_grid1_model_19  1.1512584465243692  \n",
      "2   gbm_grid1_model_18     1.1512574943861  \n",
      "3    gbm_grid1_model_1  1.1511977432396068  \n",
      "4    gbm_grid1_model_6  1.1487512963567135  \n",
      "5   gbm_grid1_model_25   1.148735515069562  \n",
      "6   gbm_grid1_model_24  1.1487088190252888  \n",
      "7    gbm_grid1_model_7  1.1486492804244117  \n",
      "8   gbm_grid1_model_12  1.1476459907973224  \n",
      "9   gbm_grid1_model_31  1.1476236721704203  \n",
      "10  gbm_grid1_model_13  1.1476167119349032  \n",
      "11  gbm_grid1_model_30  1.1476012850357344  \n",
      "12   gbm_grid1_model_2  1.1464524483227914  \n",
      "13  gbm_grid1_model_20  1.1463913564080574  \n",
      "14   gbm_grid1_model_3  1.1463028109851205  \n",
      "15  gbm_grid1_model_21  1.1462672283974797  \n",
      "16   gbm_grid1_model_5  1.1460827280493486  \n",
      "17  gbm_grid1_model_17  1.1460707520595166  \n",
      "18  gbm_grid1_model_23   1.145772198236885  \n",
      "19  gbm_grid1_model_35  1.1456134964250386  \n",
      "20  gbm_grid1_model_22  1.1453732969121129  \n",
      "21  gbm_grid1_model_11    1.14534581573323  \n",
      "22   gbm_grid1_model_4  1.1453362610212665  \n",
      "23  gbm_grid1_model_29  1.1450864805395222  \n",
      "24  gbm_grid1_model_16  1.1449680385926122  \n",
      "25  gbm_grid1_model_10  1.1445730007112607  \n",
      "26  gbm_grid1_model_34  1.1443099670389827  \n",
      "27  gbm_grid1_model_28  1.1440198904998222  \n",
      "28   gbm_grid1_model_8  1.1438239191875763  \n",
      "29   gbm_grid1_model_9  1.1437620103302837  \n",
      "30  gbm_grid1_model_26  1.1436558331290378  \n",
      "31  gbm_grid1_model_27   1.143461199649713  \n",
      "32  gbm_grid1_model_14  1.1430978734925288  \n",
      "33  gbm_grid1_model_15  1.1430386608158303  \n",
      "34  gbm_grid1_model_33  1.1428177811351452  \n",
      "35  gbm_grid1_model_32  1.1427945400209023  \n"
     ]
    },
    {
     "data": {
      "text/plain": []
     },
     "execution_count": 123,
     "metadata": {},
     "output_type": "execute_result"
    }
   ],
   "source": [
    "gbm_gridperf"
   ]
  },
  {
   "cell_type": "code",
   "execution_count": 118,
   "metadata": {
    "scrolled": true
   },
   "outputs": [
    {
     "name": "stdout",
     "output_type": "stream",
     "text": [
      "     col_sample_rate learn_rate max_depth ntrees sample_rate  \\\n",
      "0                1.0        0.1         9     30         1.0   \n",
      "1                0.8        0.1         9     30         1.0   \n",
      "2                1.0        0.1         9     30         0.8   \n",
      "3                0.8        0.1         9     30         0.8   \n",
      "4                1.0        0.1         9     20         1.0   \n",
      "5                0.8        0.1         9     20         1.0   \n",
      "6                1.0        0.1         9     20         0.8   \n",
      "7                0.8        0.1         9     20         0.8   \n",
      "8                0.8        0.1        15     20         1.0   \n",
      "9                0.8        0.1        15     20         0.8   \n",
      "10               0.8        0.1        15     30         1.0   \n",
      "11               1.0        0.1        15     20         0.8   \n",
      "12               0.8        0.1        15     10         0.8   \n",
      "13               0.8        0.1        15     10         1.0   \n",
      "14               1.0        0.1        15     20         1.0   \n",
      "15               0.8        0.1        15     30         0.8   \n",
      "16               1.0        0.1         9     10         1.0   \n",
      "17               0.8        0.1         9     10         1.0   \n",
      "18               0.8        0.1         9     10         0.8   \n",
      "19               1.0        0.1         9     10         0.8   \n",
      "20               1.0        0.1        15     10         0.8   \n",
      "21               1.0        0.1        15     10         1.0   \n",
      "22               1.0        0.1        15     30         1.0   \n",
      "23               1.0        0.1        15     30         0.8   \n",
      "24               1.0        0.1         3     30         0.8   \n",
      "25               0.8        0.1         3     30         1.0   \n",
      "26               1.0        0.1         3     30         1.0   \n",
      "27               0.8        0.1         3     30         0.8   \n",
      "28               1.0        0.1         3     20         0.8   \n",
      "29               0.8        0.1         3     20         1.0   \n",
      "30               1.0        0.1         3     20         1.0   \n",
      "31               0.8        0.1         3     20         0.8   \n",
      "32               1.0        0.1         3     10         0.8   \n",
      "33               1.0        0.1         3     10         1.0   \n",
      "34               0.8        0.1         3     10         1.0   \n",
      "35               0.8        0.1         3     10         0.8   \n",
      "\n",
      "             model_ids   residual_deviance  \n",
      "0   gbm_grid1_model_33  2.0016019912313205  \n",
      "1   gbm_grid1_model_32   2.001864454749091  \n",
      "2   gbm_grid1_model_15   2.002808491709803  \n",
      "3   gbm_grid1_model_14   2.002975314278344  \n",
      "4   gbm_grid1_model_27   2.003569523717313  \n",
      "5   gbm_grid1_model_26   2.004381246896928  \n",
      "6    gbm_grid1_model_9  2.0046371131106926  \n",
      "7    gbm_grid1_model_8   2.005048734436254  \n",
      "8   gbm_grid1_model_28  2.0102352740543896  \n",
      "9   gbm_grid1_model_10    2.01138267613279  \n",
      "10  gbm_grid1_model_34  2.0123987702116755  \n",
      "11  gbm_grid1_model_11   2.013096659309325  \n",
      "12   gbm_grid1_model_4   2.013351490585129  \n",
      "13  gbm_grid1_model_22  2.0134059837511065  \n",
      "14  gbm_grid1_model_29  2.0135812281082677  \n",
      "15  gbm_grid1_model_16   2.013764905189881  \n",
      "16  gbm_grid1_model_21  2.0138984767462595  \n",
      "17  gbm_grid1_model_20  2.0144974319173174  \n",
      "18   gbm_grid1_model_2  2.0145236713664127  \n",
      "19   gbm_grid1_model_3   2.014545682073705  \n",
      "20   gbm_grid1_model_5  2.0148724981702566  \n",
      "21  gbm_grid1_model_23  2.0153443346330255  \n",
      "22  gbm_grid1_model_35   2.016161573348068  \n",
      "23  gbm_grid1_model_17  2.0165316221855445  \n",
      "24  gbm_grid1_model_13   2.017659265842821  \n",
      "25  gbm_grid1_model_30   2.017664693297328  \n",
      "26  gbm_grid1_model_31  2.0177792114987536  \n",
      "27  gbm_grid1_model_12  2.0178015325390177  \n",
      "28   gbm_grid1_model_7  2.0215703141798538  \n",
      "29  gbm_grid1_model_24   2.021690182476962  \n",
      "30  gbm_grid1_model_25   2.021762596991784  \n",
      "31   gbm_grid1_model_6   2.021819107055236  \n",
      "32   gbm_grid1_model_1   2.031977141388049  \n",
      "33  gbm_grid1_model_19  2.0319934733158522  \n",
      "34  gbm_grid1_model_18  2.0320901732838315  \n",
      "35   gbm_grid1_model_0   2.032183747088671  \n"
     ]
    },
    {
     "data": {
      "text/plain": []
     },
     "execution_count": 118,
     "metadata": {},
     "output_type": "execute_result"
    }
   ],
   "source": [
    "gbm_grid"
   ]
  },
  {
   "cell_type": "code",
   "execution_count": 5,
   "metadata": {
    "scrolled": true
   },
   "outputs": [],
   "source": [
    "#gbm_gridperf.models[-1]"
   ]
  },
  {
   "cell_type": "code",
   "execution_count": 6,
   "metadata": {},
   "outputs": [],
   "source": [
    "#gbm_gridperf.models[0].model_performance(test)"
   ]
  },
  {
   "cell_type": "code",
   "execution_count": 107,
   "metadata": {},
   "outputs": [
    {
     "name": "stdout",
     "output_type": "stream",
     "text": [
      "gbm prediction progress: |████████████████████████████████████████████████| 100%\n"
     ]
    }
   ],
   "source": [
    "pr = gbm_gridperf1.models[0].predict(test)"
   ]
  },
  {
   "cell_type": "code",
   "execution_count": 113,
   "metadata": {},
   "outputs": [
    {
     "name": "stdout",
     "output_type": "stream",
     "text": [
      "gbm prediction progress: |████████████████████████████████████████████████| 100%\n"
     ]
    }
   ],
   "source": [
    "pr = gbm.predict(test)"
   ]
  },
  {
   "cell_type": "code",
   "execution_count": 14,
   "metadata": {
    "scrolled": true
   },
   "outputs": [
    {
     "name": "stdout",
     "output_type": "stream",
     "text": [
      "Export File progress: |███████████████████████████████████████████████████| 100%\n"
     ]
    }
   ],
   "source": [
    "h2o.export_file(pr, 'path_to_file')"
   ]
  },
  {
   "cell_type": "code",
   "execution_count": 7,
   "metadata": {},
   "outputs": [],
   "source": [
    "#h2o.save_model(gbm_regressor, 'folder')"
   ]
  },
  {
   "cell_type": "code",
   "execution_count": 114,
   "metadata": {},
   "outputs": [
    {
     "data": {
      "text/html": [
       "<table>\n",
       "<thead>\n",
       "<tr><th style=\"text-align: right;\">  predict</th><th style=\"text-align: right;\">       p1</th><th style=\"text-align: right;\">      p0</th></tr>\n",
       "</thead>\n",
       "<tbody>\n",
       "<tr><td style=\"text-align: right;\">        0</td><td style=\"text-align: right;\">0.061673 </td><td style=\"text-align: right;\">0.938327</td></tr>\n",
       "<tr><td style=\"text-align: right;\">        0</td><td style=\"text-align: right;\">0.0560675</td><td style=\"text-align: right;\">0.943933</td></tr>\n",
       "<tr><td style=\"text-align: right;\">        0</td><td style=\"text-align: right;\">0.0987542</td><td style=\"text-align: right;\">0.901246</td></tr>\n",
       "<tr><td style=\"text-align: right;\">        0</td><td style=\"text-align: right;\">0.0874604</td><td style=\"text-align: right;\">0.91254 </td></tr>\n",
       "<tr><td style=\"text-align: right;\">        0</td><td style=\"text-align: right;\">0.049448 </td><td style=\"text-align: right;\">0.950552</td></tr>\n",
       "<tr><td style=\"text-align: right;\">        0</td><td style=\"text-align: right;\">0.0518455</td><td style=\"text-align: right;\">0.948155</td></tr>\n",
       "<tr><td style=\"text-align: right;\">        0</td><td style=\"text-align: right;\">0.0597316</td><td style=\"text-align: right;\">0.940268</td></tr>\n",
       "<tr><td style=\"text-align: right;\">        0</td><td style=\"text-align: right;\">0.0932738</td><td style=\"text-align: right;\">0.906726</td></tr>\n",
       "<tr><td style=\"text-align: right;\">        0</td><td style=\"text-align: right;\">0.0615082</td><td style=\"text-align: right;\">0.938492</td></tr>\n",
       "<tr><td style=\"text-align: right;\">        0</td><td style=\"text-align: right;\">0.049448 </td><td style=\"text-align: right;\">0.950552</td></tr>\n",
       "</tbody>\n",
       "</table>"
      ]
     },
     "metadata": {},
     "output_type": "display_data"
    },
    {
     "data": {
      "text/plain": []
     },
     "execution_count": 114,
     "metadata": {},
     "output_type": "execute_result"
    }
   ],
   "source": [
    "pr"
   ]
  },
  {
   "cell_type": "code",
   "execution_count": null,
   "metadata": {
    "collapsed": true
   },
   "outputs": [],
   "source": []
  }
 ],
 "metadata": {
  "kernelspec": {
   "display_name": "Python 3",
   "language": "python",
   "name": "python3"
  },
  "language_info": {
   "codemirror_mode": {
    "name": "ipython",
    "version": 3
   },
   "file_extension": ".py",
   "mimetype": "text/x-python",
   "name": "python",
   "nbconvert_exporter": "python",
   "pygments_lexer": "ipython3",
   "version": "3.6.4"
  }
 },
 "nbformat": 4,
 "nbformat_minor": 2
}
